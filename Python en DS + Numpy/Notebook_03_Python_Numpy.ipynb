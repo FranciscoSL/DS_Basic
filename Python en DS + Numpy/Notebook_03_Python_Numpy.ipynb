{
 "cells": [
  {
   "cell_type": "markdown",
   "metadata": {
    "colab_type": "text",
    "id": "Ev_oEXjx6w9Q"
   },
   "source": [
    "# Programación y NumPy\n",
    "\n",
    "En la primera parte de este notebook se exploran algunos temas de programación. En la segunda parte se empieza a trabajar con NumPy.\n",
    "\n",
    "## 1. Programación\n",
    "\n",
    "### 1.1 Operaciones Lógicas\n",
    "\n",
    "La operación `not` es simplemente la negación del booleano."
   ]
  },
  {
   "cell_type": "code",
   "execution_count": 10,
   "metadata": {
    "colab": {
     "base_uri": "https://localhost:8080/",
     "height": 50
    },
    "colab_type": "code",
    "executionInfo": {
     "elapsed": 623,
     "status": "ok",
     "timestamp": 1598018402032,
     "user": {
      "displayName": "Juan Serna",
      "photoUrl": "https://lh3.googleusercontent.com/a-/AOh14GjcHoh1C7CB4nXU3oV4EL8YAQ6vTTppasq2hVPWxg=s64",
      "userId": "04213219753280407363"
     },
     "user_tz": 300
    },
    "id": "kv2eNRpePBOy",
    "outputId": "903b3787-754a-47bb-df1c-d94f70e0e7e0"
   },
   "outputs": [
    {
     "name": "stdout",
     "output_type": "stream",
     "text": [
      "False\n",
      "True\n"
     ]
    }
   ],
   "source": [
    "variable_1 = True\n",
    "print(not(variable_1))\n",
    "\n",
    "variable_2 = False\n",
    "print(not(variable_2))"
   ]
  },
  {
   "cell_type": "markdown",
   "metadata": {
    "colab": {},
    "colab_type": "code",
    "id": "LpCJFNp56w-F"
   },
   "source": [
    "La operación `and` devuelve **True** únicamente cuando ambas variables son verdaderas. Experimentar con la celda inferior y comprobar su tabla de verdad."
   ]
  },
  {
   "cell_type": "code",
   "execution_count": 11,
   "metadata": {
    "colab": {
     "base_uri": "https://localhost:8080/",
     "height": 34
    },
    "colab_type": "code",
    "executionInfo": {
     "elapsed": 2506,
     "status": "ok",
     "timestamp": 1598018484239,
     "user": {
      "displayName": "Juan Serna",
      "photoUrl": "https://lh3.googleusercontent.com/a-/AOh14GjcHoh1C7CB4nXU3oV4EL8YAQ6vTTppasq2hVPWxg=s64",
      "userId": "04213219753280407363"
     },
     "user_tz": 300
    },
    "id": "mHPhaiiJPBOv",
    "outputId": "a0c9bc4f-c549-4913-9288-fd19747cc4fc"
   },
   "outputs": [
    {
     "name": "stdout",
     "output_type": "stream",
     "text": [
      "False\n"
     ]
    }
   ],
   "source": [
    "variable_1 = True\n",
    "variable_2 = False\n",
    "print(variable_1 and variable_2)"
   ]
  },
  {
   "cell_type": "markdown",
   "metadata": {
    "colab_type": "text",
    "id": "tIzs0GsO6w-k"
   },
   "source": [
    "<font color='mediumblue'>**Ejercicio:**</font> comprobar la tabla de verdad de la operación `or` jugando con la celda siguiente."
   ]
  },
  {
   "cell_type": "code",
   "execution_count": 15,
   "metadata": {
    "colab": {
     "base_uri": "https://localhost:8080/",
     "height": 34
    },
    "colab_type": "code",
    "executionInfo": {
     "elapsed": 636,
     "status": "ok",
     "timestamp": 1598018486810,
     "user": {
      "displayName": "Juan Serna",
      "photoUrl": "https://lh3.googleusercontent.com/a-/AOh14GjcHoh1C7CB4nXU3oV4EL8YAQ6vTTppasq2hVPWxg=s64",
      "userId": "04213219753280407363"
     },
     "user_tz": 300
    },
    "id": "i9QxO0SgPBO3",
    "outputId": "9066f2be-7b14-43ed-92f2-40c70d90c8c3"
   },
   "outputs": [
    {
     "name": "stdout",
     "output_type": "stream",
     "text": [
      "True\n"
     ]
    }
   ],
   "source": [
    "A = False\n",
    "B = False\n",
    "A_or_B = variable_1 or variable_2\n",
    "print(A_or_B)"
   ]
  },
  {
   "cell_type": "markdown",
   "metadata": {
    "colab_type": "text",
    "id": "oa016g7sPBP2"
   },
   "source": [
    "### 1.2 Estructuras de control - Condicionales\n",
    "\n",
    "Los condicionales permiten ejecutar o no un bloque de codigo dependiendo de ciertas condiciones. \"Si se cumple esta condición, hace A. Si no se cumple, hace B\". B puede ser: hacer algo o no hacer nada.\n",
    "\n",
    "### 1.2.1 If\n",
    "\n",
    "El condicional más simple es el `if`. Para mayor claridad escribiremos la condicion entre parentesis (), aunque esto no es necesario.\n",
    "\n",
    "Estructura:\n",
    "\n",
    "``` python\n",
    "if condicion:\n",
    "    Si se cumple la condición, se ejecutan estas líneas de código\n",
    "```\n",
    "\n",
    "Ejemplos:"
   ]
  },
  {
   "cell_type": "code",
   "execution_count": 16,
   "metadata": {
    "colab": {},
    "colab_type": "code",
    "id": "TYisVuiEPBP4"
   },
   "outputs": [
    {
     "name": "stdout",
     "output_type": "stream",
     "text": [
      "El valor es mayor que 10\n"
     ]
    }
   ],
   "source": [
    "valor = 15\n",
    "if (valor > 10):\n",
    "    print('El valor es mayor que 10')"
   ]
  },
  {
   "cell_type": "markdown",
   "metadata": {
    "colab_type": "text",
    "id": "-hz-IXpJPBP6"
   },
   "source": [
    "Prestar atención a que la condición debe ser un booleano"
   ]
  },
  {
   "cell_type": "code",
   "execution_count": 17,
   "metadata": {
    "colab": {},
    "colab_type": "code",
    "id": "BCXXXwRMPBP7"
   },
   "outputs": [
    {
     "name": "stdout",
     "output_type": "stream",
     "text": [
      "True\n",
      "<class 'bool'>\n"
     ]
    }
   ],
   "source": [
    "print(valor > 10)\n",
    "print(type(valor > 10))"
   ]
  },
  {
   "cell_type": "markdown",
   "metadata": {
    "colab_type": "text",
    "id": "b8smKAgj6w_Y"
   },
   "source": [
    "**Nota:** para comparar variables se usan: menor `<`, mayor `>`, igualdad `==`, menor o igual  `<=`, y mayor o igual `>=`. Distinto: \"!=\" "
   ]
  },
  {
   "cell_type": "code",
   "execution_count": 18,
   "metadata": {
    "colab": {},
    "colab_type": "code",
    "id": "ZxEo7yDf6w_b"
   },
   "outputs": [
    {
     "name": "stdout",
     "output_type": "stream",
     "text": [
      "True\n",
      "True\n",
      "True\n"
     ]
    }
   ],
   "source": [
    "print(3 == 3)\n",
    "print(3 <= 3)\n",
    "print(3 >= 3)"
   ]
  },
  {
   "cell_type": "markdown",
   "metadata": {
    "colab_type": "text",
    "id": "zaIO1UwlPBP_"
   },
   "source": [
    "### 1.2.2 If, Else\n",
    "\n",
    "A la estrucutra con `if` se le puede agregar otro bloque de codigo que se ejecute si la condición exigida NO se cumple. Esto se logra mediante la expresión `else`.\n",
    "\n",
    "Estructura:\n",
    "\n",
    "``` python\n",
    "if condicion:\n",
    "    Si se cumple la condición, se ejecutan estas líneas de código\n",
    "else:\n",
    "    Si NO se cumple la condición, se ejecutan estas líneas de código\n",
    "```"
   ]
  },
  {
   "cell_type": "code",
   "execution_count": 19,
   "metadata": {
    "colab": {},
    "colab_type": "code",
    "id": "Hf8xuG6iPBP_"
   },
   "outputs": [
    {
     "name": "stdout",
     "output_type": "stream",
     "text": [
      "Esta persona NO se llama Juan\n"
     ]
    }
   ],
   "source": [
    "nombre = 'Pedro'\n",
    "\n",
    "if (nombre == 'Juan'):\n",
    "    print('Esta persona se llama Juan')\n",
    "else:\n",
    "    print('Esta persona NO se llama Juan')"
   ]
  },
  {
   "cell_type": "markdown",
   "metadata": {
    "colab_type": "text",
    "id": "R5prOWCT6w_3"
   },
   "source": [
    "Nuevamente ver que la condición - lo que está entre paréntesis - es un booleano."
   ]
  },
  {
   "cell_type": "code",
   "execution_count": 20,
   "metadata": {
    "colab": {},
    "colab_type": "code",
    "id": "GVfCLIQyPBQB"
   },
   "outputs": [
    {
     "data": {
      "text/plain": [
       "False"
      ]
     },
     "execution_count": 20,
     "metadata": {},
     "output_type": "execute_result"
    }
   ],
   "source": [
    "# Verificación\n",
    "'Juan'=='Pedro'"
   ]
  },
  {
   "cell_type": "markdown",
   "metadata": {
    "colab_type": "text",
    "id": "1AJNWoqhPBQJ"
   },
   "source": [
    "### 1.2.3 If, Elif, Else\n",
    "A esta estructura se le pueden sumar tantas condiciones encadenadas como uno desee, mediante la expresión `elif`. El orden en que se van chequeando las condiciones depende de su posición, priemero se chequea el `if`, luego el primer `elif`, luego el segundo, y así sucesivamente.\n",
    "\n",
    "Estructura:\n",
    "\n",
    "``` python\n",
    "if condicion_1:\n",
    "    Si se cumple la condicion_1 , se ejecutan estas líneas de código\n",
    "elif condicion_2:\n",
    "    Si se cumple la condicion_2 , se ejecutan estas líneas de código\n",
    "elif condicion_3:\n",
    "    Si se cumple la condicion_3 , se ejecutan estas líneas de código\n",
    "else:\n",
    "    Si NO se cumple ninguna de las condiciones anteriores, se ejecutan líneas celdas de código\n",
    "```\n"
   ]
  },
  {
   "cell_type": "code",
   "execution_count": 21,
   "metadata": {
    "colab": {},
    "colab_type": "code",
    "id": "psA9onaFPBQL"
   },
   "outputs": [
    {
     "name": "stdout",
     "output_type": "stream",
     "text": [
      "Esta persona tiene mas de 18 años\n"
     ]
    }
   ],
   "source": [
    "edad = 20\n",
    "\n",
    "if (edad < 18):\n",
    "    print('Esta persona tiene menos de 18 años')\n",
    "elif (edad > 18):\n",
    "    print('Esta persona tiene mas de 18 años')\n",
    "else:\n",
    "    print('Esta persona tiene justo 18 años')"
   ]
  },
  {
   "cell_type": "markdown",
   "metadata": {
    "colab_type": "text",
    "id": "ZHXdIEkSW6wa"
   },
   "source": [
    "<font color='mediumblue'>**Ejercicio:**</font> Escriba un bloque de código que, dado un número, imprima la frase \"El numero es par\" si el número es par o la frase \"El numero es impar\" si no lo es."
   ]
  },
  {
   "cell_type": "code",
   "execution_count": 22,
   "metadata": {
    "colab": {},
    "colab_type": "code",
    "id": "7uWbEw9BYAL4"
   },
   "outputs": [
    {
     "name": "stdout",
     "output_type": "stream",
     "text": [
      "El número 16 es par\n"
     ]
    }
   ],
   "source": [
    "numero = 16\n",
    "\n",
    "if numero%2 == 0:\n",
    "    print (\"El número %s es par\" %numero)\n",
    "else:\n",
    "    print (\"El número %s es impar\" %numero)"
   ]
  },
  {
   "cell_type": "markdown",
   "metadata": {
    "colab_type": "text",
    "id": "qecxWClXPBQM"
   },
   "source": [
    "### 1.3 Combinación de estructuras de código\n",
    "\n",
    "Las estructuras de loops vistas en el notebook anterior, y los condicionales revisados en este notebook se pueden combinar para generar comportamientos más complejos. Supongamos que tenemos una lista de edades y queremos dejar aquellas que sean mayores que 18 años. Esto se puede lograr de la siguiente forma:"
   ]
  },
  {
   "cell_type": "code",
   "execution_count": 1,
   "metadata": {
    "colab": {},
    "colab_type": "code",
    "id": "69DHgsOjPBQN"
   },
   "outputs": [
    {
     "name": "stdout",
     "output_type": "stream",
     "text": [
      "[20, 29, 42, 18]\n"
     ]
    }
   ],
   "source": [
    "lista_de_edades = [4,20,15,29,11,42,10,18]\n",
    "lista_mayores = []\n",
    "\n",
    "for edad in lista_de_edades:\n",
    "    if (edad >= 18):\n",
    "        # Agregamos a la lista de mayores\n",
    "        lista_mayores.append(edad)\n",
    "\n",
    "print(lista_mayores)"
   ]
  },
  {
   "cell_type": "markdown",
   "metadata": {
    "colab_type": "text",
    "id": "IeZnpQLV6xAv"
   },
   "source": [
    "### 1.4 Operaciones lógicas y estructuras de control\n",
    "\n",
    "A veces hay que ejecutar una línea de código si se cumple más de una condición. Esto se puede lograr fácilmente usando las operaciones lógicas que ya estudiadas. Supongamos que tenemos una lista de números, y queremos seleccionar aquellos que cumplan ciertas condiciones. Ejemplo: que son mayores o iguales que 5 y menores que 20. Esto se puede lograr de la siguiente forma:"
   ]
  },
  {
   "cell_type": "code",
   "execution_count": null,
   "metadata": {
    "colab": {
     "base_uri": "https://localhost:8080/",
     "height": 34
    },
    "colab_type": "code",
    "executionInfo": {
     "elapsed": 677,
     "status": "ok",
     "timestamp": 1598019080839,
     "user": {
      "displayName": "Juan Serna",
      "photoUrl": "https://lh3.googleusercontent.com/a-/AOh14GjcHoh1C7CB4nXU3oV4EL8YAQ6vTTppasq2hVPWxg=s64",
      "userId": "04213219753280407363"
     },
     "user_tz": 300
    },
    "id": "sC-PhM3o6xA0",
    "outputId": "862fa09e-140f-4a71-fd3b-a1230dc08b84"
   },
   "outputs": [
    {
     "name": "stdout",
     "output_type": "stream",
     "text": [
      "[6, 17, 5, 6, 13, 15]\n"
     ]
    }
   ],
   "source": [
    "numeros = [0,3,1,4,6,17,3,89,5,6,4,13,25,4,3,23,1,15,2]\n",
    "seleccionados = []\n",
    "for numero in numeros:\n",
    "    if numero >= 5:\n",
    "        if numero < 20:\n",
    "            seleccionados.append(numero)\n",
    "print(seleccionados)"
   ]
  },
  {
   "cell_type": "markdown",
   "metadata": {
    "colab_type": "text",
    "id": "Tc_42Pgi6xA8"
   },
   "source": [
    "**Notar** que los números seleccionados cumplen los requisitos, pero hay formas alternativa de hacerlo. Por ejemplo:"
   ]
  },
  {
   "cell_type": "code",
   "execution_count": null,
   "metadata": {
    "colab": {
     "base_uri": "https://localhost:8080/",
     "height": 34
    },
    "colab_type": "code",
    "executionInfo": {
     "elapsed": 637,
     "status": "ok",
     "timestamp": 1598019099987,
     "user": {
      "displayName": "Juan Serna",
      "photoUrl": "https://lh3.googleusercontent.com/a-/AOh14GjcHoh1C7CB4nXU3oV4EL8YAQ6vTTppasq2hVPWxg=s64",
      "userId": "04213219753280407363"
     },
     "user_tz": 300
    },
    "id": "GgeeSiSK6xBA",
    "outputId": "de4f344a-6cf0-476e-c475-075e350434c6"
   },
   "outputs": [
    {
     "name": "stdout",
     "output_type": "stream",
     "text": [
      "[6, 17, 5, 6, 13, 15]\n"
     ]
    }
   ],
   "source": [
    "numeros = [0,3,1,4,6,17,3,89,5,6,4,13,25,4,3,23,1,15,2]\n",
    "seleccionados = []\n",
    "for numero in numeros:\n",
    "    if numero >= 5 and numero < 20:\n",
    "        seleccionados.append(numero)\n",
    "print(seleccionados)"
   ]
  },
  {
   "cell_type": "markdown",
   "metadata": {
    "colab_type": "text",
    "id": "bp86CHMb6xBI"
   },
   "source": [
    "El resultado es el mismo. Si bien esta forma es más compacta, no necesariamente es mejor. Se sugiere trabajar como lo vean más simple. Si ambas condiciones juntas son difíciles de leer, entonces se puedes usar la primera forma.\n",
    "\n",
    "<font color='mediumblue'>**Ejercicio:**</font> Modifica el ejemplo anterior para que seleccione aquellos números **mayores** que 5 **o** impares."
   ]
  },
  {
   "cell_type": "code",
   "execution_count": null,
   "metadata": {
    "colab": {
     "base_uri": "https://localhost:8080/",
     "height": 34
    },
    "colab_type": "code",
    "executionInfo": {
     "elapsed": 1278,
     "status": "ok",
     "timestamp": 1598019293727,
     "user": {
      "displayName": "Juan Serna",
      "photoUrl": "https://lh3.googleusercontent.com/a-/AOh14GjcHoh1C7CB4nXU3oV4EL8YAQ6vTTppasq2hVPWxg=s64",
      "userId": "04213219753280407363"
     },
     "user_tz": 300
    },
    "id": "AVpW_iRp6xBL",
    "outputId": "3f485c03-dece-480e-cacd-e4e3d8637367"
   },
   "outputs": [
    {
     "name": "stdout",
     "output_type": "stream",
     "text": [
      "[3, 1, 6, 17, 3, 89, 5, 6, 13, 25, 3, 23, 1, 15]\n"
     ]
    }
   ],
   "source": [
    "numeros = [0,3,1,4,6,17,3,89,5,6,4,13,25,4,3,23,1,15,2]\n",
    "seleccionados = []\n",
    "for numero in numeros:\n",
    "    if numero > 5 or numero%2 != 0:\n",
    "        seleccionados.append(numero)\n",
    "print(seleccionados)"
   ]
  },
  {
   "cell_type": "markdown",
   "metadata": {
    "colab_type": "text",
    "id": "3t8rRW2j6xBU"
   },
   "source": [
    "## <font color='mediumblue'>Ejercicios</font>\n",
    "\n",
    "<font color='mediumblue'>**Ejercicio 1:**</font> ¿Qué pasa al sumar, restar, multiplicar o dividir booleanos? Probarlo e interpretar."
   ]
  },
  {
   "cell_type": "code",
   "execution_count": null,
   "metadata": {
    "colab": {
     "base_uri": "https://localhost:8080/",
     "height": 50
    },
    "colab_type": "code",
    "executionInfo": {
     "elapsed": 658,
     "status": "ok",
     "timestamp": 1598019340759,
     "user": {
      "displayName": "Juan Serna",
      "photoUrl": "https://lh3.googleusercontent.com/a-/AOh14GjcHoh1C7CB4nXU3oV4EL8YAQ6vTTppasq2hVPWxg=s64",
      "userId": "04213219753280407363"
     },
     "user_tz": 300
    },
    "id": "d1FkUOkT6xBW",
    "outputId": "4588dc47-6d95-4689-a239-9af2e9c3eb1c"
   },
   "outputs": [
    {
     "name": "stdout",
     "output_type": "stream",
     "text": [
      "2\n",
      "1\n"
     ]
    }
   ],
   "source": [
    "print(True + True)\n",
    "print(True + False)\n",
    "# COMPLETAR"
   ]
  },
  {
   "cell_type": "markdown",
   "metadata": {
    "colab_type": "text",
    "id": "Rn69wJ-y6xBg"
   },
   "source": [
    "<font color='mediumblue'>**Ejercicio 2:**</font> Hacer una estructura `if/else` que compare dos variables numéricas `A` y `B`, y  decida cuál es mayor. Luego que imprima en pantalla \"A es mayor que B\" o \"B es mayor que A\" . "
   ]
  },
  {
   "cell_type": "code",
   "execution_count": 2,
   "metadata": {
    "colab": {
     "base_uri": "https://localhost:8080/",
     "height": 34
    },
    "colab_type": "code",
    "executionInfo": {
     "elapsed": 624,
     "status": "ok",
     "timestamp": 1598019669734,
     "user": {
      "displayName": "Juan Serna",
      "photoUrl": "https://lh3.googleusercontent.com/a-/AOh14GjcHoh1C7CB4nXU3oV4EL8YAQ6vTTppasq2hVPWxg=s64",
      "userId": "04213219753280407363"
     },
     "user_tz": 300
    },
    "id": "NUxrQf9A6xBs",
    "outputId": "c3e2f1be-3459-4138-bbdd-d86e4395592c"
   },
   "outputs": [
    {
     "name": "stdout",
     "output_type": "stream",
     "text": [
      "A es mayor que B\n"
     ]
    }
   ],
   "source": [
    "A = 5\n",
    "B = 4\n",
    "\n",
    "if B < A:\n",
    "  print(\"A es mayor que B\")\n",
    "elif B > A:\n",
    "  print(\"B es mayor que A\")\n",
    "else:\n",
    "  print(\"A y B son iguales\")"
   ]
  },
  {
   "cell_type": "markdown",
   "metadata": {
    "colab_type": "text",
    "id": "LcNOZBVO6xBz"
   },
   "source": [
    "<font color='mediumblue'>**Ejercicio 3:**</font> Dada la siguiente lista de numeros:"
   ]
  },
  {
   "cell_type": "code",
   "execution_count": null,
   "metadata": {
    "colab": {},
    "colab_type": "code",
    "id": "nixTh2uwPBQQ"
   },
   "outputs": [],
   "source": [
    "numeros = [4,5,1,3,5,7,8,1,3,4,1,7,8,1,3,4,5,2,1,2,4,5]"
   ]
  },
  {
   "cell_type": "markdown",
   "metadata": {
    "colab_type": "text",
    "id": "XLWP4dKfPBQS"
   },
   "source": [
    "Escribir un código que calcule la suma de los números **pares menores que 5** en esta lista. **Pistas:** \n",
    "* Hay varias formas de hacerlo. Está bien si trabajar más de una. Pero se sugiere tomar los ejemplos vistos en el notebook.\n",
    "* El resultado es 20. \n",
    "* Recuerdar que se puede inicializar una variable en cero, y luego ir modificándola en un loop. Algo así se hizo en el notebook anterior (ejercicio 5) con una variable llamada `i`."
   ]
  },
  {
   "cell_type": "code",
   "execution_count": null,
   "metadata": {
    "colab": {
     "base_uri": "https://localhost:8080/",
     "height": 50
    },
    "colab_type": "code",
    "executionInfo": {
     "elapsed": 586,
     "status": "ok",
     "timestamp": 1598019991483,
     "user": {
      "displayName": "Juan Serna",
      "photoUrl": "https://lh3.googleusercontent.com/a-/AOh14GjcHoh1C7CB4nXU3oV4EL8YAQ6vTTppasq2hVPWxg=s64",
      "userId": "04213219753280407363"
     },
     "user_tz": 300
    },
    "id": "Rl2hqB-e6xB_",
    "outputId": "ad8ddb5c-1505-4c3a-880a-dfb14d6a1413"
   },
   "outputs": [
    {
     "name": "stdout",
     "output_type": "stream",
     "text": [
      "[4, 4, 4, 2, 2, 4]\n"
     ]
    },
    {
     "data": {
      "text/plain": [
       "20"
      ]
     },
     "execution_count": 21,
     "metadata": {
      "tags": []
     },
     "output_type": "execute_result"
    }
   ],
   "source": [
    "numeros = [4,5,1,3,5,7,8,1,3,4,1,7,8,1,3,4,5,2,1,2,4,5]\n",
    "numeros_2 = [] # crea una lista vacía\n",
    "\n",
    "for item in numeros: # define item como cada elemento de la lista\n",
    "    if (item %2 == 0) and item < 5: # parámetro de comparación\n",
    "        numeros_2.append(item) # agrega los datos que cumplen con el parámetro\n",
    "\n",
    "print(numeros_2)\n",
    "sum(numeros_2)"
   ]
  },
  {
   "cell_type": "markdown",
   "metadata": {
    "colab_type": "text",
    "id": "EOZ7KmA46xCG"
   },
   "source": [
    "<font color='mediumblue'>**Ejercicio 4**</font> - **Opcional:** Dada la siguiente lista de numeros:"
   ]
  },
  {
   "cell_type": "code",
   "execution_count": null,
   "metadata": {
    "colab": {
     "base_uri": "https://localhost:8080/",
     "height": 54
    },
    "colab_type": "code",
    "executionInfo": {
     "elapsed": 719,
     "status": "ok",
     "timestamp": 1598020308429,
     "user": {
      "displayName": "Juan Serna",
      "photoUrl": "https://lh3.googleusercontent.com/a-/AOh14GjcHoh1C7CB4nXU3oV4EL8YAQ6vTTppasq2hVPWxg=s64",
      "userId": "04213219753280407363"
     },
     "user_tz": 300
    },
    "id": "aaYZXXHi6xCI",
    "outputId": "5d0eccda-a8aa-409d-d57f-00fa995946df"
   },
   "outputs": [
    {
     "name": "stdout",
     "output_type": "stream",
     "text": [
      "['2', '3', '2', '3', '2', '2', '2', '2', '3', '2', '3', '1', '3', '1', '2', '2', '2', '2', '2', '2', '2', '2', '1', '2', '3', '2', '2', '2', '2', '1', '2', '3', '2', '2', '3', '2', '3', '3', '2', '2', '1', '3', '3', '2', '3', '2', '2', '1', '2', '1', '1', '2', '2', '3', '2', '2', '2', '3', '2', '2', '2', '1', '2', '2', '3', '2', '2', '2', '2', '1', '2', '2', '2', '2', '3', '1', '2', '3', '3', '2', '3', '2', '2', '3', '3', '1', '1', '3', '2', '1', '2', '2', '2', '1', '1', '2', '2', '2', '2', '2', '2', '2', '3', '3', '1', '3', '3', '3', '2', '2', '2', '2', '2', '2', '2', '3', '3', '2', '2', '3', '2', '2', '2', '2', '2', '3', '3', '2', '2', '1', '3', '2', '2', '2', '3', '2', '3', '1', '3', '3', '2', '3', '3', '2', '2', '2', '2', '2', '2', '1', '2', '2', '1', '2', '3', '2', '1', '3', '1', '2', '3', '3', '3', '2', '3', '1', '3', '2', '3', '1', '2', '2', '2', '3', '3', '2', '2', '2', '2', '2', '3', '1', '2', '3', '3', '2', '2', '3', '2', '2', '2', '3', '2', '2', '2', '2', '1', '2', '3', '1', '3', '2', '2', '3', '3', '3', '2', '2', '1', '1']\n"
     ]
    }
   ],
   "source": [
    "numeros_en_texto = ['2', '3', '2', '3', '2', '2', '2', '2', '3', '2', '3', '1', '3', '1', '2', '2', '2', '2', '2', '2', '2', '2', '1', '2', '3', '2', '2', '2', '2', '1', '2', '3', '2', '2', '3', '2', '3', '3', '2', '2', '1', '3', '3', '2', '3', '2', '2', '1', '2', '1', '1', '2', '2', '3', '2', '2', '2', '3', '2', '2', '2', '1', '2', '2', '3', '2', '2', '2', '2', '1', '2', '2', '2', '2', '3', '1', '2', '3', '3', '2', '3', '2', '2', '3', '3', '1', '1', '3', '2', '1', '2', '2', '2', '1', '1', '2', '2', '2', '2', '2', '2', '2', '3', '3', '1', '3', '3', '3', '2', '2', '2', '2', '2', '2', '2', '3', '3', '2', '2', '3', '2', '2', '2', '2', '2', '3', '3', '2', '2', '1', '3', '2', '2', '2', '3', '2', '3', '1', '3', '3', '2', '3', '3', '2', '2', '2', '2', '2', '2', '1', '2', '2', '1', '2', '3', '2', '1', '3', '1', '2', '3', '3', '3', '2', '3', '1', '3', '2', '3', '1', '2', '2', '2', '3', '3', '2', '2', '2', '2', '2', '3', '1', '2', '3', '3', '2', '2', '3', '2', '2', '2', '3', '2', '2', '2', '2', '1', '2', '3', '1', '3', '2', '2', '3', '3', '3', '2', '2', '1', '1']\n",
    "print(numeros_en_texto)"
   ]
  },
  {
   "cell_type": "markdown",
   "metadata": {
    "colab_type": "text",
    "id": "7csAGf6h6xCQ"
   },
   "source": [
    "Calcule la suma de los unos (1) y los tres (3) en esta lista. Nuevamente, hay muchas formas de hacerlo. **Pistas:** \n",
    "* El resultado es 210.\n",
    "* Se puede reciclar código de ejemplos anteriores y del ejercicio anterior.\n",
    "* Se pueden comparar strings (ver ejemplo más arriba).\n",
    "* También se pueden forzar tipos de datos. Por ejemplo, `int('4')` devuelve un 4 como entero.\n",
    "* Se puede resolver sin usar todas las pistas"
   ]
  },
  {
   "cell_type": "code",
   "execution_count": null,
   "metadata": {
    "colab": {
     "base_uri": "https://localhost:8080/",
     "height": 34
    },
    "colab_type": "code",
    "executionInfo": {
     "elapsed": 687,
     "status": "ok",
     "timestamp": 1598020924751,
     "user": {
      "displayName": "Juan Serna",
      "photoUrl": "https://lh3.googleusercontent.com/a-/AOh14GjcHoh1C7CB4nXU3oV4EL8YAQ6vTTppasq2hVPWxg=s64",
      "userId": "04213219753280407363"
     },
     "user_tz": 300
    },
    "id": "vOghc-f86xCT",
    "outputId": "13b47148-27c7-4462-a13f-c91db794fd77"
   },
   "outputs": [
    {
     "name": "stdout",
     "output_type": "stream",
     "text": [
      "210\n"
     ]
    }
   ],
   "source": [
    "Suma_de_1 = numeros_en_texto.count('1')*1\n",
    "Suma_de_3 = numeros_en_texto.count('3')*3\n",
    "\n",
    "print(Suma_de_1 + Suma_de_3)"
   ]
  },
  {
   "cell_type": "markdown",
   "metadata": {
    "colab_type": "text",
    "id": "TTDIO6cP6xCc"
   },
   "source": [
    "## 2. Numpy\n",
    "\n",
    "Para usar una librería, primero hay que instalarla. Luego importarla.\n",
    "\n",
    "Cómo instalar una librería?\n",
    "\n",
    "Todas las librerías tienen una documentación. La documentación de Numpy se puede ver [aquí](https://numpy.org/doc/).\n",
    "\n",
    "Qué es importar una librería? Es avisarle a Python que se usarán funciones asociadas a esa librería. Numpy se importa con la siguiente línea de código:"
   ]
  },
  {
   "cell_type": "code",
   "execution_count": 5,
   "metadata": {
    "colab": {},
    "colab_type": "code",
    "executionInfo": {
     "elapsed": 956,
     "status": "ok",
     "timestamp": 1598048936637,
     "user": {
      "displayName": "Juan Serna",
      "photoUrl": "https://lh3.googleusercontent.com/a-/AOh14GjcHoh1C7CB4nXU3oV4EL8YAQ6vTTppasq2hVPWxg=s64",
      "userId": "04213219753280407363"
     },
     "user_tz": 300
    },
    "id": "rPcaeHHt6xCe"
   },
   "outputs": [],
   "source": [
    "import numpy as np"
   ]
  },
  {
   "cell_type": "markdown",
   "metadata": {
    "colab_type": "text",
    "id": "W6b95ub26xCn"
   },
   "source": [
    "Ahora el ambiente de trabajo sabe que si ponemos algo del estilo `np.` significa que esa funcionalidad la debe buscar en NumPy. **Ojo:** Si la librería NO se instaló correctamente, saldrá un mensaje de error.\n",
    "\n",
    "El principal tipo de dato sobre el que trabaja NumPy son los arreglos o arrays. Los arreglos son parecidos a listas y, de hecho, se pueden crear a partir de ellas."
   ]
  },
  {
   "cell_type": "code",
   "execution_count": 5,
   "metadata": {
    "colab": {
     "base_uri": "https://localhost:8080/",
     "height": 50
    },
    "colab_type": "code",
    "executionInfo": {
     "elapsed": 963,
     "status": "ok",
     "timestamp": 1598022334071,
     "user": {
      "displayName": "Juan Serna",
      "photoUrl": "https://lh3.googleusercontent.com/a-/AOh14GjcHoh1C7CB4nXU3oV4EL8YAQ6vTTppasq2hVPWxg=s64",
      "userId": "04213219753280407363"
     },
     "user_tz": 300
    },
    "id": "-NYi46pS6xCr",
    "outputId": "a64cbb1a-81c7-4324-89c3-98e5ec0481ba"
   },
   "outputs": [
    {
     "name": "stdout",
     "output_type": "stream",
     "text": [
      "[0, 1, 2, 3, 4, 5]\n",
      "[0 1 2 3 4 5]\n"
     ]
    }
   ],
   "source": [
    "lista = [0,1,2,3,4,5]\n",
    "arreglo = np.array(lista)\n",
    "print(lista)\n",
    "print(arreglo)"
   ]
  },
  {
   "cell_type": "markdown",
   "metadata": {
    "colab_type": "text",
    "id": "3GTbMtsp6xCy"
   },
   "source": [
    "Pero son más que una lista. Algunas cosas que no se podían hacer con las listas ahora sí se pueden con arreglos. Recordemos que sumarle un número a toda la lista no estaba permitido"
   ]
  },
  {
   "cell_type": "code",
   "execution_count": 6,
   "metadata": {
    "colab": {
     "base_uri": "https://localhost:8080/",
     "height": 162
    },
    "colab_type": "code",
    "executionInfo": {
     "elapsed": 597,
     "status": "error",
     "timestamp": 1598022425336,
     "user": {
      "displayName": "Juan Serna",
      "photoUrl": "https://lh3.googleusercontent.com/a-/AOh14GjcHoh1C7CB4nXU3oV4EL8YAQ6vTTppasq2hVPWxg=s64",
      "userId": "04213219753280407363"
     },
     "user_tz": 300
    },
    "id": "oBsq7xKM6xC0",
    "outputId": "2db62dd9-c11a-4438-d868-6e0fe5be0be3"
   },
   "outputs": [
    {
     "ename": "TypeError",
     "evalue": "can only concatenate list (not \"int\") to list",
     "output_type": "error",
     "traceback": [
      "\u001b[1;31m---------------------------------------------------------------------------\u001b[0m",
      "\u001b[1;31mTypeError\u001b[0m                                 Traceback (most recent call last)",
      "\u001b[1;32m<ipython-input-6-0d87e2469f45>\u001b[0m in \u001b[0;36m<module>\u001b[1;34m\u001b[0m\n\u001b[1;32m----> 1\u001b[1;33m \u001b[0mlista\u001b[0m \u001b[1;33m+\u001b[0m \u001b[1;36m1\u001b[0m\u001b[1;33m\u001b[0m\u001b[1;33m\u001b[0m\u001b[0m\n\u001b[0m",
      "\u001b[1;31mTypeError\u001b[0m: can only concatenate list (not \"int\") to list"
     ]
    }
   ],
   "source": [
    "lista + 1"
   ]
  },
  {
   "cell_type": "markdown",
   "metadata": {
    "colab_type": "text",
    "id": "XM4rla9L6xC7"
   },
   "source": [
    "¡Pero ahora con los arreglos sí!"
   ]
  },
  {
   "cell_type": "code",
   "execution_count": 7,
   "metadata": {
    "colab": {
     "base_uri": "https://localhost:8080/",
     "height": 34
    },
    "colab_type": "code",
    "executionInfo": {
     "elapsed": 833,
     "status": "ok",
     "timestamp": 1598022453734,
     "user": {
      "displayName": "Juan Serna",
      "photoUrl": "https://lh3.googleusercontent.com/a-/AOh14GjcHoh1C7CB4nXU3oV4EL8YAQ6vTTppasq2hVPWxg=s64",
      "userId": "04213219753280407363"
     },
     "user_tz": 300
    },
    "id": "QxQS9qSw6xC9",
    "outputId": "79e20cda-6aea-42f3-acd8-ecadd277eb60"
   },
   "outputs": [
    {
     "data": {
      "text/plain": [
       "array([1, 2, 3, 4, 5, 6])"
      ]
     },
     "execution_count": 7,
     "metadata": {},
     "output_type": "execute_result"
    }
   ],
   "source": [
    "arreglo + 1"
   ]
  },
  {
   "cell_type": "markdown",
   "metadata": {
    "colab_type": "text",
    "id": "xgo-b6nG6xDE"
   },
   "source": [
    "Esto simplifica mucho hacer cuentas. Pero no es sólo sumar, también muchas otras operaciones:"
   ]
  },
  {
   "cell_type": "code",
   "execution_count": null,
   "metadata": {
    "colab": {
     "base_uri": "https://localhost:8080/",
     "height": 84
    },
    "colab_type": "code",
    "executionInfo": {
     "elapsed": 651,
     "status": "ok",
     "timestamp": 1598022472950,
     "user": {
      "displayName": "Juan Serna",
      "photoUrl": "https://lh3.googleusercontent.com/a-/AOh14GjcHoh1C7CB4nXU3oV4EL8YAQ6vTTppasq2hVPWxg=s64",
      "userId": "04213219753280407363"
     },
     "user_tz": 300
    },
    "id": "GDFrflQS6xDG",
    "outputId": "9865ac37-a0ff-4f95-acad-30c3eeb7cc74"
   },
   "outputs": [
    {
     "name": "stdout",
     "output_type": "stream",
     "text": [
      "[-5 -4 -3 -2 -1  0]\n",
      "[-2 -1  0  1  2  3]\n",
      "[ 0  4  8 12 16 20]\n",
      "[ 0  1  4  9 16 25]\n"
     ]
    }
   ],
   "source": [
    "print(arreglo - 5)\n",
    "print(arreglo - 2)\n",
    "print(arreglo*4)\n",
    "print(arreglo**2)"
   ]
  },
  {
   "cell_type": "markdown",
   "metadata": {
    "colab_type": "text",
    "id": "OG5vEKqa6xDO"
   },
   "source": [
    "Comprobar que, salvo la multiplicación, ninguno estaba permitido en listas. ¿Qué hace la multiplicación en el caso de una lista?"
   ]
  },
  {
   "cell_type": "markdown",
   "metadata": {
    "colab_type": "text",
    "id": "8OLptg2q6xDP"
   },
   "source": [
    "### 2.1 Creación de arreglos"
   ]
  },
  {
   "cell_type": "markdown",
   "metadata": {
    "colab_type": "text",
    "id": "5Besuznw6xDR"
   },
   "source": [
    "Si bien es posible crear arreglos a partir de listas, NumPy viene con muchas funciones para hacerlo.\n",
    "\n",
    "Una muy utilizada es `np.arange()`. Se sugiere consultar su documentación en la web. Otra opción de ver documentación (o help) es escribiend en una celda de código `np.arange` + `shift` + `tab`, . De esa forma, aparecerá la ayuda.\n",
    "\n",
    "Ejemplo:"
   ]
  },
  {
   "cell_type": "code",
   "execution_count": 6,
   "metadata": {
    "colab": {},
    "colab_type": "code",
    "id": "ffVupHId6xDS"
   },
   "outputs": [
    {
     "name": "stdout",
     "output_type": "stream",
     "text": [
      "[ 3  5  7  9 11 13 15 17 19]\n"
     ]
    }
   ],
   "source": [
    "arreglo = np.arange(3,20,2)\n",
    "print(arreglo)"
   ]
  },
  {
   "cell_type": "markdown",
   "metadata": {
    "colab_type": "text",
    "id": "GrbJZzEA6xDZ"
   },
   "source": [
    "<font color='mediumblue'>**Ejercicio:**</font> investigar y crear ejemplos con las funciones\n",
    "* `np.linspace`. Diferenciar de `np.arange`.\n",
    "* `np.zeros` y `np.ones`\n",
    "\n",
    "### 2.2 Shape de los arreglos\n",
    "\n",
    "Los arreglos tienen muchas más propiedades que las listas. En particular, pueden tener más de un *eje* o dimensión. Veamos a qué nos referimos:"
   ]
  },
  {
   "cell_type": "code",
   "execution_count": null,
   "metadata": {
    "colab": {
     "base_uri": "https://localhost:8080/",
     "height": 50
    },
    "colab_type": "code",
    "executionInfo": {
     "elapsed": 592,
     "status": "ok",
     "timestamp": 1598022678047,
     "user": {
      "displayName": "Juan Serna",
      "photoUrl": "https://lh3.googleusercontent.com/a-/AOh14GjcHoh1C7CB4nXU3oV4EL8YAQ6vTTppasq2hVPWxg=s64",
      "userId": "04213219753280407363"
     },
     "user_tz": 300
    },
    "id": "2gj5gtxN6xDb",
    "outputId": "c717eb92-64b8-4b50-e128-b24bccbb2880"
   },
   "outputs": [
    {
     "name": "stdout",
     "output_type": "stream",
     "text": [
      "[[1 2 3 4]\n",
      " [5 6 7 8]]\n"
     ]
    }
   ],
   "source": [
    "arreglo_2d = np.array([[1,2,3,4],[5,6,7,8]])\n",
    "print(arreglo_2d)"
   ]
  },
  {
   "cell_type": "markdown",
   "metadata": {
    "colab_type": "text",
    "id": "hd1tzKoY6xDi"
   },
   "source": [
    "Notar que `arreglo_2d` tiene dos filas y cuatro columnas. Esto se puede ver usando la propiedad `.shape` del arreglo."
   ]
  },
  {
   "cell_type": "code",
   "execution_count": null,
   "metadata": {
    "colab": {
     "base_uri": "https://localhost:8080/",
     "height": 34
    },
    "colab_type": "code",
    "executionInfo": {
     "elapsed": 766,
     "status": "ok",
     "timestamp": 1598022681732,
     "user": {
      "displayName": "Juan Serna",
      "photoUrl": "https://lh3.googleusercontent.com/a-/AOh14GjcHoh1C7CB4nXU3oV4EL8YAQ6vTTppasq2hVPWxg=s64",
      "userId": "04213219753280407363"
     },
     "user_tz": 300
    },
    "id": "39jXsa356xDk",
    "outputId": "e6eb158b-1c36-4146-cced-7d85b5a7a628"
   },
   "outputs": [
    {
     "name": "stdout",
     "output_type": "stream",
     "text": [
      "(2, 4)\n"
     ]
    }
   ],
   "source": [
    "print(arreglo_2d.shape)"
   ]
  },
  {
   "cell_type": "markdown",
   "metadata": {
    "colab_type": "text",
    "id": "F0gQzLOW6xDp"
   },
   "source": [
    "Primero aparece el número de filas y luego el de columnas. ¿Qué estructura de dato es `(2, 4)`? Otro ejemplo:"
   ]
  },
  {
   "cell_type": "code",
   "execution_count": 7,
   "metadata": {
    "colab": {},
    "colab_type": "code",
    "id": "H-w91uc66xDr"
   },
   "outputs": [
    {
     "name": "stdout",
     "output_type": "stream",
     "text": [
      "[[1 2]\n",
      " [3 4]\n",
      " [5 6]\n",
      " [7 8]]\n",
      "(4, 2)\n"
     ]
    }
   ],
   "source": [
    "arreglo_2d = np.array([[1,2],[3,4],[5,6],[7,8]])\n",
    "print(arreglo_2d)\n",
    "print(arreglo_2d.shape)"
   ]
  },
  {
   "cell_type": "markdown",
   "metadata": {
    "colab_type": "text",
    "id": "NI-72zHF6xDx"
   },
   "source": [
    "Para saber cuántos elementos tiene, se puede usar `.size`"
   ]
  },
  {
   "cell_type": "code",
   "execution_count": 8,
   "metadata": {
    "colab": {},
    "colab_type": "code",
    "id": "FAM3A5nN6xD1"
   },
   "outputs": [
    {
     "name": "stdout",
     "output_type": "stream",
     "text": [
      "8\n"
     ]
    }
   ],
   "source": [
    "print(arreglo_2d.size)"
   ]
  },
  {
   "cell_type": "markdown",
   "metadata": {
    "colab_type": "text",
    "id": "AHudbTb_6xD7"
   },
   "source": [
    "### 2.3 Funciones que operan sobre arreglos\n",
    "\n",
    "Los arreglos de NumPy incorporan un bastantes de funciones que operan sobre los arreglos. Veamos algunos ejemplos."
   ]
  },
  {
   "cell_type": "code",
   "execution_count": 9,
   "metadata": {
    "colab": {},
    "colab_type": "code",
    "id": "rsZiMiFa6xD9"
   },
   "outputs": [
    {
     "name": "stdout",
     "output_type": "stream",
     "text": [
      "-100\n",
      "95\n"
     ]
    }
   ],
   "source": [
    "un_arreglo = np.array([-100,2,3,17,25,1,95])\n",
    "print(un_arreglo.min())\n",
    "print(un_arreglo.max())"
   ]
  },
  {
   "cell_type": "markdown",
   "metadata": {
    "colab_type": "text",
    "id": "E6xoQQOF6xED"
   },
   "source": [
    "En el caso 2D, es posible pedir que estas funciones operen sobre todo el arreglo, o por ejes.\n",
    "\n"
   ]
  },
  {
   "cell_type": "code",
   "execution_count": 11,
   "metadata": {
    "colab": {
     "base_uri": "https://localhost:8080/",
     "height": 67
    },
    "colab_type": "code",
    "executionInfo": {
     "elapsed": 871,
     "status": "ok",
     "timestamp": 1598050251371,
     "user": {
      "displayName": "Juan Serna",
      "photoUrl": "https://lh3.googleusercontent.com/a-/AOh14GjcHoh1C7CB4nXU3oV4EL8YAQ6vTTppasq2hVPWxg=s64",
      "userId": "04213219753280407363"
     },
     "user_tz": 300
    },
    "id": "V-MBXYIo6xEH",
    "outputId": "31d8130e-767f-4e76-b0fd-0781ca4b9c65"
   },
   "outputs": [
    {
     "name": "stdout",
     "output_type": "stream",
     "text": [
      "[[1 4 2]\n",
      " [0 8 5]\n",
      " [6 3 7]]\n"
     ]
    }
   ],
   "source": [
    "arreglo_2d = np.arange(9) # genera un arreglo de 9 elementos\n",
    "np.random.shuffle(arreglo_2d) # reordena de forma random el arreglo completo\n",
    "arreglo_2d = arreglo_2d.reshape((3,3)) # lo ordena como 3x3\n",
    "print(arreglo_2d)"
   ]
  },
  {
   "cell_type": "markdown",
   "metadata": {
    "colab_type": "text",
    "id": "ieZnEuby6xEN"
   },
   "source": [
    "**Ojo:** tratar de entender la diferencia entre las siguientes instrucciones."
   ]
  },
  {
   "cell_type": "code",
   "execution_count": 25,
   "metadata": {
    "colab": {
     "base_uri": "https://localhost:8080/",
     "height": 67
    },
    "colab_type": "code",
    "executionInfo": {
     "elapsed": 921,
     "status": "ok",
     "timestamp": 1598050305025,
     "user": {
      "displayName": "Juan Serna",
      "photoUrl": "https://lh3.googleusercontent.com/a-/AOh14GjcHoh1C7CB4nXU3oV4EL8YAQ6vTTppasq2hVPWxg=s64",
      "userId": "04213219753280407363"
     },
     "user_tz": 300
    },
    "id": "sUB0kNoj6xET",
    "outputId": "6e8c2f59-86d7-466e-a763-269d6b34c7c1"
   },
   "outputs": [
    {
     "name": "stdout",
     "output_type": "stream",
     "text": [
      "8\n",
      "[7 8 5]\n",
      "[6 8 3]\n"
     ]
    }
   ],
   "source": [
    "print(arreglo_2d.max()) # recorre toda la matriz\n",
    "print(arreglo_2d.max(axis = 0)) # axis 0: va en dirección de columnas\n",
    "print(arreglo_2d.max(axis = 1)) # axis 1: va fila por fila"
   ]
  },
  {
   "cell_type": "markdown",
   "metadata": {
    "colab_type": "text",
    "id": "WtKLIys36xEY"
   },
   "source": [
    "### Comentarios finales\n",
    "\n",
    "Indexado / slicing:\n",
    "- Para arreglos 1D es similar que para la listas.\n",
    "- Para arreglos 2D es diferente. Para estudiarlo se sugiere jugar con la siguiente celda:"
   ]
  },
  {
   "cell_type": "code",
   "execution_count": 30,
   "metadata": {
    "colab": {
     "base_uri": "https://localhost:8080/",
     "height": 84
    },
    "colab_type": "code",
    "executionInfo": {
     "elapsed": 923,
     "status": "ok",
     "timestamp": 1598050668139,
     "user": {
      "displayName": "Juan Serna",
      "photoUrl": "https://lh3.googleusercontent.com/a-/AOh14GjcHoh1C7CB4nXU3oV4EL8YAQ6vTTppasq2hVPWxg=s64",
      "userId": "04213219753280407363"
     },
     "user_tz": 300
    },
    "id": "CNAbEbBw6xEa",
    "outputId": "959b0081-2a3d-4a11-9065-6ddc43b9339c"
   },
   "outputs": [
    {
     "name": "stdout",
     "output_type": "stream",
     "text": [
      "[[0 1 2]\n",
      " [3 4 5]\n",
      " [6 7 8]]\n",
      "[3 4 5]\n"
     ]
    }
   ],
   "source": [
    "arreglo_2d = np.arange(9).reshape(3,3)\n",
    "print(arreglo_2d)\n",
    "print(arreglo_2d[1,:])"
   ]
  },
  {
   "cell_type": "markdown",
   "metadata": {
    "colab_type": "text",
    "id": "svHQKfw_6xEg"
   },
   "source": [
    "* Es posible usar `arreglo.max()` o `np.max(arreglo)`. Esto no solo es válido para la función `max()`, también para casi todas las funciones que operen sobre arreglos. "
   ]
  },
  {
   "cell_type": "code",
   "execution_count": 12,
   "metadata": {
    "colab": {},
    "colab_type": "code",
    "id": "aTBJASA26xEh"
   },
   "outputs": [
    {
     "name": "stdout",
     "output_type": "stream",
     "text": [
      "-100 -100\n"
     ]
    }
   ],
   "source": [
    "print(np.min(un_arreglo), un_arreglo.min())"
   ]
  },
  {
   "cell_type": "markdown",
   "metadata": {
    "colab_type": "text",
    "id": "vL5QD71a6xEo"
   },
   "source": [
    "Existe mucho más para estudiar sobre NumPy. A medida que se necesite, se verán más funcionalidades.\n",
    "\n",
    "## <font color='mediumblue'>Ejercicios</font>\n",
    "\n",
    "<font color='mediumblue'>**Ejercicio 1:**</font> Escribir un arreglo con 100 números equiespaciados del 0 al 9. Pista: `linspace`"
   ]
  },
  {
   "cell_type": "code",
   "execution_count": 15,
   "metadata": {
    "colab": {
     "base_uri": "https://localhost:8080/",
     "height": 319
    },
    "colab_type": "code",
    "executionInfo": {
     "elapsed": 1026,
     "status": "ok",
     "timestamp": 1598050337893,
     "user": {
      "displayName": "Juan Serna",
      "photoUrl": "https://lh3.googleusercontent.com/a-/AOh14GjcHoh1C7CB4nXU3oV4EL8YAQ6vTTppasq2hVPWxg=s64",
      "userId": "04213219753280407363"
     },
     "user_tz": 300
    },
    "id": "_p2bvcte6xEq",
    "outputId": "81b2896e-0324-4eda-cc99-ab35142b9dd7"
   },
   "outputs": [
    {
     "name": "stdout",
     "output_type": "stream",
     "text": [
      "[0.         0.09090909 0.18181818 0.27272727 0.36363636 0.45454545\n",
      " 0.54545455 0.63636364 0.72727273 0.81818182 0.90909091 1.\n",
      " 1.09090909 1.18181818 1.27272727 1.36363636 1.45454545 1.54545455\n",
      " 1.63636364 1.72727273 1.81818182 1.90909091 2.         2.09090909\n",
      " 2.18181818 2.27272727 2.36363636 2.45454545 2.54545455 2.63636364\n",
      " 2.72727273 2.81818182 2.90909091 3.         3.09090909 3.18181818\n",
      " 3.27272727 3.36363636 3.45454545 3.54545455 3.63636364 3.72727273\n",
      " 3.81818182 3.90909091 4.         4.09090909 4.18181818 4.27272727\n",
      " 4.36363636 4.45454545 4.54545455 4.63636364 4.72727273 4.81818182\n",
      " 4.90909091 5.         5.09090909 5.18181818 5.27272727 5.36363636\n",
      " 5.45454545 5.54545455 5.63636364 5.72727273 5.81818182 5.90909091\n",
      " 6.         6.09090909 6.18181818 6.27272727 6.36363636 6.45454545\n",
      " 6.54545455 6.63636364 6.72727273 6.81818182 6.90909091 7.\n",
      " 7.09090909 7.18181818 7.27272727 7.36363636 7.45454545 7.54545455\n",
      " 7.63636364 7.72727273 7.81818182 7.90909091 8.         8.09090909\n",
      " 8.18181818 8.27272727 8.36363636 8.45454545 8.54545455 8.63636364\n",
      " 8.72727273 8.81818182 8.90909091 9.        ]\n",
      "100\n"
     ]
    }
   ],
   "source": [
    "n = np.linspace(0.0, 9.0, num=100)\n",
    "print(n)\n",
    "print(len(n))"
   ]
  },
  {
   "cell_type": "markdown",
   "metadata": {
    "colab_type": "text",
    "id": "1qRG5b3m6xEv"
   },
   "source": [
    "<font color='mediumblue'>**Ejercicio 2:**</font> crear un arreglo 1D de 20 ceros. Reemplazar los primeros 15 elementos por unos."
   ]
  },
  {
   "cell_type": "code",
   "execution_count": 28,
   "metadata": {
    "colab": {
     "base_uri": "https://localhost:8080/",
     "height": 84
    },
    "colab_type": "code",
    "executionInfo": {
     "elapsed": 944,
     "status": "ok",
     "timestamp": 1598050386119,
     "user": {
      "displayName": "Juan Serna",
      "photoUrl": "https://lh3.googleusercontent.com/a-/AOh14GjcHoh1C7CB4nXU3oV4EL8YAQ6vTTppasq2hVPWxg=s64",
      "userId": "04213219753280407363"
     },
     "user_tz": 300
    },
    "id": "6xPwCrg26xEx",
    "outputId": "de057182-3070-4f01-a8d6-32fddc2b3e1a"
   },
   "outputs": [
    {
     "name": "stdout",
     "output_type": "stream",
     "text": [
      "[0 0 0 0 0 0 0 0 0 0 0 0 0 0 0 0 0 0 0 0]\n",
      "20\n",
      "1\n",
      "[1 1 1 1 1 1 1 1 1 1 1 1 1 1 0 0 0 0 0 0]\n"
     ]
    }
   ],
   "source": [
    "m = np.zeros(20,dtype=int)\n",
    "print(m)\n",
    "print(len(m))\n",
    "print(m.ndim)\n",
    "m[:14] = 1\n",
    "print(m)"
   ]
  },
  {
   "cell_type": "markdown",
   "metadata": {
    "colab_type": "text",
    "id": "IwdggYiK6xE1"
   },
   "source": [
    "<font color='mediumblue'>**Ejercicio 3:**</font> crear un arreglo 1D de 50 ceros. Reemplazar los primeros 25 elementos por los números naturales del 0 al 24."
   ]
  },
  {
   "cell_type": "code",
   "execution_count": 27,
   "metadata": {
    "colab": {
     "base_uri": "https://localhost:8080/",
     "height": 84
    },
    "colab_type": "code",
    "executionInfo": {
     "elapsed": 893,
     "status": "ok",
     "timestamp": 1598050410912,
     "user": {
      "displayName": "Juan Serna",
      "photoUrl": "https://lh3.googleusercontent.com/a-/AOh14GjcHoh1C7CB4nXU3oV4EL8YAQ6vTTppasq2hVPWxg=s64",
      "userId": "04213219753280407363"
     },
     "user_tz": 300
    },
    "id": "Sp5joIbM6xE3",
    "outputId": "b08d7bc5-57f5-4a23-e0e0-2ea4e502bad2"
   },
   "outputs": [
    {
     "name": "stdout",
     "output_type": "stream",
     "text": [
      "[0 0 0 0 0 0 0 0 0 0 0 0 0 0 0 0 0 0 0 0 0 0 0 0 0 0 0 0 0 0 0 0 0 0 0 0 0\n",
      " 0 0 0 0 0 0 0 0 0 0 0 0 0]\n",
      "50\n",
      "1\n",
      "[ 0  1  2  3  4  5  6  7  8  9 10 11 12 13 14 15 16 17 18 19 20 21 22 23\n",
      " 24  0  0  0  0  0  0  0  0  0  0  0  0  0  0  0  0  0  0  0  0  0  0  0\n",
      "  0  0]\n"
     ]
    }
   ],
   "source": [
    "x = np.zeros(50,dtype=int)\n",
    "print(x)\n",
    "print(len(x))\n",
    "print(x.ndim)\n",
    "x[:25] = np.arange(25)\n",
    "print(x)"
   ]
  },
  {
   "cell_type": "markdown",
   "metadata": {
    "colab_type": "text",
    "id": "Vx74LT026xE-"
   },
   "source": [
    "<font color='mediumblue'>**Ejercicio 4:**</font> crear un arreglo 2D de 3 filas y 3 columnas, lleno de ceros. Reemplazar los elemento de la segunda columna por los números 1, 2 y 3 respectivamente. Es decir, crear la siguiente matriz:\n",
    "\n",
    "```\n",
    "0 1 0 \n",
    "0 2 0\n",
    "0 3 0\n",
    "```"
   ]
  },
  {
   "cell_type": "code",
   "execution_count": 4,
   "metadata": {
    "colab": {
     "base_uri": "https://localhost:8080/",
     "height": 67
    },
    "colab_type": "code",
    "executionInfo": {
     "elapsed": 880,
     "status": "ok",
     "timestamp": 1598051132836,
     "user": {
      "displayName": "Juan Serna",
      "photoUrl": "https://lh3.googleusercontent.com/a-/AOh14GjcHoh1C7CB4nXU3oV4EL8YAQ6vTTppasq2hVPWxg=s64",
      "userId": "04213219753280407363"
     },
     "user_tz": 300
    },
    "id": "ckTUAo6D6xE_",
    "outputId": "d7618cd5-ccce-4522-f06d-2fa9b2c429e6"
   },
   "outputs": [
    {
     "name": "stdout",
     "output_type": "stream",
     "text": [
      "[[0 0 0]\n",
      " [0 0 0]\n",
      " [0 0 0]]\n",
      "[[0]\n",
      " [0]\n",
      " [0]]\n",
      "[[1]\n",
      " [2]\n",
      " [3]]\n",
      "[[0 1 0]\n",
      " [0 2 0]\n",
      " [0 3 0]]\n"
     ]
    }
   ],
   "source": [
    "s = np.zeros(9,dtype=int).reshape(3,3)\n",
    "print(s)\n",
    "print(s[:,1:2])\n",
    "t = np.arange(1,4,dtype=int).reshape(3,1)\n",
    "print(t)\n",
    "s[:,1:2] = t\n",
    "print(s)"
   ]
  },
  {
   "cell_type": "markdown",
   "metadata": {
    "colab_type": "text",
    "id": "9fDvDIowd_bX"
   },
   "source": [
    "<font color='mediumblue'>**Ejercicio 5:**</font> crear un arreglo 2D de 3 filas y 3 columnas, lleno de ceros. Reemplazar los elemento de la diagonal por unos. Es decir, crear la siguiente matriz:"
   ]
  },
  {
   "cell_type": "markdown",
   "metadata": {},
   "source": [
    "```\n",
    "1 0 0 \n",
    "0 1 0\n",
    "0 0 1\n",
    "```"
   ]
  },
  {
   "cell_type": "code",
   "execution_count": 123,
   "metadata": {
    "colab": {
     "base_uri": "https://localhost:8080/",
     "height": 67
    },
    "colab_type": "code",
    "executionInfo": {
     "elapsed": 936,
     "status": "ok",
     "timestamp": 1598053745166,
     "user": {
      "displayName": "Juan Serna",
      "photoUrl": "https://lh3.googleusercontent.com/a-/AOh14GjcHoh1C7CB4nXU3oV4EL8YAQ6vTTppasq2hVPWxg=s64",
      "userId": "04213219753280407363"
     },
     "user_tz": 300
    },
    "id": "VrkZuD4S6xFH",
    "outputId": "eccc2107-a8f0-43da-9e10-f10eb54ff010"
   },
   "outputs": [
    {
     "name": "stdout",
     "output_type": "stream",
     "text": [
      "[[0 0 0]\n",
      " [0 0 0]\n",
      " [0 0 0]]\n",
      "2\n",
      "3\n",
      "[[1 0 0]\n",
      " [0 1 0]\n",
      " [0 0 1]]\n"
     ]
    }
   ],
   "source": [
    "q = np.zeros(9,dtype=int).reshape(3,3)\n",
    "print(q)\n",
    "print(q.ndim)\n",
    "print(len(q))\n",
    "for i in range(len(q)):\n",
    "    q[i][i] = 1\n",
    "print(q)\n"
   ]
  },
  {
   "cell_type": "markdown",
   "metadata": {
    "colab_type": "text",
    "id": "Ap348o4h6xFN"
   },
   "source": [
    "<font color='mediumblue'>**Ejercicio 6:**</font> crear un arreglo 2D de 100 filas y 100 columnas lleno de ceros. Reemplazar los elemento de la diagonal por unos. Es decir, crear la siguiente matriz:\n",
    "\n",
    "```\n",
    "1 0 0 ... 0 0 0 \n",
    "0 1 0 ... 0 0 0\n",
    "0 0 1 ... 0 0 0\n",
    "...  \n",
    "0 0 0 ... 1 0 0\n",
    "0 0 0 ... 0 1 0\n",
    "0 0 0 ... 0 0 1\n",
    "```"
   ]
  },
  {
   "cell_type": "code",
   "execution_count": 128,
   "metadata": {
    "colab": {
     "base_uri": "https://localhost:8080/",
     "height": 134
    },
    "colab_type": "code",
    "executionInfo": {
     "elapsed": 957,
     "status": "ok",
     "timestamp": 1598053783922,
     "user": {
      "displayName": "Juan Serna",
      "photoUrl": "https://lh3.googleusercontent.com/a-/AOh14GjcHoh1C7CB4nXU3oV4EL8YAQ6vTTppasq2hVPWxg=s64",
      "userId": "04213219753280407363"
     },
     "user_tz": 300
    },
    "id": "UHkEt17i6xFP",
    "outputId": "e366f7ef-c23c-4006-df9b-4646d2fee583"
   },
   "outputs": [
    {
     "name": "stdout",
     "output_type": "stream",
     "text": [
      "[[0 0 0 ... 0 0 0]\n",
      " [0 0 0 ... 0 0 0]\n",
      " [0 0 0 ... 0 0 0]\n",
      " ...\n",
      " [0 0 0 ... 0 0 0]\n",
      " [0 0 0 ... 0 0 0]\n",
      " [0 0 0 ... 0 0 0]]\n",
      "2\n",
      "100\n",
      "[[1 0 0 ... 0 0 0]\n",
      " [0 1 0 ... 0 0 0]\n",
      " [0 0 1 ... 0 0 0]\n",
      " ...\n",
      " [0 0 0 ... 1 0 0]\n",
      " [0 0 0 ... 0 1 0]\n",
      " [0 0 0 ... 0 0 1]]\n"
     ]
    }
   ],
   "source": [
    "z = np.zeros(10000,dtype=int).reshape(100,100)\n",
    "print(z)\n",
    "print(z.ndim)\n",
    "print(len(z))\n",
    "for i in range(len(z)):\n",
    "    z[i][i] = 1\n",
    "print(z)\n",
    "\n",
    "#w = np.ones(100,dtype=int) # generar lista con los valores que quiero en la diagonal principal\n",
    "#print(w)\n",
    "#z2 = np.diagflat(w) # generar matriz con w como diagonal principal y el resto en ceros\n",
    "#print(z2)"
   ]
  },
  {
   "cell_type": "markdown",
   "metadata": {
    "colab_type": "text",
    "id": "T78FHjuU6xFV"
   },
   "source": [
    "<font color='crimson'>**Extra:**</font> ¿Qué tipo de dato está usando NumPy cuando crea los arreglos?¿Y si queremos cambiarle el tipo de dato, por ejemplo a `int`? Googlear \"numpy astype\". ¿Qué pasa si usamos `astype(bool)`?"
   ]
  },
  {
   "cell_type": "code",
   "execution_count": 8,
   "metadata": {
    "colab": {},
    "colab_type": "code",
    "id": "FeMlvP1vNRej"
   },
   "outputs": [
    {
     "data": {
      "text/plain": [
       "array([1. , 2. , 2.5])"
      ]
     },
     "execution_count": 8,
     "metadata": {},
     "output_type": "execute_result"
    }
   ],
   "source": [
    "# creo que por defecto son float64\n",
    "import numpy as np\n",
    "x = np.array([1, 2, 2.5])\n",
    "x"
   ]
  },
  {
   "cell_type": "code",
   "execution_count": 9,
   "metadata": {},
   "outputs": [
    {
     "data": {
      "text/plain": [
       "array([1, 2, 2])"
      ]
     },
     "execution_count": 9,
     "metadata": {},
     "output_type": "execute_result"
    }
   ],
   "source": [
    "x = x.astype(int)\n",
    "x"
   ]
  }
 ],
 "metadata": {
  "colab": {
   "collapsed_sections": [
    "1AJNWoqhPBQJ"
   ],
   "name": "Copy of DS_Bitácora_03_NumPy.ipynb",
   "provenance": [
    {
     "file_id": "1QOURPts882jwCX1exmKfg0wKsMJM6O6O",
     "timestamp": 1598017249951
    },
    {
     "file_id": "1V8VfELhCsmkHXdXQxU2WsVlM2fhLXqfj",
     "timestamp": 1584388606859
    }
   ]
  },
  "kernelspec": {
   "display_name": "Python 3",
   "language": "python",
   "name": "python3"
  },
  "language_info": {
   "codemirror_mode": {
    "name": "ipython",
    "version": 3
   },
   "file_extension": ".py",
   "mimetype": "text/x-python",
   "name": "python",
   "nbconvert_exporter": "python",
   "pygments_lexer": "ipython3",
   "version": "3.8.5"
  }
 },
 "nbformat": 4,
 "nbformat_minor": 4
}
