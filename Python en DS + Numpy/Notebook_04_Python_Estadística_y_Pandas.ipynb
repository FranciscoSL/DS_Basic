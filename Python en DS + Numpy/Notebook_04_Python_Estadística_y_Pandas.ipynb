{
 "cells": [
  {
   "cell_type": "markdown",
   "metadata": {
    "colab_type": "text",
    "id": "U8zyY9Zz1Py3"
   },
   "source": [
    "# Estadística Descriptiva y Pandas\n",
    "\n",
    "Objetivos de este notebook:\n",
    "- Repasar conceptos básicos de estadística\n",
    "- Seguir aprendiendo a operar con Numpy\n",
    "- Incorporar Pandas a las herramientas de trabajo\n",
    "\n",
    "## 1. Estadística Descriptiva\n",
    "\n",
    "La Estadística Descriptiva sirve para comenzar a analizar y entender un conjunto de datos. En el caso de datos numéricos, lo hace obteniendo *valores estadísticos* que, de alguna forma, reemplazan a (o resumen) los datos. Por ejemplo, es muy difícil leer y *entender* la edad de 1.000 personas. Pero con un grupo reducido de valores estadísticos (mínimo, máximo, media y desviación estándar, etc.) es posible aproximarse a ese conjunto de una manera mucho más comprensible. Veamos algunas medidas importantes:\n",
    "\n",
    "Medidas de tendencia central:\n",
    "- Media (o promedio) aritmético/geométrico: valor promedio de los datos observados.\n",
    "- Mediana: valor exacto del medio en un conjunto de datos.\n",
    "- Moda: valor con mayor frecuencia (que más se repite) en un conjunto de datos.\n",
    "\n",
    "Medidas de dispersión:\n",
    "- Varianza: diferencia (distancia) entre el valor de una observación y la media del conjunto de datos.\n",
    "- Error típico/Desv std: es la raíz cuadrada de la varianza.\n",
    "- Rango: medida de amplitud de los valores de la muestra. Esto es la diferencia entre el valor más alto y el más bajo.\n",
    "- Rango intercuartil: distribuye los datos cuatro partes. De esta forma es fácil identificar en qué rangos de valores se concentran los datos y qué tna dispersos están respecto de la mediana.\n",
    "\n",
    "### Algunas fórmulas:\n",
    "\n",
    "**Promedio (Media)**\n",
    "\n",
    "Dados $n$ números $x_1,x_2,...,x_n$, el promedio o media es \n",
    "\n",
    "$$\\overline{x} = \\frac{1}{n}\\sum_{i=1}^{n} x_i = \\frac{x_1 + x_2 + ... + x_n}{n}$$\n",
    "\n",
    "**Desviación Estándar y Varianza**\n",
    "\n",
    "La varianza y la desviación estándar nos dan una idea de cuán \"dispersos\" están los valores con respecto a su promedio.\n",
    "\n",
    "$$ Var = \\frac{\\sum_{i=1}^{n} (x_i -\\overline{x})^2}{n - 1}$$\n",
    "\n",
    "La desviación estándar es la raiz cuadrada de la varianza. En general se usa la letra griega $\\sigma$ para representarla o las siglas $SD$:\n",
    "\n",
    "$$ SD = \\sqrt{\\frac{\\sum_{i=1}^{n} (x_i -\\overline{x})^2}{n - 1}}$$\n",
    "\n",
    "$$ SD = \\sqrt{Var}$$\n",
    "\n",
    "\n",
    "También es recomendable tener claras las diferencias entre **población** y **muestra**."
   ]
  },
  {
   "cell_type": "markdown",
   "metadata": {},
   "source": [
    "**<font color='indianRed'>Ejercicio: </font>** Dada la siguiente lista de números, escribir un código que calcule su promedio, su varianza y desviación estándar. Pistas:\n",
    "* Probablemente sea útil revisar conceptos de ejercicios anteriores (clase previa).\n",
    "* Para calcular la varianza y la desviación estándar, se puede usar el resultado obtenido al calcular el promedio."
   ]
  },
  {
   "cell_type": "code",
   "execution_count": 1,
   "metadata": {},
   "outputs": [],
   "source": [
    "x_s = [1,2,3,1,2,2,3,4,1,2,3,4,1,2,4]"
   ]
  },
  {
   "cell_type": "code",
   "execution_count": 2,
   "metadata": {
    "colab": {},
    "colab_type": "code",
    "id": "lqCdXnSP1PzC"
   },
   "outputs": [],
   "source": [
    "# Promedio\n",
    "promediox_s = sum(x_s)/len(x_s)\n",
    "promediox_s"
   ]
  },
  {
   "cell_type": "markdown",
   "metadata": {},
   "source": [
    "Si ya queremos ver menos decimales en los resultados, acá una forma de dar formato:"
   ]
  },
  {
   "cell_type": "code",
   "execution_count": 3,
   "metadata": {},
   "outputs": [],
   "source": [
    "round(promediox_s,3)"
   ]
  },
  {
   "cell_type": "code",
   "execution_count": 4,
   "metadata": {
    "colab": {},
    "colab_type": "code",
    "id": "PosCOxzC1Pzl"
   },
   "outputs": [],
   "source": [
    "# Varianza y Desv. std.\n",
    "\n",
    "erroresalcuad = []\n",
    "for i in x_s:\n",
    "    erroralcuad = (i - promediox_s)**2\n",
    "    erroresalcuad.append(erroralcuad)\n",
    "    \n",
    "# Varianza\n",
    "varianza = sum(erroresalcuad)/(len(x_s)-1)\n",
    "print(varianza)\n",
    "\n",
    "# Desv std\n",
    "SD = varianza ** (1/2)\n",
    "print(SD)\n",
    "\n",
    "# Rango\n",
    "r = max(x_s) - min(x_s)\n",
    "print(r)"
   ]
  },
  {
   "cell_type": "markdown",
   "metadata": {
    "colab_type": "text",
    "id": "uMmPPSpQ1Pz9"
   },
   "source": [
    "## 2 Estadística con NumPy\n",
    "\n",
    "Cálculo de los estadísticos de un arreglo usando NumPy."
   ]
  },
  {
   "cell_type": "code",
   "execution_count": 5,
   "metadata": {
    "colab": {},
    "colab_type": "code",
    "id": "nyJsUM4j1P0C"
   },
   "outputs": [],
   "source": [
    "import numpy as np\n",
    "\n",
    "x_s = np.array([1,2,3,1,2,2,3,4,1,2,3,4,1,2,4])\n",
    "\n",
    "# Promedio\n",
    "print(x_s.mean())\n",
    "\n",
    "# Mediana\n",
    "print(np.median(x_s))\n",
    "\n",
    "# Varianza\n",
    "print(x_s.var(ddof = 1))\n",
    "\n",
    "# Desviación estándar\n",
    "print(x_s.std(ddof = 1))\n",
    "\n",
    "# Notar la diferencia en las ejecuciones anteriores entre métodos y funciones en Python"
   ]
  },
  {
   "cell_type": "markdown",
   "metadata": {},
   "source": [
    "Ya es tiempo de presentar mejor los resultados:"
   ]
  },
  {
   "cell_type": "code",
   "execution_count": 6,
   "metadata": {},
   "outputs": [],
   "source": [
    "# Promedio\n",
    "print('Promedio de x_s = ' + str(round(x_s.mean(),3)),'\\n')\n",
    "\n",
    "# Varianza\n",
    "print('Varianza de x_s = ' + str(round(x_s.var(ddof = 1),3)),'\\n')\n",
    "\n",
    "# Desviación estándar\n",
    "print('Desv. std. de x_s = ' + str(round(x_s.std(ddof = 1),3)))"
   ]
  },
  {
   "cell_type": "markdown",
   "metadata": {},
   "source": [
    "**Consideraciones adicionales:**\n",
    "- La media es susceptible a valores atípicos. Ejemplo: las edades de un grupo.\n",
    "- La moda no aplica para datos numéricos continuos (por los decimales)."
   ]
  },
  {
   "cell_type": "markdown",
   "metadata": {},
   "source": [
    "**Para profundizar:** Hay otras medidas que también hacen parte de los estadísticos, pero tienen un uso menos extendido. Entre ellas se encuentran la media ponderada, la media armónica y la media geométrica."
   ]
  },
  {
   "cell_type": "markdown",
   "metadata": {
    "colab_type": "text",
    "id": "NuADSmLC1P0S"
   },
   "source": [
    "**Investigar**: ¿Qué es el parámetro `ddof` de la función .var()?¿Qué pasa si no se usa?"
   ]
  },
  {
   "cell_type": "markdown",
   "metadata": {},
   "source": [
    "NumPy también puede calcular percentiles, cuartiles, mínimos y máximos. Esto en relación con el Rango y con el Rango intercuartil."
   ]
  },
  {
   "cell_type": "code",
   "execution_count": 8,
   "metadata": {
    "colab": {},
    "colab_type": "code",
    "id": "BwBr3Gb_1P0Y"
   },
   "outputs": [],
   "source": [
    "print(np.percentile(x_s,75)) # Calcula el percentil 75%\n",
    "print(np.quantile(x_s,0.5))\n",
    "print(np.min(x_s))\n",
    "print(np.max(x_s))"
   ]
  },
  {
   "cell_type": "markdown",
   "metadata": {},
   "source": [
    "Es posible observar los elementos del array ordenados."
   ]
  },
  {
   "cell_type": "code",
   "execution_count": 9,
   "metadata": {},
   "outputs": [],
   "source": [
    "x_s.sort()\n",
    "x_s"
   ]
  },
  {
   "cell_type": "markdown",
   "metadata": {},
   "source": [
    "Se sugiere investigar variantes de sort (ascendente, descendente, etc).\n",
    "\n",
    "Con el siguiente gráfico (Boxplot) se representa la información del Rango intercuartil."
   ]
  },
  {
   "cell_type": "code",
   "execution_count": 12,
   "metadata": {},
   "outputs": [],
   "source": [
    "import matplotlib.pyplot as plt\n",
    "plt.boxplot(x_s);"
   ]
  },
  {
   "cell_type": "markdown",
   "metadata": {},
   "source": [
    "A partir de qué valor se consideran *outliers*?"
   ]
  },
  {
   "cell_type": "code",
   "execution_count": 13,
   "metadata": {},
   "outputs": [],
   "source": [
    "Q3 = np.quantile(x_s,0.75)\n",
    "Q1 = np.quantile(x_s,0.25)\n",
    "print(Q1)\n",
    "print(Q3)"
   ]
  },
  {
   "cell_type": "code",
   "execution_count": 14,
   "metadata": {},
   "outputs": [],
   "source": [
    "iqr = Q3 - Q1\n",
    "minlimit = Q1 - 1.5*iqr\n",
    "maxlimit = Q3 + 1.5*iqr\n",
    "print('Rango para detección de outliers: {}, {}'.format(minlimit, maxlimit))\n",
    "# La fórmula anterior es particularmente usada para datos simétricamente distribuidos."
   ]
  },
  {
   "cell_type": "markdown",
   "metadata": {
    "colab_type": "text",
    "id": "31cRSU0v1P0n"
   },
   "source": [
    "### 1.3 Generación de muestras al azar\n",
    "\n",
    "Algo útil que se puede hacer con NumPy es generar muestras al azar. Esto permite simular situaciones. Por ejemplo tiradas de dados. Estas funciones están dentro del paquete `random` de NumPy, cuya documentación pueden revisar [aquí](https://docs.scipy.org/doc/numpy-1.15.0/reference/routines.random.html). Ejemplos:"
   ]
  },
  {
   "cell_type": "code",
   "execution_count": 15,
   "metadata": {
    "colab": {},
    "colab_type": "code",
    "id": "LveHBaed1P0u"
   },
   "outputs": [],
   "source": [
    "muestras_dado = np.random.randint(1,7, size = 6)\n",
    "print(muestras_dado)\n",
    "\n",
    "# También se puede\n",
    "muestras_dado = np.random.choice([1,2,3,4,5,6], size = 15)\n",
    "print(muestras_dado)"
   ]
  },
  {
   "cell_type": "markdown",
   "metadata": {},
   "source": [
    "A partir de la ejecución de la celda anterior. Se recomienda detenerse y analizar la lógica de `random.randint` y `random.choice`."
   ]
  },
  {
   "cell_type": "markdown",
   "metadata": {
    "colab_type": "text",
    "id": "iw5KJ1sN1P08"
   },
   "source": [
    "## <font color='indianred'>Ejercicios</font>\n",
    "\n",
    "<font color='indianred'>**Ejercicio 1:**</font> ¿Cuál será el promedio de los valores obtenidos al tirar muchas veces un dado? Vamos a tratar de responder esta pregunta **simulando** un dado. Para ello:\n",
    "* Obtener muestras al azar de un dado usando lo que vimos anteriormente.\n",
    "* Calcular su promedio y desviación estándar.\n",
    "\n",
    "¿A partir de qué cantidad de muestras el promedio se \"estabiliza\"?"
   ]
  },
  {
   "cell_type": "code",
   "execution_count": 16,
   "metadata": {
    "colab": {},
    "colab_type": "code",
    "id": "x5AP10hv1P1A",
    "scrolled": true
   },
   "outputs": [],
   "source": [
    "muestras_dado = np.random.choice([1,2,3,4,5,6], size = 30)\n",
    "# print(muestras_dado)\n",
    "# Promedio\n",
    "print('Promedio =',muestras_dado.mean())\n",
    "# Desv std\n",
    "print('Desv. std. =',muestras_dado.std(ddof = 1))"
   ]
  },
  {
   "cell_type": "markdown",
   "metadata": {
    "colab_type": "text",
    "id": "YBg5eGbD1P1P"
   },
   "source": [
    "<font color='indianred'>**Ejercicio 2:**</font> Simular un dado cargado para favorecer un valor de su elección. Por ejemplo, el seis. Para ello, consultar la ayuda de la función `np.random.choice`. ¿Cómo se modifica el promedio y la desviación estándar?"
   ]
  },
  {
   "cell_type": "code",
   "execution_count": 17,
   "metadata": {
    "colab": {},
    "colab_type": "code",
    "id": "bsRijYBY1P1U"
   },
   "outputs": [],
   "source": [
    "# En np.random.choice si no se dan probabilidades, se asumen uniformes. Acá con probabilidades especificadas.\n",
    "muestras_dado2 = np.random.choice([1,2,3,4,5,6], p = [0.1,0.1,0.1,0.1,0.1,0.5], size = 250)\n",
    "#print(muestras_dado)\n",
    "print('Promedio =',muestras_dado2.mean())\n",
    "print('Desv. std. =',muestras_dado2.std(ddof = 1))"
   ]
  },
  {
   "cell_type": "markdown",
   "metadata": {
    "colab_type": "text",
    "id": "E49i11Xa1P1i"
   },
   "source": [
    "## 3. Pandas \n",
    "\n",
    "Pandas es la librería para manipular y analizar datos más conocida de Python. Está montada sobre NumPy, por lo cual muchas funcionalidades son similares. En principio utilizaremos Pandas para trabajar con datasets estructurados. \n",
    "\n",
    "Así como NumPy tiene los *arrays* y con ellos se accede a muchas nuevas funcionalidades, Pandas provee los *Data Frames* y las *Series*. De estos dos objetos el más utilizado es *DataFrames*. \n",
    "\n",
    "En esta sección empezaremos a:\n",
    "\n",
    "1. Familiarizarnos con los Data Frames de Pandas, manipular sus funciones básicas y entender la lógica de las mismas.\n",
    "2. Empezar a trabajar con Datasets.\n",
    "\n",
    "### 3.1 Primeros pasos\n",
    "\n",
    "Importar la librería"
   ]
  },
  {
   "cell_type": "code",
   "execution_count": 20,
   "metadata": {
    "colab": {},
    "colab_type": "code",
    "id": "j24h6xmv1P1o"
   },
   "outputs": [],
   "source": [
    "import pandas as pd"
   ]
  },
  {
   "cell_type": "markdown",
   "metadata": {
    "colab_type": "text",
    "id": "FyLT8HgC1P11"
   },
   "source": [
    "Creación del dataset:<br />\n",
    "1 - Cargar uno a uno los datos y guardarlos en una variable `data_col`.¿Qué tipos de variables son?<br />\n",
    "2 - Lectura de csv<br />\n",
    "3 - Lectura de xlsx<br />\n",
    "\n",
    "**Nota**: la población está en número de habitantes y la superficie en km2."
   ]
  },
  {
   "cell_type": "code",
   "execution_count": 18,
   "metadata": {},
   "outputs": [],
   "source": [
    "# Cargar datos uno a uno\n",
    "data_col = {\"Departamento\":['Amazonas','Antioquia','Arauca','San Andrés','Atlántico','Bolívar','Boyacá',\n",
    "                            'Caldas','Caquetá','Casanare','Cauca','Cesar','Chocó','Córdoba ','Cundinamarca','Guainía',\n",
    "                            'Guaviare','Huila','La Guajira','Magdalena','Meta','Nariño','Norte de Santander','Putumayo',\n",
    "                            'Quindio','Risaralda','Santander','Sucre','Tolima','Valle del Cauca','Vaupés','Vichada'],\n",
    "            \"Poblacion\":[66056,5974788,239503,48299,2342265,1909460,1135698,923472,359602,379892,\n",
    "                         1243503,1098577,457412,1555596,9974346,44431,73081,1009548,825364,1263788,\n",
    "                         919129,1335521,1346806,283197,509640,839597,2008841,864036,1228763,3789874,\n",
    "                         37690,76642],\n",
    "            \"Superficie\":[109665,63612,23818,52000,3388,25978,23189,7888,88965,44640,29308,22905,46530,\n",
    "                          25020,22633,72238,53460,19890,20848,23188,85635,33268,21658,24885,1845,4140,30537,\n",
    "                          10917,23562,22140,54135,100242]}\n",
    "\n",
    "# data_col como estructura de datos es un diccionario\n",
    "type(data_col)"
   ]
  },
  {
   "cell_type": "markdown",
   "metadata": {},
   "source": [
    "Así (de la forma anterior) es posible crear arreglos a partir de listas, y también crear Data Frames a partir de diccionarios.\n",
    "\n",
    "Se sugiere investigar y tener clara la diferencia entre una lista y un arreglo."
   ]
  },
  {
   "cell_type": "code",
   "execution_count": 21,
   "metadata": {},
   "outputs": [],
   "source": [
    "# Creación del DataFrame\n",
    "df_col = pd.DataFrame(data_col)\n",
    "df_col"
   ]
  },
  {
   "cell_type": "code",
   "execution_count": 22,
   "metadata": {},
   "outputs": [],
   "source": [
    "# Lectura de un CSV como dataframe de Pandas\n",
    "df_col2 = pd.read_csv('departamentos_col.csv',encoding='utf-8')\n",
    "type(df_col2)"
   ]
  },
  {
   "cell_type": "markdown",
   "metadata": {},
   "source": [
    "Lectura de un XLSX como dataframe de Pandas"
   ]
  },
  {
   "cell_type": "code",
   "execution_count": 23,
   "metadata": {
    "colab": {},
    "colab_type": "code",
    "id": "0SMR3d331P2L"
   },
   "outputs": [],
   "source": [
    "# Ojo, es probable que se necesite instalar openpyxl. Se puede hacer con la siguiente línea de código.\n",
    "# !pip install openpyxl\n",
    "\n",
    "# Cuando se tenga instalada, se requiere determinar el parámetro engine como \"openpyxl\".\n",
    "df_col3 = pd.read_excel('departamentos_col.xlsx', engine = 'openpyxl')\n",
    "type(df_col3)"
   ]
  },
  {
   "cell_type": "markdown",
   "metadata": {
    "colab_type": "text",
    "id": "2UlnyR6O1P2d"
   },
   "source": [
    "<font color='indianred'>**Ejercicio 1:**</font> investigar las funciones que se implementan en la próxima celda. ¿Qué hacen? ¿Para qué piensan que pueden ser útiles?"
   ]
  },
  {
   "cell_type": "code",
   "execution_count": 35,
   "metadata": {
    "colab": {},
    "colab_type": "code",
    "id": "Y5wTHya41P2i"
   },
   "outputs": [],
   "source": [
    "df_col.head()\n",
    "df_col.tail()\n",
    "df_col.count()\n",
    "df_col.shape()"
   ]
  },
  {
   "cell_type": "markdown",
   "metadata": {
    "colab_type": "text",
    "id": "uozfwkNo1P2w"
   },
   "source": [
    "<font color='indianred'>**Ejercicio 2:**</font> agregar al Dataset la información correspondiente a un Departamento nuevo. Recordar que al tratarse de una nueva instancia, corresponde a una fila adicional. **Pista:** investigar \"add row to pandas dataframe\" (o similar. No hay una única forma de buscar info)."
   ]
  },
  {
   "cell_type": "code",
   "execution_count": 24,
   "metadata": {
    "colab": {},
    "colab_type": "code",
    "id": "i__cR4Hh1P2z"
   },
   "outputs": [],
   "source": [
    "df_col_n = pd.DataFrame({\"Departamento\":[\"Nuevo Dpto\"],\"Poblacion\":[1000000],\"Superficie\":[25000]})\n",
    "print(df_col_n, \"\\n\")\n",
    "\n",
    "df_col.append(df_col_n, ignore_index = True)\n",
    "# Ojo: en la línea anterior, si no le digo index = True, me pone el elemento como index cero.\n",
    "\n",
    "# Otra forma de hacerlo\n",
    "# Ver al final si se debe usar loc o iloc\n",
    "# df_col.loc[32] = [\"Nuevo Dpto\",1000000,25000]"
   ]
  },
  {
   "cell_type": "markdown",
   "metadata": {
    "colab_type": "text",
    "id": "3XnYJjid1P2_"
   },
   "source": [
    "<font color='indianred'>**Ejercicio 3:**</font> Investigar las funciones columns e index. ¿Qué hacen? ¿Qué tipo de dato es su salida?"
   ]
  },
  {
   "cell_type": "code",
   "execution_count": 29,
   "metadata": {
    "colab": {},
    "colab_type": "code",
    "id": "3TypUl1A1P3B"
   },
   "outputs": [],
   "source": [
    "print(df_col.columns) # indica el rótulo de cada columna y el tipo de variable\n",
    "print(df_col.index) # indica la relación de consecutivos de la tabla"
   ]
  },
  {
   "cell_type": "markdown",
   "metadata": {},
   "source": [
    "Qué tipo de datos son las columnas del dataset? Recurso extra: [documentación de dtypes()](https://pandas.pydata.org/docs/reference/api/pandas.DataFrame.dtypes.html)"
   ]
  },
  {
   "cell_type": "code",
   "execution_count": 30,
   "metadata": {},
   "outputs": [],
   "source": [
    "df_col.dtypes # tipos de datos de cada columna en el dataset"
   ]
  },
  {
   "cell_type": "markdown",
   "metadata": {
    "colab_type": "text",
    "id": "EK-iDt4a1P3M"
   },
   "source": [
    "<font color='indianred'>**Ejercicio 4:**</font> ¿Qué hacen las siguientes operaciones?"
   ]
  },
  {
   "cell_type": "code",
   "execution_count": 31,
   "metadata": {
    "colab": {},
    "colab_type": "code",
    "id": "UAg6Cz5v1P3P"
   },
   "outputs": [],
   "source": [
    "df_col['Departamento'] # muestra todos los datos de la col Departamento\n",
    "df_col[['Departamento','Poblacion']] # muestra todos los datos de las col Departamento y Población\n",
    "df_col.Poblacion #'Poblacion' in data_pandas # Valida si hay una columna llamada Población en el dataframe"
   ]
  },
  {
   "cell_type": "markdown",
   "metadata": {
    "colab_type": "text",
    "id": "osTgGkDJ1P3X"
   },
   "source": [
    "<font color='indianred'>**Ejercicio 5:**</font> Agregar una columna al dataframe que corresponda a la densidad de cada jurisdicción. Usar la información que **ya está** en el dataset."
   ]
  },
  {
   "cell_type": "code",
   "execution_count": 32,
   "metadata": {
    "colab": {},
    "colab_type": "code",
    "id": "8E5lnSqG1P3c"
   },
   "outputs": [],
   "source": [
    "df_col['Densidad'] = df_col[\"Poblacion\"] / df_col.Superficie\n",
    "df_col.head()"
   ]
  },
  {
   "cell_type": "markdown",
   "metadata": {},
   "source": [
    "Se sugiere profundizar este punto investigando:\n",
    "+ Cómo obtener la sumatoria y el promedio de una columna de un dataframe.\n",
    "+ Cómo ordenar los datos por los valores de una columna del dataframe"
   ]
  },
  {
   "cell_type": "markdown",
   "metadata": {},
   "source": [
    "Con Pandas es posible generar un conjunto completo de estadisticos descriptivos del dataset usando pandas.DataFrame.describe()\n",
    "[Acá](https://pandas.pydata.org/docs/reference/api/pandas.DataFrame.describe.html) la documentación de la función Describe."
   ]
  },
  {
   "cell_type": "code",
   "execution_count": 33,
   "metadata": {},
   "outputs": [],
   "source": [
    "df_col.describe()"
   ]
  },
  {
   "cell_type": "markdown",
   "metadata": {
    "colab_type": "text",
    "id": "svpqtSdf1P3l"
   },
   "source": [
    "### 3.2. Filtrado por máscara\n",
    "\n",
    "Lo que veremos a continuación es **importante** porque es una operación muy frecuente. Su implementación es muy parecida en NumPy y en Pandas. Veremos primero cómo hacerlo en NumPy, luego en Pandas.\n",
    "\n",
    "Supongamos que hacemos 50 tiradas de un dado, como hicimos en la sección anterior, pero queremos seleccionar solamente aquellas tiradas que fueron menores que cuatro. ¿Cómo podemos hacerlo?"
   ]
  },
  {
   "cell_type": "code",
   "execution_count": 34,
   "metadata": {
    "colab": {},
    "colab_type": "code",
    "id": "w5IZFKI_1P3o"
   },
   "outputs": [],
   "source": [
    "import numpy as np\n",
    "tiradas_dado = np.random.randint(1,7, size = 50)\n",
    "print(tiradas_dado)\n",
    "print(len(tiradas_dado))"
   ]
  },
  {
   "cell_type": "markdown",
   "metadata": {
    "colab_type": "text",
    "id": "0QEABcgZ1P3y"
   },
   "source": [
    "Lo que podemos hacer es crear una máscara:"
   ]
  },
  {
   "cell_type": "code",
   "execution_count": 35,
   "metadata": {
    "colab": {},
    "colab_type": "code",
    "id": "STxwWNOi1P32"
   },
   "outputs": [],
   "source": [
    "mascara = tiradas_dado < 4\n",
    "print(mascara)\n",
    "print(type(mascara))"
   ]
  },
  {
   "cell_type": "markdown",
   "metadata": {
    "colab_type": "text",
    "id": "IuAkOYoe1P4B"
   },
   "source": [
    "Notar que `mascara` es un arreglo de booleanos, con `True` en los valores que cumplen la condición y `False` donde no. Una vez que creada la máscara, se puede usar para seleccionar del arreglo original aquellos elementos deseados."
   ]
  },
  {
   "cell_type": "code",
   "execution_count": 36,
   "metadata": {
    "colab": {},
    "colab_type": "code",
    "id": "Cw8ZM97f1P4D"
   },
   "outputs": [],
   "source": [
    "print(tiradas_dado[mascara])"
   ]
  },
  {
   "cell_type": "markdown",
   "metadata": {
    "colab_type": "text",
    "id": "0rjN7J3A1P4M"
   },
   "source": [
    "Notar que con `mascara.sum()` podemos contar cuántas veces se cumple la condición que pedimos."
   ]
  },
  {
   "cell_type": "code",
   "execution_count": 37,
   "metadata": {
    "colab": {},
    "colab_type": "code",
    "id": "cUHV-_OC1P4Q"
   },
   "outputs": [],
   "source": [
    "print(mascara.sum())"
   ]
  },
  {
   "cell_type": "markdown",
   "metadata": {
    "colab_type": "text",
    "id": "UosUz_mI1P4X"
   },
   "source": [
    "A veces, podemos hacerlo en una sola línea. Supongamos que queremos aquellas tiradas donde salió seis:"
   ]
  },
  {
   "cell_type": "code",
   "execution_count": 38,
   "metadata": {
    "colab": {},
    "colab_type": "code",
    "id": "do9s_9vn1P4Y"
   },
   "outputs": [],
   "source": [
    "print(tiradas_dado[tiradas_dado == 6])"
   ]
  },
  {
   "cell_type": "markdown",
   "metadata": {
    "colab_type": "text",
    "id": "ZI1fVYFf1P4g"
   },
   "source": [
    "**Ahora en Pandas**\n",
    "\n",
    "Supongamos que hay que seleccionar los departamentos cuya población sea mayor a 1,5 millones de habitantes."
   ]
  },
  {
   "cell_type": "code",
   "execution_count": 39,
   "metadata": {
    "colab": {},
    "colab_type": "code",
    "id": "n2sWVVBz1P4i"
   },
   "outputs": [],
   "source": [
    "df_col[df_col.Poblacion > 1500000]"
   ]
  },
  {
   "cell_type": "markdown",
   "metadata": {
    "colab_type": "text",
    "id": "pZo21ebL1P5G"
   },
   "source": [
    "¿Y si queremos seleccionar aquellos departamentos cuya población sea mayor a 1,5 millones de habitantes **y** su superficie menor a 20 mil km2?"
   ]
  },
  {
   "cell_type": "code",
   "execution_count": 40,
   "metadata": {
    "colab": {},
    "colab_type": "code",
    "id": "Gia9i3AB1P5L"
   },
   "outputs": [],
   "source": [
    "mascara = np.logical_and(df_col.Poblacion > 1500000, df_col.Superficie < 20000)\n",
    "df_col[mascara]\n",
    "\n",
    "# Es equivalente usar:\n",
    "# df_col[(df_col.Poblacion > 1500000) & (df_col.Superficie < 20000)]"
   ]
  },
  {
   "cell_type": "markdown",
   "metadata": {
    "colab_type": "text",
    "id": "Z057NM351P5W"
   },
   "source": [
    "<font color='indianred'>**Ejercicio:**</font> seleccionar los departamentos cuya población sea menor a 500 mil habitantes **o** su superficie mayor a 40 mil km2."
   ]
  },
  {
   "cell_type": "code",
   "execution_count": 41,
   "metadata": {
    "colab": {},
    "colab_type": "code",
    "id": "EWJwPrS61P5Z"
   },
   "outputs": [],
   "source": [
    "mascara2 = np.logical_or(df_col.Poblacion < 500000, df_col.Superficie > 40000)\n",
    "cuadro = df_col[mascara2]\n",
    "cuadro"
   ]
  },
  {
   "cell_type": "code",
   "execution_count": 90,
   "metadata": {},
   "outputs": [],
   "source": [
    "# Guardar el dataset en disco\n",
    "cuadro.to_csv('cuadro_resumen.csv')"
   ]
  },
  {
   "cell_type": "markdown",
   "metadata": {},
   "source": [
    "## Bonus 1: Tipos de datos\n",
    "\n",
    "Recordar que en muchas ocasiones los datos son llamados a partir de denominaciones como: transaccionales, demográficos, de comportamiento."
   ]
  },
  {
   "cell_type": "markdown",
   "metadata": {
    "colab_type": "text",
    "id": "H1nzSLbJ1P5g"
   },
   "source": [
    "## Bonus 2: Formas de obtener Datasets"
   ]
  },
  {
   "cell_type": "markdown",
   "metadata": {},
   "source": [
    "Se puede operar con datasets que se extraen de fuentes externas. Pero también es posible utilizar datasets precargados de Seaborn."
   ]
  },
  {
   "cell_type": "code",
   "execution_count": 42,
   "metadata": {},
   "outputs": [],
   "source": [
    "import seaborn as sns\n",
    "sns.get_dataset_names()"
   ]
  },
  {
   "cell_type": "markdown",
   "metadata": {},
   "source": [
    "## <font color='indianred'>**Ejercicio**</font>"
   ]
  },
  {
   "cell_type": "markdown",
   "metadata": {},
   "source": [
    "Para hacerlo se recomienda ir buscando info en internet y consultando la documentación que se considere apropiada.\n",
    "\n",
    "Vamos a trabajar con Iris Dataset. Uno de los conjuntos de datos más famosos, porque muchos ejemplos se realizan con él.\n",
    "\n",
    "1. Abrir con Pandas el archivo 'DS_Bitácora_04_iris.csv' (¿Qué tipo de archivo es?) Imprimir sus primeros cinco elementos. Pista: `pd.read...()`."
   ]
  },
  {
   "cell_type": "code",
   "execution_count": 43,
   "metadata": {
    "colab": {},
    "colab_type": "code",
    "id": "c6WItGqC1P5i"
   },
   "outputs": [],
   "source": [
    "data_iris = pd.read_csv(\"DS_Bitácora_04_Iris.csv\")\n",
    "data_iris.head()"
   ]
  },
  {
   "cell_type": "markdown",
   "metadata": {},
   "source": [
    "También se puede asignar manualmente el separador de los datos. No ejecutarlo con iris dataset. Solo comprender la sintaxis. Sería algo como: \n",
    "\n",
    "data_iris = pd.read_csv(\"DS_Bitácora_04_Iris.csv\", delimiter=\";\")"
   ]
  },
  {
   "cell_type": "markdown",
   "metadata": {
    "colab_type": "text",
    "id": "IcsJiYe31P5p"
   },
   "source": [
    "2. ¿Cuántas columnas (features) tiene el dataset?¿Cuáles son sus nombres?¿Y cuántas filas (instancias)? Pistas: `shape`, `columns`."
   ]
  },
  {
   "cell_type": "code",
   "execution_count": 44,
   "metadata": {
    "colab": {},
    "colab_type": "code",
    "id": "BqDWhNM51P5r"
   },
   "outputs": [],
   "source": [
    "print(data_iris.columns) # indica el rótulo de cada columna y el tipo de variable\n",
    "print(data_iris.shape) # indica la cantidad de dats y la cantidad de columnas"
   ]
  },
  {
   "cell_type": "markdown",
   "metadata": {
    "colab_type": "text",
    "id": "LnO-Yoyh1P50"
   },
   "source": [
    "3. Obtener el valor medio y desviación estándar de cada columna. ¿Cuál es la función de Pandas que entrega estos y otros estadísticos? `describe`."
   ]
  },
  {
   "cell_type": "code",
   "execution_count": 45,
   "metadata": {
    "colab": {},
    "colab_type": "code",
    "id": "wTPFg2yT1P52"
   },
   "outputs": [],
   "source": [
    "# COMPLETAR\n",
    "# Mean\n",
    "print(data_iris.SepalLengthCm.mean())\n",
    "#print(data_iris.SepalWidthCm.mean())\n",
    "#print(data_iris.PetalLengthCm.mean())\n",
    "#print(data_iris.PetalWidthCm.mean())\n",
    "\n",
    "# Std Dev\n",
    "print(data_iris.SepalLengthCm.std(ddof = 1))\n",
    "#print(data_iris.SepalWidthCm.std(ddof = 1))\n",
    "#print(data_iris.PetalLengthCm.std(ddof = 1))\n",
    "#print(data_iris.PetalWidthCm.std(ddof = 1))\n",
    "\n",
    "# función describe() --> se usa mucho para no ir pidiendo datos uno por uno\n",
    "print(data_iris.SepalLengthCm.describe())\n",
    "#print(data_iris.SepalWidthCm.describe())\n",
    "#print(data_iris.PetalLengthCm.describe())\n",
    "#print(data_iris.PetalWidthCm.describe())"
   ]
  },
  {
   "cell_type": "markdown",
   "metadata": {
    "colab_type": "text",
    "id": "h0hQVgt21P58"
   },
   "source": [
    "4. ¿Será que todas las columnas tienen información útil? *Eliminar* la columna que crean que no agrega valor. Dependiendo de la función usada - hay más de una opción -, hay que prestar **atención** al argumento `inplace`. Pista: `drop`, `del`."
   ]
  },
  {
   "cell_type": "code",
   "execution_count": 46,
   "metadata": {
    "colab": {},
    "colab_type": "code",
    "id": "FMWb9yIz1P5_"
   },
   "outputs": [],
   "source": [
    "data_iris.drop(columns= \"Id\" ) # Agregar inplace = True para que no se vaya a quedar la col sin datos."
   ]
  },
  {
   "cell_type": "markdown",
   "metadata": {
    "colab_type": "text",
    "id": "xZc3ROA1uwsi"
   },
   "source": [
    "5. **Profundizar:** ¿Para qué sirven `loc` e `iloc`? Crea algunos ejemplos."
   ]
  },
  {
   "cell_type": "code",
   "execution_count": 53,
   "metadata": {},
   "outputs": [
    {
     "data": {
      "text/html": [
       "<div>\n",
       "<style scoped>\n",
       "    .dataframe tbody tr th:only-of-type {\n",
       "        vertical-align: middle;\n",
       "    }\n",
       "\n",
       "    .dataframe tbody tr th {\n",
       "        vertical-align: top;\n",
       "    }\n",
       "\n",
       "    .dataframe thead th {\n",
       "        text-align: right;\n",
       "    }\n",
       "</style>\n",
       "<table border=\"1\" class=\"dataframe\">\n",
       "  <thead>\n",
       "    <tr style=\"text-align: right;\">\n",
       "      <th></th>\n",
       "      <th>Id</th>\n",
       "      <th>SepalLengthCm</th>\n",
       "      <th>SepalWidthCm</th>\n",
       "      <th>PetalLengthCm</th>\n",
       "      <th>PetalWidthCm</th>\n",
       "      <th>Species</th>\n",
       "    </tr>\n",
       "  </thead>\n",
       "  <tbody>\n",
       "    <tr>\n",
       "      <th>0</th>\n",
       "      <td>1</td>\n",
       "      <td>5.1</td>\n",
       "      <td>3.5</td>\n",
       "      <td>1.4</td>\n",
       "      <td>0.2</td>\n",
       "      <td>Iris-setosa</td>\n",
       "    </tr>\n",
       "    <tr>\n",
       "      <th>1</th>\n",
       "      <td>2</td>\n",
       "      <td>4.9</td>\n",
       "      <td>3.0</td>\n",
       "      <td>1.4</td>\n",
       "      <td>0.2</td>\n",
       "      <td>Iris-setosa</td>\n",
       "    </tr>\n",
       "    <tr>\n",
       "      <th>2</th>\n",
       "      <td>3</td>\n",
       "      <td>4.7</td>\n",
       "      <td>3.2</td>\n",
       "      <td>1.3</td>\n",
       "      <td>0.2</td>\n",
       "      <td>Iris-setosa</td>\n",
       "    </tr>\n",
       "  </tbody>\n",
       "</table>\n",
       "</div>"
      ],
      "text/plain": [
       "   Id  SepalLengthCm  SepalWidthCm  PetalLengthCm  PetalWidthCm      Species\n",
       "0   1            5.1           3.5            1.4           0.2  Iris-setosa\n",
       "1   2            4.9           3.0            1.4           0.2  Iris-setosa\n",
       "2   3            4.7           3.2            1.3           0.2  Iris-setosa"
      ]
     },
     "execution_count": 53,
     "metadata": {},
     "output_type": "execute_result"
    }
   ],
   "source": [
    "data_iris.loc[0:2]"
   ]
  },
  {
   "cell_type": "markdown",
   "metadata": {},
   "source": [
    "## Se sugiere repasar:\n",
    "\n",
    "1. Manipulando el siguiente datset.\n",
    "1. Cómo aplicar las medidas de tendencia central y de dispersión a columnas específicas de un DataFrame de Pandas."
   ]
  },
  {
   "cell_type": "code",
   "execution_count": 63,
   "metadata": {},
   "outputs": [],
   "source": [
    "# Dataset para practicar\n",
    "movies = pd.read_csv('https://github.com/jnserna/DS_Basic/blob/main/Python%20en%20DS%20%2B%20Numpy/movies.csv?raw=true', encoding='utf-8')\n",
    "type(movies)"
   ]
  },
  {
   "cell_type": "code",
   "execution_count": 65,
   "metadata": {},
   "outputs": [],
   "source": [
    "movies.head()"
   ]
  }
 ],
 "metadata": {
  "colab": {
   "collapsed_sections": [],
   "name": "Copy of DS_Bitácora_04_Estadística_y_Pandas.ipynb",
   "provenance": [
    {
     "file_id": "1IrL6YWz392_OIzvORwpDVlLyro09Cfom",
     "timestamp": 1598236910212
    }
   ]
  },
  "kernelspec": {
   "display_name": "Python 3",
   "language": "python",
   "name": "python3"
  },
  "language_info": {
   "codemirror_mode": {
    "name": "ipython",
    "version": 3
   },
   "file_extension": ".py",
   "mimetype": "text/x-python",
   "name": "python",
   "nbconvert_exporter": "python",
   "pygments_lexer": "ipython3",
   "version": "3.8.5"
  }
 },
 "nbformat": 4,
 "nbformat_minor": 4
}
