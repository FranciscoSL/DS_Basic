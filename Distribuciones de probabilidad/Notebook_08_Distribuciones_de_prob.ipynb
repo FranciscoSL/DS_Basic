{
 "cells": [
  {
   "cell_type": "markdown",
   "metadata": {},
   "source": [
    "# Repaso de Estadística + Distribuciones de probabilidad"
   ]
  },
  {
   "cell_type": "markdown",
   "metadata": {},
   "source": [
    "## Pensamiento estadístico para programadores"
   ]
  },
  {
   "cell_type": "markdown",
   "metadata": {},
   "source": [
    "El módulo **os** permite realizar actividades relacionadas con el sistema operativo y con ubicaciones en disco. Usando **os** es posible: crear una carpeta, listar contenidos de una carpeta, conocer acerca de un proceso, finalizar un proceso. [Ver documentación](https://docs.python.org/3/library/os.html)."
   ]
  },
  {
   "cell_type": "code",
   "execution_count": 1,
   "metadata": {},
   "outputs": [],
   "source": [
    "import os"
   ]
  },
  {
   "cell_type": "code",
   "execution_count": 2,
   "metadata": {},
   "outputs": [
    {
     "data": {
      "text/plain": [
       "'nt'"
      ]
     },
     "execution_count": 2,
     "metadata": {},
     "output_type": "execute_result"
    }
   ],
   "source": [
    "os.name"
   ]
  },
  {
   "cell_type": "code",
   "execution_count": 3,
   "metadata": {},
   "outputs": [
    {
     "data": {
      "text/plain": [
       "'C:\\\\Users\\\\usuario\\\\eafit-s\\\\Cap1'"
      ]
     },
     "execution_count": 3,
     "metadata": {},
     "output_type": "execute_result"
    }
   ],
   "source": [
    "os.getcwd()"
   ]
  },
  {
   "cell_type": "code",
   "execution_count": 4,
   "metadata": {},
   "outputs": [
    {
     "data": {
      "text/plain": [
       "['.ipynb_checkpoints',\n",
       " 'bicicletas-compartidas.csv',\n",
       " 'cars.csv',\n",
       " 'cuadro.csv',\n",
       " 'cuadro_resumen.csv',\n",
       " 'data_ds_cp.xlsx',\n",
       " 'departamentos_col.csv',\n",
       " 'departamentos_col.xlsx',\n",
       " 'DS_Bitácora_04_Iris.csv',\n",
       " 'DS_Bitácora_04_Iris_comprobacion.csv',\n",
       " 'DS_Bitácora_12_DTyKNN.ipynb',\n",
       " 'DS_Bitácora_13_Evaluación.ipynb',\n",
       " 'DS_Bitácora_14_Regresión.ipynb',\n",
       " 'DS_Bitácora_19_Data_con_VF.csv',\n",
       " 'DS_Bitácora_19_Data_VA1.csv',\n",
       " 'DS_Bitácora_19_Data_VA2.csv',\n",
       " 'DS_Bitácora_19_y_20_Preprocesamiento.ipynb',\n",
       " 'DS_Bitácora_23_Data1.csv',\n",
       " 'DS_Bitácora_23_Data2.csv',\n",
       " 'DS_Bitácora_24_Challenger.csv',\n",
       " 'Evaluaciones',\n",
       " 'juego-azar.csv',\n",
       " 'movies.csv',\n",
       " 'Notebook_02_Python_Variables.ipynb',\n",
       " 'Notebook_03_Python_Numpy.ipynb',\n",
       " 'Notebook_04_Python_Estadística_y_Pandas.ipynb',\n",
       " 'Notebook_05_Python_Matplotlib_Seaborn.ipynb',\n",
       " 'Notebook_06_Python_Repaso_Cap_1.ipynb',\n",
       " 'Notebook_07_Python_Probabilidad.ipynb',\n",
       " 'Notebook_08_Distribuciones_de_prob.ipynb',\n",
       " 'Notebook_09A_Regresiones.ipynb',\n",
       " 'Notebook_09B_Clases_funciones.ipynb',\n",
       " 'Notebook_10_ML.ipynb',\n",
       " 'Notebook_11_Limpieza_y_feature_eng.ipynb',\n",
       " 'Notebook_12_Python_Repaso_Cap_2.ipynb',\n",
       " 'Notebook_13_Matrices.ipynb',\n",
       " 'Notebook_14_Variables_categoricas.ipynb',\n",
       " 'Notebook_15_Evaluación_de_modelos.ipynb',\n",
       " 'Notebook_16_Optimizacion.ipynb',\n",
       " 'Notebook_17_Cross_validation.ipynb',\n",
       " 'Notebook_18_Repaso_Cap_3.ipynb',\n",
       " 'Notebook_19_Arboles_y_Kmeans.ipynb',\n",
       " 'Notebook_20_Bosques_aleatorios.ipynb',\n",
       " 'Notebook_Entrega1_Caso_de_nego.ipynb',\n",
       " 'Untitled.ipynb',\n",
       " 'Untitled1.ipynb',\n",
       " 'Untitled2.ipynb',\n",
       " 'Untitled3.ipynb',\n",
       " 'Untitled4.ipynb',\n",
       " 'Untitled5.ipynb',\n",
       " 'Untitled6.ipynb',\n",
       " 'Untitled7.ipynb',\n",
       " 'Untitled8.ipynb',\n",
       " 'wine_reviews.csv']"
      ]
     },
     "execution_count": 4,
     "metadata": {},
     "output_type": "execute_result"
    }
   ],
   "source": [
    "os.listdir()"
   ]
  },
  {
   "cell_type": "markdown",
   "metadata": {},
   "source": [
    "## Repaso de Estadística\n",
    "Hasta ahora hemos visto:\n",
    "+ Medidas de tendencia central: media, mediana, moda.\n",
    "+ Medidas de dispersión: varianza, desv. std., rangos.\n",
    "+ Variables discretas y variables continuas\n",
    "+ Distribuciones de probabilidad\n",
    " * Uniforme\n",
    " * Normal\n",
    "+ Relaciones entre variables (correlación)\n",
    "+ Covarianza\n",
    "\n",
    "Ahora veremos:\n",
    "1. Probabilidad condicional (Teorema de Bayes)\n",
    "2. Distribuciones de probabilidad para variables continuas (las de mayor aplicación)\n",
    "<br>**Normal**\n",
    "<br>**Exponencial**: es la inversa de la Poisson. En Poisson cuentas número de eventos por unidad de tiempo. Acá se cuenta el tiempo que toma llegar a uno de esos eventos.\n",
    "3. Distribuciones de probabilidad para variables discretas (las de mayor aplicación)\n",
    "<br>**Bernoulli** - modela un efecto binario cero un fracaso, uno un exito\n",
    "<br>**Binomial** - número de éxitos X asociados a N ensayos\n",
    "<br>**Geométrica:** ensayos X antes de llegar al primer éxito de Bernoulli\n",
    "<br>**Binomial negativa**: número de ensayos x para llegar al k-ésimo éxito\n",
    "<br>**Poisson:** número de llegadas en N a una longitud de tiempo t\n",
    "4. Estandarización, covarianza y correlación\n",
    "\n",
    "No vamos a ver:\n",
    "+ Distribuciones muestrales (Normal Estándar, t-Student, Chi-cuadrada, F Fisher-Snedecor)\n",
    "+ Estimadores a través de datos\n",
    "+ Estimadores de máxima verosimilitud\n",
    "+ Teorema del límite central\n",
    "+ Pruebas de hipótesis (error tipo 1 y tipo 2, intervalos de confianza)"
   ]
  },
  {
   "cell_type": "markdown",
   "metadata": {},
   "source": [
    "## Diagramas de frecuencias para variables continuas y discretas"
   ]
  },
  {
   "cell_type": "markdown",
   "metadata": {},
   "source": [
    "Tema: Diagramas de frecuencia o histograma\n",
    "<br>Histograma\n",
    "<br>Variables categóricas: Tablas de frecuencia\n",
    "<br>Variables numéricas: percentiles, deciles, quintiles, y quartiles, outliers o val extremos."
   ]
  },
  {
   "cell_type": "code",
   "execution_count": 5,
   "metadata": {},
   "outputs": [
    {
     "data": {
      "text/plain": [
       "Index(['fecha', 'bicis-compartidas', 'temp-obs', 'sens-temp', 'hum', 'viento',\n",
       "       'codigo-clima', 'festivo', 'findesemana', 'cuartil-ano'],\n",
       "      dtype='object')"
      ]
     },
     "execution_count": 5,
     "metadata": {},
     "output_type": "execute_result"
    }
   ],
   "source": [
    "import numpy as np\n",
    "import pandas as pd\n",
    "import scipy\n",
    "import scipy.stats\n",
    "\n",
    "df = pd.read_csv('bicicletas-compartidas.csv')\n",
    "df.columns"
   ]
  },
  {
   "cell_type": "code",
   "execution_count": 6,
   "metadata": {},
   "outputs": [
    {
     "data": {
      "text/plain": [
       "0    Cat-3\n",
       "1    Cat-3\n",
       "2    Cat-3\n",
       "3    Cat-3\n",
       "4    Cat-3\n",
       "Name: cuartil-ano, dtype: object"
      ]
     },
     "execution_count": 6,
     "metadata": {},
     "output_type": "execute_result"
    }
   ],
   "source": [
    "# Frecuencias para valores categóricas\n",
    "ycat = df['cuartil-ano']\n",
    "# Que la variable sea una serie de números no necesariamente quiere decir que es una variable numérica\n",
    "\n",
    "# Ahora vamos a transformar la variable en una categórica\n",
    "ycat = ycat.apply(lambda x: 'Cat-' + str(int(x)))\n",
    "ycat\n",
    "ycat.head()"
   ]
  },
  {
   "cell_type": "code",
   "execution_count": 7,
   "metadata": {},
   "outputs": [
    {
     "data": {
      "text/plain": [
       "{'Cat-0': 4394, 'Cat-1': 4387, 'Cat-2': 4303, 'Cat-3': 4330}"
      ]
     },
     "execution_count": 7,
     "metadata": {},
     "output_type": "execute_result"
    }
   ],
   "source": [
    "# Unique trae los valores que puede tomar la variable y sus respectivos conteos:\n",
    "valores, conteo_freq = np.unique(ycat, return_counts = True)\n",
    "valores, conteo_freq\n",
    "\n",
    "# Si quisiéramos diseñar una tabla (en este caso de frecuencias)\n",
    "\n",
    "tabla_frecuencias = dict(zip(valores, conteo_freq))\n",
    "tabla_frecuencias\n",
    "# En este caso (estos valores) hay cierta uniformidad en los valores"
   ]
  },
  {
   "cell_type": "code",
   "execution_count": 8,
   "metadata": {},
   "outputs": [
    {
     "data": {
      "text/plain": [
       "(0.0, 56.5)"
      ]
     },
     "execution_count": 8,
     "metadata": {},
     "output_type": "execute_result"
    }
   ],
   "source": [
    "# Variable numérica\n",
    "# Explorar máximo y mínimo de la velocidad del viento?\n",
    "ynum = df['viento'].copy()\n",
    "np.min(ynum), np.max(ynum)"
   ]
  },
  {
   "cell_type": "code",
   "execution_count": 9,
   "metadata": {},
   "outputs": [
    {
     "data": {
      "text/plain": [
       "56.5"
      ]
     },
     "execution_count": 9,
     "metadata": {},
     "output_type": "execute_result"
    }
   ],
   "source": [
    "# Vamos a identificar los valores que acumulan un x % de probabilidad de los datos\n",
    "np.percentile(ynum,q=100)"
   ]
  },
  {
   "cell_type": "code",
   "execution_count": 10,
   "metadata": {},
   "outputs": [
    {
     "data": {
      "text/plain": [
       "15.0"
      ]
     },
     "execution_count": 10,
     "metadata": {},
     "output_type": "execute_result"
    }
   ],
   "source": [
    "np.percentile(ynum,q=50) # Esto es la mediana"
   ]
  },
  {
   "cell_type": "code",
   "execution_count": 11,
   "metadata": {},
   "outputs": [
    {
     "data": {
      "text/plain": [
       "15.0"
      ]
     },
     "execution_count": 11,
     "metadata": {},
     "output_type": "execute_result"
    }
   ],
   "source": [
    "np.median(ynum)"
   ]
  },
  {
   "cell_type": "code",
   "execution_count": 12,
   "metadata": {},
   "outputs": [
    {
     "data": {
      "text/plain": [
       "array([ 0. , 10. , 15. , 20.5, 56.5])"
      ]
     },
     "execution_count": 12,
     "metadata": {},
     "output_type": "execute_result"
    }
   ],
   "source": [
    "# Vamos a definir los quartiles\n",
    "valores = [0,25,50,75,100]\n",
    "np.percentile(ynum,q=valores)\n",
    "# Resultado: los números dentro de la variable y que acumulan cada percentil son:"
   ]
  },
  {
   "cell_type": "code",
   "execution_count": 13,
   "metadata": {},
   "outputs": [
    {
     "data": {
      "text/plain": [
       "array([ 0. ,  9. , 17. , 22. , 56.5])"
      ]
     },
     "execution_count": 13,
     "metadata": {},
     "output_type": "execute_result"
    }
   ],
   "source": [
    "# Vamos a definir los quintiles\n",
    "valores = [0,20,60,80,100]\n",
    "np.percentile(ynum,q=valores)"
   ]
  },
  {
   "cell_type": "code",
   "execution_count": 14,
   "metadata": {},
   "outputs": [
    {
     "data": {
      "text/plain": [
       "array([ 0. ,  6.5,  9. , 11. , 13. , 15. , 17. , 19.5, 22. , 27. , 56.5])"
      ]
     },
     "execution_count": 14,
     "metadata": {},
     "output_type": "execute_result"
    }
   ],
   "source": [
    "# Deciles\n",
    "valores = list(range(0,110,10))\n",
    "np.percentile(ynum,q=valores)"
   ]
  },
  {
   "cell_type": "code",
   "execution_count": 15,
   "metadata": {},
   "outputs": [
    {
     "data": {
      "text/plain": [
       "count    17414.000000\n",
       "mean      1143.101642\n",
       "std       1085.108068\n",
       "min          0.000000\n",
       "25%        257.000000\n",
       "50%        844.000000\n",
       "75%       1671.750000\n",
       "max       7860.000000\n",
       "Name: bicis-compartidas, dtype: float64"
      ]
     },
     "execution_count": 15,
     "metadata": {},
     "output_type": "execute_result"
    }
   ],
   "source": [
    "# Valores atípicos\n",
    "y = df['bicis-compartidas']\n",
    "y.describe()"
   ]
  },
  {
   "cell_type": "code",
   "execution_count": 16,
   "metadata": {},
   "outputs": [
    {
     "data": {
      "text/plain": [
       "[-5.75, 36.25]"
      ]
     },
     "execution_count": 16,
     "metadata": {},
     "output_type": "execute_result"
    }
   ],
   "source": [
    "# Outlier: valor que cae fuera del rango. Es una alerta de que puede pertenecer a una distribución diferente.\n",
    "Q1 = np.percentile(ynum,q=25)\n",
    "Q3 = np.percentile(ynum,q=75)\n",
    "\n",
    "# Rango interquartílico\n",
    "RI = Q3-Q1\n",
    "\n",
    "lim_inf = Q1-1.5 * RI\n",
    "lim_sup = Q3+1.5 * RI\n",
    "\n",
    "[lim_inf,lim_sup]"
   ]
  },
  {
   "cell_type": "code",
   "execution_count": 17,
   "metadata": {},
   "outputs": [
    {
     "data": {
      "text/plain": [
       "(array([8.274e+03, 4.416e+03, 2.355e+03, 1.241e+03, 5.610e+02, 4.710e+02,\n",
       "        8.800e+01, 2.000e+00, 3.000e+00, 3.000e+00]),\n",
       " array([   0.,  786., 1572., 2358., 3144., 3930., 4716., 5502., 6288.,\n",
       "        7074., 7860.]),\n",
       " <BarContainer object of 10 artists>)"
      ]
     },
     "execution_count": 17,
     "metadata": {},
     "output_type": "execute_result"
    },
    {
     "data": {
      "image/png": "[encoded data removed]",
      "text/plain": [
       "<Figure size 432x288 with 1 Axes>"
      ]
     },
     "metadata": {
      "needs_background": "light"
     },
     "output_type": "display_data"
    }
   ],
   "source": [
    "# Diagrama de frecuencias (o Histograma)\n",
    "\n",
    "import matplotlib.pyplot as plt\n",
    "%matplotlib inline\n",
    "plt.hist(y)"
   ]
  },
  {
   "cell_type": "code",
   "execution_count": 18,
   "metadata": {},
   "outputs": [
    {
     "data": {
      "text/plain": [
       "0         182\n",
       "1         138\n",
       "2         134\n",
       "3          72\n",
       "4          47\n",
       "         ... \n",
       "17409    1042\n",
       "17410     541\n",
       "17411     337\n",
       "17412     224\n",
       "17413     139\n",
       "Name: bicis-compartidas, Length: 17414, dtype: int64"
      ]
     },
     "execution_count": 18,
     "metadata": {},
     "output_type": "execute_result"
    }
   ],
   "source": [
    "y"
   ]
  },
  {
   "cell_type": "markdown",
   "metadata": {},
   "source": [
    "## Probabilidad condicional - Teorema de Bayes"
   ]
  },
  {
   "cell_type": "markdown",
   "metadata": {},
   "source": [
    "Teorema de Bayes: Inferir la probabilidad de A cuando hay información parcial de A, condicionado a B y hay info total de la distribución del evento B.\n",
    "\n",
    "Ejemplo: juego de azar de 10 esferas, unas de un color blanco, el resto negras."
   ]
  },
  {
   "cell_type": "code",
   "execution_count": 29,
   "metadata": {},
   "outputs": [],
   "source": [
    "import numpy as np\n",
    "import pandas as pd\n",
    "import scipy\n",
    "import scipy.stats\n",
    "\n",
    "import matplotlib.pyplot as plt\n",
    "import seaborn as sns\n",
    "%matplotlib inline"
   ]
  },
  {
   "cell_type": "code",
   "execution_count": 31,
   "metadata": {},
   "outputs": [
    {
     "data": {
      "text/plain": [
       "Index(['bola', 'color', 'numero'], dtype='object')"
      ]
     },
     "execution_count": 31,
     "metadata": {},
     "output_type": "execute_result"
    }
   ],
   "source": [
    "df = pd.read_csv('juego-azar.csv', sep=';')\n",
    "df.columns"
   ]
  },
  {
   "cell_type": "code",
   "execution_count": 36,
   "metadata": {},
   "outputs": [
    {
     "data": {
      "text/plain": [
       "1    0.4\n",
       "3    0.3\n",
       "2    0.3\n",
       "Name: numero, dtype: float64"
      ]
     },
     "execution_count": 36,
     "metadata": {},
     "output_type": "execute_result"
    }
   ],
   "source": [
    "# Probabilidades univariadas\n",
    "# Conteo\n",
    "df.numero.value_counts()\n",
    "\n",
    "# Para convertir los conteos en probabilidades\n",
    "df.numero.value_counts()/len(df)"
   ]
  },
  {
   "cell_type": "code",
   "execution_count": 37,
   "metadata": {},
   "outputs": [
    {
     "data": {
      "text/plain": [
       "negro     0.6\n",
       "blanco    0.4\n",
       "Name: color, dtype: float64"
      ]
     },
     "execution_count": 37,
     "metadata": {},
     "output_type": "execute_result"
    }
   ],
   "source": [
    "# Ahora la probabilidad univariada de los colores\n",
    "df.color.value_counts()/len(df)"
   ]
  },
  {
   "cell_type": "code",
   "execution_count": 38,
   "metadata": {},
   "outputs": [
    {
     "data": {
      "text/plain": [
       "numero  color \n",
       "1       blanco    1\n",
       "        negro     3\n",
       "2       blanco    1\n",
       "        negro     2\n",
       "3       blanco    2\n",
       "        negro     1\n",
       "dtype: int64"
      ]
     },
     "execution_count": 38,
     "metadata": {},
     "output_type": "execute_result"
    }
   ],
   "source": [
    "# Probabilidades conjuntas bivariadas (usando groupby de Pandas)\n",
    "df.groupby(['numero','color',]).size() # La función size es la que hace el conteo\n",
    "\n",
    "# Esta función entrega los casos (eventos) de cada alternativa "
   ]
  },
  {
   "cell_type": "code",
   "execution_count": 39,
   "metadata": {},
   "outputs": [
    {
     "data": {
      "text/plain": [
       "numero  color \n",
       "1       blanco    0.1\n",
       "        negro     0.3\n",
       "2       blanco    0.1\n",
       "        negro     0.2\n",
       "3       blanco    0.2\n",
       "        negro     0.1\n",
       "dtype: float64"
      ]
     },
     "execution_count": 39,
     "metadata": {},
     "output_type": "execute_result"
    }
   ],
   "source": [
    "# Ahora para convertir lo anterior en probabilidades\n",
    "df.groupby(['numero','color']).size()/len(df)"
   ]
  },
  {
   "cell_type": "markdown",
   "metadata": {},
   "source": [
    "Ahora el **Teorema de Bayes**, que es útil para derivar análisis sobre A, que es un evento particular, cuando no conocemos sus probabilidades univariadas (o individuales), pero tenemos información sobre el evento condicionado de A a B (A condicionado B) y otras probabilidades de B.\n",
    "\n",
    "**Ejemplo:** cuál es la probabilidad de tener una esfera blanca?"
   ]
  },
  {
   "cell_type": "code",
   "execution_count": 44,
   "metadata": {},
   "outputs": [
    {
     "data": {
      "text/plain": [
       "0.4"
      ]
     },
     "execution_count": 44,
     "metadata": {},
     "output_type": "execute_result"
    }
   ],
   "source": [
    "# p_blanca = 4/10\n",
    "\n",
    "# Probabilidad de que la esfera sea blanca dado un número\n",
    "#p(p_blanca|1) + p(p_blanca|2) + p(p_blanca|3) = p_blanca\n",
    "\n",
    "# p(p_blanca*p(1)) + p(p_blanca)*p(2). + p(p_blanca)*p(3) = p(blanca)  # Esta es la prob total de que la esfera sea blanca\n",
    "(1/4)*(4/10) + (1/3)*(3/10) + (2/3)*(3/10)"
   ]
  },
  {
   "cell_type": "markdown",
   "metadata": {},
   "source": [
    "<img src=\"esferas.JPG\" width=\"400\" />"
   ]
  },
  {
   "cell_type": "markdown",
   "metadata": {},
   "source": [
    "# Funciones de distribución discreta y continua\n",
    "\n",
    "## Discreta"
   ]
  },
  {
   "cell_type": "code",
   "execution_count": 21,
   "metadata": {},
   "outputs": [],
   "source": [
    "import numpy as np\n",
    "import pandas as pd\n",
    "import scipy\n",
    "import scipy.stats\n",
    "\n",
    "import matplotlib.pyplot as plt\n",
    "import seaborn as sns\n",
    "%matplotlib inline"
   ]
  },
  {
   "cell_type": "code",
   "execution_count": 22,
   "metadata": {},
   "outputs": [],
   "source": [
    "# Vamos a traer la distribución binomial from scipy\n",
    "from scipy.stats import binom"
   ]
  },
  {
   "cell_type": "code",
   "execution_count": 23,
   "metadata": {},
   "outputs": [],
   "source": [
    "# Definición de variables aleatorias x y su distribución y\n",
    "\n",
    "p = 0.3 # probabilidad de éxito\n",
    "n = 8 # número de intentos para obtener un número de éxitos\n",
    "\n",
    "x=list(range(0,9,1)) # posibles valores de la distribución (de cero a 8)\n",
    "y= list([]) # vector con una lista de probabilidades asociadas a cada valor de x\n",
    "\n",
    "for i in x:\n",
    "    y.append(binom.pmf(i,p=p, n=n)) # las probabilidades asociadas a cada número.\n",
    "\n",
    "# probability mas function (pmf) calcula para un x su probabilidad asociada"
   ]
  },
  {
   "cell_type": "code",
   "execution_count": 24,
   "metadata": {},
   "outputs": [
    {
     "data": {
      "text/plain": [
       "[0.05764801000000002,\n",
       " 0.1976503200000001,\n",
       " 0.2964754800000002,\n",
       " 0.25412184,\n",
       " 0.1361367,\n",
       " 0.04667544000000001,\n",
       " 0.010001879999999989,\n",
       " 0.0012247199999999988,\n",
       " 6.560999999999994e-05]"
      ]
     },
     "execution_count": 24,
     "metadata": {},
     "output_type": "execute_result"
    }
   ],
   "source": [
    "y"
   ]
  },
  {
   "cell_type": "code",
   "execution_count": 25,
   "metadata": {},
   "outputs": [
    {
     "data": {
      "text/plain": [
       "1.0000000000000002"
      ]
     },
     "execution_count": 25,
     "metadata": {},
     "output_type": "execute_result"
    },
    {
     "data": {
      "image/png": "[encoded data removed]",
      "text/plain": [
       "<Figure size 432x288 with 1 Axes>"
      ]
     },
     "metadata": {
      "needs_background": "light"
     },
     "output_type": "display_data"
    }
   ],
   "source": [
    "fig, ax = plt.subplots()\n",
    "ax.bar(x,y)\n",
    "ax.set_ylabel('Probabilidad discreta')\n",
    "# Este gráfico contiene la distribución de probabilidad de la variable aleatoria Y.\n",
    "# Se valida el intervalo 0,1 gráficamente y matemáticamente:\n",
    "np.sum(y)"
   ]
  },
  {
   "cell_type": "code",
   "execution_count": 26,
   "metadata": {},
   "outputs": [
    {
     "data": {
      "text/plain": [
       "<matplotlib.legend.Legend at 0x269a9311880>"
      ]
     },
     "execution_count": 26,
     "metadata": {},
     "output_type": "execute_result"
    },
    {
     "data": {
      "image/png": "[encoded data removed]",
      "text/plain": [
       "<Figure size 432x288 with 1 Axes>"
      ]
     },
     "metadata": {
      "needs_background": "light"
     },
     "output_type": "display_data"
    }
   ],
   "source": [
    "# Ahora se va a mapear el valor esperado y la media de la función\n",
    "\n",
    "media = np.average(x, weights = y)\n",
    "\n",
    "varianza = np.average(((x-media)**2),weights = y)\n",
    "\n",
    "media, varianza\n",
    "\n",
    "\n",
    "fig, ax = plt.subplots()\n",
    "ax.bar(x,y)\n",
    "ax.set_ylabel('Probabilidad discreta')\n",
    "ax.axvline(x=media,c='r',linestyle='--', label='Valor esperado')\n",
    "ax.axvline(x=media+3*np.sqrt(varianza),c='r',linestyle='--', label='Desv std')\n",
    "ax.legend()\n",
    "\n",
    "# Estos son los elementos más importantes de la distribución discreta"
   ]
  },
  {
   "cell_type": "markdown",
   "metadata": {},
   "source": [
    "## Probabilidad continua"
   ]
  },
  {
   "cell_type": "code",
   "execution_count": 27,
   "metadata": {},
   "outputs": [],
   "source": [
    "# Muestra aleatoria de 100 variables de distribución x\n",
    "N = 100 \n",
    "\n",
    "x = list(range(0,N+1,1))\n",
    "y = list([])\n",
    "\n",
    "for i in x:\n",
    "    y.append(binom.pmf(i,p=0.3,n=N))\n",
    "\n",
    "# N es el número de intentos.\n",
    "# Mientras más grande N, más continua se verá la distribución y podrá aproximar mejor una variable continua."
   ]
  },
  {
   "cell_type": "code",
   "execution_count": 28,
   "metadata": {},
   "outputs": [
    {
     "data": {
      "text/plain": [
       "Text(0.5, 1.0, 'Probabilidad continua')"
      ]
     },
     "execution_count": 28,
     "metadata": {},
     "output_type": "execute_result"
    },
    {
     "data": {
      "image/png": "[encoded data removed]",
      "text/plain": [
       "<Figure size 432x288 with 1 Axes>"
      ]
     },
     "metadata": {
      "needs_background": "light"
     },
     "output_type": "display_data"
    }
   ],
   "source": [
    "y\n",
    "fig, ax = plt.subplots()\n",
    "ax.plot(x,y)\n",
    "ax.set_title('Probabilidad continua')"
   ]
  },
  {
   "cell_type": "code",
   "execution_count": 29,
   "metadata": {},
   "outputs": [
    {
     "data": {
      "text/plain": [
       "Text(0.5, 1.0, 'Probabilidad continua')"
      ]
     },
     "execution_count": 29,
     "metadata": {},
     "output_type": "execute_result"
    },
    {
     "data": {
      "image/png": "[encoded data removed]",
      "text/plain": [
       "<Figure size 432x288 with 1 Axes>"
      ]
     },
     "metadata": {
      "needs_background": "light"
     },
     "output_type": "display_data"
    }
   ],
   "source": [
    "# Ahora la probabilidad acumulada\n",
    "\n",
    "# Muestra aleatoria de 100 variables de distribución x\n",
    "N = 100 \n",
    "\n",
    "x = list(range(0,N+1,1))\n",
    "y = list([])\n",
    "\n",
    "for i in x:\n",
    "    y.append(binom.cdf(i,p=0.3,n=N))\n",
    "\n",
    "\n",
    "fig, ax = plt.subplots()\n",
    "ax.plot(x,y)\n",
    "ax.set_title('Probabilidad continua')\n",
    "# cumulative densitiy function"
   ]
  },
  {
   "cell_type": "code",
   "execution_count": 30,
   "metadata": {},
   "outputs": [],
   "source": [
    "# Acá se cambian los datos. Ya no vamos a evaluar una binomial, sino una normal.\n",
    "\n",
    "# Pero primero se debe cargar la distribución normal\n",
    "from scipy.stats import norm\n",
    "\n",
    "# Para luego Ahora evaluar los valores característicos de esta distribución\n",
    "\n",
    "mean, var, skew, kurt = norm.stats(moments='mvsk') #norm para una dist normal.\n",
    "\n",
    "# Los momentos son las derivadas de la fn de dist de probabilidad\n",
    "# 1er momento es la media\n",
    "# 2da derivada: la varianza más unos cálculos adicionales\n",
    "# 3ra derivada: asimetría\n",
    "# 4derivada: curtosis\n",
    "\n",
    "# skew es asimetría"
   ]
  },
  {
   "cell_type": "code",
   "execution_count": 31,
   "metadata": {},
   "outputs": [
    {
     "name": "stdout",
     "output_type": "stream",
     "text": [
      "0.0\n",
      "1.0\n"
     ]
    }
   ],
   "source": [
    "print(mean) # que siempre es cero para una normal\n",
    "print(var) # que siempre es 1 para una normal"
   ]
  },
  {
   "cell_type": "markdown",
   "metadata": {},
   "source": [
    "## Distribuciones de mayor aplicación - Discretas"
   ]
  },
  {
   "cell_type": "markdown",
   "metadata": {},
   "source": [
    "Bernoulli - modela un efecto binario: cero un fracaso, uno un exito.\n",
    "<br>Binomial - número de éxitos X asociados a N ensayos.\n",
    "<br>Geométrica - ensayos X antes de llegar al primer éxito de Bernoulli.\n",
    "<br>Binomial negativa - número de ensayos X para llegar al k-ésimo éxito.\n",
    "<br>Poisson - número de llegadas en N a una longitud de tiempo t."
   ]
  },
  {
   "cell_type": "code",
   "execution_count": 32,
   "metadata": {},
   "outputs": [],
   "source": [
    "import seaborn as sns\n",
    "import matplotlib.pyplot as plt\n",
    "%matplotlib inline"
   ]
  },
  {
   "cell_type": "markdown",
   "metadata": {},
   "source": [
    "### Bernoulli"
   ]
  },
  {
   "cell_type": "code",
   "execution_count": 44,
   "metadata": {},
   "outputs": [
    {
     "data": {
      "text/plain": [
       "100"
      ]
     },
     "execution_count": 44,
     "metadata": {},
     "output_type": "execute_result"
    }
   ],
   "source": [
    "from scipy.stats import bernoulli\n",
    "# parámetro poblacional de la distribución, que es la probabilidad de éxito\n",
    "# En Bernoulli el valor cero es No evento, el valor 1 es evento.\n",
    "p=0.3\n",
    "data=bernoulli.rvs(p,size=100)\n",
    "len(data)"
   ]
  },
  {
   "cell_type": "code",
   "execution_count": 45,
   "metadata": {},
   "outputs": [
    {
     "name": "stdout",
     "output_type": "stream",
     "text": [
      "0.3 0.21 0.8728715609439694 -1.2380952380952381\n"
     ]
    }
   ],
   "source": [
    "mean, var, skew, kurt = bernoulli.stats(p, moments = 'mvsk')\n",
    "print(mean, var, skew, kurt)\n",
    "# ojo que la var es p*(1-p)"
   ]
  },
  {
   "cell_type": "code",
   "execution_count": 46,
   "metadata": {},
   "outputs": [
    {
     "data": {
      "text/plain": [
       "<matplotlib.legend.Legend at 0x269a9447940>"
      ]
     },
     "execution_count": 46,
     "metadata": {},
     "output_type": "execute_result"
    },
    {
     "data": {
      "image/png": "[encoded data removed]",
      "text/plain": [
       "<Figure size 432x288 with 1 Axes>"
      ]
     },
     "metadata": {
      "needs_background": "light"
     },
     "output_type": "display_data"
    }
   ],
   "source": [
    "# Forma de la distribución\n",
    "ax = sns.distplot(data, bins=30,kde=False,color='blue') #Kde es líneas o puntos\n",
    "ax.set(xlabel='Distribución de Bernoulli',ylabel='Frecuencia')\n",
    "#Vamos a agregar la línea de la media\n",
    "ax.axvline(x=mean, linestyle='--', label = 'Media (o valor esperado)')\n",
    "ax.legend()\n",
    "# 70% de los datos cero. El 30% es el que es éxito."
   ]
  },
  {
   "cell_type": "markdown",
   "metadata": {},
   "source": [
    "### Binomial"
   ]
  },
  {
   "cell_type": "code",
   "execution_count": 60,
   "metadata": {},
   "outputs": [
    {
     "data": {
      "text/plain": [
       "100"
      ]
     },
     "execution_count": 60,
     "metadata": {},
     "output_type": "execute_result"
    }
   ],
   "source": [
    "from scipy.stats import binom\n",
    "# parámetro de éxito\n",
    "# Número de veces que queremos repetir la variable Bernoulli. En otras palabras:\n",
    "# La probabilidad de que el resultado se 1, en n cantidad de pruebas.\n",
    "p=0.3\n",
    "n=10\n",
    "data=binom.rvs(p=p,n=n, size=100)\n",
    "len(data)"
   ]
  },
  {
   "cell_type": "code",
   "execution_count": 61,
   "metadata": {},
   "outputs": [
    {
     "name": "stdout",
     "output_type": "stream",
     "text": [
      "3.0 2.0999999999999996 0.2760262237369417 -0.12380952380952373\n"
     ]
    }
   ],
   "source": [
    "# Ahora los parámetros de la distribución\n",
    "mean, var, skew, kurt = binom.stats(p=p,n=n, moments = 'mvsk')\n",
    "print(mean, var, skew, kurt)"
   ]
  },
  {
   "cell_type": "code",
   "execution_count": 62,
   "metadata": {},
   "outputs": [
    {
     "data": {
      "text/plain": [
       "<matplotlib.legend.Legend at 0x269a9af4550>"
      ]
     },
     "execution_count": 62,
     "metadata": {},
     "output_type": "execute_result"
    },
    {
     "data": {
      "image/png": "[encoded data removed]",
      "text/plain": [
       "<Figure size 432x288 with 1 Axes>"
      ]
     },
     "metadata": {
      "needs_background": "light"
     },
     "output_type": "display_data"
    }
   ],
   "source": [
    "# Forma de la distribución\n",
    "ax = sns.distplot(data, bins=30,kde=False,color='blue')\n",
    "ax.set(xlabel='Distribución Binomial',ylabel='Frecuencia')\n",
    "ax.axvline(x=mean, linestyle='--', label = 'Media (o valor esperado)')\n",
    "ax.legend()"
   ]
  },
  {
   "cell_type": "markdown",
   "metadata": {},
   "source": [
    "### Geométrica"
   ]
  },
  {
   "cell_type": "code",
   "execution_count": 63,
   "metadata": {},
   "outputs": [
    {
     "data": {
      "text/plain": [
       "100"
      ]
     },
     "execution_count": 63,
     "metadata": {},
     "output_type": "execute_result"
    }
   ],
   "source": [
    "from scipy.stats import nbinom\n",
    "# La geométrica es un caso particular de la binomial - (negativa)\n",
    "# Cuántos intentos debemos hacer para tener al menos un éxito\n",
    "\n",
    "p=0.3 # parámetro de éxito\n",
    "n=1\n",
    "data=nbinom.rvs(p=p,n=n, size=100)\n",
    "len(data)"
   ]
  },
  {
   "cell_type": "code",
   "execution_count": 64,
   "metadata": {},
   "outputs": [
    {
     "name": "stdout",
     "output_type": "stream",
     "text": [
      "2.3333333333333335 7.777777777777779 2.031888635868469 6.128571428571428\n"
     ]
    }
   ],
   "source": [
    "# Ahora los parámetros de la distribución\n",
    "mean, var, skew, kurt = nbinom.stats(p=p,n=n, moments = 'mvsk')\n",
    "print(mean, var, skew, kurt)"
   ]
  },
  {
   "cell_type": "code",
   "execution_count": 67,
   "metadata": {},
   "outputs": [
    {
     "data": {
      "text/plain": [
       "<matplotlib.legend.Legend at 0x269a9d03b50>"
      ]
     },
     "execution_count": 67,
     "metadata": {},
     "output_type": "execute_result"
    },
    {
     "data": {
      "image/png": "[encoded data removed]",
      "text/plain": [
       "<Figure size 432x288 with 1 Axes>"
      ]
     },
     "metadata": {
      "needs_background": "light"
     },
     "output_type": "display_data"
    }
   ],
   "source": [
    "# Forma de la distribución\n",
    "ax = sns.distplot(data, bins=30,kde=False,color='blue') #Kde es líneas o puntos\n",
    "ax.set(xlabel='Distribución Geométrica',ylabel='Frecuencia')\n",
    "ax.axvline(x=mean, linestyle='--', label = 'Media (o valor esperado)')\n",
    "ax.legend()\n",
    "\n",
    "# Hay mayor acumulación de probabilidad al inicio"
   ]
  },
  {
   "cell_type": "markdown",
   "metadata": {},
   "source": [
    "### Binomial"
   ]
  },
  {
   "cell_type": "markdown",
   "metadata": {},
   "source": [
    "Ahora la generalización de la binomial geométrica, que es la binomial per se."
   ]
  },
  {
   "cell_type": "code",
   "execution_count": 68,
   "metadata": {},
   "outputs": [
    {
     "data": {
      "text/plain": [
       "100"
      ]
     },
     "execution_count": 68,
     "metadata": {},
     "output_type": "execute_result"
    }
   ],
   "source": [
    "from scipy.stats import nbinom\n",
    "\n",
    "p=0.3\n",
    "n=10 # Esto es 10 éxitos en x número de intentos\n",
    "\n",
    "data = nbinom.rvs(p=p,n=n, size=100)\n",
    "\n",
    "len(data)"
   ]
  },
  {
   "cell_type": "code",
   "execution_count": 69,
   "metadata": {},
   "outputs": [
    {
     "name": "stdout",
     "output_type": "stream",
     "text": [
      "23.333333333333336 77.77777777777779 0.6425396041156863 0.6128571428571429\n"
     ]
    }
   ],
   "source": [
    "# Ahora los parámetros de la distribución\n",
    "mean, var, skew, kurt = nbinom.stats(p=p,n=n, moments = 'mvsk')\n",
    "print(mean, var, skew, kurt)"
   ]
  },
  {
   "cell_type": "code",
   "execution_count": 70,
   "metadata": {},
   "outputs": [
    {
     "data": {
      "text/plain": [
       "<matplotlib.legend.Legend at 0x269a99123a0>"
      ]
     },
     "execution_count": 70,
     "metadata": {},
     "output_type": "execute_result"
    },
    {
     "data": {
      "image/png": "[encoded data removed]",
      "text/plain": [
       "<Figure size 432x288 with 1 Axes>"
      ]
     },
     "metadata": {
      "needs_background": "light"
     },
     "output_type": "display_data"
    }
   ],
   "source": [
    "# Forma de la distribución\n",
    "ax = sns.distplot(data, bins=30,kde=False,color='blue') #Kde es líneas o puntos\n",
    "ax.set(xlabel='Distribución Binomial Negativa',ylabel='Frecuencia')\n",
    "ax.axvline(x=mean, linestyle='--', label = 'Media (o valor esperado)')\n",
    "ax.legend()"
   ]
  },
  {
   "cell_type": "markdown",
   "metadata": {},
   "source": [
    "### Poisson"
   ]
  },
  {
   "cell_type": "markdown",
   "metadata": {},
   "source": [
    "+ Solo tiene un parámetro que es lambda\n",
    "+ El parámetro poblacional se define como 3 ocurrencias por unidad de tiempo (espacio finito de observación)\n",
    "+ Probabilidad de K eventos en un intervalo de tiempo. Ejemplos:\n",
    "    + Número de goles en un partido de futbol\n",
    "    + Número de mensajes o llamadas que enviamos/recibimos por dia\n",
    "\n",
    "Poisson se usa para variables numéricas discretas pero no acotadas (enteros no negativos, sin límite superior)\n",
    "\n",
    "Tasa de ocurrencia = lambda / Espacio de tiempo de observación\n",
    "\n",
    "Ambas, Poisson y Binomial, se usan para modelar conteos de eventos. La diferencia es:\n",
    "- En Binomial el número de eventos no puede exceder el número de observaciones\n",
    "- En Poisson no hay límite para la cantidad de eventos "
   ]
  },
  {
   "cell_type": "code",
   "execution_count": 71,
   "metadata": {},
   "outputs": [
    {
     "data": {
      "text/plain": [
       "100"
      ]
     },
     "execution_count": 71,
     "metadata": {},
     "output_type": "execute_result"
    }
   ],
   "source": [
    "from scipy.stats import poisson\n",
    "\n",
    "lambda_p = 3\n",
    "\n",
    "p=0.3\n",
    "\n",
    "data = poisson.rvs(mu=lambda_p, size=100)\n",
    "# Acá la media es mu, que es la misma lambda\n",
    "\n",
    "len(data)\n",
    "# Esto es 100 valores distribuidos Poisson"
   ]
  },
  {
   "cell_type": "code",
   "execution_count": 72,
   "metadata": {},
   "outputs": [
    {
     "name": "stdout",
     "output_type": "stream",
     "text": [
      "3.0 3.0 0.5773502691896257 0.3333333333333333\n"
     ]
    }
   ],
   "source": [
    "# Ahora los parámetros de la distribución\n",
    "mean, var, skew, kurt = poisson.stats(mu=lambda_p, moments = 'mvsk')\n",
    "print(mean, var, skew, kurt)"
   ]
  },
  {
   "cell_type": "code",
   "execution_count": 73,
   "metadata": {},
   "outputs": [
    {
     "data": {
      "text/plain": [
       "<matplotlib.legend.Legend at 0x269a9b98730>"
      ]
     },
     "execution_count": 73,
     "metadata": {},
     "output_type": "execute_result"
    },
    {
     "data": {
      "image/png": "[encoded data removed]",
      "text/plain": [
       "<Figure size 432x288 with 1 Axes>"
      ]
     },
     "metadata": {
      "needs_background": "light"
     },
     "output_type": "display_data"
    }
   ],
   "source": [
    "# Forma de la distribución\n",
    "ax = sns.distplot(data, bins=30,kde=False,color='blue') #Kde es líneas o puntos\n",
    "ax.set(xlabel='Distribución Poisson',ylabel='Frecuencia')\n",
    "ax.axvline(x=mean, linestyle='--', label = 'Media (o valor esperado)')\n",
    "ax.legend()\n",
    "\n",
    "# Caso discreto y para un número no muy grande de eventos (100)"
   ]
  },
  {
   "cell_type": "markdown",
   "metadata": {},
   "source": [
    "## Distribuciones de mayor aplicación - Var. continuas"
   ]
  },
  {
   "cell_type": "markdown",
   "metadata": {},
   "source": [
    "**Exponencial**: es la inversa de la Poisson\n",
    "* En Poisson se cuenta número de eventos por unidad de tiempo\n",
    "* En Exponencial se cuenta el tiempo que toma llegar a uno de esos eventos    "
   ]
  },
  {
   "cell_type": "code",
   "execution_count": 74,
   "metadata": {},
   "outputs": [
    {
     "data": {
      "text/plain": [
       "100000000"
      ]
     },
     "execution_count": 74,
     "metadata": {},
     "output_type": "execute_result"
    }
   ],
   "source": [
    "from scipy.stats import expon\n",
    "\n",
    "# No requerimos parámetro alguno\n",
    "# Vamos a cambiar el random variable sample\n",
    "\n",
    "data = expon.rvs(size=100000000)\n",
    "# Se trabaja con un tamaño de muestra grande para ver la continuidad en las distribuciones\n",
    "\n",
    "len(data)"
   ]
  },
  {
   "cell_type": "code",
   "execution_count": 75,
   "metadata": {},
   "outputs": [
    {
     "name": "stdout",
     "output_type": "stream",
     "text": [
      "1.0 1.0 2.0 6.0\n"
     ]
    }
   ],
   "source": [
    "# Ahora los parámetros de la distribución\n",
    "mean, var, skew, kurt = expon.stats(moments = 'mvsk')\n",
    "print(mean, var, skew, kurt)"
   ]
  },
  {
   "cell_type": "code",
   "execution_count": 76,
   "metadata": {},
   "outputs": [
    {
     "data": {
      "text/plain": [
       "<matplotlib.legend.Legend at 0x269aaec5280>"
      ]
     },
     "execution_count": 76,
     "metadata": {},
     "output_type": "execute_result"
    },
    {
     "data": {
      "image/png": "[encoded data removed]",
      "text/plain": [
       "<Figure size 432x288 with 1 Axes>"
      ]
     },
     "metadata": {
      "needs_background": "light"
     },
     "output_type": "display_data"
    }
   ],
   "source": [
    "# Forma de la distribución\n",
    "ax = sns.distplot(data, bins=30,kde=False,color='blue') #Kde es líneas o puntos\n",
    "ax.set(xlabel='Distribución Exponencial',ylabel='Frecuencia')\n",
    "ax.axvline(x=mean, linestyle='--', label = 'Media (o valor esperado)')\n",
    "ax.legend()"
   ]
  },
  {
   "cell_type": "markdown",
   "metadata": {},
   "source": [
    "### Normal"
   ]
  },
  {
   "cell_type": "code",
   "execution_count": 77,
   "metadata": {},
   "outputs": [
    {
     "data": {
      "text/plain": [
       "50000"
      ]
     },
     "execution_count": 77,
     "metadata": {},
     "output_type": "execute_result"
    }
   ],
   "source": [
    "from scipy.stats import norm\n",
    "\n",
    "# No requerimos parámetro alguno\n",
    "# Vamos a cambiar el random variable sample\n",
    "\n",
    "data = norm.rvs(size=50000)\n",
    "#Se trabaja con un tamaño de muestra grande para ver la continuidad en las distribuciones\n",
    "\n",
    "len(data)"
   ]
  },
  {
   "cell_type": "code",
   "execution_count": 78,
   "metadata": {},
   "outputs": [
    {
     "name": "stdout",
     "output_type": "stream",
     "text": [
      "0.0 1.0 0.0 0.0\n"
     ]
    }
   ],
   "source": [
    "# Ahora los parámetros de la distribución\n",
    "mean, var, skew, kurt = norm.stats(moments = 'mvsk')\n",
    "print(mean, var, skew, kurt)"
   ]
  },
  {
   "cell_type": "code",
   "execution_count": 79,
   "metadata": {},
   "outputs": [
    {
     "data": {
      "text/plain": [
       "<matplotlib.legend.Legend at 0x269a9c07820>"
      ]
     },
     "execution_count": 79,
     "metadata": {},
     "output_type": "execute_result"
    },
    {
     "data": {
      "image/png": "[encoded data removed]",
      "text/plain": [
       "<Figure size 432x288 with 1 Axes>"
      ]
     },
     "metadata": {
      "needs_background": "light"
     },
     "output_type": "display_data"
    }
   ],
   "source": [
    "# Forma de la distribución\n",
    "ax = sns.distplot(data, bins=50,kde=False,color='blue') #Kde es líneas o puntos\n",
    "ax.set(xlabel='Distribución Normal',ylabel='Frecuencia')\n",
    "ax.axvline(x=mean, linestyle='--', label = 'Media (o valor esperado)')\n",
    "ax.legend()"
   ]
  },
  {
   "cell_type": "markdown",
   "metadata": {},
   "source": [
    "## Estandarización, covarianza y correlación"
   ]
  },
  {
   "cell_type": "markdown",
   "metadata": {},
   "source": [
    "**Estandarizar** una variable es restar su media y dividir sobre su desviación (esto es centrar y reducir).\n",
    "\n",
    "El resultado de una variable **estandarizada** será una variable adimensional con valor esperado 0, y varianza y desv est = 1.\n",
    "\n",
    "Cov y corr miden el valor lineal de la relación entre y y x.\n",
    "\n",
    "La Covarianza solo habla de la dirección de esta relación.\n",
    "\n",
    "La Correlación permite entender la dirección y la fuerza de esa relación."
   ]
  },
  {
   "cell_type": "code",
   "execution_count": 80,
   "metadata": {},
   "outputs": [],
   "source": [
    "import numpy as np\n",
    "import pandas as pd\n",
    "import matplotlib.pyplot as plt\n",
    "import seaborn as sns\n",
    "\n",
    "%matplotlib inline"
   ]
  },
  {
   "cell_type": "code",
   "execution_count": 81,
   "metadata": {},
   "outputs": [
    {
     "data": {
      "text/plain": [
       "Index(['SepalLengthCm', 'SepalWidthCm', 'PetalLengthCm', 'PetalWidthCm',\n",
       "       'Species'],\n",
       "      dtype='object')"
      ]
     },
     "execution_count": 81,
     "metadata": {},
     "output_type": "execute_result"
    }
   ],
   "source": [
    "df = pd.read_csv('DS_Bitácora_04_Iris.csv', index_col = 0)\n",
    "df.columns"
   ]
  },
  {
   "cell_type": "code",
   "execution_count": 82,
   "metadata": {},
   "outputs": [
    {
     "data": {
      "text/plain": [
       "Iris-versicolor    50\n",
       "Iris-setosa        50\n",
       "Iris-virginica     50\n",
       "Name: Species, dtype: int64"
      ]
     },
     "execution_count": 82,
     "metadata": {},
     "output_type": "execute_result"
    }
   ],
   "source": [
    "df.Species.value_counts()"
   ]
  },
  {
   "cell_type": "code",
   "execution_count": 84,
   "metadata": {},
   "outputs": [
    {
     "data": {
      "text/plain": [
       "Id\n",
       "1      1.4\n",
       "2      1.4\n",
       "3      1.3\n",
       "4      1.5\n",
       "5      1.4\n",
       "      ... \n",
       "146    5.2\n",
       "147    5.0\n",
       "148    5.2\n",
       "149    5.4\n",
       "150    5.1\n",
       "Name: PetalLengthCm, Length: 150, dtype: float64"
      ]
     },
     "execution_count": 84,
     "metadata": {},
     "output_type": "execute_result"
    }
   ],
   "source": [
    "# Vamos a estandarizar una variable\n",
    "\n",
    "y = df['PetalLengthCm']\n",
    "y\n",
    "# Y es un valor continuo"
   ]
  },
  {
   "cell_type": "code",
   "execution_count": 85,
   "metadata": {},
   "outputs": [
    {
     "data": {
      "text/plain": [
       "<matplotlib.legend.Legend at 0x269a6d95490>"
      ]
     },
     "execution_count": 85,
     "metadata": {},
     "output_type": "execute_result"
    },
    {
     "data": {
      "image/png": "[encoded data removed]",
      "text/plain": [
       "<Figure size 432x288 with 1 Axes>"
      ]
     },
     "metadata": {
      "needs_background": "light"
     },
     "output_type": "display_data"
    }
   ],
   "source": [
    "fig, ax = plt.subplots()\n",
    "ax.set_title('Variable original')\n",
    "ax.hist(y, bins=30)\n",
    "ax.axvline(x=np.mean(y), c='k',label='Media',linestyle='--')\n",
    "ax.axvline(x=np.mean(y)+np.std(y), c='r',label='Desv std',linestyle='--')\n",
    "ax.legend()"
   ]
  },
  {
   "cell_type": "markdown",
   "metadata": {},
   "source": [
    "El gráfico anterior presenta una distribución bimodal. Esto es 2 picos que s eidentifican fácilmente.\n",
    "Esto puede indicar que la variable está categorizado dos poblaciones diferentes. En este caso sabemos que son tres."
   ]
  },
  {
   "cell_type": "markdown",
   "metadata": {},
   "source": [
    "Ahora vamos a estandarizar esta variable.\n",
    "Paso 1: centrar la variable. Esto es restar la media a cada valor de y."
   ]
  },
  {
   "cell_type": "code",
   "execution_count": 86,
   "metadata": {},
   "outputs": [
    {
     "data": {
      "text/plain": [
       "<matplotlib.legend.Legend at 0x269a6e51dc0>"
      ]
     },
     "execution_count": 86,
     "metadata": {},
     "output_type": "execute_result"
    },
    {
     "data": {
      "image/png": "[encoded data removed]",
      "text/plain": [
       "<Figure size 432x288 with 1 Axes>"
      ]
     },
     "metadata": {
      "needs_background": "light"
     },
     "output_type": "display_data"
    }
   ],
   "source": [
    "fig, ax = plt.subplots()\n",
    "ax.set_title('Variable original')\n",
    "ax.hist(y - np.mean(y), bins=30)\n",
    "ax.axvline(x=np.mean(y - np.mean(y)), c='k',label='Media',linestyle='--')\n",
    "ax.axvline(x=np.mean(y)+np.std(y), c='r',label='Desv std',linestyle='--')\n",
    "ax.legend()"
   ]
  },
  {
   "cell_type": "markdown",
   "metadata": {},
   "source": [
    "Notar en el gráfico anterior que ahora la distribución queda centrada sobre el eje cero.\n",
    "\n",
    "Paso 2: la reducción de la variable."
   ]
  },
  {
   "cell_type": "code",
   "execution_count": 87,
   "metadata": {},
   "outputs": [
    {
     "data": {
      "text/plain": [
       "<matplotlib.legend.Legend at 0x269a6f4c850>"
      ]
     },
     "execution_count": 87,
     "metadata": {},
     "output_type": "execute_result"
    },
    {
     "data": {
      "image/png": "[encoded data removed]",
      "text/plain": [
       "<Figure size 432x288 with 1 Axes>"
      ]
     },
     "metadata": {
      "needs_background": "light"
     },
     "output_type": "display_data"
    }
   ],
   "source": [
    "fig, ax = plt.subplots()\n",
    "ax.set_title('Variable estandarizada')\n",
    "ax.hist((y - np.mean(y))/np.std(y), bins=30)\n",
    "ax.axvline(x = np.mean((np.mean(y - np.mean(y))/np.std(y))), c='k',label='Media',linestyle='--')\n",
    "ax.axvline(x = np.mean((np.mean(y - np.mean(y))/np.std(y))) + np.std((y - np.mean(y))/np.mean(y)), c='r',label='Desv std',linestyle='--')\n",
    "ax.legend()\n",
    "\n",
    "# Medida adimensional con media cero"
   ]
  },
  {
   "cell_type": "code",
   "execution_count": 97,
   "metadata": {},
   "outputs": [
    {
     "data": {
      "image/png": "[encoded data removed]",
      "text/plain": [
       "<Figure size 432x288 with 1 Axes>"
      ]
     },
     "metadata": {
      "needs_background": "light"
     },
     "output_type": "display_data"
    }
   ],
   "source": [
    "fig, ax = plt.subplots()\n",
    "ax.scatter(df['PetalLengthCm'], df['SepalLengthCm'], alpha = 0.7) # El alpha permite ver dónde hay más concentración\n",
    "ax.set_xlabel('PetalLengthCm')\n",
    "ax.set_ylabel('SepalLengthCm')\n",
    "ax.autoscale() # Ajuste de escala automático"
   ]
  },
  {
   "cell_type": "markdown",
   "metadata": {},
   "source": [
    "Análisis gráfico: se observa que Sepal Lenght y Petal Length son dos variables con correlación directa positiva fuerte.\n",
    "\n",
    "### Matriz de Covarianza"
   ]
  },
  {
   "cell_type": "code",
   "execution_count": 89,
   "metadata": {},
   "outputs": [
    {
     "data": {
      "text/plain": [
       "array([[3.11317942, 1.27368233],\n",
       "       [1.27368233, 0.68569351]])"
      ]
     },
     "execution_count": 89,
     "metadata": {},
     "output_type": "execute_result"
    }
   ],
   "source": [
    "np.cov(df['PetalLengthCm'], df['SepalLengthCm'])\n",
    "# 3 es la varianza"
   ]
  },
  {
   "cell_type": "markdown",
   "metadata": {},
   "source": [
    "Interpretación: el 1,27 de la cov indica que hay relación positiva de magnitud 1,2. Pero no sabemos la fuerza de esa relación, porque la COV puede ir hasta infinito."
   ]
  },
  {
   "cell_type": "markdown",
   "metadata": {},
   "source": [
    "### Correlación"
   ]
  },
  {
   "cell_type": "code",
   "execution_count": 90,
   "metadata": {},
   "outputs": [
    {
     "data": {
      "text/html": [
       "<div>\n",
       "<style scoped>\n",
       "    .dataframe tbody tr th:only-of-type {\n",
       "        vertical-align: middle;\n",
       "    }\n",
       "\n",
       "    .dataframe tbody tr th {\n",
       "        vertical-align: top;\n",
       "    }\n",
       "\n",
       "    .dataframe thead th {\n",
       "        text-align: right;\n",
       "    }\n",
       "</style>\n",
       "<table border=\"1\" class=\"dataframe\">\n",
       "  <thead>\n",
       "    <tr style=\"text-align: right;\">\n",
       "      <th></th>\n",
       "      <th>SepalLengthCm</th>\n",
       "      <th>SepalWidthCm</th>\n",
       "      <th>PetalLengthCm</th>\n",
       "      <th>PetalWidthCm</th>\n",
       "    </tr>\n",
       "  </thead>\n",
       "  <tbody>\n",
       "    <tr>\n",
       "      <th>SepalLengthCm</th>\n",
       "      <td>1.000000</td>\n",
       "      <td>-0.159457</td>\n",
       "      <td>0.881386</td>\n",
       "      <td>0.834421</td>\n",
       "    </tr>\n",
       "    <tr>\n",
       "      <th>SepalWidthCm</th>\n",
       "      <td>-0.159457</td>\n",
       "      <td>1.000000</td>\n",
       "      <td>-0.303421</td>\n",
       "      <td>-0.277511</td>\n",
       "    </tr>\n",
       "    <tr>\n",
       "      <th>PetalLengthCm</th>\n",
       "      <td>0.881386</td>\n",
       "      <td>-0.303421</td>\n",
       "      <td>1.000000</td>\n",
       "      <td>0.936003</td>\n",
       "    </tr>\n",
       "    <tr>\n",
       "      <th>PetalWidthCm</th>\n",
       "      <td>0.834421</td>\n",
       "      <td>-0.277511</td>\n",
       "      <td>0.936003</td>\n",
       "      <td>1.000000</td>\n",
       "    </tr>\n",
       "  </tbody>\n",
       "</table>\n",
       "</div>"
      ],
      "text/plain": [
       "               SepalLengthCm  SepalWidthCm  PetalLengthCm  PetalWidthCm\n",
       "SepalLengthCm       1.000000     -0.159457       0.881386      0.834421\n",
       "SepalWidthCm       -0.159457      1.000000      -0.303421     -0.277511\n",
       "PetalLengthCm       0.881386     -0.303421       1.000000      0.936003\n",
       "PetalWidthCm        0.834421     -0.277511       0.936003      1.000000"
      ]
     },
     "execution_count": 90,
     "metadata": {},
     "output_type": "execute_result"
    }
   ],
   "source": [
    "# Ahora las correlaciones\n",
    "corr = df.corr(method = 'spearman')\n",
    "corr"
   ]
  },
  {
   "cell_type": "markdown",
   "metadata": {},
   "source": [
    "Notar que entre Sepal Length y Petal Lenght, en efecto existe una correlación positiva cercana a 1, en este caso es 0,88."
   ]
  },
  {
   "cell_type": "markdown",
   "metadata": {},
   "source": [
    "A manera de ejemplo, considerar la Correlación Kendall, que no mide las correlaciones linealmente. Por eso la magnitud cambia."
   ]
  },
  {
   "cell_type": "code",
   "execution_count": 91,
   "metadata": {},
   "outputs": [
    {
     "data": {
      "text/html": [
       "<div>\n",
       "<style scoped>\n",
       "    .dataframe tbody tr th:only-of-type {\n",
       "        vertical-align: middle;\n",
       "    }\n",
       "\n",
       "    .dataframe tbody tr th {\n",
       "        vertical-align: top;\n",
       "    }\n",
       "\n",
       "    .dataframe thead th {\n",
       "        text-align: right;\n",
       "    }\n",
       "</style>\n",
       "<table border=\"1\" class=\"dataframe\">\n",
       "  <thead>\n",
       "    <tr style=\"text-align: right;\">\n",
       "      <th></th>\n",
       "      <th>SepalLengthCm</th>\n",
       "      <th>SepalWidthCm</th>\n",
       "      <th>PetalLengthCm</th>\n",
       "      <th>PetalWidthCm</th>\n",
       "    </tr>\n",
       "  </thead>\n",
       "  <tbody>\n",
       "    <tr>\n",
       "      <th>SepalLengthCm</th>\n",
       "      <td>1.000000</td>\n",
       "      <td>-0.072112</td>\n",
       "      <td>0.717624</td>\n",
       "      <td>0.654960</td>\n",
       "    </tr>\n",
       "    <tr>\n",
       "      <th>SepalWidthCm</th>\n",
       "      <td>-0.072112</td>\n",
       "      <td>1.000000</td>\n",
       "      <td>-0.182391</td>\n",
       "      <td>-0.146988</td>\n",
       "    </tr>\n",
       "    <tr>\n",
       "      <th>PetalLengthCm</th>\n",
       "      <td>0.717624</td>\n",
       "      <td>-0.182391</td>\n",
       "      <td>1.000000</td>\n",
       "      <td>0.803014</td>\n",
       "    </tr>\n",
       "    <tr>\n",
       "      <th>PetalWidthCm</th>\n",
       "      <td>0.654960</td>\n",
       "      <td>-0.146988</td>\n",
       "      <td>0.803014</td>\n",
       "      <td>1.000000</td>\n",
       "    </tr>\n",
       "  </tbody>\n",
       "</table>\n",
       "</div>"
      ],
      "text/plain": [
       "               SepalLengthCm  SepalWidthCm  PetalLengthCm  PetalWidthCm\n",
       "SepalLengthCm       1.000000     -0.072112       0.717624      0.654960\n",
       "SepalWidthCm       -0.072112      1.000000      -0.182391     -0.146988\n",
       "PetalLengthCm       0.717624     -0.182391       1.000000      0.803014\n",
       "PetalWidthCm        0.654960     -0.146988       0.803014      1.000000"
      ]
     },
     "execution_count": 91,
     "metadata": {},
     "output_type": "execute_result"
    }
   ],
   "source": [
    "df.corr(method = 'kendall')"
   ]
  }
 ],
 "metadata": {
  "kernelspec": {
   "display_name": "Python 3",
   "language": "python",
   "name": "python3"
  },
  "language_info": {
   "codemirror_mode": {
    "name": "ipython",
    "version": 3
   },
   "file_extension": ".py",
   "mimetype": "text/x-python",
   "name": "python",
   "nbconvert_exporter": "python",
   "pygments_lexer": "ipython3",
   "version": "3.8.5"
  }
 },
 "nbformat": 4,
 "nbformat_minor": 4
}
