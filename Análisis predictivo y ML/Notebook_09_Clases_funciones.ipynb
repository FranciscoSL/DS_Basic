{
 "cells": [
  {
   "cell_type": "markdown",
   "metadata": {
    "colab_type": "text",
    "id": "GPycKx1jICLG"
   },
   "source": [
    "# Funciones y Namespaces\n",
    "\n",
    "\n",
    "## Funciones\n",
    "\n",
    "Una función es un bloque de código que sólo corre cuando es llamado."
   ]
  },
  {
   "cell_type": "code",
   "execution_count": 2,
   "metadata": {},
   "outputs": [],
   "source": [
    "def par_o_impar(numero):\n",
    "    if numero %2 == 0:\n",
    "        print('Es par')\n",
    "    else:\n",
    "        print('Es impar')"
   ]
  },
  {
   "cell_type": "markdown",
   "metadata": {},
   "source": [
    "Notar que si ejecutamos la celda llamando a la función, no ocurre nada relevante."
   ]
  },
  {
   "cell_type": "code",
   "execution_count": 3,
   "metadata": {},
   "outputs": [
    {
     "data": {
      "text/plain": [
       "<function __main__.par_o_impar(numero)>"
      ]
     },
     "execution_count": 3,
     "metadata": {},
     "output_type": "execute_result"
    }
   ],
   "source": [
    "par_o_impar"
   ]
  },
  {
   "cell_type": "markdown",
   "metadata": {},
   "source": [
    "La función en ejecución:"
   ]
  },
  {
   "cell_type": "code",
   "execution_count": 18,
   "metadata": {},
   "outputs": [
    {
     "name": "stdout",
     "output_type": "stream",
     "text": [
      "Es impar\n",
      "Es impar\n"
     ]
    }
   ],
   "source": [
    "# Estas líneas de código son equivalentes\n",
    "par_o_impar(numero = 9)\n",
    "par_o_impar(9)"
   ]
  },
  {
   "cell_type": "markdown",
   "metadata": {},
   "source": [
    "La función par_o_impar tiene un solo argumento; pero las funciones pueden tener muchos argumentos. Ejemplo:"
   ]
  },
  {
   "cell_type": "code",
   "execution_count": 6,
   "metadata": {},
   "outputs": [],
   "source": [
    "def division(dividendo, divisor):\n",
    "    print(dividendo/divisor)"
   ]
  },
  {
   "cell_type": "markdown",
   "metadata": {},
   "source": [
    "Se puede llamar a la función ingresando los argumentos en orden, o definiendo el valor de cada argumento:"
   ]
  },
  {
   "cell_type": "code",
   "execution_count": 7,
   "metadata": {},
   "outputs": [
    {
     "name": "stdout",
     "output_type": "stream",
     "text": [
      "2.0\n",
      "0.5\n"
     ]
    }
   ],
   "source": [
    "division(4,2)\n",
    "division(divisor = 4, dividendo = 2)  # de esta forma el orden no es tan importante"
   ]
  },
  {
   "cell_type": "markdown",
   "metadata": {},
   "source": [
    "También es posible tener argumentos *por default*. Esto es, si no se definen, toman un valor predefinido."
   ]
  },
  {
   "cell_type": "code",
   "execution_count": 8,
   "metadata": {},
   "outputs": [],
   "source": [
    "def division(dividendo, divisor = 2):\n",
    "    print(dividendo/divisor)"
   ]
  },
  {
   "cell_type": "code",
   "execution_count": 9,
   "metadata": {},
   "outputs": [
    {
     "name": "stdout",
     "output_type": "stream",
     "text": [
      "4.5\n",
      "3.0\n",
      "3.0\n",
      "3.0\n"
     ]
    }
   ],
   "source": [
    "division(9)\n",
    "division(9, 3) \n",
    "division(dividendo = 9, divisor = 3) \n",
    "division(9, divisor = 3) "
   ]
  },
  {
   "cell_type": "markdown",
   "metadata": {},
   "source": [
    "### `return`\n",
    "\n",
    "Las funciones pueden devolver resultados. Ejemplo:"
   ]
  },
  {
   "cell_type": "code",
   "execution_count": 24,
   "metadata": {},
   "outputs": [],
   "source": [
    "def division(dividendo, divisor = 2):\n",
    "    variable_auxiliar = dividendo/divisor\n",
    "    return variable_auxiliar"
   ]
  },
  {
   "cell_type": "code",
   "execution_count": 25,
   "metadata": {},
   "outputs": [],
   "source": [
    "resultado_division = division(9,3)"
   ]
  },
  {
   "cell_type": "code",
   "execution_count": 26,
   "metadata": {},
   "outputs": [
    {
     "name": "stdout",
     "output_type": "stream",
     "text": [
      "3.0\n"
     ]
    }
   ],
   "source": [
    "print(resultado_division)"
   ]
  },
  {
   "cell_type": "markdown",
   "metadata": {},
   "source": [
    "También es posible hacer que devuelvan más de un resultado. Ejemplo:"
   ]
  },
  {
   "cell_type": "code",
   "execution_count": 13,
   "metadata": {},
   "outputs": [],
   "source": [
    "def division_y_producto(numero_1,numero_2):\n",
    "    div = numero_1/numero_2\n",
    "    prod = numero_1*numero_2\n",
    "    return div, prod\n",
    "\n",
    "### Son equivalentes\n",
    "# def division_y_producto(numero_1,numero_2):\n",
    "#     return numero_1/numero_2, numero_1*numero_2"
   ]
  },
  {
   "cell_type": "code",
   "execution_count": 14,
   "metadata": {},
   "outputs": [
    {
     "name": "stdout",
     "output_type": "stream",
     "text": [
      "(2.0, 50)\n"
     ]
    }
   ],
   "source": [
    "resultados = division_y_producto(10,5)\n",
    "print(resultados)"
   ]
  },
  {
   "cell_type": "markdown",
   "metadata": {},
   "source": [
    "Notar la diferencia"
   ]
  },
  {
   "cell_type": "code",
   "execution_count": 15,
   "metadata": {},
   "outputs": [
    {
     "name": "stdout",
     "output_type": "stream",
     "text": [
      "2.0 50\n"
     ]
    }
   ],
   "source": [
    "resultado_1, resultado_2 = division_y_producto(10,5)\n",
    "print(resultado_1, resultado_2)"
   ]
  },
  {
   "cell_type": "markdown",
   "metadata": {},
   "source": [
    "### Namespaces and Scope\n",
    "\n",
    "Encontrar la diferencia entre las siguientes celdas:"
   ]
  },
  {
   "cell_type": "code",
   "execution_count": 16,
   "metadata": {},
   "outputs": [
    {
     "name": "stdout",
     "output_type": "stream",
     "text": [
      "25.0\n"
     ]
    },
    {
     "ename": "NameError",
     "evalue": "name 'divisor' is not defined",
     "output_type": "error",
     "traceback": [
      "\u001b[1;31m---------------------------------------------------------------------------\u001b[0m",
      "\u001b[1;31mNameError\u001b[0m                                 Traceback (most recent call last)",
      "\u001b[1;32m<ipython-input-16-28655831cd39>\u001b[0m in \u001b[0;36m<module>\u001b[1;34m\u001b[0m\n\u001b[0;32m      3\u001b[0m     \u001b[1;32mreturn\u001b[0m \u001b[0mvariable_auxiliar\u001b[0m\u001b[1;33m\u001b[0m\u001b[1;33m\u001b[0m\u001b[0m\n\u001b[0;32m      4\u001b[0m \u001b[0mprint\u001b[0m\u001b[1;33m(\u001b[0m\u001b[0mdivision\u001b[0m\u001b[1;33m(\u001b[0m\u001b[1;36m50\u001b[0m\u001b[1;33m)\u001b[0m\u001b[1;33m)\u001b[0m\u001b[1;33m\u001b[0m\u001b[1;33m\u001b[0m\u001b[0m\n\u001b[1;32m----> 5\u001b[1;33m \u001b[0mprint\u001b[0m\u001b[1;33m(\u001b[0m\u001b[0mdivisor\u001b[0m\u001b[1;33m)\u001b[0m\u001b[1;33m\u001b[0m\u001b[1;33m\u001b[0m\u001b[0m\n\u001b[0m",
      "\u001b[1;31mNameError\u001b[0m: name 'divisor' is not defined"
     ]
    }
   ],
   "source": [
    "def division(dividendo, divisor = 2):\n",
    "    variable_auxiliar = dividendo/divisor\n",
    "    return variable_auxiliar\n",
    "print(division(50))\n",
    "print(divisor)"
   ]
  },
  {
   "cell_type": "code",
   "execution_count": 17,
   "metadata": {},
   "outputs": [
    {
     "name": "stdout",
     "output_type": "stream",
     "text": [
      "10.0\n",
      "5\n"
     ]
    }
   ],
   "source": [
    "divisor = 5\n",
    "def division(dividendo):\n",
    "    variable_auxiliar = dividendo/divisor\n",
    "    return variable_auxiliar\n",
    "print(division(50))\n",
    "print(divisor)"
   ]
  },
  {
   "cell_type": "code",
   "execution_count": 17,
   "metadata": {},
   "outputs": [
    {
     "name": "stdout",
     "output_type": "stream",
     "text": [
      "25.0\n",
      "5\n"
     ]
    }
   ],
   "source": [
    "divisor = 5\n",
    "def division(dividendo, divisor = 2):\n",
    "    variable_auxiliar = dividendo/divisor\n",
    "    return variable_auxiliar\n",
    "print(division(50))\n",
    "print(divisor)"
   ]
  },
  {
   "cell_type": "markdown",
   "metadata": {},
   "source": [
    "**Investigar:** ¿qué es una variable global?¿Y una variable local?¿Qué es un Namespace?\n",
    "\n",
    "Una variable local se declara en su ámbito de uso (en el programa principal y dentro de una función) y una global fuera de su ámbito para que se pueda utilizar en cualquier función que la declare como global.\n",
    "\n",
    "### Funciones Lambda (Anónimas)\n",
    "\n",
    "Una función `lambda` es una forma fácil de crear una función en una sola línea. También se las conoce como funciones anónimas, ya que no suelen tener nombre."
   ]
  },
  {
   "cell_type": "code",
   "execution_count": null,
   "metadata": {},
   "outputs": [],
   "source": [
    "lambda_division = lambda x,y: x/y\n",
    "lambda_division(80,10)"
   ]
  },
  {
   "cell_type": "markdown",
   "metadata": {},
   "source": [
    "Algunas características:\n",
    "1. Pueden tener cualquier cantidad de argumentos, pero solo una expresión.\n",
    "1. No se les suele poner nombre. De hecho es raro utilizarlas de esa forma.\n",
    "1. No necesitan un `return`\n",
    "\n",
    "En general se usan para crear funciones rápido. Es muy común verlas combinadas con funciones como `map()`, `filter()`, `apply()`, `applymap()`, etc.\n",
    "\n",
    "Nota: hay diferencias entre una función creada con `def` y una función lambda.\n",
    "\n",
    "### Documentar funciones\n",
    "\n",
    "Documentar las funciones permite que al volver tiempo después a revisar un código, o cuándo se revisa por primera vez, se pueda entender qué hace la función, sin tener que leer y entenderla completamente.\n",
    "\n",
    "Hay diversas formas de documentar una función, pero en general se debería incluir:\n",
    "+ Qué hace la función\n",
    "+ Cuáles son sus argumentos\n",
    "+ Cuáles son sus returns\n",
    "\n",
    "En ocasiones es posible incluir algún ejemplo mostrando cómo se usa la función. El nivel de detalle en la documentación puede depender de la complejidad de la función. La recomendación es siempre documentar, aunque sea de forma breve.\n",
    "\n",
    "Ejemplo:"
   ]
  },
  {
   "cell_type": "code",
   "execution_count": 27,
   "metadata": {},
   "outputs": [],
   "source": [
    "def division_y_producto(numero_1,numero_2):\n",
    "    '''\n",
    "    Dados dos números, devuelve su división\n",
    "    y su producto.\n",
    "    \n",
    "    Arguments:\n",
    "    numero_1 -- dividendo, primero multiplicando\n",
    "    numero_2 -- divisor, segundo multiplicando\n",
    "    \n",
    "    Returns:\n",
    "    div -- la división entre los dos numeros\n",
    "    prod -- el producto entre los dos numeros\n",
    "    '''\n",
    "    \n",
    "    div = numero_1/numero_2\n",
    "    prod = numero_1*numero_2\n",
    "    return div, prod"
   ]
  },
  {
   "cell_type": "markdown",
   "metadata": {},
   "source": [
    "Notar que ahora `help()` de la función, devuelve la documentación previamente definida."
   ]
  },
  {
   "cell_type": "code",
   "execution_count": 28,
   "metadata": {},
   "outputs": [
    {
     "name": "stdout",
     "output_type": "stream",
     "text": [
      "Help on function division_y_producto in module __main__:\n",
      "\n",
      "division_y_producto(numero_1, numero_2)\n",
      "    Dados dos números, devuelve su división\n",
      "    y su producto.\n",
      "    \n",
      "    Arguments:\n",
      "    numero_1 -- dividendo, primero multiplicando\n",
      "    numero_2 -- divisor, segundo multiplicando\n",
      "    \n",
      "    Returns:\n",
      "    div -- la división entre los dos numeros\n",
      "    prod -- el producto entre los dos numeros\n",
      "\n"
     ]
    }
   ],
   "source": [
    "help(division_y_producto)"
   ]
  },
  {
   "cell_type": "markdown",
   "metadata": {},
   "source": [
    "Como se hace con las funciones de las librerías, la documentación también se puede ver usando `shift`+`tab`."
   ]
  },
  {
   "cell_type": "markdown",
   "metadata": {},
   "source": [
    "## Clases y objtos en Python\n",
    "\n",
    "### 1.1 ¿Qué son los objetos?\n",
    "Python es un lenguaje de programacion orientado a objetos. Esto quiere decir que posee un tipo de variable particular llamada objeto. Un objeto es un paquete de variables y funciones que conviene tener agrupados por consistencia y comodidad.\n",
    "\n",
    "### 1.2 ¿Qué son las clases?\n",
    "Los objetos tienen una estructura, están compuestos por un conjunto determinado de variables y funciones, a los que llamamos **atributos**. \n",
    "\n",
    "A las clases no se les define en el código cada vez que definimos un objeto. En cambio, los objetos suelen crearse a partir de unas *plantillas* a las que llamamos **clases**.\n",
    "\n",
    "Las **clases** le dan forma a los objetos, definen las variable y funciones que componen a estos objetos.\n",
    "\n",
    "\n",
    "\n",
    "**Definiendo una clase**\n",
    "\n",
    "Se va a definir una clase llamada `Persona`. Esta clase será la plantilla a través de la cual se podrá generar objetos, que serán llamados **instancias** de esta clase. \n",
    "\n",
    "Para efectos del ejemplo, consideramos como atributos que pensamos indispensables para definir una persona: nombre y edad."
   ]
  },
  {
   "cell_type": "code",
   "execution_count": 30,
   "metadata": {
    "colab": {},
    "colab_type": "code",
    "id": "3f8zS8UVDf7h"
   },
   "outputs": [],
   "source": [
    "class Persona:\n",
    "    \"\"\"\n",
    "    Esta es una clase donde se agregan todos los datos\n",
    "    respecto a una persona\n",
    "    \"\"\"\n",
    "    def __init__(self, nombre, edad):\n",
    "        # Todo lo que definamos en __init__ se corre al crear una instancia de la clase\n",
    "        self.nombre = nombre\n",
    "        self.edad = edad"
   ]
  },
  {
   "cell_type": "markdown",
   "metadata": {
    "colab_type": "text",
    "id": "6BvaWE4ODf7m"
   },
   "source": [
    "Hasta ahora no se ha creado el objeto, sólo se definió la forma que tendrán los objetos de la clase `Persona`. \n",
    "\n",
    "Ahora, usando esta plantilla, sí crearemos una **instancia** de la clase `Persona`, a la que llamaremos p1."
   ]
  },
  {
   "cell_type": "code",
   "execution_count": 31,
   "metadata": {
    "colab": {},
    "colab_type": "code",
    "id": "61NtOauTDf7n"
   },
   "outputs": [
    {
     "name": "stdout",
     "output_type": "stream",
     "text": [
      "Juan\n",
      "26\n"
     ]
    }
   ],
   "source": [
    "p1 = Persona(\"Juan\", 26)\n",
    "\n",
    "print(p1.nombre)\n",
    "print(p1.edad)"
   ]
  },
  {
   "cell_type": "markdown",
   "metadata": {
    "colab_type": "text",
    "id": "iiuysS0ODf7s"
   },
   "source": [
    "Al inspeccionar el tipo de variable, python nos avisa que p1 es un objeto perteneciente a la clase Persona:"
   ]
  },
  {
   "cell_type": "code",
   "execution_count": 32,
   "metadata": {
    "colab": {},
    "colab_type": "code",
    "id": "emWuClVPDf7s"
   },
   "outputs": [
    {
     "data": {
      "text/plain": [
       "__main__.Persona"
      ]
     },
     "execution_count": 32,
     "metadata": {},
     "output_type": "execute_result"
    }
   ],
   "source": [
    "type(p1)"
   ]
  },
  {
   "cell_type": "markdown",
   "metadata": {
    "colab_type": "text",
    "id": "yXokYBVsDf73"
   },
   "source": [
    "Los atributos de una instancia de la clase pueden modificarse como cualquier variable:"
   ]
  },
  {
   "cell_type": "code",
   "execution_count": 33,
   "metadata": {
    "colab": {},
    "colab_type": "code",
    "id": "wYTbNFDhDf75"
   },
   "outputs": [
    {
     "data": {
      "text/plain": [
       "30"
      ]
     },
     "execution_count": 33,
     "metadata": {},
     "output_type": "execute_result"
    }
   ],
   "source": [
    "p1.edad = 30\n",
    "p1.edad"
   ]
  },
  {
   "cell_type": "markdown",
   "metadata": {
    "colab_type": "text",
    "id": "UXpEJ5wFDf7-"
   },
   "source": [
    "**Ejercicio:** crea una clase llamada `Rectangulo`, cuyos atributos sean las variables `largo_lado_1` y `largo_lado_2`. Luego, crea una instancia de esta clase llamada `c1`, con lados de largo 10 y 20."
   ]
  },
  {
   "cell_type": "code",
   "execution_count": 34,
   "metadata": {
    "colab": {},
    "colab_type": "code",
    "id": "gZZE0PnSDf7-"
   },
   "outputs": [],
   "source": [
    "class Rectangulo:\n",
    "    \n",
    "    def __init__(self, largo_lado_1, largo_lado_2):\n",
    "        # Todo lo que definamos en __init__ se corre\n",
    "        # al crear una instancia de la clase\n",
    "        self.largo_lado_1 = largo_lado_1\n",
    "        self.largo_lado_2 = largo_lado_2"
   ]
  },
  {
   "cell_type": "code",
   "execution_count": 35,
   "metadata": {
    "colab": {},
    "colab_type": "code",
    "id": "o-6TXaJnDf8C"
   },
   "outputs": [
    {
     "name": "stdout",
     "output_type": "stream",
     "text": [
      "10\n",
      "20\n"
     ]
    }
   ],
   "source": [
    "c1 = Rectangulo(10, 20)\n",
    "\n",
    "print(c1.largo_lado_1)\n",
    "print(c1.largo_lado_2)"
   ]
  },
  {
   "cell_type": "markdown",
   "metadata": {
    "colab_type": "text",
    "id": "N1iZP4U2Df8K"
   },
   "source": [
    "### Métodos\n",
    "A las funciones que componen una clase se les llama **métodos**. Estas funciones pueden llamarse poniendo el nombre de una instancia de la clase seguido de un punto y el nombre del método. Los métodos pueden actuar sobre los valores de otros atributos de esa instancia, pueden devolver algún output a través de `return` o pueden hacer ambas cosas.\n",
    "\n",
    "Vamos a darle un método a la clase persona, para esto vamos a redefinir la clase como:"
   ]
  },
  {
   "cell_type": "code",
   "execution_count": 36,
   "metadata": {
    "colab": {},
    "colab_type": "code",
    "id": "x7rOAm57Df8M"
   },
   "outputs": [],
   "source": [
    "class Persona:\n",
    "    \"\"\"\n",
    "    Esta es una clase donde se agregan todos los datos\n",
    "    respecto a una persona\n",
    "    \"\"\"\n",
    "    def __init__(self, nombre, edad):\n",
    "        # Todo lo que definamos en __init__ se corre\n",
    "        # al crear una instancia de la clase\n",
    "        self.nombre = nombre\n",
    "        self.edad = edad\n",
    "        \n",
    "    def mePresento(self):\n",
    "        print(\"Hola, me llamo \" + self.nombre)"
   ]
  },
  {
   "cell_type": "code",
   "execution_count": 37,
   "metadata": {
    "colab": {},
    "colab_type": "code",
    "id": "o1GumL14Df8Q"
   },
   "outputs": [
    {
     "name": "stdout",
     "output_type": "stream",
     "text": [
      "Hola, me llamo Juan\n"
     ]
    }
   ],
   "source": [
    "p1 = Persona(\"Juan\", 26)\n",
    "p1.mePresento()"
   ]
  },
  {
   "cell_type": "markdown",
   "metadata": {
    "colab_type": "text",
    "id": "6z3FMfFpDf8T"
   },
   "source": [
    "Como ya se dijo, los métodos tambien pueden modificar el valor de ciertos atributos de una instancia. Vamos a crear un método para la clase persona, que haga cumplir un año a la persona y al mismo tiempo devuelva el valor de su edad:"
   ]
  },
  {
   "cell_type": "code",
   "execution_count": 38,
   "metadata": {
    "colab": {},
    "colab_type": "code",
    "id": "RWyQjCiBDf8V"
   },
   "outputs": [],
   "source": [
    "class Persona:\n",
    "    \"\"\"\n",
    "    Esta es una clase donde se agregan todos los datos\n",
    "    respecto a una persona\n",
    "    \"\"\"\n",
    "    def __init__(self, nombre, edad):\n",
    "        # Todo lo que definamos en __init__ se corre\n",
    "        # al crear una instancia de la clase\n",
    "        self.nombre = nombre\n",
    "        self.edad = edad\n",
    "        \n",
    "    def mePresento(self):\n",
    "        print(\"Hola, me llamo \" + self.nombre)\n",
    "    \n",
    "    def cumplirAnios(self):\n",
    "        self.edad = self.edad + 1\n",
    "        # El return hace que, al ejecutar el método,\n",
    "        # el mismo devuelva el valor de la edad \n",
    "        return self.edad"
   ]
  },
  {
   "cell_type": "code",
   "execution_count": 39,
   "metadata": {
    "colab": {},
    "colab_type": "code",
    "id": "8KMgHX1sDf8c"
   },
   "outputs": [
    {
     "data": {
      "text/plain": [
       "27"
      ]
     },
     "execution_count": 39,
     "metadata": {},
     "output_type": "execute_result"
    }
   ],
   "source": [
    "p1 = Persona(\"Juan\", 26)\n",
    "p1.cumplirAnios()"
   ]
  },
  {
   "cell_type": "code",
   "execution_count": 40,
   "metadata": {
    "colab": {},
    "colab_type": "code",
    "id": "z4eEqCTlDf8f"
   },
   "outputs": [
    {
     "data": {
      "text/plain": [
       "27"
      ]
     },
     "execution_count": 40,
     "metadata": {},
     "output_type": "execute_result"
    }
   ],
   "source": [
    "p1.edad"
   ]
  },
  {
   "cell_type": "markdown",
   "metadata": {
    "colab_type": "text",
    "id": "enUnVhGUDf8i"
   },
   "source": [
    "¿Notaron que los atributos los definimos dentro de un método llamado `__init__ `?\n",
    "\n",
    "Estos nombres de métodos con doble guión-bajo a los lados indican que se trata de un **método mágico**. Son nombres especiales que Python se reserva para métodos que tienen una función específica. Por ejemplo, el método mágico `__init__` se correrá automáticamente cuando creemos una instancia de la clase.\n",
    "\n",
    "Veamos un ejemplo donde dentro del método `__init__` agregamos algún otro bloque de código:"
   ]
  },
  {
   "cell_type": "code",
   "execution_count": 41,
   "metadata": {
    "colab": {},
    "colab_type": "code",
    "id": "EoCfp55sDf8j"
   },
   "outputs": [],
   "source": [
    "class Persona:\n",
    "    \"\"\"\n",
    "    Esta es una clase donde se agregan todos los datos\n",
    "    respecto a una persona\n",
    "    \"\"\"\n",
    "    def __init__(self, nombre, edad):\n",
    "        # Todo lo que definamos en __init__ se corre al crear una instancia de la clase\n",
    "        self.nombre = nombre\n",
    "        self.edad = edad\n",
    "        \n",
    "        print('Una persona nueva ha sido creada!')\n",
    "        \n",
    "    def mePresento(self):\n",
    "        print(\"Hola, me llamo \" + self.nombre)\n",
    "    \n",
    "    def cumplirAnios(self):\n",
    "        self.edad = self.edad + 1\n",
    "        # El return hace que, al ejecutar el método, el mismo devuelva el valor de la edad.\n",
    "        return self.edad"
   ]
  },
  {
   "cell_type": "code",
   "execution_count": 42,
   "metadata": {
    "colab": {},
    "colab_type": "code",
    "id": "GtD0BRqhDf8l"
   },
   "outputs": [
    {
     "name": "stdout",
     "output_type": "stream",
     "text": [
      "Una persona nueva ha sido creada!\n"
     ]
    }
   ],
   "source": [
    "p1 = Persona(\"Ernesto\", 40)"
   ]
  },
  {
   "cell_type": "markdown",
   "metadata": {
    "colab_type": "text",
    "id": "eOuuzeC3Df84"
   },
   "source": [
    "### Consistencia\n",
    "\n",
    "Uno de los beneficios de trabajar con clases es el hecho de poder validar la consistencia de los distintos atributos pertenecientes a una misma instancia de esa clase. Suponer que hay una clase llamada `Apartamento`. Esta clase agrupa todos las variables relacionadas a un mismo departamento. Esto permite chequear que todas estas variables guarden una relación adecuada. Por ejemplo, se sabe que la superficie cubierta no puede ser mayor a la superficie total. Entonces:"
   ]
  },
  {
   "cell_type": "code",
   "execution_count": 58,
   "metadata": {
    "colab": {},
    "colab_type": "code",
    "id": "-M1ohuf8Df87"
   },
   "outputs": [],
   "source": [
    "class Apartamento:\n",
    "    def __init__(self, calle, altura, piso, sup_total, sup_cubierta):\n",
    "        self.calle = calle\n",
    "        self.altura = altura\n",
    "        self.piso = piso\n",
    "        self.sup_total = sup_total\n",
    "        if sup_cubierta < sup_total:\n",
    "            self.sup_cubierta = self.sup_cubierta\n",
    "        else:\n",
    "            print(\"El valor de superficie cubierta ingresado es inconsistente\")\n",
    "            self.sup_cubierta = self.sup_total"
   ]
  },
  {
   "cell_type": "code",
   "execution_count": 59,
   "metadata": {
    "colab": {},
    "colab_type": "code",
    "id": "tu-SHHF8Df8_"
   },
   "outputs": [
    {
     "name": "stdout",
     "output_type": "stream",
     "text": [
      "El valor de superficie cubierta ingresado es inconsistente\n"
     ]
    }
   ],
   "source": [
    "apto_1 = Apartamento('Lleras',1122,4,50,455)"
   ]
  },
  {
   "cell_type": "code",
   "execution_count": 55,
   "metadata": {
    "colab": {},
    "colab_type": "code",
    "id": "pNXFWfAxDf9P"
   },
   "outputs": [
    {
     "data": {
      "text/plain": [
       "50"
      ]
     },
     "execution_count": 55,
     "metadata": {},
     "output_type": "execute_result"
    }
   ],
   "source": [
    "apto_1.sup_cubierta"
   ]
  },
  {
   "cell_type": "markdown",
   "metadata": {
    "colab_type": "text",
    "id": "CVximuuoDf9U"
   },
   "source": [
    "Otro de los beneficios de trabajar con objetos consiste en tener todas las variables relevantes agrupadas en un mismo objeto. De esta forma se facilita la tarea a la hora de mover esta información. Por ejemplo, si hay una función que calcula el precio de un apartamento en base a distintas propiedades del mismo, es mucho más fácil pasarle a esa función un único argumento (el objeto departamento), y no cada uno de sus atributos:"
   ]
  },
  {
   "cell_type": "code",
   "execution_count": 56,
   "metadata": {
    "colab": {},
    "colab_type": "code",
    "id": "vVy-ehCfDf9V"
   },
   "outputs": [],
   "source": [
    "def CalculaPrecios(apto):\n",
    "    precio = 2000 * apto.sup_total + 500 * apto.piso\n",
    "    return precio"
   ]
  },
  {
   "cell_type": "code",
   "execution_count": 57,
   "metadata": {
    "colab": {},
    "colab_type": "code",
    "id": "9kfl93zWDf9X"
   },
   "outputs": [
    {
     "data": {
      "text/plain": [
       "102000"
      ]
     },
     "execution_count": 57,
     "metadata": {},
     "output_type": "execute_result"
    }
   ],
   "source": [
    "CalculaPrecios(apto_1)"
   ]
  },
  {
   "cell_type": "markdown",
   "metadata": {
    "colab_type": "text",
    "id": "M5SKq03MwrbB"
   },
   "source": [
    "En algunas circunstancias, esa función podría ser parte de la clase, siendo en ese caso un método."
   ]
  },
  {
   "cell_type": "markdown",
   "metadata": {
    "colab_type": "text",
    "id": "NKUefce7Df8q"
   },
   "source": [
    "### Ejercicio\n",
    "* Agregar a la clase `Rectangulo` un método llamado `ladoMasLargo` que devuelva el valor del lado mas largo.\n",
    "* Agregar en el `__init__` de `Rectangulo` un nuevo atributo de la clase llamado `area`. El valor de este atributo debe generarse automáticamente a partir de los valores de los lados (recuerdar que el área de un rectángulo se calcula multiplicando el largo de sus lados).\n",
    "* Crear una instancia de la clase y verificar que su código funcione adecuadamente."
   ]
  },
  {
   "cell_type": "code",
   "execution_count": 60,
   "metadata": {
    "colab": {},
    "colab_type": "code",
    "id": "VE9IiONUDf8r"
   },
   "outputs": [],
   "source": [
    "class Rectangulo:\n",
    "    \n",
    "    def __init__(self, largo_lado_1, largo_lado_2):\n",
    "        # Todo lo que definamos en __init__ se corre\n",
    "        # al crear una instancia de la clase\n",
    "        self.largo_lado_1 = largo_lado_1\n",
    "        self.largo_lado_2 = largo_lado_2\n",
    "        \n",
    "        print('Un nuevo rectángulo ha sido creado!')\n",
    "        # print('Un nuevo rectángulo ha sido creado! Su área es ' + str(self.area))\n",
    "    \n",
    "    def ladoMasLargo(self):\n",
    "        if (self.largo_lado_1 < self.largo_lado_2):\n",
    "            print(\"El lado 2 es el más largo\")\n",
    "        elif (self.largo_lado_1 == self.largo_lado_2):\n",
    "            print(\"Los lados son iguales. Es un cuadrado.\")\n",
    "        else:\n",
    "            print(\"El lado 1 es el más largo.\")\n",
    "        \n",
    "    def area(self):\n",
    "        self.area = self.largo_lado_1 * self.largo_lado_2\n",
    "        return self.area\n",
    "       \n",
    "    def sePresenta(self):\n",
    "        print(\"Hola, mi lado 1 es \" + str(self.largo_lado_1) + \" y mi lado 2 es \" + str(self.largo_lado_2))"
   ]
  },
  {
   "cell_type": "code",
   "execution_count": 61,
   "metadata": {},
   "outputs": [
    {
     "name": "stdout",
     "output_type": "stream",
     "text": [
      "Un nuevo rectángulo ha sido creado!\n"
     ]
    }
   ],
   "source": [
    "c1 = Rectangulo(10, 20)"
   ]
  },
  {
   "cell_type": "code",
   "execution_count": 62,
   "metadata": {
    "colab": {},
    "colab_type": "code",
    "id": "PINw95UEDf8u"
   },
   "outputs": [
    {
     "name": "stdout",
     "output_type": "stream",
     "text": [
      "Hola, mi lado 1 es 10 y mi lado 2 es 20\n"
     ]
    }
   ],
   "source": [
    "c1.sePresenta()"
   ]
  },
  {
   "cell_type": "code",
   "execution_count": 63,
   "metadata": {},
   "outputs": [
    {
     "data": {
      "text/plain": [
       "200"
      ]
     },
     "execution_count": 63,
     "metadata": {},
     "output_type": "execute_result"
    }
   ],
   "source": [
    "c1.area()"
   ]
  },
  {
   "cell_type": "code",
   "execution_count": 64,
   "metadata": {
    "colab": {},
    "colab_type": "code",
    "id": "gUmxxCi_Df8x"
   },
   "outputs": [
    {
     "name": "stdout",
     "output_type": "stream",
     "text": [
      "El lado 2 es el más largo\n"
     ]
    }
   ],
   "source": [
    "c1.ladoMasLargo()"
   ]
  },
  {
   "cell_type": "code",
   "execution_count": 67,
   "metadata": {},
   "outputs": [
    {
     "name": "stdout",
     "output_type": "stream",
     "text": [
      "Un nuevo rectángulo ha sido creado! Su área es 231\n"
     ]
    }
   ],
   "source": [
    "c2 = Rectangulo(11, 21)"
   ]
  },
  {
   "cell_type": "code",
   "execution_count": 68,
   "metadata": {},
   "outputs": [
    {
     "name": "stdout",
     "output_type": "stream",
     "text": [
      "Un nuevo rectángulo ha sido creado! Su área es 4840\n",
      "Hola, mi lado 1 es 55 y mi lado 2 es 88\n",
      "El lado 2 es el más largo\n"
     ]
    }
   ],
   "source": [
    "#Instancia de clase\n",
    "c3 = Rectangulo(55, 88)\n",
    "\n",
    "c3.sePresenta()\n",
    "c3.ladoMasLargo()"
   ]
  },
  {
   "cell_type": "markdown",
   "metadata": {
    "colab_type": "text",
    "id": "XSwvtsACwrbO"
   },
   "source": [
    "## Ejercicios\n",
    "\n",
    "A continuación se programan una serie de clases que servirán para modelar (de forma simple) algunos fenómenos.\n",
    "\n",
    "**Ejercicio 1:** crear una clase `Dado` cuyos atributos sean la cantidad de lados y la probabilidad asignada a cada lado. Algunas características que debe tener la clase:\n",
    "* Se debe pasar la cantidad de lados cuando se crea una instancia. Por defecto deben ser seis.\n",
    "* Cuando se crea una instancia, se debe asignar la misma probabilidad a cada lado (probabilidad uniforme).\n",
    "* La clase debe contar con el método `tirar_dado`, que debe tomar como argumento la cantidad de veces que se lanza el dado.\n",
    "\n",
    "Comprobar que la clase está correctamente programada creando dados de distinto número de caras, tirando 100000 veces ese dado y haciendo un histograma de sus resultados."
   ]
  },
  {
   "cell_type": "code",
   "execution_count": 69,
   "metadata": {
    "colab": {},
    "colab_type": "code",
    "id": "qw0t1bEbwrbP"
   },
   "outputs": [],
   "source": [
    "import numpy as np\n",
    "import matplotlib.pyplot as plt"
   ]
  },
  {
   "cell_type": "code",
   "execution_count": 70,
   "metadata": {
    "colab": {},
    "colab_type": "code",
    "id": "dleeP0v6wrbT"
   },
   "outputs": [],
   "source": [
    "class Dado:\n",
    "    \n",
    "    def __init__(self, n_lados = 6):\n",
    "        self.n_lados = n_lados\n",
    "        self.probabilidades = np.ones(n_lados) / n_lados\n",
    "        \n",
    "        print('Conjunto probabilidades:' + str(self.probabilidades))\n",
    "        \n",
    "    def tirar_dado(self, n = 1):\n",
    "        lados = np.arange(1,self.n_lados+1)\n",
    "        lanzamientos = np.random.choice(lados, size = n, p = self.probabilidades)\n",
    "\n",
    "        return(lanzamientos)"
   ]
  },
  {
   "cell_type": "code",
   "execution_count": 74,
   "metadata": {
    "colab": {},
    "colab_type": "code",
    "id": "b4wx8nmHwrbW"
   },
   "outputs": [
    {
     "name": "stdout",
     "output_type": "stream",
     "text": [
      "Conjunto probabilidades:[0.14285714 0.14285714 0.14285714 0.14285714 0.14285714 0.14285714\n",
      " 0.14285714]\n"
     ]
    }
   ],
   "source": [
    "# Explorar la clase Dado para diferente cantidad de caras\n",
    "dado = Dado(7)"
   ]
  },
  {
   "cell_type": "code",
   "execution_count": 76,
   "metadata": {},
   "outputs": [
    {
     "data": {
      "image/png": "[encoded data removed]",
      "text/plain": [
       "<Figure size 432x288 with 1 Axes>"
      ]
     },
     "metadata": {
      "needs_background": "light"
     },
     "output_type": "display_data"
    }
   ],
   "source": [
    "plt.hist(dado.tirar_dado(100000), bins = np.arange(0.5, dado.n_lados + 1.5), rwidth = 0.5, density = True)\n",
    "plt.show()"
   ]
  },
  {
   "cell_type": "markdown",
   "metadata": {
    "colab_type": "text",
    "id": "cc3m1gniwrbc"
   },
   "source": [
    "**Ejercicio 2**\n",
    "\n",
    "En el mundo de la publicidad, de las aplicaciones, las redes sociales, etc., suele ocurrir el siguiente fenómeno: a medida que más personas conocen un producto, más probabilidad hay que el producto se siga comprando o consumiendo. A veces esto se debe a recomendaciones de conocidos, mayor inversión en publicidad o simplemente que el producto ya se convirtió en una marca establecida. Por ejemplo, pensemos en una red social. En general, nadie querrá pertenecer a una red social que no tiene usuarios. Y a medida que un mayor número de nuestros conocidos se suman a una red social, más probable es que nos sumemos nosotros. Esto también ocurre en otros ámbitos, ¿se te ocurre dónde?  \n",
    "\n",
    "Un modelo muy inocente de esta situación es pensar que se trata de un dado que se va cargando teniendo en cuenta el histórico de sus resultados. Por ejemplo, si el tres salió muchas veces, esto hace que aumente la probabilidad de que en la próxima tirada salga tres. Pensando en las redes sociales, esto es equivalente a pensar que es más probable que se sumen nuevos usuarios a una red que ya tiene muchos usuarios.\n",
    "\n",
    "La clase `DadoCargado` intenta simular la situación anteriormente descrita.\n",
    "1. Leer detenidamente el código y tratar de entendelo.\n",
    "2. Crear una instancia de `DadoCargado`, tirar el dado algunas veces e imprimir en pantalla el resultado y las probabilidades. ¿Cómo se van modificando?\n",
    "3. Crear una nueva instancia de `DadoCargado` y graficar la evolución de la probabilidad en función del número de tiradas.\n",
    "4. ¿Qué ocurre si se modifica el valor de `premio`?¿Cambia el comportamiento?"
   ]
  },
  {
   "cell_type": "code",
   "execution_count": 64,
   "metadata": {
    "colab": {},
    "colab_type": "code",
    "id": "NPAtl4Uvwrbd"
   },
   "outputs": [],
   "source": [
    "class DadoCargado:\n",
    "    def __init__(self, n_lados = 6, premio = 0.1):\n",
    "        self.n_lados = n_lados\n",
    "        self.probabilidades = np.ones(n_lados)/n_lados\n",
    "        self.premio = premio\n",
    "        self.resultados = []\n",
    "        self.counts = np.zeros(n_lados)\n",
    "        \n",
    "    def tirar_dado(self):\n",
    "        lados = np.arange(1,self.n_lados+1)\n",
    "        resultados = np.random.choice(lados, 1, p = self.probabilidades)\n",
    "        self.resultados +=list(resultados)\n",
    "        self.counts[resultados[0] - 1] +=1\n",
    "        self.cargar_dado()\n",
    "        return resultados\n",
    "    \n",
    "    def cargar_dado(self):\n",
    "        self.probabilidades = self.probabilidades + self.premio*self.counts/self.counts.sum()\n",
    "        self.probabilidades = self.probabilidades/self.probabilidades.sum()"
   ]
  },
  {
   "cell_type": "code",
   "execution_count": 66,
   "metadata": {
    "colab": {},
    "colab_type": "code",
    "id": "TyuQg-JRwrbg"
   },
   "outputs": [],
   "source": [
    "#2\n",
    "dado = DadoCargado(6)"
   ]
  },
  {
   "cell_type": "code",
   "execution_count": 67,
   "metadata": {
    "colab": {},
    "colab_type": "code",
    "id": "fbGnvI0Qwrbi"
   },
   "outputs": [
    {
     "name": "stdout",
     "output_type": "stream",
     "text": [
      "[6]\n",
      "[0.15151515 0.15151515 0.15151515 0.15151515 0.15151515 0.24242424]\n",
      "[1]\n",
      "[0.18319559 0.13774105 0.13774105 0.13774105 0.13774105 0.26584022]\n",
      "[5]\n",
      "[0.19684448 0.12521913 0.12521913 0.12521913 0.15552216 0.27197596]\n",
      "[1]\n",
      "[0.22440407 0.11383558 0.11383558 0.11383558 0.16411106 0.26997814]\n",
      "[5]\n",
      "[0.24036734 0.10348689 0.10348689 0.10348689 0.18555551 0.26361649]\n"
     ]
    }
   ],
   "source": [
    "for i in range(5):\n",
    "    print(dado.tirar_dado())\n",
    "    print(dado.probabilidades)"
   ]
  },
  {
   "cell_type": "code",
   "execution_count": 68,
   "metadata": {
    "colab": {},
    "colab_type": "code",
    "id": "kjPAwZJUwrbm"
   },
   "outputs": [],
   "source": [
    "# 3.\n",
    "n_tiradas = 5000\n",
    "probabilidades = np.zeros((n_tiradas, dado.n_lados))\n",
    "dado = DadoCargado(6, premio = 0.1)\n",
    "for i in range(n_tiradas):\n",
    "    dado.tirar_dado()\n",
    "    probabilidades[i,:] = dado.probabilidades"
   ]
  },
  {
   "cell_type": "code",
   "execution_count": 69,
   "metadata": {
    "colab": {},
    "colab_type": "code",
    "id": "7O42xlwbwrbp"
   },
   "outputs": [
    {
     "data": {
      "text/plain": [
       "array([[1.51515152e-001, 1.51515152e-001, 2.42424242e-001,\n",
       "        1.51515152e-001, 1.51515152e-001, 1.51515152e-001],\n",
       "       [1.37741047e-001, 1.37741047e-001, 2.65840220e-001,\n",
       "        1.83195592e-001, 1.37741047e-001, 1.37741047e-001],\n",
       "       [1.25219133e-001, 1.25219133e-001, 2.71975958e-001,\n",
       "        2.27147508e-001, 1.25219133e-001, 1.25219133e-001],\n",
       "       ...,\n",
       "       [5.87208608e-002, 8.79516519e-002, 4.06001440e-001,\n",
       "        3.99475119e-001, 2.19385706e-208, 4.78509280e-002],\n",
       "       [5.87109391e-002, 8.79394621e-002, 4.06026878e-001,\n",
       "        3.99457368e-001, 1.99441551e-208, 4.78653529e-002],\n",
       "       [5.87008537e-002, 8.79267837e-002, 4.06060798e-001,\n",
       "        3.99433971e-001, 1.81310501e-208, 4.78775936e-002]])"
      ]
     },
     "execution_count": 69,
     "metadata": {},
     "output_type": "execute_result"
    }
   ],
   "source": [
    "probabilidades"
   ]
  },
  {
   "cell_type": "code",
   "execution_count": 70,
   "metadata": {},
   "outputs": [
    {
     "data": {
      "image/png": "[encoded data removed]",
      "text/plain": [
       "<Figure size 432x288 with 1 Axes>"
      ]
     },
     "metadata": {
      "needs_background": "light"
     },
     "output_type": "display_data"
    }
   ],
   "source": [
    "for lado in range(dado.n_lados):\n",
    "    plt.plot(np.arange(n_tiradas), probabilidades[:,lado], label = lado  + 1) \n",
    "plt.legend()\n",
    "plt.show()"
   ]
  },
  {
   "cell_type": "markdown",
   "metadata": {
    "colab_type": "text",
    "id": "gEO3ko5kwrbr"
   },
   "source": [
    "**Ejercicio 3**\n",
    "\n",
    "Siguiendo con el ejemplo de las redes sociales, una vez que dejan de sumarse nuevos miembros a una red - la red pasa de moda - es probable que algunos miembros empiecen a darse de baja. Para incorporar esta situación al modelo, podemos incorporar dos nuevos atributos, `latencia` y `castigo`. Si un resultado no ocurre en un número determinado de tiradas (`latencia`) descontamos `castigo` de las cuentas correspondientes a ese resultado. De esta forma, a medida que pasa el tiempo sin nuevos miembros, disminuye la probabilidad que un miembro nuevo se sume.\n",
    "\n",
    "Nuevamente, te dejamos una clase programada que intenta simular esta situación.\n",
    "1. Lee detenidamente el código y trata de entendelo.\n",
    "2. Crea una instancia de `DadoCargado`, tira el dado algunas veces e imprime en pantalla el resultado y las probabilidades. ¿Cómo se van modificando?\n",
    "3. Crea una nueva instancia de `DadoCargado` y haz un gráfico de la evolución de la probabilidad en función del número de tiradas.\n",
    "4. ¿Qué ocurre si modificas el valor de `premio`, `castigo` y `latencia`?¿Cambia el comportamiento?¿Cómo estudiarias ese comportamiento?"
   ]
  },
  {
   "cell_type": "code",
   "execution_count": 71,
   "metadata": {
    "colab": {},
    "colab_type": "code",
    "id": "1dgjeQq9wrbs"
   },
   "outputs": [],
   "source": [
    "class DadoCargado:\n",
    "    def __init__(self, n_lados = 6, premio = 0.2, castigo = 1, latencia = 10):\n",
    "        self.n_lados = n_lados\n",
    "        self.probabilidades = np.ones(n_lados)/n_lados\n",
    "        self.premio = premio\n",
    "        self.castigo = castigo\n",
    "        self.latencia = latencia\n",
    "        self.resultados = []\n",
    "        self.counts = np.zeros(n_lados)\n",
    "        \n",
    "    def tirar_dado(self):\n",
    "        lados = np.arange(1,self.n_lados+1)\n",
    "        resultados = np.random.choice(lados, 1, p = self.probabilidades)\n",
    "        self.resultados +=list(resultados)\n",
    "        self.counts[resultados[0] - 1] +=1\n",
    "        self.cargar_dado()\n",
    "        return resultados\n",
    "    \n",
    "    def cargar_dado(self):\n",
    "        if len(self.resultados) >= self.latencia:\n",
    "            lados = np.arange(1,self.n_lados+1)\n",
    "            for lado in lados:\n",
    "                if lado not in self.resultados[-self.latencia:]:\n",
    "                    self.counts[lado - 1] -= self.castigo\n",
    "                    if self.counts[lado - 1]<0:\n",
    "                        self.counts[lado - 1] = 0\n",
    "                        \n",
    "        self.probabilidades = self.probabilidades + self.premio*self.counts/self.counts.sum()\n",
    "        self.probabilidades = self.probabilidades/self.probabilidades.sum()\n",
    "        "
   ]
  },
  {
   "cell_type": "code",
   "execution_count": 72,
   "metadata": {
    "colab": {},
    "colab_type": "code",
    "id": "P6DzLOVNwrbv"
   },
   "outputs": [],
   "source": [
    "# 2.  self.counts[resultados[0] - 1] +=1\n",
    "dado = DadoCargado(6)"
   ]
  },
  {
   "cell_type": "code",
   "execution_count": 73,
   "metadata": {
    "colab": {},
    "colab_type": "code",
    "id": "x-HEik-Wwrbz"
   },
   "outputs": [],
   "source": [
    "# 3.\n",
    "n_tiradas = 500\n",
    "probabilidades = np.zeros((n_tiradas,dado.n_lados))\n",
    "dado = DadoCargado(6, premio = 0.1)\n",
    "for i in range(n_tiradas):\n",
    "    dado.tirar_dado()\n",
    "    probabilidades[i,:] = dado.probabilidades"
   ]
  },
  {
   "cell_type": "code",
   "execution_count": 74,
   "metadata": {
    "colab": {},
    "colab_type": "code",
    "id": "O01N7rljwrb3"
   },
   "outputs": [
    {
     "data": {
      "image/png": "[encoded data removed]",
      "text/plain": [
       "<Figure size 432x288 with 1 Axes>"
      ]
     },
     "metadata": {
      "needs_background": "light"
     },
     "output_type": "display_data"
    }
   ],
   "source": [
    "for lado in range(dado.n_lados):\n",
    "    plt.plot(np.arange(n_tiradas), probabilidades[:,lado], label = lado  + 1) \n",
    "plt.legend()\n",
    "plt.show()"
   ]
  },
  {
   "cell_type": "markdown",
   "metadata": {
    "colab_type": "text",
    "id": "vXmslNtewrb8"
   },
   "source": [
    "**Bonus**\n",
    "\n",
    "Se sugiere explorar nuevamente los ejercicios (jugar, modificar y hacer preguntas e intentar responderlas). A continuación algunas inquietudes que vale la pena analizar:\n",
    "\n",
    "En todos los casos suele haber un lado exitoso que, luego de algunas tiradas, se establece como el lado más probable. Además, en el modelo del ejercicio 3 hay lados cuyas probabilidades caen a cero.\n",
    "\n",
    "¿En qué momento se decide cuál es el lado exitoso? ¿El que sale primero? ¿El que sale más veces en las primeras diez tiradas? ¿Cuál será un buen predictor de esta situación? ¿Y qué sucede con los lados cuya probabilidad cae a cero? ¿Cuándo se decide su destino?"
   ]
  },
  {
   "cell_type": "markdown",
   "metadata": {},
   "source": [
    "## Herramienta de localización"
   ]
  },
  {
   "cell_type": "code",
   "execution_count": 77,
   "metadata": {},
   "outputs": [
    {
     "data": {
      "text/html": [
       "<div>\n",
       "<style scoped>\n",
       "    .dataframe tbody tr th:only-of-type {\n",
       "        vertical-align: middle;\n",
       "    }\n",
       "\n",
       "    .dataframe tbody tr th {\n",
       "        vertical-align: top;\n",
       "    }\n",
       "\n",
       "    .dataframe thead th {\n",
       "        text-align: right;\n",
       "    }\n",
       "</style>\n",
       "<table border=\"1\" class=\"dataframe\">\n",
       "  <thead>\n",
       "    <tr style=\"text-align: right;\">\n",
       "      <th></th>\n",
       "      <th>Código_texto</th>\n",
       "      <th>Hallazgo</th>\n",
       "      <th>lat</th>\n",
       "      <th>lon</th>\n",
       "      <th>Código</th>\n",
       "      <th>Razón social</th>\n",
       "      <th>Nombre establecimiento</th>\n",
       "      <th>Dirección 1</th>\n",
       "      <th>Ciudad</th>\n",
       "      <th>Depto/Estado</th>\n",
       "      <th>Pais</th>\n",
       "      <th>Desc. tipo cliente</th>\n",
       "      <th>Tipo de tercero</th>\n",
       "    </tr>\n",
       "  </thead>\n",
       "  <tbody>\n",
       "    <tr>\n",
       "      <th>0</th>\n",
       "      <td>332494</td>\n",
       "      <td>Completo</td>\n",
       "      <td>4.806398</td>\n",
       "      <td>-74.352351</td>\n",
       "      <td>332494</td>\n",
       "      <td>ACUÑA  AVELINO</td>\n",
       "      <td>METALFORMAS</td>\n",
       "      <td>CRA  1     2   36</td>\n",
       "      <td>FACATATIVA (385)s.l</td>\n",
       "      <td>CUNDINAMARCA</td>\n",
       "      <td>COLOMBIA</td>\n",
       "      <td>CLIENTES NACIONALES</td>\n",
       "      <td>Persona natural</td>\n",
       "    </tr>\n",
       "    <tr>\n",
       "      <th>1</th>\n",
       "      <td>646530</td>\n",
       "      <td>Aprox</td>\n",
       "      <td>6.266303</td>\n",
       "      <td>-75.545023</td>\n",
       "      <td>646530</td>\n",
       "      <td>RENDON QUINTERO RICARDO</td>\n",
       "      <td>DEP LA CARBONERIA</td>\n",
       "      <td>CL 71 A 32 61 MZ ORIENTAL</td>\n",
       "      <td>MEDELLIN (0)</td>\n",
       "      <td>ANTIOQUIA</td>\n",
       "      <td>COLOMBIA</td>\n",
       "      <td>CLIENTES NACIONALES</td>\n",
       "      <td>Persona natural</td>\n",
       "    </tr>\n",
       "    <tr>\n",
       "      <th>2</th>\n",
       "      <td>1079856</td>\n",
       "      <td>Completo</td>\n",
       "      <td>5.017065</td>\n",
       "      <td>-72.749671</td>\n",
       "      <td>1079856</td>\n",
       "      <td>ROJAS CORDOBA PABLO ENRIQUE</td>\n",
       "      <td>FERRELECTRICOS CENTRAL</td>\n",
       "      <td>CR 12   6  28</td>\n",
       "      <td>TAURAMENA (1200)</td>\n",
       "      <td>CASANARE</td>\n",
       "      <td>COLOMBIA</td>\n",
       "      <td>CLIENTES NACIONALES</td>\n",
       "      <td>Persona natural</td>\n",
       "    </tr>\n",
       "    <tr>\n",
       "      <th>3</th>\n",
       "      <td>2183752</td>\n",
       "      <td>Completo</td>\n",
       "      <td>10.468219</td>\n",
       "      <td>-73.244381</td>\n",
       "      <td>2183752</td>\n",
       "      <td>FIGUEROA  JUSTINIANO</td>\n",
       "      <td>LOS ALPES</td>\n",
       "      <td>CR 11 19D 16 BRR LA GRANJA</td>\n",
       "      <td>VALLEDUPAR (448)</td>\n",
       "      <td>CESAR</td>\n",
       "      <td>COLOMBIA</td>\n",
       "      <td>CLIENTES NACIONALES</td>\n",
       "      <td>Persona natural</td>\n",
       "    </tr>\n",
       "    <tr>\n",
       "      <th>4</th>\n",
       "      <td>2512090</td>\n",
       "      <td>Completo</td>\n",
       "      <td>6.046364</td>\n",
       "      <td>-75.906604</td>\n",
       "      <td>2512090</td>\n",
       "      <td>PALACIO GONZALEZ LUIS EDUARDO</td>\n",
       "      <td>ALM EL COMPETIDOR</td>\n",
       "      <td>CL 19 18 73</td>\n",
       "      <td>CONCORDIA (250)</td>\n",
       "      <td>ANTIOQUIA</td>\n",
       "      <td>COLOMBIA</td>\n",
       "      <td>CLIENTES NACIONALES</td>\n",
       "      <td>Persona natural</td>\n",
       "    </tr>\n",
       "  </tbody>\n",
       "</table>\n",
       "</div>"
      ],
      "text/plain": [
       "   Código_texto  Hallazgo        lat        lon   Código  \\\n",
       "0        332494  Completo   4.806398 -74.352351   332494   \n",
       "1        646530     Aprox   6.266303 -75.545023   646530   \n",
       "2       1079856  Completo   5.017065 -72.749671  1079856   \n",
       "3       2183752  Completo  10.468219 -73.244381  2183752   \n",
       "4       2512090  Completo   6.046364 -75.906604  2512090   \n",
       "\n",
       "                    Razón social  Nombre establecimiento  \\\n",
       "0                 ACUÑA  AVELINO             METALFORMAS   \n",
       "1        RENDON QUINTERO RICARDO       DEP LA CARBONERIA   \n",
       "2    ROJAS CORDOBA PABLO ENRIQUE  FERRELECTRICOS CENTRAL   \n",
       "3           FIGUEROA  JUSTINIANO               LOS ALPES   \n",
       "4  PALACIO GONZALEZ LUIS EDUARDO       ALM EL COMPETIDOR   \n",
       "\n",
       "                  Dirección 1               Ciudad  Depto/Estado      Pais  \\\n",
       "0           CRA  1     2   36  FACATATIVA (385)s.l  CUNDINAMARCA  COLOMBIA   \n",
       "1   CL 71 A 32 61 MZ ORIENTAL         MEDELLIN (0)     ANTIOQUIA  COLOMBIA   \n",
       "2               CR 12   6  28     TAURAMENA (1200)      CASANARE  COLOMBIA   \n",
       "3  CR 11 19D 16 BRR LA GRANJA     VALLEDUPAR (448)         CESAR  COLOMBIA   \n",
       "4                 CL 19 18 73      CONCORDIA (250)     ANTIOQUIA  COLOMBIA   \n",
       "\n",
       "    Desc. tipo cliente  Tipo de tercero  \n",
       "0  CLIENTES NACIONALES  Persona natural  \n",
       "1  CLIENTES NACIONALES  Persona natural  \n",
       "2  CLIENTES NACIONALES  Persona natural  \n",
       "3  CLIENTES NACIONALES  Persona natural  \n",
       "4  CLIENTES NACIONALES  Persona natural  "
      ]
     },
     "execution_count": 77,
     "metadata": {},
     "output_type": "execute_result"
    }
   ],
   "source": [
    "import pandas as pd\n",
    "df = pd.read_excel('bd_prueba_loc.xlsx', engine='openpyxl')\n",
    "df.head()"
   ]
  },
  {
   "cell_type": "code",
   "execution_count": 78,
   "metadata": {},
   "outputs": [
    {
     "data": {
      "text/html": [
       "<div style=\"width:100%;\"><div style=\"position:relative;width:100%;height:0;padding-bottom:60%;\"><span style=\"color:#565656\">Make this Notebook Trusted to load map: File -> Trust Notebook</span><iframe src=\"about:blank\" style=\"position:absolute;width:100%;height:100%;left:0;top:0;border:none !important;\" data-html=%3C%21DOCTYPE%20html%3E%0A%3Chead%3E%20%20%20%20%0A%20%20%20%20%3Cmeta%20http-equiv%3D%22content-type%22%20content%3D%22text/html%3B%20charset%3DUTF-8%22%20/%3E%0A%20%20%20%20%0A%20%20%20%20%20%20%20%20%3Cscript%3E%0A%20%20%20%20%20%20%20%20%20%20%20%20L_NO_TOUCH%20%3D%20false%3B%0A%20%20%20%20%20%20%20%20%20%20%20%20L_DISABLE_3D%20%3D%20false%3B%0A%20%20%20%20%20%20%20%20%3C/script%3E%0A%20%20%20%20%0A%20%20%20%20%3Cstyle%3Ehtml%2C%20body%20%7Bwidth%3A%20100%25%3Bheight%3A%20100%25%3Bmargin%3A%200%3Bpadding%3A%200%3B%7D%3C/style%3E%0A%20%20%20%20%3Cstyle%3E%23map%20%7Bposition%3Aabsolute%3Btop%3A0%3Bbottom%3A0%3Bright%3A0%3Bleft%3A0%3B%7D%3C/style%3E%0A%20%20%20%20%3Cscript%20src%3D%22https%3A//cdn.jsdelivr.net/npm/leaflet%401.6.0/dist/leaflet.js%22%3E%3C/script%3E%0A%20%20%20%20%3Cscript%20src%3D%22https%3A//code.jquery.com/jquery-1.12.4.min.js%22%3E%3C/script%3E%0A%20%20%20%20%3Cscript%20src%3D%22https%3A//maxcdn.bootstrapcdn.com/bootstrap/3.2.0/js/bootstrap.min.js%22%3E%3C/script%3E%0A%20%20%20%20%3Cscript%20src%3D%22https%3A//cdnjs.cloudflare.com/ajax/libs/Leaflet.awesome-markers/2.0.2/leaflet.awesome-markers.js%22%3E%3C/script%3E%0A%20%20%20%20%3Clink%20rel%3D%22stylesheet%22%20href%3D%22https%3A//cdn.jsdelivr.net/npm/leaflet%401.6.0/dist/leaflet.css%22/%3E%0A%20%20%20%20%3Clink%20rel%3D%22stylesheet%22%20href%3D%22https%3A//maxcdn.bootstrapcdn.com/bootstrap/3.2.0/css/bootstrap.min.css%22/%3E%0A%20%20%20%20%3Clink%20rel%3D%22stylesheet%22%20href%3D%22https%3A//maxcdn.bootstrapcdn.com/bootstrap/3.2.0/css/bootstrap-theme.min.css%22/%3E%0A%20%20%20%20%3Clink%20rel%3D%22stylesheet%22%20href%3D%22https%3A//maxcdn.bootstrapcdn.com/font-awesome/4.6.3/css/font-awesome.min.css%22/%3E%0A%20%20%20%20%3Clink%20rel%3D%22stylesheet%22%20href%3D%22https%3A//cdnjs.cloudflare.com/ajax/libs/Leaflet.awesome-markers/2.0.2/leaflet.awesome-markers.css%22/%3E%0A%20%20%20%20%3Clink%20rel%3D%22stylesheet%22%20href%3D%22https%3A//cdn.jsdelivr.net/gh/python-visualization/folium/folium/templates/leaflet.awesome.rotate.min.css%22/%3E%0A%20%20%20%20%0A%20%20%20%20%20%20%20%20%20%20%20%20%3Cmeta%20name%3D%22viewport%22%20content%3D%22width%3Ddevice-width%2C%0A%20%20%20%20%20%20%20%20%20%20%20%20%20%20%20%20initial-scale%3D1.0%2C%20maximum-scale%3D1.0%2C%20user-scalable%3Dno%22%20/%3E%0A%20%20%20%20%20%20%20%20%20%20%20%20%3Cstyle%3E%0A%20%20%20%20%20%20%20%20%20%20%20%20%20%20%20%20%23map_3909975c8cd241a9bd91ab2db7e658e6%20%7B%0A%20%20%20%20%20%20%20%20%20%20%20%20%20%20%20%20%20%20%20%20position%3A%20relative%3B%0A%20%20%20%20%20%20%20%20%20%20%20%20%20%20%20%20%20%20%20%20width%3A%20100.0%25%3B%0A%20%20%20%20%20%20%20%20%20%20%20%20%20%20%20%20%20%20%20%20height%3A%20100.0%25%3B%0A%20%20%20%20%20%20%20%20%20%20%20%20%20%20%20%20%20%20%20%20left%3A%200.0%25%3B%0A%20%20%20%20%20%20%20%20%20%20%20%20%20%20%20%20%20%20%20%20top%3A%200.0%25%3B%0A%20%20%20%20%20%20%20%20%20%20%20%20%20%20%20%20%7D%0A%20%20%20%20%20%20%20%20%20%20%20%20%3C/style%3E%0A%20%20%20%20%20%20%20%20%0A%20%20%20%20%3Cscript%20src%3D%22https%3A//cdn.jsdelivr.net/gh/python-visualization/folium%40master/folium/templates/leaflet_heat.min.js%22%3E%3C/script%3E%0A%3C/head%3E%0A%3Cbody%3E%20%20%20%20%0A%20%20%20%20%0A%20%20%20%20%20%20%20%20%20%20%20%20%3Cdiv%20class%3D%22folium-map%22%20id%3D%22map_3909975c8cd241a9bd91ab2db7e658e6%22%20%3E%3C/div%3E%0A%20%20%20%20%20%20%20%20%0A%3C/body%3E%0A%3Cscript%3E%20%20%20%20%0A%20%20%20%20%0A%20%20%20%20%20%20%20%20%20%20%20%20var%20map_3909975c8cd241a9bd91ab2db7e658e6%20%3D%20L.map%28%0A%20%20%20%20%20%20%20%20%20%20%20%20%20%20%20%20%22map_3909975c8cd241a9bd91ab2db7e658e6%22%2C%0A%20%20%20%20%20%20%20%20%20%20%20%20%20%20%20%20%7B%0A%20%20%20%20%20%20%20%20%20%20%20%20%20%20%20%20%20%20%20%20center%3A%20%5B6.217%2C%20-75.567%5D%2C%0A%20%20%20%20%20%20%20%20%20%20%20%20%20%20%20%20%20%20%20%20crs%3A%20L.CRS.EPSG3857%2C%0A%20%20%20%20%20%20%20%20%20%20%20%20%20%20%20%20%20%20%20%20zoom%3A%2010%2C%0A%20%20%20%20%20%20%20%20%20%20%20%20%20%20%20%20%20%20%20%20zoomControl%3A%20true%2C%0A%20%20%20%20%20%20%20%20%20%20%20%20%20%20%20%20%20%20%20%20preferCanvas%3A%20false%2C%0A%20%20%20%20%20%20%20%20%20%20%20%20%20%20%20%20%7D%0A%20%20%20%20%20%20%20%20%20%20%20%20%29%3B%0A%0A%20%20%20%20%20%20%20%20%20%20%20%20%0A%0A%20%20%20%20%20%20%20%20%0A%20%20%20%20%0A%20%20%20%20%20%20%20%20%20%20%20%20var%20tile_layer_0588f72581e748daaaaf9d162073a907%20%3D%20L.tileLayer%28%0A%20%20%20%20%20%20%20%20%20%20%20%20%20%20%20%20%22https%3A//%7Bs%7D.tile.openstreetmap.org/%7Bz%7D/%7Bx%7D/%7By%7D.png%22%2C%0A%20%20%20%20%20%20%20%20%20%20%20%20%20%20%20%20%7B%22attribution%22%3A%20%22Data%20by%20%5Cu0026copy%3B%20%5Cu003ca%20href%3D%5C%22http%3A//openstreetmap.org%5C%22%5Cu003eOpenStreetMap%5Cu003c/a%5Cu003e%2C%20under%20%5Cu003ca%20href%3D%5C%22http%3A//www.openstreetmap.org/copyright%5C%22%5Cu003eODbL%5Cu003c/a%5Cu003e.%22%2C%20%22detectRetina%22%3A%20false%2C%20%22maxNativeZoom%22%3A%2018%2C%20%22maxZoom%22%3A%2018%2C%20%22minZoom%22%3A%200%2C%20%22noWrap%22%3A%20false%2C%20%22opacity%22%3A%201%2C%20%22subdomains%22%3A%20%22abc%22%2C%20%22tms%22%3A%20false%7D%0A%20%20%20%20%20%20%20%20%20%20%20%20%29.addTo%28map_3909975c8cd241a9bd91ab2db7e658e6%29%3B%0A%20%20%20%20%20%20%20%20%0A%20%20%20%20%0A%20%20%20%20%20%20%20%20%20%20%20%20var%20heat_map_ca7b5ca6671043b88f70b29490661ce9%20%3D%20L.heatLayer%28%0A%20%20%20%20%20%20%20%20%20%20%20%20%20%20%20%20%5B%5B4.806398%2C%20-74.352351%5D%2C%20%5B6.266303%2C%20-75.545023%5D%2C%20%5B5.017065%2C%20-72.749671%5D%2C%20%5B10.468219%2C%20-73.244381%5D%2C%20%5B6.046364%2C%20-75.906604%5D%2C%20%5B11.541941%2C%20-72.905398%5D%2C%20%5B4.919362%2C%20-74.02929%5D%2C%20%5B4.536472%2C%20-75.676541%5D%2C%20%5B11.540614%2C%20-72.912856%5D%2C%20%5B6.277498%2C%20-75.6222285%5D%2C%20%5B8.662427%2C%20-75.140657%5D%2C%20%5B6.126548%2C%20-75.633728%5D%2C%20%5B6.160559%2C%20-75.575567%5D%2C%20%5B7.581421%2C%20-75.400421%5D%2C%20%5B6.047221%2C%20-75.909%5D%2C%20%5B6.2801185%2C%20-75.4419035%5D%2C%20%5B6.4868065%2C%20-75.389452%5D%2C%20%5B6.243998%2C%20-75.5964335%5D%2C%20%5B6.1532133%2C%20-75.5331484%5D%2C%20%5B6.444819%2C%20-75.728293%5D%2C%20%5B5.874249%2C%20-75.5751758%5D%2C%20%5B6.333407%2C%20-75.533166%5D%2C%20%5B6.5040185%2C%20-75.743263%5D%2C%20%5B6.316755%2C%20-76.134915%5D%2C%20%5B6.437099%2C%20-75.3343565%5D%2C%20%5B11.7136097%2C%20-72.2633884%5D%2C%20%5B10.2544213%2C%20-74.9119874%5D%2C%20%5B9.735423%2C%20-75.5116673%5D%2C%20%5B8.9578895%2C%20-75.4531743%5D%2C%20%5B9.746059%2C%20-74.8140945%5D%2C%20%5B5.6141296%2C%20-75.4609153%5D%2C%20%5B5.0686939%2C%20-75.516745%5D%2C%20%5B9.2447845%2C%20-74.75755%5D%2C%20%5B5.1668414%2C%20-75.5247339%5D%2C%20%5B10.768442%2C%20-73.004664%5D%2C%20%5B8.238204%2C%20-73.35539%5D%2C%20%5B11.000884%2C%20-74.806402%5D%2C%20%5B3.657583%2C%20-76.692222%5D%2C%20%5B3.258149%2C%20-76.545258%5D%2C%20%5B3.8786515%2C%20-77.0212145%5D%2C%20%5B3.823547%2C%20-76.520483%5D%2C%20%5B4.393848%2C%20-76.072443%5D%2C%20%5B9.1035539%2C%20-75.4017927%5D%2C%20%5B9.299777%2C%20-75.3934%5D%2C%20%5B8.764719%2C%20-75.879772%5D%2C%20%5B8.755002%2C%20-75.894674%5D%2C%20%5B10.411191%2C%20-75.519796%5D%2C%20%5B8.409914%2C%20-75.580624%5D%2C%20%5B5.8849851%2C%20-71.8930464%5D%2C%20%5B4.5567311%2C%20-74.531357%5D%2C%20%5B5.977103%2C%20-74.589612%5D%2C%20%5B5.613555%2C%20-73.819141%5D%2C%20%5B10.958822%2C%20-74.806842%5D%2C%20%5B9.714281%2C%20-75.119275%5D%2C%20%5B9.955118%2C%20-75.0804351%5D%2C%20%5B10.2524705%2C%20-75.3648181%5D%2C%20%5B7.581421%2C%20-75.400421%5D%2C%20%5B6.247397%2C%20-75.57637%5D%2C%20%5B8.7624548%2C%20-76.5371133%5D%2C%20%5B7.786344%2C%20-75.536816%5D%2C%20%5B6.242375%2C%20-75.570683%5D%2C%20%5B8.765718%2C%20-75.88144%5D%2C%20%5B6.252137%2C%20-75.611557%5D%2C%20%5B6.230532%2C%20-75.580291%5D%2C%20%5B6.2816725%2C%20-75.642296%5D%2C%20%5B9.243846%2C%20-74.756545%5D%2C%20%5B6.282456%2C%20-75.556155%5D%2C%20%5B7.6686364%2C%20-76.6918013%5D%2C%20%5B11.0683015%2C%20-72.7638164%5D%2C%20%5B6.341075%2C%20-75.549418%5D%2C%20%5B6.338185%2C%20-75.561177%5D%2C%20%5B6.444611%2C%20-75.730162%5D%2C%20%5B10.492024%2C%20-75.123429%5D%2C%20%5B10.912841%2C%20-74.7914505%5D%2C%20%5B10.634571%2C%20-74.917731%5D%2C%20%5B10.929511%2C%20-74.791901%5D%2C%20%5B11.009023%2C%20-74.796107%5D%2C%20%5B10.40737%2C%20-75.49517%5D%2C%20%5B10.925391%2C%20-74.771298%5D%2C%20%5B10.4424875%2C%20-75.3723664%5D%2C%20%5B10.40404%2C%20-75.469918%5D%2C%20%5B9.246558%2C%20-75.812521%5D%2C%20%5B11.2450168%2C%20-74.2075536%5D%2C%20%5B8.992743%2C%20-73.9748223%5D%2C%20%5B9.2465155%2C%20-74.4265458%5D%2C%20%5B9.974244%2C%20-75.294163%5D%2C%20%5B10.3310353%2C%20-75.4236127%5D%2C%20%5B10.4444033%2C%20-75.2724475%5D%2C%20%5B9.2391727%2C%20-74.3515624%5D%2C%20%5B9.242089%2C%20-74.428347%5D%2C%20%5B10.373567%2C%20-75.483517%5D%2C%20%5B5.014163%2C%20-72.7516%5D%2C%20%5B5.0142481%2C%20-72.7515268%5D%2C%20%5B4.673794%2C%20-75.657863%5D%2C%20%5B4.811835%2C%20-75.685997%5D%2C%20%5B5.233062%2C%20-75.7890179%5D%2C%20%5B5.067217%2C%20-75.4938885%5D%2C%20%5B4.800715%2C%20-75.742881%5D%2C%20%5B4.803451%2C%20-75.739438%5D%2C%20%5B7.882761%2C%20-76.6334473%5D%2C%20%5B4.565359%2C%20-75.753744%5D%2C%20%5B5.4041447%2C%20-75.4900564%5D%2C%20%5B5.065117%2C%20-75.507485%5D%2C%20%5B2.442002%2C%20-76.610998%5D%2C%20%5B8.767089%2C%20-75.875959%5D%2C%20%5B8.4992738%2C%20-75.5121416%5D%2C%20%5B8.505629%2C%20-75.506964%5D%2C%20%5B9.357206%2C%20-75.950836%5D%2C%20%5B9.245788%2C%20-75.812209%5D%2C%20%5B5.00999%2C%20-74.471977%5D%2C%20%5B5.6901%2C%20-76.657649%5D%2C%20%5B1.853247%2C%20-76.042461%5D%2C%20%5B9.6614359%2C%20-73.7508079%5D%2C%20%5B10.5202695%2C%20-74.1916055%5D%2C%20%5B6.4615814%2C%20-71.7323929%5D%2C%20%5B11.247285%2C%20-74.204378%5D%2C%20%5B11.250363%2C%20-74.199056%5D%2C%20%5B11.229763%2C%20-74.195258%5D%2C%20%5B10.974935%2C%20-74.83523%5D%2C%20%5B10.46873%2C%20-73.245539%5D%2C%20%5B8.2323435%2C%20-73.352471%5D%2C%20%5B8.2520484%2C%20-73.3882402%5D%2C%20%5B8.266878%2C%20-73.36583%5D%2C%20%5B7.896775%2C%20-72.53%5D%2C%20%5B8.470524%2C%20-73.3382665%5D%2C%20%5B7.836591%2C%20-72.509048%5D%2C%20%5B9.659264%2C%20-73.746658%5D%2C%20%5B11.013262%2C%20-74.804148%5D%2C%20%5B10.467685%2C%20-73.244653%5D%2C%20%5B11.010348%2C%20-74.805137%5D%2C%20%5B7.057524%2C%20-73.1680255%5D%2C%20%5B4.089619%2C%20-76.197295%5D%2C%20%5B10.521293%2C%20-74.187953%5D%2C%20%5B7.0931475%2C%20-73.170434%5D%2C%20%5B4.441838%2C%20-75.179879%5D%2C%20%5B4.4312645%2C%20-75.231123%5D%2C%20%5B5.2015774%2C%20-74.8943408%5D%2C%20%5B8.882495%2C%20-75.793816%5D%2C%20%5B3.9020528%2C%20-76.3040013%5D%2C%20%5B9.235697%2C%20-75.813852%5D%2C%20%5B8.947312%2C%20-75.442879%5D%2C%20%5B10.389077%2C%20-75.468356%5D%2C%20%5B9.1067565%2C%20-75.398257%5D%2C%20%5B8.94917%2C%20-75.44617%5D%2C%20%5B6.089794%2C%20-75.635983%5D%2C%20%5B6.258193%2C%20-75.596635%5D%2C%20%5B7.889942%2C%20-75.670121%5D%2C%20%5B6.964889%2C%20-75.418662%5D%2C%20%5B6.963746%2C%20-75.418617%5D%2C%20%5B7.878654%2C%20-76.633671%5D%2C%20%5B6.770605%2C%20-74.79956%5D%2C%20%5B8.173421%2C%20-76.059926%5D%2C%20%5B6.0796594%2C%20-75.3362676%5D%2C%20%5B6.443067%2C%20-75.7285457%5D%2C%20%5B6.280632%2C%20-75.444429%5D%2C%20%5B6.031934%2C%20-75.429967%5D%2C%20%5B6.023186%2C%20-75.435302%5D%2C%20%5B6.562466%2C%20-75.832627%5D%2C%20%5B8.952605%2C%20-75.453118%5D%2C%20%5B6.153509%2C%20-75.369796%5D%2C%20%5B6.153356%2C%20-75.370772%5D%2C%20%5B6.138789%2C%20-75.3873087%5D%2C%20%5B6.15561%2C%20-75.371341%5D%2C%20%5B6.316659%2C%20-76.133986%5D%2C%20%5B6.348096%2C%20-75.504497%5D%2C%20%5B6.257029%2C%20-75.617016%5D%2C%20%5B5.599232%2C%20-75.820985%5D%2C%20%5B5.791303%2C%20-75.785534%5D%2C%20%5B7.987269%2C%20-75.191795%5D%2C%20%5B5.655786%2C%20-75.878794%5D%2C%20%5B7.083296%2C%20-74.702338%5D%2C%20%5B7.027501%2C%20-74.694109%5D%2C%20%5B8.17169%2C%20-76.05569%5D%2C%20%5B8.7373377%2C%20-75.8717597%5D%2C%20%5B8.413248%2C%20-75.584402%5D%2C%20%5B5.093852%2C%20-76.647004%5D%2C%20%5B9.237075%2C%20-75.723677%5D%2C%20%5B9.236872%2C%20-75.7277714%5D%2C%20%5B5.4208066%2C%20-75.7041388%5D%2C%20%5B5.455692%2C%20-75.649801%5D%2C%20%5B5.451816%2C%20-75.650852%5D%2C%20%5B4.439175%2C%20-75.227122%5D%2C%20%5B5.254487%2C%20-75.152067%5D%2C%20%5B5.25416%2C%20-75.152328%5D%2C%20%5B5.070209%2C%20-75.515811%5D%2C%20%5B4.750227%2C%20-75.919748%5D%2C%20%5B3.2246412%2C%20-76.313477%5D%2C%20%5B4.083727%2C%20-76.199214%5D%2C%20%5B4.0998225%2C%20-76.1938125%5D%2C%20%5B4.093474%2C%20-76.2061735%5D%2C%20%5B3.8756618%2C%20-77.0582218%5D%2C%20%5B5.693166%2C%20-76.657024%5D%2C%20%5B3.8737405%2C%20-77.00265%5D%2C%20%5B4.408973%2C%20-76.152613%5D%2C%20%5B3.4160485%2C%20-76.5041435%5D%2C%20%5B3.584123%2C%20-76.491529%5D%2C%20%5B4.5002465%2C%20-74.1058355%5D%2C%20%5B4.741754%2C%20-74.104842%5D%2C%20%5B4.6036745%2C%20-74.08181%5D%2C%20%5B3.546492%2C%20-73.711626%5D%2C%20%5B4.606893%2C%20-74.186539%5D%2C%20%5B1.615501%2C%20-75.610408%5D%2C%20%5B11.3756584%2C%20-72.2415171%5D%2C%20%5B11.3760088%2C%20-72.2429251%5D%2C%20%5B1.153124%2C%20-76.652257%5D%2C%20%5B1.148114%2C%20-76.647318%5D%2C%20%5B1.0305363%2C%20-76.6175615%5D%2C%20%5B4.527438%2C%20-75.642129%5D%2C%20%5B6.31364%2C%20-75.571337%5D%2C%20%5B8.309699%2C%20-73.611466%5D%2C%20%5B10.033169%2C%20-73.235146%5D%2C%20%5B6.177279%2C%20-75.598279%5D%2C%20%5B8.237747%2C%20-73.355565%5D%2C%20%5B6.25249%2C%20-75.572048%5D%2C%20%5B10.254094%2C%20-75.339084%5D%2C%20%5B3.987341%2C%20-73.766167%5D%2C%20%5B8.9444225%2C%20-75.447788%5D%2C%20%5B6.371523%2C%20-75.445184%5D%2C%20%5B10.521481%2C%20-74.187982%5D%2C%20%5B10.523614%2C%20-74.190798%5D%2C%20%5B10.2335167%2C%20-75.1888546%5D%2C%20%5B6.170009%2C%20-75.340013%5D%2C%20%5B4.8084233%2C%20-74.1011046%5D%2C%20%5B6.156955%2C%20-75.369287%5D%2C%20%5B6.039398%2C%20-75.702082%5D%2C%20%5B6.907828%2C%20-75.073942%5D%2C%20%5B5.598114%2C%20-75.8225466%5D%2C%20%5B5.655288%2C%20-75.877968%5D%2C%20%5B3.8675536%2C%20-76.9989792%5D%2C%20%5B6.242444%2C%20-75.568086%5D%2C%20%5B6.774971%2C%20-76.13188%5D%2C%20%5B10.849144%2C%20-74.77313%5D%2C%20%5B5.599992%2C%20-75.819304%5D%2C%20%5B6.174274%2C%20-75.337771%5D%2C%20%5B6.217254%2C%20-75.242049%5D%2C%20%5B6.2212658%2C%20-75.2483749%5D%2C%20%5B7.669434%2C%20-76.680441%5D%2C%20%5B11.250363%2C%20-74.199056%5D%2C%20%5B7.599688%2C%20-74.810019%5D%2C%20%5B10.960265%2C%20-74.800657%5D%2C%20%5B9.94963%2C%20-75.086626%5D%2C%20%5B11.538323%2C%20-72.907328%5D%2C%20%5B9.323376%2C%20-75.295505%5D%2C%20%5B9.316245%2C%20-75.292978%5D%2C%20%5B10.3942831%2C%20-75.5087596%5D%2C%20%5B10.232873%2C%20-75.192399%5D%2C%20%5B10.1678687%2C%20-75.311812%5D%2C%20%5B5.879805%2C%20-71.895287%5D%2C%20%5B4.526148%2C%20-75.64259%5D%2C%20%5B5.382313%2C%20-75.161303%5D%2C%20%5B5.421324%2C%20-75.703633%5D%2C%20%5B4.801278%2C%20-75.732337%5D%2C%20%5B8.881522%2C%20-75.620986%5D%2C%20%5B7.98115%2C%20-75.420435%5D%2C%20%5B7.979967%2C%20-75.417385%5D%2C%20%5B9.226486%2C%20-75.819542%5D%2C%20%5B8.9688328%2C%20-75.8409726%5D%2C%20%5B8.732121%2C%20-75.870947%5D%2C%20%5B5.688807%2C%20-76.661304%5D%2C%20%5B8.237801%2C%20-73.355545%5D%2C%20%5B11.2724265%2C%20-73.3115252%5D%2C%20%5B10.886342%2C%20-72.850287%5D%2C%20%5B10.769484%2C%20-73.003926%5D%2C%20%5B11.5319865%2C%20-72.9030885%5D%2C%20%5B6.988752%2C%20-73.044285%5D%2C%20%5B10.929511%2C%20-74.791901%5D%2C%20%5B4.437765%2C%20-75.192097%5D%2C%20%5B4.610103%2C%20-76.079401%5D%2C%20%5B3.422281%2C%20-76.482902%5D%2C%20%5B3.764094%2C%20-76.332969%5D%2C%20%5B5.03135%2C%20-75.463313%5D%2C%20%5B2.4811255%2C%20-76.56679%5D%2C%20%5B8.955414%2C%20-75.45329%5D%2C%20%5B10.437672%2C%20-75.524373%5D%2C%20%5B8.945351%2C%20-75.441437%5D%2C%20%5B8.94582%2C%20-75.438093%5D%2C%20%5B9.227774%2C%20-75.816667%5D%2C%20%5B9.230525%2C%20-75.814467%5D%2C%20%5B9.227671%2C%20-75.814593%5D%2C%20%5B9.231114%2C%20-75.814397%5D%2C%20%5B10.3942831%2C%20-75.5087596%5D%2C%20%5B3.5375375%2C%20-76.306366%5D%2C%20%5B3.822364%2C%20-76.520692%5D%2C%20%5B3.581284%2C%20-76.492576%5D%2C%20%5B3.377061%2C%20-76.515923%5D%2C%20%5B3.407506%2C%20-76.503547%5D%2C%20%5B7.879019%2C%20-76.63366%5D%2C%20%5B6.651899%2C%20-75.462582%5D%2C%20%5B7.662632%2C%20-76.6797463%5D%2C%20%5B7.666134%2C%20-76.680618%5D%2C%20%5B7.7568345%2C%20-76.654697%5D%2C%20%5B6.169451%2C%20-75.584536%5D%2C%20%5B6.258771%2C%20-75.609273%5D%2C%20%5B7.986589%2C%20-75.191959%5D%2C%20%5B10.863447%2C%20-74.773146%5D%2C%20%5B10.393993%2C%20-75.548695%5D%2C%20%5B10.91814%2C%20-74.799196%5D%2C%20%5B10.948788%2C%20-74.821708%5D%2C%20%5B9.0025991%2C%20-73.9743373%5D%2C%20%5B10.4065755%2C%20-75.4525355%5D%2C%20%5B3.016764%2C%20-76.483805%5D%2C%20%5B2.449465%2C%20-76.603762%5D%2C%20%5B3.013244%2C%20-76.489748%5D%2C%20%5B8.659482%2C%20-75.129084%5D%2C%20%5B8.7391772%2C%20-75.8853384%5D%2C%20%5B4.623046%2C%20-74.19704%5D%2C%20%5B4.863392%2C%20-74.05972%5D%2C%20%5B4.805017%2C%20-75.737217%5D%2C%20%5B10.890842%2C%20-72.842931%5D%2C%20%5B7.02531%2C%20-71.4291874%5D%2C%20%5B8.309803%2C%20-73.612145%5D%2C%20%5B10.920549%2C%20-74.815018%5D%2C%20%5B7.082802%2C%20-73.10141%5D%2C%20%5B7.070943%2C%20-73.172356%5D%2C%20%5B4.3311378%2C%20-73.8710258%5D%2C%20%5B6.312935%2C%20-73.94878%5D%2C%20%5B7.06418%2C%20-73.168074%5D%2C%20%5B7.111388%2C%20-73.215665%5D%2C%20%5B3.72096%2C%20-75.488973%5D%2C%20%5B4.0932255%2C%20-76.2083355%5D%2C%20%5B9.1455134%2C%20-74.2245444%5D%2C%20%5B8.9919171%2C%20-73.9753343%5D%2C%20%5B7.027741%2C%20-74.694226%5D%2C%20%5B7.5073651%2C%20-75.1166851%5D%2C%20%5B8.223431%2C%20-75.4818689%5D%2C%20%5B7.655895%2C%20-75.51977%5D%2C%20%5B8.75199%2C%20-75.882735%5D%2C%20%5B8.097866%2C%20-76.72064%5D%2C%20%5B6.172452%2C%20-75.332901%5D%2C%20%5B6.154286%2C%20-75.370055%5D%2C%20%5B4.686237%2C%20-74.085195%5D%2C%20%5B6.9524525%2C%20-71.871432%5D%2C%20%5B7.758104%2C%20-76.659448%5D%2C%20%5B4.459133%2C%20-74.634576%5D%2C%20%5B4.803829%2C%20-75.7441975%5D%2C%20%5B9.316529%2C%20-75.29245%5D%2C%20%5B10.961178%2C%20-74.798791%5D%2C%20%5B6.250183%2C%20-75.627362%5D%2C%20%5B6.271382%2C%20-75.547062%5D%2C%20%5B8.0947642%2C%20-76.7297846%5D%2C%20%5B6.159735%2C%20-75.642941%5D%2C%20%5B6.217994%2C%20-75.2425229%5D%2C%20%5B6.483907%2C%20-75.392867%5D%2C%20%5B7.2737945%2C%20-74.7691836%5D%2C%20%5B6.293988%2C%20-75.541792%5D%2C%20%5B6.29206%2C%20-75.560432%5D%2C%20%5B6.284362%2C%20-75.581641%5D%2C%20%5B6.250019%2C%20-75.545135%5D%2C%20%5B6.244105%2C%20-75.570888%5D%2C%20%5B6.3504799%2C%20-75.5093838%5D%2C%20%5B6.3231183%2C%20-75.8519596%5D%2C%20%5B6.170709%2C%20-75.612032%5D%2C%20%5B7.892294%2C%20-75.671284%5D%2C%20%5B6.2263005%2C%20-75.602017%5D%2C%20%5B6.4777542%2C%20-74.4263096%5D%2C%20%5B7.9934573%2C%20-75.2016883%5D%2C%20%5B6.291757%2C%20-75.562139%5D%2C%20%5B8.090916%2C%20-76.728129%5D%2C%20%5B6.24393%2C%20-75.605965%5D%2C%20%5B6.284443%2C%20-75.445896%5D%2C%20%5B7.984844%2C%20-75.421572%5D%2C%20%5B5.975148%2C%20-75.36123%5D%2C%20%5B9.983119%2C%20-75.302054%5D%2C%20%5B8.994158%2C%20-73.97243%5D%2C%20%5B9.716294%2C%20-75.120558%5D%2C%20%5B10.38248%2C%20-75.459555%5D%2C%20%5B10.3310353%2C%20-75.4236127%5D%2C%20%5B9.950411%2C%20-75.084526%5D%2C%20%5B9.829957%2C%20-75.123034%5D%2C%20%5B5.825372%2C%20-73.029864%5D%2C%20%5B10.4808185%2C%20-73.2846764%5D%2C%20%5B9.200338%2C%20-73.542637%5D%2C%20%5B9.200266%2C%20-73.542374%5D%2C%20%5B10.467255%2C%20-73.244137%5D%2C%20%5B8.881526%2C%20-75.791143%5D%2C%20%5B8.762235%2C%20-75.880109%5D%2C%20%5B8.763993%2C%20-75.883263%5D%2C%20%5B8.886671%2C%20-75.78647%5D%2C%20%5B11.237153%2C%20-74.200845%5D%2C%20%5B9.24045%2C%20-74.42768%5D%2C%20%5B5.232018%2C%20-75.786773%5D%2C%20%5B8.30814%2C%20-73.620114%5D%2C%20%5B5.688131%2C%20-76.65806%5D%2C%20%5B6.487235%2C%20-75.395362%5D%2C%20%5B2.921893%2C%20-75.289637%5D%2C%20%5B2.921851%2C%20-75.290911%5D%2C%20%5B10.52123%2C%20-74.186942%5D%2C%20%5B10.3942831%2C%20-75.5087596%5D%2C%20%5B10.5240206%2C%20-74.1919824%5D%2C%20%5B7.0946534%2C%20-73.1088228%5D%2C%20%5B8.956945%2C%20-73.623613%5D%2C%20%5B6.988656%2C%20-73.051144%5D%2C%20%5B9.30778%2C%20-75.405403%5D%2C%20%5B9.290401%2C%20-75.3871875%5D%2C%20%5B3.4428645%2C%20-76.540061%5D%2C%20%5B7.085474%2C%20-70.751874%5D%2C%20%5B5.874249%2C%20-75.5751758%5D%2C%20%5B8.0855396%2C%20-76.748663%5D%2C%20%5B6.3117205%2C%20-75.5613915%5D%2C%20%5B6.268251%2C%20-75.598476%5D%2C%20%5B6.300782%2C%20-75.569876%5D%2C%20%5B6.170069%2C%20-75.584113%5D%2C%20%5B6.251477%2C%20-75.608794%5D%2C%20%5B8.746858%2C%20-75.889509%5D%2C%20%5B6.273955%2C%20-75.573629%5D%2C%20%5B6.226953%2C%20-75.595353%5D%2C%20%5B3.886031%2C%20-77.073047%5D%2C%20%5B6.240728%2C%20-75.552569%5D%2C%20%5B6.211223%2C%20-75.584171%5D%2C%20%5B6.437935%2C%20-75.332519%5D%2C%20%5B8.171066%2C%20-76.061983%5D%2C%20%5B8.172612%2C%20-76.06026%5D%2C%20%5B6.152248%2C%20-75.61801%5D%2C%20%5B6.2106319%2C%20-75.5900318%5D%2C%20%5B6.9213488%2C%20-74.7237408%5D%2C%20%5B6.18598%2C%20-75.581582%5D%2C%20%5B10.404891%2C%20-75.50832%5D%2C%20%5B6.378068%2C%20-75.443028%5D%2C%20%5B10.7699875%2C%20-73.0047195%5D%2C%20%5B10.7632856%2C%20-74.7776647%5D%2C%20%5B9.25545%2C%20-73.815485%5D%2C%20%5B9.3034689%2C%20-74.5723493%5D%2C%20%5B6.2851%2C%20-75.44632%5D%2C%20%5B7.663558%2C%20-76.680607%5D%2C%20%5B6.749987%2C%20-76.025518%5D%2C%20%5B6.168802%2C%20-75.614174%5D%2C%20%5B6.219539%2C%20-75.597808%5D%2C%20%5B8.73559%2C%20-75.892992%5D%2C%20%5B7.98753%2C%20-75.191754%5D%2C%20%5B6.169359%2C%20-75.584598%5D%2C%20%5B6.253984%2C%20-75.597204%5D%2C%20%5B6.252212%2C%20-75.572852%5D%2C%20%5B6.6753653%2C%20-74.8444805%5D%2C%20%5B6.247255%2C%20-75.604561%5D%2C%20%5B11.224811%2C%20-74.156024%5D%2C%20%5B5.9639623%2C%20-75.7441718%5D%2C%20%5B10.91998%2C%20-74.763938%5D%2C%20%5B9.316311%2C%20-75.292613%5D%2C%20%5B10.743518%2C%20-74.755308%5D%2C%20%5B6.2797968%2C%20-75.4771856%5D%2C%20%5B6.2797968%2C%20-75.4771856%5D%2C%20%5B6.247316%2C%20-75.571769%5D%2C%20%5B6.24909%2C%20-75.572272%5D%2C%20%5B6.170958%2C%20-75.331411%5D%2C%20%5B6.170009%2C%20-75.340013%5D%2C%20%5B6.177403%2C%20-75.343417%5D%2C%20%5B6.4856008%2C%20-75.3966988%5D%2C%20%5B7.2441059%2C%20-76.4409444%5D%2C%20%5B7.0814759%2C%20-74.7029462%5D%2C%20%5B5.151017%2C%20-76.687689%5D%2C%20%5B6.295765%2C%20-75.570907%5D%2C%20%5B6.4777542%2C%20-74.4263096%5D%2C%20%5B7.669011%2C%20-76.679011%5D%2C%20%5B6.15991%2C%20-75.643876%5D%2C%20%5B8.410049%2C%20-75.582103%5D%2C%20%5B6.235185%2C%20-75.556826%5D%2C%20%5B6.273647%2C%20-75.548865%5D%2C%20%5B10.033751%2C%20-73.235778%5D%2C%20%5B6.094617%2C%20-75.638366%5D%2C%20%5B7.581421%2C%20-75.400421%5D%2C%20%5B8.425862%2C%20-76.782484%5D%2C%20%5B11.7162435%2C%20-72.2689728%5D%2C%20%5B6.249592%2C%20-75.565787%5D%2C%20%5B6.25013%2C%20-75.568474%5D%2C%20%5B6.256623%2C%20-75.569703%5D%2C%20%5B6.174498%2C%20-75.60656%5D%2C%20%5B6.2730671%2C%20-75.6022043%5D%2C%20%5B6.1924035%2C%20-75.5889635%5D%2C%20%5B6.306705%2C%20-75.554928%5D%2C%20%5B6.23245%2C%20-75.554424%5D%2C%20%5B6.311241%2C%20-75.578605%5D%2C%20%5B6.258581%2C%20-75.6203065%5D%2C%20%5B6.2390669%2C%20-75.5586091%5D%2C%20%5B6.232041%2C%20-75.559673%5D%2C%20%5B6.20438%2C%20-75.580861%5D%2C%20%5B6.254675%2C%20-75.567471%5D%2C%20%5B6.284332%2C%20-75.564388%5D%2C%20%5B6.250244%2C%20-75.572677%5D%2C%20%5B6.231686%2C%20-75.582366%5D%2C%20%5B6.293725%2C%20-75.583203%5D%2C%20%5B6.233654%2C%20-75.583936%5D%2C%20%5B6.250315%2C%20-75.548385%5D%2C%20%5B5.68795%2C%20-76.660767%5D%2C%20%5B6.258363%2C%20-75.569053%5D%2C%20%5B6.286485%2C%20-75.549878%5D%2C%20%5B6.259113%2C%20-75.567707%5D%2C%20%5B6.2718478%2C%20-75.5478809%5D%2C%20%5B6.283745%2C%20-75.550043%5D%2C%20%5B6.290348%2C%20-75.585576%5D%2C%20%5B6.282203%2C%20-75.572846%5D%2C%20%5B8.405538%2C%20-75.589927%5D%2C%20%5B7.668945%2C%20-76.680446%5D%2C%20%5B6.161602%2C%20-75.588399%5D%2C%20%5B6.320187%2C%20-75.560461%5D%2C%20%5B6.652823%2C%20-75.463292%5D%2C%20%5B7.88849%2C%20-76.631441%5D%2C%20%5B7.884985%2C%20-76.631259%5D%2C%20%5B10.802352%2C%20-74.910503%5D%2C%20%5B10.610773%2C%20-75.144314%5D%2C%20%5B10.952391%2C%20-74.790803%5D%2C%20%5B10.916975%2C%20-74.816787%5D%2C%20%5B10.9102654%2C%20-74.8235147%5D%2C%20%5B9.2485482%2C%20-74.4301098%5D%2C%20%5B10.7354418%2C%20-74.7592557%5D%2C%20%5B10.786517%2C%20-74.757541%5D%2C%20%5B11.3809105%2C%20-72.2429115%5D%2C%20%5B10.639016%2C%20-74.924202%5D%2C%20%5B10.631342%2C%20-74.919308%5D%2C%20%5B10.255713%2C%20-75.348664%5D%2C%20%5B9.0025991%2C%20-73.9743373%5D%2C%20%5B10.465654%2C%20-73.246532%5D%2C%20%5B5.72847%2C%20-71.999745%5D%2C%20%5B5.881653%2C%20-71.893751%5D%2C%20%5B10.952138%2C%20-74.790275%5D%2C%20%5B5.071082%2C%20-75.51518%5D%2C%20%5B5.031415%2C%20-75.458007%5D%2C%20%5B5.167304%2C%20-75.5236808%5D%2C%20%5B5.044297%2C%20-75.511697%5D%2C%20%5B5.070015%2C%20-75.520971%5D%2C%20%5B10.458995%2C%20-73.259432%5D%2C%20%5B5.457087%2C%20-75.651156%5D%2C%20%5B8.875865%2C%20-75.623493%5D%2C%20%5B10.603128%2C%20-72.983486%5D%2C%20%5B8.957324%2C%20-73.624662%5D%2C%20%5B10.888488%2C%20-72.850488%5D%2C%20%5B9.283447%2C%20-75.40322%5D%2C%20%5B10.455666%2C%20-73.256839%5D%2C%20%5B8.0016222%2C%20-73.5102073%5D%2C%20%5B9.564412%2C%20-73.33519%5D%2C%20%5B9.700116%2C%20-73.280511%5D%2C%20%5B9.201475%2C%20-73.540908%5D%2C%20%5B10.4560445%2C%20-73.2650626%5D%2C%20%5B10.888854%2C%20-72.8565015%5D%2C%20%5B8.88154%2C%20-75.790787%5D%2C%20%5B8.872109%2C%20-75.615772%5D%2C%20%5B8.308029%2C%20-75.14524%5D%2C%20%5B8.8730641%2C%20-75.7884345%5D%2C%20%5B8.80112%2C%20-75.850343%5D%2C%20%5B8.7580849%2C%20-75.8850406%5D%2C%20%5B8.7667643%2C%20-75.8818531%5D%2C%20%5B8.9477804%2C%20-75.447559%5D%2C%20%5B8.957688%2C%20-75.452901%5D%2C%20%5B8.759344%2C%20-76.528786%5D%2C%20%5B8.944729%2C%20-75.445673%5D%2C%20%5B8.501084%2C%20-75.508287%5D%2C%20%5B8.944718%2C%20-75.444363%5D%2C%20%5B9.314646%2C%20-75.296902%5D%2C%20%5B8.540926%2C%20-74.629052%5D%2C%20%5B4.629329%2C%20-74.463945%5D%2C%20%5B4.6544664%2C%20-74.3889373%5D%2C%20%5B6.029929%2C%20-75.429698%5D%2C%20%5B4.700412%2C%20-74.131823%5D%2C%20%5B4.607534%2C%20-74.074319%5D%2C%20%5B1.850843%2C%20-76.045941%5D%2C%20%5B4.6041693%2C%20-74.0789218%5D%2C%20%5B4.7424133%2C%20-74.117482%5D%2C%20%5B6.485944%2C%20-75.394679%5D%2C%20%5B4.340522%2C%20-74.363797%5D%2C%20%5B10.914823%2C%20-74.797134%5D%2C%20%5B9.1431172%2C%20-74.2248992%5D%2C%20%5B11.245612%2C%20-74.201487%5D%2C%20%5B11.225662%2C%20-74.153792%5D%2C%20%5B8.30814%2C%20-73.620114%5D%2C%20%5B8.2386865%2C%20-73.3548215%5D%2C%20%5B8.2520484%2C%20-73.3882402%5D%2C%20%5B7.379916%2C%20-72.6514337%5D%2C%20%5B8.75658%2C%20-75.871311%5D%2C%20%5B8.30968%2C%20-73.609225%5D%2C%20%5B8.245581%2C%20-73.360223%5D%2C%20%5B8.0016222%2C%20-73.5102073%5D%2C%20%5B8.310239%2C%20-73.615267%5D%2C%20%5B8.238204%2C%20-73.35539%5D%2C%20%5B8.266878%2C%20-73.36583%5D%2C%20%5B8.234833%2C%20-73.3512355%5D%2C%20%5B7.106195%2C%20-73.114835%5D%2C%20%5B8.764325%2C%20-75.881805%5D%2C%20%5B6.465888%2C%20-73.264458%5D%2C%20%5B10.922397%2C%20-74.787159%5D%2C%20%5B7.064485%2C%20-73.168887%5D%2C%20%5B7.11128%2C%20-73.218385%5D%2C%20%5B6.554246%2C%20-73.141287%5D%2C%20%5B6.557774%2C%20-73.13729%5D%2C%20%5B7.133506%2C%20-73.124573%5D%2C%20%5B7.067008%2C%20-73.848226%5D%2C%20%5B6.490444%2C%20-74.399184%5D%2C%20%5B10.5232985%2C%20-74.1880745%5D%2C%20%5B8.2372%2C%20-73.356515%5D%2C%20%5B8.4688597%2C%20-74.5345489%5D%2C%20%5B9.106596%2C%20-75.398037%5D%2C%20%5B9.1830544%2C%20-75.3774051%5D%2C%20%5B9.451125%2C%20-75.438911%5D%2C%20%5B8.4672253%2C%20-74.5375587%5D%2C%20%5B9.282219%2C%20-75.404851%5D%2C%20%5B9.292045%2C%20-75.386796%5D%2C%20%5B9.280926%2C%20-75.405429%5D%2C%20%5B9.303978%2C%20-75.385881%5D%2C%20%5B9.3034575%2C%20-75.390142%5D%2C%20%5B4.151057%2C%20-74.8858986%5D%2C%20%5B5.152097%2C%20-75.035388%5D%2C%20%5B3.885418%2C%20-77.017777%5D%2C%20%5B3.9579922%2C%20-76.7760592%5D%2C%20%5B4.0788865%2C%20-76.1915925%5D%2C%20%5B6.257775%2C%20-75.569491%5D%2C%20%5B6.039945%2C%20-75.702181%5D%2C%20%5B6.3024625%2C%20-75.5806015%5D%2C%20%5B6.233067%2C%20-75.160488%5D%2C%20%5B8.259487%2C%20-76.15286%5D%2C%20%5B6.204963%2C%20-75.561883%5D%2C%20%5B6.249349%2C%20-75.5900465%5D%2C%20%5B6.346925%2C%20-75.543425%5D%2C%20%5B6.291612%2C%20-75.57641%5D%2C%20%5B6.245584%2C%20-75.62081%5D%2C%20%5B7.6668359%2C%20-76.6761442%5D%2C%20%5B6.263884%2C%20-75.548519%5D%2C%20%5B6.283917%2C%20-75.557329%5D%2C%20%5B6.333321%2C%20-75.533163%5D%2C%20%5B6.347586%2C%20-75.554413%5D%2C%20%5B6.202662%2C%20-75.587449%5D%2C%20%5B6.232373%2C%20-75.567453%5D%2C%20%5B9.003507%2C%20-73.9913737%5D%2C%20%5B6.33295%2C%20-75.555255%5D%2C%20%5B6.247112%2C%20-75.561147%5D%2C%20%5B6.2457035%2C%20-75.5697895%5D%2C%20%5B6.225701%2C%20-75.601044%5D%2C%20%5B6.237362%2C%20-75.572697%5D%2C%20%5B6.241216%2C%20-75.567417%5D%2C%20%5B6.161837%2C%20-75.60083%5D%2C%20%5B6.165854%2C%20-75.623067%5D%2C%20%5B6.198935%2C%20-75.586703%5D%2C%20%5B8.765137%2C%20-75.880761%5D%2C%20%5B3.477639%2C%20-76.502802%5D%2C%20%5B3.44529%2C%20-76.515461%5D%2C%20%5B6.192292%2C%20-75.590812%5D%2C%20%5B6.157832%2C%20-75.615038%5D%2C%20%5B3.526268%2C%20-76.304503%5D%2C%20%5B6.252685%2C%20-75.572258%5D%2C%20%5B6.18524%2C%20-75.655112%5D%2C%20%5B6.2797968%2C%20-75.4771856%5D%2C%20%5B6.16409%2C%20-75.619698%5D%2C%20%5B6.249861%2C%20-75.555807%5D%2C%20%5B6.226964%2C%20-75.583398%5D%2C%20%5B6.217094%2C%20-75.5763337%5D%2C%20%5B3.457118%2C%20-76.5303109%5D%2C%20%5B11.0005472%2C%20-74.7971622%5D%2C%20%5B6.163966%2C%20-75.6146645%5D%2C%20%5B6.2332124%2C%20-75.5806369%5D%2C%20%5B10.516076%2C%20-74.184664%5D%2C%20%5B6.337643%2C%20-75.547881%5D%2C%20%5B4.813303%2C%20-75.685819%5D%2C%20%5B4.812465%2C%20-75.689773%5D%2C%20%5B7.1133203%2C%20-73.1097406%5D%2C%20%5B4.635042%2C%20-74.117226%5D%2C%20%5B10.9895505%2C%20-74.783595%5D%2C%20%5B6.19923%2C%20-75.573714%5D%2C%20%5B6.250131%2C%20-75.605411%5D%2C%20%5B4.6145415%2C%20-74.1437685%5D%2C%20%5B4.6862353%2C%20-74.0462991%5D%2C%20%5B6.247578%2C%20-75.573185%5D%2C%20%5B4.614124%2C%20-74.138452%5D%2C%20%5B6.240323%2C%20-75.571541%5D%2C%20%5B6.169967%2C%20-75.584184%5D%2C%20%5B4.536472%2C%20-75.676541%5D%2C%20%5B4.681557%2C%20-74.16748%5D%2C%20%5B5.973035%2C%20-75.360636%5D%2C%20%5B6.223486%2C%20-75.568077%5D%2C%20%5B6.25379%2C%20-75.571827%5D%2C%20%5B4.676932%2C%20-74.148852%5D%2C%20%5B6.154332%2C%20-75.609246%5D%2C%20%5B2.444072%2C%20-76.613202%5D%2C%20%5B4.598211%2C%20-74.181268%5D%2C%20%5B4.612419%2C%20-74.085337%5D%2C%20%5B6.218239%2C%20-75.573206%5D%2C%20%5B6.1468495%2C%20-75.620527%5D%2C%20%5B6.174655%2C%20-75.587127%5D%2C%20%5B4.619223%2C%20-74.100039%5D%2C%20%5B6.148316%2C%20-75.626939%5D%2C%20%5B10.449112%2C%20-75.517236%5D%2C%20%5B4.681943%2C%20-74.088264%5D%2C%20%5B6.229164%2C%20-75.580007%5D%2C%20%5B4.614422%2C%20-74.089411%5D%2C%20%5B6.197113%2C%20-75.5788415%5D%2C%20%5B4.635208%2C%20-74.164613%5D%2C%20%5B10.993557%2C%20-74.783415%5D%2C%20%5B6.155472%2C%20-75.36982%5D%2C%20%5B4.686069%2C%20-74.079497%5D%2C%20%5B4.606549%2C%20-74.095587%5D%2C%20%5B6.249325%2C%20-75.572448%5D%2C%20%5B6.156782%2C%20-75.368938%5D%2C%20%5B7.900179%2C%20-72.532851%5D%2C%20%5B11.2456394%2C%20-74.2060771%5D%2C%20%5B4.537159%2C%20-75.6771487%5D%2C%20%5B10.8623%2C%20-74.772063%5D%2C%20%5B10.994397%2C%20-74.8239635%5D%2C%20%5B10.956885%2C%20-74.795462%5D%2C%20%5B10.952288%2C%20-74.778759%5D%2C%20%5B10.977574%2C%20-74.779802%5D%2C%20%5B11.01287%2C%20-74.795456%5D%2C%20%5B6.312321%2C%20-73.948278%5D%2C%20%5B3.473373%2C%20-76.507281%5D%2C%20%5B3.370434%2C%20-76.537066%5D%2C%20%5B3.416797%2C%20-76.476457%5D%2C%20%5B3.424293%2C%20-76.521449%5D%2C%20%5B3.460089%2C%20-76.512306%5D%2C%20%5B3.4595578%2C%20-76.5363799%5D%2C%20%5B10.398117%2C%20-75.521824%5D%2C%20%5B10.400288%2C%20-75.556719%5D%2C%20%5B10.423842%2C%20-75.5508667%5D%2C%20%5B10.395267%2C%20-75.50103%5D%2C%20%5B4.326003%2C%20-74.384501%5D%2C%20%5B4.4362086%2C%20-75.2274402%5D%2C%20%5B5.065699%2C%20-75.51979%5D%2C%20%5B5.070335%2C%20-75.5175805%5D%2C%20%5B5.0705393%2C%20-75.5182922%5D%2C%20%5B4.8097365%2C%20-75.7590065%5D%2C%20%5B4.988771%2C%20-75.608063%5D%2C%20%5B6.259668%2C%20-75.588385%5D%2C%20%5B6.247284%2C%20-75.577983%5D%2C%20%5B6.1742682%2C%20-75.4365778%5D%2C%20%5B6.234988%2C%20-75.595901%5D%2C%20%5B6.204871%2C%20-75.586106%5D%2C%20%5B6.09247%2C%20-75.631341%5D%2C%20%5B6.151552%2C%20-75.368314%5D%2C%20%5B6.179661%2C%20-75.556235%5D%2C%20%5B6.233611%2C%20-75.585046%5D%2C%20%5B6.180207%2C%20-75.595736%5D%2C%20%5B6.291414%2C%20-75.59549%5D%2C%20%5B6.173934%2C%20-75.612707%5D%2C%20%5B6.22593%2C%20-75.57842%5D%2C%20%5B6.190108%2C%20-75.59652%5D%2C%20%5B6.1781653%2C%20-75.5862352%5D%2C%20%5B6.2642445%2C%20-75.57102%5D%2C%20%5B6.3189485%2C%20-75.563848%5D%2C%20%5B6.201102%2C%20-75.584735%5D%2C%20%5B6.257697%2C%20-75.568678%5D%2C%20%5B6.2305345%2C%20-75.5802495%5D%2C%20%5B6.204668%2C%20-75.569365%5D%2C%20%5B6.266652%2C%20-75.59591%5D%2C%20%5B6.167892%2C%20-75.606804%5D%2C%20%5B6.185797%2C%20-75.585795%5D%2C%20%5B6.316282%2C%20-75.553432%5D%2C%20%5B8.8527025%2C%20-76.426944%5D%2C%20%5B6.231265%2C%20-75.569386%5D%2C%20%5B6.231041%2C%20-75.578652%5D%2C%20%5B6.210509%2C%20-75.498419%5D%2C%20%5B6.189322%2C%20-75.588938%5D%2C%20%5B6.283413%2C%20-75.565389%5D%2C%20%5B7.07507%2C%20-74.70212%5D%2C%20%5B6.231122%2C%20-75.580317%5D%2C%20%5B6.197428%2C%20-75.588807%5D%2C%20%5B6.1610039%2C%20-75.6192884%5D%2C%20%5B6.221921%2C%20-75.573476%5D%2C%20%5B6.168317%2C%20-75.583905%5D%2C%20%5B6.24815%2C%20-75.578143%5D%2C%20%5B6.3405245%2C%20-75.5193225%5D%2C%20%5B6.221725%2C%20-75.580305%5D%2C%20%5B6.326757%2C%20-75.540204%5D%2C%20%5B6.202278%2C%20-75.571383%5D%2C%20%5B6.227018%2C%20-75.585378%5D%2C%20%5B6.170016%2C%20-75.604002%5D%2C%20%5B6.248804%2C%20-75.578554%5D%2C%20%5B6.172011%2C%20-75.591576%5D%2C%20%5B6.252685%2C%20-75.572258%5D%2C%20%5B6.22996%2C%20-75.602733%5D%2C%20%5B6.207024%2C%20-75.565014%5D%2C%20%5B6.335917%2C%20-75.553615%5D%2C%20%5B6.198519%2C%20-75.556375%5D%2C%20%5B6.218305%2C%20-75.565971%5D%2C%20%5B7.98541%2C%20-75.423146%5D%2C%20%5B8.74553%2C%20-75.882086%5D%2C%20%5B8.172715%2C%20-76.060116%5D%2C%20%5B1.146751%2C%20-76.645344%5D%2C%20%5B1.201615%2C%20-77.272491%5D%2C%20%5B3.459952%2C%20-76.5102315%5D%2C%20%5B3.542586%2C%20-76.304463%5D%2C%20%5B3.49545%2C%20-76.4816186%5D%2C%20%5B3.525262%2C%20-76.296678%5D%2C%20%5B4.855593%2C%20-75.654875%5D%2C%20%5B4.8117218%2C%20-75.7586912%5D%2C%20%5B4.838703%2C%20-75.666811%5D%2C%20%5B5.691238%2C%20-76.659803%5D%2C%20%5B9.0056554%2C%20-73.9747029%5D%2C%20%5B8.9938498%2C%20-73.9723172%5D%2C%20%5B2.570695%2C%20-72.644551%5D%2C%20%5B4.134352%2C%20-73.613549%5D%2C%20%5B9.9778899%2C%20-73.8874962%5D%2C%20%5B11.534946%2C%20-72.901666%5D%2C%20%5B6.215859%2C%20-75.582057%5D%2C%20%5B4.685082%2C%20-74.168738%5D%2C%20%5B4.6151336%2C%20-74.0807816%5D%2C%20%5B4.614428%2C%20-74.090204%5D%2C%20%5B4.686588%2C%20-74.087364%5D%2C%20%5B4.776505%2C%20-74.041343%5D%2C%20%5B4.614691%2C%20-74.137257%5D%2C%20%5B4.7362228%2C%20-74.1344219%5D%2C%20%5B4.610757%2C%20-74.086062%5D%2C%20%5B4.6037303%2C%20-74.0831097%5D%2C%20%5B4.596146%2C%20-74.17536%5D%2C%20%5B6.259412%2C%20-75.569198%5D%2C%20%5B9.240301%2C%20-74.3599483%5D%2C%20%5B6.231302%2C%20-75.597372%5D%2C%20%5B6.25205%2C%20-75.6014565%5D%2C%20%5B11.549988%2C%20-72.907872%5D%2C%20%5B4.682244%2C%20-74.166236%5D%2C%20%5B8.091203%2C%20-76.728247%5D%2C%20%5B4.61033%2C%20-74.100853%5D%2C%20%5B5.0254188%2C%20-73.9771123%5D%2C%20%5B4.6894932%2C%20-74.1608078%5D%2C%20%5B4.615226%2C%20-74.070269%5D%2C%20%5B4.6984799%2C%20-74.1923921%5D%2C%20%5B4.656589%2C%20-74.05551%5D%2C%20%5B4.673943%2C%20-74.057034%5D%2C%20%5B6.345783%2C%20-75.566041%5D%2C%20%5B4.7691526%2C%20-74.1793784%5D%2C%20%5B4.7160239%2C%20-74.2329144%5D%2C%20%5B4.5963809%2C%20-74.1792583%5D%2C%20%5B4.6875816%2C%20-74.1688728%5D%2C%20%5B4.682046%2C%20-74.086429%5D%2C%20%5B4.7389353%2C%20-74.1389606%5D%2C%20%5B4.703878%2C%20-74.104848%5D%2C%20%5B4.603017%2C%20-74.071514%5D%2C%20%5B4.613256%2C%20-74.144558%5D%2C%20%5B4.6828167%2C%20-74.0471467%5D%2C%20%5B4.7007231%2C%20-74.228897%5D%2C%20%5B6.201114%2C%20-75.573024%5D%2C%20%5B7.1164393%2C%20-73.1113929%5D%2C%20%5B5.730514%2C%20-72.918457%5D%2C%20%5B7.114962%2C%20-73.125206%5D%2C%20%5B3.461927%2C%20-76.51707%5D%2C%20%5B3.454144%2C%20-76.528798%5D%2C%20%5B3.427047%2C%20-76.531351%5D%2C%20%5B3.493547%2C%20-76.515549%5D%2C%20%5B3.4488%2C%20-76.517244%5D%2C%20%5B3.454193%2C%20-76.511091%5D%2C%20%5B3.45125%2C%20-76.486629%5D%2C%20%5B3.456787%2C%20-76.523596%5D%2C%20%5B3.495498%2C%20-76.515886%5D%2C%20%5B10.4019355%2C%20-75.5217087%5D%2C%20%5B4.4162775%2C%20-75.259163%5D%2C%20%5B4.148812%2C%20-74.884467%5D%2C%20%5B5.0334552%2C%20-75.4629217%5D%2C%20%5B5.0262009%2C%20-75.4458713%5D%2C%20%5B4.5379436%2C%20-74.246277%5D%2C%20%5B5.070093%2C%20-75.515138%5D%2C%20%5B5.069749%2C%20-75.515975%5D%2C%20%5B5.070397%2C%20-75.5154815%5D%2C%20%5B4.776553%2C%20-74.041611%5D%2C%20%5B6.178842%2C%20-75.59699%5D%2C%20%5B6.155128%2C%20-75.629214%5D%2C%20%5B6.190651%2C%20-75.583185%5D%2C%20%5B6.241165%2C%20-75.571192%5D%2C%20%5B6.1791313%2C%20-75.3598813%5D%2C%20%5B6.350416%2C%20-75.511826%5D%2C%20%5B6.153252%2C%20-75.634541%5D%2C%20%5B6.229164%2C%20-75.580007%5D%2C%20%5B6.245544%2C%20-75.570315%5D%2C%20%5B6.176352%2C%20-75.590554%5D%2C%20%5B6.169406%2C%20-75.604869%5D%2C%20%5B6.215546%2C%20-75.568455%5D%2C%20%5B6.181405%2C%20-75.590964%5D%2C%20%5B6.230037%2C%20-75.582763%5D%2C%20%5B6.323114%2C%20-75.549091%5D%2C%20%5B6.34977%2C%20-75.514953%5D%2C%20%5B6.218239%2C%20-75.573206%5D%2C%20%5B6.275147%2C%20-75.5745955%5D%2C%20%5B6.200497%2C%20-75.5735375%5D%2C%20%5B6.229015%2C%20-75.574644%5D%2C%20%5B6.2067426%2C%20-75.5731295%5D%2C%20%5B6.249592%2C%20-75.565787%5D%2C%20%5B6.163276%2C%20-75.613304%5D%2C%20%5B6.232992%2C%20-75.579451%5D%2C%20%5B6.2157125%2C%20-75.5637545%5D%2C%20%5B6.244867%2C%20-75.577436%5D%2C%20%5B6.238129%2C%20-75.579007%5D%2C%20%5B6.269139%2C%20-75.565181%5D%2C%20%5B4.681129%2C%20-74.042494%5D%2C%20%5B5.6241077%2C%20-76.0959757%5D%2C%20%5B6.170708%2C%20-75.604612%5D%2C%20%5B6.258361%2C%20-75.567462%5D%2C%20%5B6.243467%2C%20-75.570226%5D%2C%20%5B6.235152%2C%20-75.616084%5D%2C%20%5B6.2142068%2C%20-75.5845625%5D%2C%20%5B6.251408%2C%20-75.562137%5D%2C%20%5B6.1992122%2C%20-75.5899736%5D%2C%20%5B6.243005%2C%20-75.570419%5D%2C%20%5B6.154536%2C%20-75.628888%5D%2C%20%5B6.239011%2C%20-75.594517%5D%2C%20%5B6.205575%2C%20-75.568815%5D%2C%20%5B7.599743%2C%20-74.813496%5D%2C%20%5B6.1585082%2C%20-75.6212185%5D%2C%20%5B6.15686%2C%20-75.606809%5D%2C%20%5B6.221071%2C%20-75.571327%5D%2C%20%5B6.3635763%2C%20-75.4956329%5D%2C%20%5B6.217141%2C%20-75.573892%5D%2C%20%5B6.288749%2C%20-75.571326%5D%2C%20%5B6.248315%2C%20-75.584277%5D%2C%20%5B6.155348%2C%20-75.613495%5D%2C%20%5B6.270666%2C%20-75.574529%5D%2C%20%5B6.226852%2C%20-75.578527%5D%2C%20%5B6.119196%2C%20-75.635064%5D%2C%20%5B6.183932%2C%20-75.584779%5D%2C%20%5B6.18701%2C%20-75.59411%5D%2C%20%5B6.243562%2C%20-75.570186%5D%2C%20%5B6.197155%2C%20-75.557353%5D%2C%20%5B6.23129%2C%20-75.592761%5D%2C%20%5B6.2158%2C%20-75.588463%5D%2C%20%5B6.377505%2C%20-75.443428%5D%2C%20%5B6.3179138%2C%20-75.5319688%5D%2C%20%5B4.8380551%2C%20-74.0291404%5D%2C%20%5B6.2112185%2C%20-75.5790385%5D%2C%20%5B6.19771%2C%20-75.589864%5D%2C%20%5B6.274403%2C%20-75.596774%5D%2C%20%5B6.130843%2C%20-75.633373%5D%2C%20%5B6.1727345%2C%20-75.607121%5D%2C%20%5B6.168073%2C%20-75.618385%5D%2C%20%5B6.166255%2C%20-75.606923%5D%2C%20%5B3.373187%2C%20-76.54891%5D%2C%20%5B6.229526%2C%20-75.582825%5D%2C%20%5B6.158011%2C%20-75.612581%5D%2C%20%5B6.184341%2C%20-75.592691%5D%2C%20%5B6.24278%2C%20-75.569657%5D%2C%20%5B6.192569%2C%20-75.5802595%5D%2C%20%5B6.320939%2C%20-75.562793%5D%2C%20%5B6.231936%2C%20-75.592752%5D%2C%20%5B6.229808%2C%20-75.580669%5D%2C%20%5B3.905456%2C%20-76.303406%5D%2C%20%5B4.870572%2C%20-75.62006%5D%2C%20%5B11.239748%2C%20-74.208609%5D%2C%20%5B11.239405%2C%20-74.211972%5D%2C%20%5B9.3027357%2C%20-75.399507%5D%2C%20%5B9.9731358%2C%20-73.8974158%5D%2C%20%5B3.535468%2C%20-76.30594%5D%2C%20%5B4.621575%2C%20-74.1657385%5D%2C%20%5B6.2858155%2C%20-75.3402868%5D%2C%20%5B6.165507%2C%20-75.595035%5D%2C%20%5B6.126763%2C%20-75.629132%5D%2C%20%5B4.612284%2C%20-74.086915%5D%2C%20%5B6.189797%2C%20-75.589449%5D%2C%20%5B4.708766%2C%20-74.216567%5D%2C%20%5B6.252685%2C%20-75.572258%5D%2C%20%5B6.174207%2C%20-75.582912%5D%2C%20%5B6.192606%2C%20-75.580432%5D%2C%20%5B7.981508%2C%20-75.201464%5D%2C%20%5B6.300956%2C%20-75.574368%5D%2C%20%5B3.2677296%2C%20-76.5393643%5D%2C%20%5B7.065789%2C%20-73.836247%5D%2C%20%5B10.921179%2C%20-74.799261%5D%2C%20%5B9.3030935%2C%20-74.5663257%5D%2C%20%5B6.249474%2C%20-75.602258%5D%2C%20%5B8.9900374%2C%20-73.9743663%5D%2C%20%5B6.244475%2C%20-75.570743%5D%2C%20%5B3.4499624%2C%20-76.5580797%5D%2C%20%5B8.882297%2C%20-75.78605%5D%2C%20%5B11.245563%2C%20-74.201063%5D%2C%20%5B6.255932%2C%20-75.570695%5D%2C%20%5B8.73717%2C%20-75.85524%5D%2C%20%5B6.150069%2C%20-75.631502%5D%2C%20%5B6.170131%2C%20-75.614649%5D%2C%20%5B4.603591%2C%20-74.081678%5D%2C%20%5B4.0835634%2C%20-76.2012161%5D%2C%20%5B10.908313%2C%20-74.78897%5D%2C%20%5B8.946808%2C%20-75.442156%5D%2C%20%5B4.340454%2C%20-74.364496%5D%2C%20%5B4.864418%2C%20-74.056956%5D%2C%20%5B6.338273%2C%20-75.560377%5D%2C%20%5B4.4389398%2C%20-75.2404256%5D%2C%20%5B6.169673%2C%20-75.586013%5D%2C%20%5B6.443067%2C%20-75.7285457%5D%2C%20%5B6.181149%2C%20-75.576811%5D%2C%20%5B6.253011%2C%20-75.607083%5D%2C%20%5B4.70146%2C%20-74.0348887%5D%2C%20%5B7.0759298%2C%20-73.8550547%5D%2C%20%5B6.207932%2C%20-75.559158%5D%2C%20%5B6.242043%2C%20-75.570822%5D%2C%20%5B6.173891%2C%20-75.63252%5D%2C%20%5B3.422907%2C%20-76.483731%5D%2C%20%5B6.226888%2C%20-75.579863%5D%2C%20%5B6.22764%2C%20-75.594805%5D%2C%20%5B3.262524%2C%20-76.539388%5D%2C%20%5B4.6465364%2C%20-74.0760314%5D%2C%20%5B6.167205%2C%20-75.6488955%5D%2C%20%5B6.166472%2C%20-75.608971%5D%2C%20%5B10.9135827%2C%20-74.8817412%5D%2C%20%5B4.147968%2C%20-74.891409%5D%2C%20%5B6.2457035%2C%20-75.5697895%5D%2C%20%5B4.539248%2C%20-75.671457%5D%2C%20%5B4.6508643%2C%20-74.056938%5D%2C%20%5B7.067898%2C%20-73.843293%5D%2C%20%5B7.898114%2C%20-72.527885%5D%2C%20%5B7.976419%2C%20-75.419657%5D%2C%20%5B6.259857%2C%20-75.594881%5D%2C%20%5B6.137389%2C%20-75.386291%5D%2C%20%5B6.15538%2C%20-75.369812%5D%2C%20%5B8.091093%2C%20-76.7272849%5D%2C%20%5B6.137389%2C%20-75.386291%5D%2C%20%5B6.274164%2C%20-75.562419%5D%2C%20%5B8.09077%2C%20-76.730959%5D%2C%20%5B3.474989%2C%20-76.5056145%5D%2C%20%5B6.228433%2C%20-75.594438%5D%2C%20%5B11.001729%2C%20-74.792551%5D%2C%20%5B7.105084%2C%20-73.116662%5D%2C%20%5B3.5036099%2C%20-76.4840647%5D%2C%20%5B6.249099%2C%20-75.573252%5D%2C%20%5B9.98291%2C%20-75.301932%5D%2C%20%5B6.287872%2C%20-75.583208%5D%2C%20%5B6.227214%2C%20-75.582112%5D%2C%20%5B6.152938%2C%20-75.614368%5D%2C%20%5B6.2369201%2C%20-75.576688%5D%2C%20%5B6.213602%2C%20-75.565853%5D%2C%20%5B6.167915%2C%20-75.585617%5D%2C%20%5B11.000969%2C%20-74.244601%5D%2C%20%5B6.3931822%2C%20-75.4460187%5D%2C%20%5B6.238268%2C%20-75.60538%5D%2C%20%5B10.388366%2C%20-75.515784%5D%2C%20%5B6.260364%2C%20-75.559497%5D%2C%20%5B3.262706%2C%20-76.5420479%5D%2C%20%5B10.336447%2C%20-75.408895%5D%2C%20%5B6.46845%2C%20-73.262906%5D%2C%20%5B4.7281964%2C%20-74.0953765%5D%2C%20%5B4.6221958%2C%20-74.118404%5D%2C%20%5B6.16625%2C%20-75.617685%5D%2C%20%5B5.065647%2C%20-75.520994%5D%2C%20%5B11.0122132%2C%20-74.794928%5D%2C%20%5B5.6546586%2C%20-75.8800878%5D%2C%20%5B6.135619%2C%20-75.268036%5D%2C%20%5B6.7725499%2C%20-74.8008249%5D%2C%20%5B10.9981181%2C%20-74.8211869%5D%2C%20%5B8.767051%2C%20-75.876359%5D%2C%20%5B6.213602%2C%20-75.565853%5D%2C%20%5B6.200642%2C%20-75.588665%5D%2C%20%5B10.762174%2C%20-74.755807%5D%2C%20%5B10.423209%2C%20-75.546358%5D%2C%20%5B9.7391627%2C%20-75.5250985%5D%2C%20%5B5.689834%2C%20-76.659405%5D%2C%20%5B3.42005%2C%20-76.507227%5D%2C%20%5B4.68873%2C%20-74.09693%5D%2C%20%5B4.437183%2C%20-75.226405%5D%2C%20%5B6.246047%2C%20-75.58551%5D%2C%20%5B1.618194%2C%20-75.610687%5D%2C%20%5B8.738558%2C%20-75.86809%5D%2C%20%5B3.422266%2C%20-76.5198525%5D%2C%20%5B5.560022%2C%20-73.3511397%5D%2C%20%5B6.225675%2C%20-75.56815%5D%2C%20%5B6.083446%2C%20-75.337372%5D%2C%20%5B6.252717%2C%20-75.570984%5D%2C%20%5B6.214179%2C%20-75.5734555%5D%2C%20%5B6.2305045%2C%20-75.5810865%5D%2C%20%5B4.92202%2C%20-75.0684412%5D%2C%20%5B6.651745%2C%20-75.465643%5D%2C%20%5B6.25249%2C%20-75.572048%5D%2C%20%5B11.5344405%2C%20-72.932166%5D%2C%20%5B7.756027%2C%20-76.656444%5D%2C%20%5B9.324131%2C%20-75.292612%5D%2C%20%5B6.031199%2C%20-75.428447%5D%2C%20%5B4.6208118%2C%20-74.0814149%5D%2C%20%5B5.694252%2C%20-76.660341%5D%2C%20%5B4.844539%2C%20-75.675194%5D%2C%20%5B5.689628%2C%20-76.658666%5D%2C%20%5B3.55903%2C%20-76.291001%5D%2C%20%5B10.3847182%2C%20-75.4716405%5D%2C%20%5B6.137389%2C%20-75.386291%5D%2C%20%5B6.151491%2C%20-75.614185%5D%2C%20%5B6.257484%2C%20-75.605738%5D%2C%20%5B10.467802%2C%20-73.244434%5D%2C%20%5B6.1407735%2C%20-75.377156%5D%2C%20%5B5.962991%2C%20-75.734087%5D%2C%20%5B11.247126%2C%20-74.202497%5D%2C%20%5B6.2159385%2C%20-75.5813305%5D%2C%20%5B6.247209%2C%20-75.610405%5D%2C%20%5B7.878584%2C%20-76.633689%5D%2C%20%5B8.409325%2C%20-75.58287%5D%2C%20%5B4.596381%2C%20-74.1385638%5D%2C%20%5B6.2085835%2C%20-75.589583%5D%2C%20%5B6.0949731%2C%20-75.4780235%5D%2C%20%5B6.273499%2C%20-75.583516%5D%2C%20%5B6.2138849%2C%20-75.6042828%5D%2C%20%5B8.663346%2C%20-75.142437%5D%2C%20%5B7.104415%2C%20-73.118238%5D%2C%20%5B6.551777%2C%20-75.82201%5D%2C%20%5B4.812131%2C%20-75.686551%5D%2C%20%5B4.438351%2C%20-75.237484%5D%2C%20%5B11.0081356%2C%20-74.2465292%5D%2C%20%5B6.500947%2C%20-75.742768%5D%2C%20%5B4.299026%2C%20-74.807605%5D%2C%20%5B6.201256%2C%20-75.588418%5D%2C%20%5B4.8034252%2C%20-75.6864461%5D%2C%20%5B7.919397%2C%20-72.502039%5D%2C%20%5B5.3358305%2C%20-72.3956465%5D%2C%20%5B3.477038%2C%20-76.483664%5D%2C%20%5B8.7583601%2C%20-76.5318337%5D%2C%20%5B6.203764%2C%20-75.581878%5D%2C%20%5B6.213602%2C%20-75.565853%5D%2C%20%5B6.038554%2C%20-75.703159%5D%2C%20%5B8.091929%2C%20-76.730324%5D%2C%20%5B6.223338%2C%20-75.586466%5D%2C%20%5B4.603814%2C%20-74.094731%5D%2C%20%5B7.988657%2C%20-75.195572%5D%2C%20%5B6.137389%2C%20-75.386291%5D%2C%20%5B6.230316%2C%20-75.581686%5D%2C%20%5B2.195701%2C%20-75.630604%5D%2C%20%5B4.592112%2C%20-74.084239%5D%2C%20%5B3.822957%2C%20-76.519754%5D%2C%20%5B6.206246%2C%20-75.587557%5D%2C%20%5B4.7414533%2C%20-74.1224273%5D%2C%20%5B6.770605%2C%20-74.79956%5D%2C%20%5B6.261834%2C%20-75.613359%5D%2C%20%5B9.30778%2C%20-75.405403%5D%2C%20%5B8.309821%2C%20-73.6012695%5D%2C%20%5B4.459309%2C%20-74.635665%5D%2C%20%5B9.791137%2C%20-74.784161%5D%2C%20%5B3.683407%2C%20-76.314173%5D%2C%20%5B6.246976%2C%20-75.583652%5D%2C%20%5B6.153383%2C%20-75.3743865%5D%2C%20%5B6.153383%2C%20-75.3743865%5D%2C%20%5B6.213602%2C%20-75.565853%5D%2C%20%5B9.3015415%2C%20-75.391671%5D%2C%20%5B10.470348%2C%20-73.245775%5D%2C%20%5B5.071382%2C%20-75.515862%5D%2C%20%5B4.7274119%2C%20-74.0953667%5D%2C%20%5B6.486123%2C%20-75.394292%5D%2C%20%5B6.208605%2C%20-75.5549084%5D%2C%20%5B4.812025%2C%20-75.685634%5D%2C%20%5B4.8099235%2C%20-75.6938685%5D%2C%20%5B8.309791%2C%20-75.144832%5D%2C%20%5B6.274407%2C%20-75.571685%5D%2C%20%5B6.964764%2C%20-75.41853%5D%2C%20%5B3.423108%2C%20-76.504054%5D%2C%20%5B8.882121%2C%20-75.791477%5D%2C%20%5B8.761576%2C%20-75.872707%5D%2C%20%5B6.235806%2C%20-75.574099%5D%2C%20%5B10.975834%2C%20-74.798519%5D%2C%20%5B6.213602%2C%20-75.565853%5D%2C%20%5B6.213602%2C%20-75.565853%5D%2C%20%5B6.160633%2C%20-75.628826%5D%2C%20%5B5.198177%2C%20-74.893176%5D%2C%20%5B3.439235%2C%20-76.514865%5D%2C%20%5B10.3942831%2C%20-75.5087596%5D%2C%20%5B6.982813%2C%20-73.05022%5D%2C%20%5B4.897929%2C%20-75.885482%5D%2C%20%5B6.243943%2C%20-75.563218%5D%2C%20%5B10.591012%2C%20-74.184508%5D%2C%20%5B6.0423805%2C%20-74.993487%5D%2C%20%5B6.4917809%2C%20-74.4025812%5D%2C%20%5B11.245612%2C%20-74.201847%5D%2C%20%5B3.441484%2C%20-76.526504%5D%2C%20%5B2.922751%2C%20-75.290375%5D%2C%20%5B6.250005%2C%20-75.55993%5D%2C%20%5B3.446764%2C%20-76.52714%5D%2C%20%5B4.539022%2C%20-75.675709%5D%2C%20%5B9.245877%2C%20-74.755816%5D%2C%20%5B6.323114%2C%20-75.549091%5D%2C%20%5B6.239863%2C%20-75.569157%5D%2C%20%5B9.230177%2C%20-74.74341%5D%2C%20%5B3.4595578%2C%20-76.5363799%5D%2C%20%5B4.86254%2C%20-74.906524%5D%2C%20%5B6.170086%2C%20-75.337199%5D%2C%20%5B10.889176%2C%20-72.850171%5D%2C%20%5B7.5831914%2C%20-75.4087213%5D%2C%20%5B6.274184%2C%20-75.572031%5D%2C%20%5B9.300529%2C%20-75.387225%5D%2C%20%5B10.244199%2C%20-75.3447205%5D%2C%20%5B6.4586431%2C%20-75.5605299%5D%2C%20%5B10.965538%2C%20-74.782596%5D%2C%20%5B6.0589192%2C%20-75.3877615%5D%2C%20%5B5.060781%2C%20-75.499281%5D%2C%20%5B6.247681%2C%20-75.560945%5D%2C%20%5B6.346299%2C%20-75.521948%5D%2C%20%5B6.196895%2C%20-75.590848%5D%2C%20%5B9.717094%2C%20-75.122478%5D%2C%20%5B8.886383%2C%20-75.78957%5D%2C%20%5B8.095197%2C%20-76.728318%5D%2C%20%5B6.227926%2C%20-75.582871%5D%2C%20%5B10.462395%2C%20-73.2490303%5D%2C%20%5B6.336593%2C%20-75.568701%5D%2C%20%5B6.517714%2C%20-75.818206%5D%2C%20%5B4.606053%2C%20-74.088617%5D%2C%20%5B5.5272587%2C%20-75.4619773%5D%2C%20%5B8.091344%2C%20-76.729309%5D%2C%20%5B10.485918%2C%20-73.261729%5D%2C%20%5B6.1305202%2C%20-75.3802095%5D%2C%20%5B6.538568%2C%20-75.086097%5D%2C%20%5B6.089245%2C%20-75.337448%5D%2C%20%5B3.8824715%2C%20-77.0319635%5D%2C%20%5B10.796028%2C%20-74.914993%5D%2C%20%5B6.4571392%2C%20-75.558243%5D%2C%20%5B6.81354%2C%20-75.4900599%5D%2C%20%5B6.652832%2C%20-75.462857%5D%2C%20%5B6.964889%2C%20-75.418662%5D%2C%20%5B5.599906%2C%20-75.818183%5D%2C%20%5B6.2766249%2C%20-75.622612%5D%2C%20%5B2.442002%2C%20-76.610998%5D%2C%20%5B5.689938%2C%20-76.65707%5D%2C%20%5B10.389077%2C%20-75.468356%5D%2C%20%5B6.5053499%2C%20-75.7464982%5D%2C%20%5B7.980645%2C%20-75.201089%5D%2C%20%5B5.655717%2C%20-75.879031%5D%2C%20%5B6.6697803%2C%20-75.8984851%5D%2C%20%5B2.112925%2C%20-74.7814708%5D%2C%20%5B10.40737%2C%20-75.49517%5D%2C%20%5B10.4647686%2C%20-73.2941667%5D%2C%20%5B10.3310353%2C%20-75.4236127%5D%2C%20%5B5.962266%2C%20-75.733765%5D%2C%20%5B1.2000221%2C%20-77.278973%5D%2C%20%5B7.0711442%2C%20-73.1744777%5D%2C%20%5B6.988595%2C%20-73.0534129%5D%2C%20%5B4.8006999%2C%20-75.7451075%5D%2C%20%5B6.1822739%2C%20-75.6010409%5D%2C%20%5B6.556283%2C%20-75.8262107%5D%2C%20%5B4.5366571%2C%20-75.6785436%5D%2C%20%5B6.2010716%2C%20-75.5754176%5D%2C%20%5B8.0908275%2C%20-76.7334429%5D%2C%20%5B3.5453343%2C%20-76.5650676%5D%2C%20%5B8.3114404%2C%20-73.6175754%5D%2C%20%5B6.1732057%2C%20-75.342091%5D%2C%20%5B6.1958064%2C%20-75.5608401%5D%2C%20%5B4.5388122%2C%20-75.6778935%5D%2C%20%5B6.0283884%2C%20-75.4266951%5D%2C%20%5B7.3799785%2C%20-72.6514445%5D%2C%20%5B6.2427914%2C%20-75.5615767%5D%2C%20%5B6.676633%2C%20-75.2148145%5D%2C%20%5B7.8848346%2C%20-76.635924%5D%2C%20%5B7.8813306%2C%20-76.62667%5D%2C%20%5B8.170271%2C%20-76.056326%5D%2C%20%5B7.981865%2C%20-75.198763%5D%2C%20%5B7.980645%2C%20-75.201089%5D%2C%20%5B7.662632%2C%20-76.6797463%5D%2C%20%5B6.2826635%2C%20-75.3328738%5D%2C%20%5B10.2524705%2C%20-75.3648181%5D%2C%20%5B8.46707%2C%20-74.5375587%5D%2C%20%5B10.434459%2C%20-75.530746%5D%2C%20%5B10.392272%2C%20-75.546093%5D%2C%20%5B9.2384%2C%20-74.748213%5D%2C%20%5B9.235168%2C%20-74.743012%5D%2C%20%5B8.88014%2C%20-75.796853%5D%2C%20%5B10.0280955%2C%20-73.2349985%5D%2C%20%5B8.8907163%2C%20-75.7967567%5D%2C%20%5B8.251732%2C%20-73.355281%5D%2C%20%5B8.294267%2C%20-73.3918459%5D%2C%20%5B8.883659%2C%20-75.782759%5D%2C%20%5B8.95897%2C%20-73.622653%5D%2C%20%5B10.467195%2C%20-73.244063%5D%2C%20%5B8.31695%2C%20-73.59186%5D%2C%20%5B9.6614359%2C%20-73.7508079%5D%2C%20%5B10.033169%2C%20-73.235146%5D%2C%20%5B9.3229609%2C%20-74.5749213%5D%2C%20%5B8.764283%2C%20-75.87833%5D%2C%20%5B8.407217%2C%20-75.583348%5D%2C%20%5B8.9506361%2C%20-75.4470178%5D%2C%20%5B2.389993%2C%20-75.889966%5D%2C%20%5B11.2724265%2C%20-73.3115252%5D%2C%20%5B10.52319%2C%20-74.188744%5D%2C%20%5B9.9773873%2C%20-73.8881991%5D%2C%20%5B10.591272%2C%20-74.184491%5D%2C%20%5B9.003507%2C%20-73.9913737%5D%2C%20%5B8.2422%2C%20-73.357094%5D%2C%20%5B8.237673%2C%20-73.355592%5D%2C%20%5B7.080455%2C%20-70.746832%5D%2C%20%5B7.14177%2C%20-73.134183%5D%2C%20%5B9.284275%2C%20-75.402551%5D%2C%20%5B3.764094%2C%20-76.332969%5D%2C%20%5B3.477444%2C%20-76.51674%5D%2C%20%5B11.0683015%2C%20-72.7638164%5D%2C%20%5B4.6063311%2C%20-72.931387%5D%2C%20%5B11.3834175%2C%20-72.2593775%5D%2C%20%5B11.374888%2C%20-72.242838%5D%2C%20%5B1.157796%2C%20-76.6509975%5D%2C%20%5B6.259543%2C%20-75.568328%5D%2C%20%5B9.299777%2C%20-75.3934%5D%2C%20%5B6.239445%2C%20-75.59984%5D%2C%20%5B3.4514555%2C%20-76.4855925%5D%2C%20%5B7.9948295%2C%20-75.1954535%5D%2C%20%5B1.28326%2C%20-77.4807997%5D%2C%20%5B7.882761%2C%20-76.6334473%5D%5D%2C%0A%20%20%20%20%20%20%20%20%20%20%20%20%20%20%20%20%7B%22blur%22%3A%2015%2C%20%22maxZoom%22%3A%2018%2C%20%22minOpacity%22%3A%200.5%2C%20%22radius%22%3A%2025%7D%0A%20%20%20%20%20%20%20%20%20%20%20%20%29.addTo%28map_3909975c8cd241a9bd91ab2db7e658e6%29%3B%0A%20%20%20%20%20%20%20%20%0A%3C/script%3E onload=\"this.contentDocument.open();this.contentDocument.write(    decodeURIComponent(this.getAttribute('data-html')));this.contentDocument.close();\" allowfullscreen webkitallowfullscreen mozallowfullscreen></iframe></div></div>"
      ],
      "text/plain": [
       "<folium.folium.Map at 0x202ec4715b0>"
      ]
     },
     "execution_count": 78,
     "metadata": {},
     "output_type": "execute_result"
    }
   ],
   "source": [
    "import folium\n",
    "from folium.plugins import HeatMap\n",
    "hmap2 = folium.Map(location = [6.217, -75.567])\n",
    "hm_eco2 = HeatMap(list(zip(df.lat.values, df.lon.values)))\n",
    "hmap2.add_child(hm_eco2)"
   ]
  },
  {
   "cell_type": "markdown",
   "metadata": {},
   "source": [
    "## Introducción a regresión lineal"
   ]
  },
  {
   "cell_type": "markdown",
   "metadata": {},
   "source": [
    "Definido un conjunto de puntos con coordenadas x,y; se pretende encontrar la mejor aproximación a una ecuación de la forma *y = mx+b*, donde m y b son los parámetros que se obtienen por el método de mínimos cuadrados (Least squares).\n",
    "\n",
    "+ Parámetro m: pendiente de la recta\n",
    "+ Parámetro b: intercepto con el eje Y"
   ]
  },
  {
   "cell_type": "code",
   "execution_count": 79,
   "metadata": {},
   "outputs": [],
   "source": [
    "x = [7,1,10,5,4,3,13,10,2]\n",
    "x = np.asarray(x)\n",
    "\n",
    "y = [2,9,2,5,7,11,2,5,14]\n",
    "y = np.asarray(y)"
   ]
  },
  {
   "cell_type": "code",
   "execution_count": 80,
   "metadata": {},
   "outputs": [
    {
     "data": {
      "image/png": "[encoded data removed]",
      "text/plain": [
       "<Figure size 432x288 with 1 Axes>"
      ]
     },
     "metadata": {
      "needs_background": "light"
     },
     "output_type": "display_data"
    }
   ],
   "source": [
    "plt.scatter(x,y,label='data',color='blue');"
   ]
  },
  {
   "cell_type": "code",
   "execution_count": 81,
   "metadata": {},
   "outputs": [
    {
     "name": "stdout",
     "output_type": "stream",
     "text": [
      "m = [-0.84253247]b = 11.482142857142856\n"
     ]
    }
   ],
   "source": [
    "from sklearn.linear_model import LinearRegression\n",
    "regresion_lineal = LinearRegression()\n",
    "regresion_lineal.fit(x.reshape(-1,1),y)\n",
    "print('m = '+str(regresion_lineal.coef_) + 'b = ' +str(regresion_lineal.intercept_))"
   ]
  },
  {
   "cell_type": "code",
   "execution_count": 83,
   "metadata": {},
   "outputs": [
    {
     "data": {
      "image/png": "[encoded data removed]",
      "text/plain": [
       "<Figure size 432x288 with 1 Axes>"
      ]
     },
     "metadata": {
      "needs_background": "light"
     },
     "output_type": "display_data"
    }
   ],
   "source": [
    "x = np.arange(0.0,15,1)\n",
    "y = regresion_lineal.intercept_ + regresion_lineal.coef_*x\n",
    "plt.plot(x,y);"
   ]
  }
 ],
 "metadata": {
  "colab": {
   "collapsed_sections": [],
   "name": "DS_Bitácora_10_Clases.ipynb",
   "provenance": []
  },
  "kernelspec": {
   "display_name": "Python 3",
   "language": "python",
   "name": "python3"
  },
  "language_info": {
   "codemirror_mode": {
    "name": "ipython",
    "version": 3
   },
   "file_extension": ".py",
   "mimetype": "text/x-python",
   "name": "python",
   "nbconvert_exporter": "python",
   "pygments_lexer": "ipython3",
   "version": "3.8.5"
  }
 },
 "nbformat": 4,
 "nbformat_minor": 4
}
