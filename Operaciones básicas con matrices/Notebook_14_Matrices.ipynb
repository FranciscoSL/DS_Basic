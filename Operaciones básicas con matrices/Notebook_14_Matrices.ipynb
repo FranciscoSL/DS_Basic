{
 "cells": [
  {
   "cell_type": "markdown",
   "id": "36d38187",
   "metadata": {},
   "source": [
    "# Vectores"
   ]
  },
  {
   "cell_type": "code",
   "execution_count": null,
   "id": "28ebfd70",
   "metadata": {},
   "outputs": [],
   "source": [
    "# Vector como lista de Python\n",
    "v1 = [2, 4, 6]\n",
    "v1"
   ]
  },
  {
   "cell_type": "code",
   "execution_count": 104,
   "id": "3179c1e8",
   "metadata": {},
   "outputs": [
    {
     "data": {
      "text/plain": [
       "array([1., 1., 1.])"
      ]
     },
     "execution_count": 104,
     "metadata": {},
     "output_type": "execute_result"
    }
   ],
   "source": [
    "# Vectores con numpy\n",
    "import numpy as np\n",
    "\n",
    "v2 = np.ones(3) # vector de solo unos\n",
    "v2"
   ]
  },
  {
   "cell_type": "code",
   "execution_count": 105,
   "id": "6f2538c4",
   "metadata": {},
   "outputs": [
    {
     "data": {
      "text/plain": [
       "array([1, 3, 5])"
      ]
     },
     "execution_count": 105,
     "metadata": {},
     "output_type": "execute_result"
    }
   ],
   "source": [
    "v3 = np.array([1, 3, 5]) # pasando una lista a las arrays de numpy\n",
    "v3"
   ]
  },
  {
   "cell_type": "code",
   "execution_count": 106,
   "id": "02788fe2",
   "metadata": {},
   "outputs": [
    {
     "data": {
      "text/plain": [
       "array([1, 2, 3, 4, 5, 6, 7])"
      ]
     },
     "execution_count": 106,
     "metadata": {},
     "output_type": "execute_result"
    }
   ],
   "source": [
    "v4 = np.arange(1, 8) # utilizando la funcion arange de numpy\n",
    "v4"
   ]
  },
  {
   "cell_type": "code",
   "execution_count": 107,
   "id": "7f6afe96",
   "metadata": {},
   "outputs": [],
   "source": [
    "import matplotlib.pyplot as plt\n",
    "from warnings import filterwarnings\n",
    "\n",
    "%matplotlib inline\n",
    "filterwarnings('ignore')"
   ]
  },
  {
   "cell_type": "code",
   "execution_count": 108,
   "id": "33368830",
   "metadata": {},
   "outputs": [],
   "source": [
    "def move_spines():\n",
    "    \"\"\"Crea la figura de pyplot y los ejes. Mueve las lineas de la izquierda y de abajo\n",
    "    para que se intersecten con el origen. Elimina las lineas de la derecha y la de arriba.\n",
    "    Devuelve los ejes.\"\"\"\n",
    "    fix, ax = plt.subplots()\n",
    "    for spine in [\"left\", \"bottom\"]:\n",
    "        ax.spines[spine].set_position(\"zero\")\n",
    "    \n",
    "    for spine in [\"right\", \"top\"]:\n",
    "        ax.spines[spine].set_color(\"none\")\n",
    "    \n",
    "    return ax\n",
    "\n",
    "def vect_fig(): \n",
    "    \"\"\"Genera el grafico de los vectores en el plano\"\"\"\n",
    "    ax = move_spines()\n",
    "    \n",
    "    ax.set_xlim(-5, 5)\n",
    "    ax.set_ylim(-5, 5)\n",
    "    ax.grid()\n",
    "    vecs = [[2, 4], [-3, 3], [-4, -3.5]] # lista de vectores\n",
    "    for v in vecs:\n",
    "        ax.annotate(\" \", xy=v, xytext=[0, 0],\n",
    "                   arrowprops=dict(facecolor=\"blue\",\n",
    "                                  shrink=0,\n",
    "                                  alpha=0.7,\n",
    "                                  width=0.5))\n",
    "        ax.text(1.1 * v[0], 1.1 * v[1], v)"
   ]
  },
  {
   "cell_type": "code",
   "execution_count": 109,
   "id": "125bf333",
   "metadata": {},
   "outputs": [
    {
     "data": {
      "image/png": "[encoded data removed]",
      "text/plain": [
       "<Figure size 432x288 with 1 Axes>"
      ]
     },
     "metadata": {
      "needs_background": "light"
     },
     "output_type": "display_data"
    }
   ],
   "source": [
    "vect_fig() # crea el gráfico"
   ]
  },
  {
   "cell_type": "code",
   "execution_count": 110,
   "id": "ca41be67",
   "metadata": {},
   "outputs": [
    {
     "data": {
      "text/plain": [
       "(array([1, 2, 3, 4]), array([2, 4, 6, 8]))"
      ]
     },
     "execution_count": 110,
     "metadata": {},
     "output_type": "execute_result"
    }
   ],
   "source": [
    "# Operaciones con vectores\n",
    "\n",
    "# Ejemplo en Python\n",
    "x = np.arange(1, 5)\n",
    "y = np.array([2, 4, 6, 8])\n",
    "x, y"
   ]
  },
  {
   "cell_type": "code",
   "execution_count": 111,
   "id": "537a8311",
   "metadata": {},
   "outputs": [
    {
     "data": {
      "text/plain": [
       "array([ 3,  6,  9, 12])"
      ]
     },
     "execution_count": 111,
     "metadata": {},
     "output_type": "execute_result"
    }
   ],
   "source": [
    "# sumando dos vectores numpy\n",
    "x + y"
   ]
  },
  {
   "cell_type": "code",
   "execution_count": 112,
   "id": "69e99f11",
   "metadata": {},
   "outputs": [
    {
     "data": {
      "text/plain": [
       "array([-1, -2, -3, -4])"
      ]
     },
     "execution_count": 112,
     "metadata": {},
     "output_type": "execute_result"
    }
   ],
   "source": [
    "# restando dos vectores\n",
    "x - y"
   ]
  },
  {
   "cell_type": "code",
   "execution_count": 113,
   "id": "28870d96",
   "metadata": {},
   "outputs": [
    {
     "data": {
      "text/plain": [
       "array([2, 4, 6, 8])"
      ]
     },
     "execution_count": 113,
     "metadata": {},
     "output_type": "execute_result"
    }
   ],
   "source": [
    "# multiplicando por un escalar\n",
    "x * 2"
   ]
  },
  {
   "cell_type": "code",
   "execution_count": 114,
   "id": "258fcb07",
   "metadata": {},
   "outputs": [
    {
     "data": {
      "text/plain": [
       "array([ 6, 12, 18, 24])"
      ]
     },
     "execution_count": 114,
     "metadata": {},
     "output_type": "execute_result"
    }
   ],
   "source": [
    "y * 3"
   ]
  },
  {
   "cell_type": "code",
   "execution_count": 115,
   "id": "365e9bec",
   "metadata": {},
   "outputs": [
    {
     "data": {
      "text/plain": [
       "60"
      ]
     },
     "execution_count": 115,
     "metadata": {},
     "output_type": "execute_result"
    }
   ],
   "source": [
    "# Producto escalar de vectores\n",
    "\n",
    "# Calculando el producto escalar de los vectores x e y\n",
    "x @ y"
   ]
  },
  {
   "cell_type": "code",
   "execution_count": 116,
   "id": "096d1a66",
   "metadata": {},
   "outputs": [
    {
     "data": {
      "text/plain": [
       "(60, 60)"
      ]
     },
     "execution_count": 116,
     "metadata": {},
     "output_type": "execute_result"
    }
   ],
   "source": [
    "# o lo que es lo mismo:\n",
    "sum(x * y), np.dot(x, y)"
   ]
  },
  {
   "cell_type": "code",
   "execution_count": 117,
   "id": "03893dc6",
   "metadata": {},
   "outputs": [
    {
     "data": {
      "text/plain": [
       "5.477225575051661"
      ]
     },
     "execution_count": 117,
     "metadata": {},
     "output_type": "execute_result"
    }
   ],
   "source": [
    "# Calculando la norma del vector X\n",
    "np.linalg.norm(x)"
   ]
  },
  {
   "cell_type": "code",
   "execution_count": 118,
   "id": "e0ca1a51",
   "metadata": {},
   "outputs": [
    {
     "data": {
      "text/plain": [
       "5.477225575051661"
      ]
     },
     "execution_count": 118,
     "metadata": {},
     "output_type": "execute_result"
    }
   ],
   "source": [
    "# otra forma de calcular la norma de x\n",
    "np.sqrt(x @ x)"
   ]
  },
  {
   "cell_type": "code",
   "execution_count": 119,
   "id": "eeddf893",
   "metadata": {},
   "outputs": [
    {
     "data": {
      "text/plain": [
       "0"
      ]
     },
     "execution_count": 119,
     "metadata": {},
     "output_type": "execute_result"
    }
   ],
   "source": [
    "# vectores ortogonales\n",
    "v1 = np.array([3, 4])\n",
    "v2 = np.array([4, -3])\n",
    "\n",
    "v1 @ v2"
   ]
  },
  {
   "cell_type": "markdown",
   "id": "7c6e1c7c",
   "metadata": {},
   "source": [
    "### Matrices"
   ]
  },
  {
   "cell_type": "code",
   "execution_count": null,
   "id": "1736d6f4",
   "metadata": {},
   "outputs": [],
   "source": [
    "import numpy as np\n",
    "\n",
    "# Crear un vector como fila\n",
    "vector_row = np.array([1, 2, 3])\n",
    "\n",
    "# Crear un vector como columna\n",
    "vector_column = np.array([[1],\n",
    "                          [2],\n",
    "                          [3]])"
   ]
  },
  {
   "cell_type": "code",
   "execution_count": 89,
   "id": "970c5687",
   "metadata": {},
   "outputs": [],
   "source": [
    "import numpy as np\n",
    "M = np.array([[1, 2, 3],\n",
    " [4, 5, 6],\n",
    " [7, 8, 9]])\n",
    "v = np.array([[1],\n",
    " [2],\n",
    " [3]])"
   ]
  },
  {
   "cell_type": "code",
   "execution_count": 90,
   "id": "09585d70",
   "metadata": {},
   "outputs": [
    {
     "data": {
      "text/plain": [
       "array([[1, 2, 3],\n",
       "       [4, 5, 6],\n",
       "       [7, 8, 9]])"
      ]
     },
     "execution_count": 90,
     "metadata": {},
     "output_type": "execute_result"
    }
   ],
   "source": [
    "M"
   ]
  },
  {
   "cell_type": "code",
   "execution_count": 91,
   "id": "47c3c64d",
   "metadata": {},
   "outputs": [
    {
     "data": {
      "text/plain": [
       "9"
      ]
     },
     "execution_count": 91,
     "metadata": {},
     "output_type": "execute_result"
    }
   ],
   "source": [
    "M.size"
   ]
  },
  {
   "cell_type": "code",
   "execution_count": 94,
   "id": "5827d90f",
   "metadata": {},
   "outputs": [
    {
     "data": {
      "text/plain": [
       "1"
      ]
     },
     "execution_count": 94,
     "metadata": {},
     "output_type": "execute_result"
    }
   ],
   "source": [
    "np.max(M)\n",
    "np.min(M)"
   ]
  },
  {
   "cell_type": "code",
   "execution_count": 96,
   "id": "055d5892",
   "metadata": {},
   "outputs": [
    {
     "data": {
      "text/plain": [
       "array([[1],\n",
       "       [2],\n",
       "       [3],\n",
       "       [4],\n",
       "       [5],\n",
       "       [6],\n",
       "       [7],\n",
       "       [8],\n",
       "       [9]])"
      ]
     },
     "execution_count": 96,
     "metadata": {},
     "output_type": "execute_result"
    }
   ],
   "source": [
    "M.reshape(9, 1)"
   ]
  },
  {
   "cell_type": "code",
   "execution_count": 6,
   "id": "f99319e5",
   "metadata": {},
   "outputs": [
    {
     "name": "stdout",
     "output_type": "stream",
     "text": [
      "(3, 3)\n"
     ]
    }
   ],
   "source": [
    "print(M.shape)"
   ]
  },
  {
   "cell_type": "code",
   "execution_count": 7,
   "id": "4fa76571",
   "metadata": {},
   "outputs": [
    {
     "data": {
      "text/plain": [
       "(3, 3)"
      ]
     },
     "execution_count": 7,
     "metadata": {},
     "output_type": "execute_result"
    }
   ],
   "source": [
    "M.shape"
   ]
  },
  {
   "cell_type": "code",
   "execution_count": 8,
   "id": "62231382",
   "metadata": {},
   "outputs": [
    {
     "data": {
      "text/plain": [
       "(3, 1)"
      ]
     },
     "execution_count": 8,
     "metadata": {},
     "output_type": "execute_result"
    }
   ],
   "source": [
    "v.shape"
   ]
  },
  {
   "cell_type": "code",
   "execution_count": 9,
   "id": "a85e7493",
   "metadata": {},
   "outputs": [
    {
     "data": {
      "text/plain": [
       "(3,)"
      ]
     },
     "execution_count": 9,
     "metadata": {},
     "output_type": "execute_result"
    }
   ],
   "source": [
    "v_single_dim = np.array([1, 2, 3])\n",
    "v_single_dim.shape"
   ]
  },
  {
   "cell_type": "code",
   "execution_count": 10,
   "id": "b5813268",
   "metadata": {},
   "outputs": [
    {
     "name": "stdout",
     "output_type": "stream",
     "text": [
      "[[2]\n",
      " [4]\n",
      " [6]]\n"
     ]
    }
   ],
   "source": [
    "print(v + v)"
   ]
  },
  {
   "cell_type": "code",
   "execution_count": 11,
   "id": "b6ec2de2",
   "metadata": {},
   "outputs": [
    {
     "data": {
      "text/plain": [
       "array([[3],\n",
       "       [6],\n",
       "       [9]])"
      ]
     },
     "execution_count": 11,
     "metadata": {},
     "output_type": "execute_result"
    }
   ],
   "source": [
    "3*v"
   ]
  },
  {
   "cell_type": "code",
   "execution_count": 12,
   "id": "f879904a",
   "metadata": {},
   "outputs": [
    {
     "data": {
      "text/plain": [
       "array([[0., 0.],\n",
       "       [0., 0.]])"
      ]
     },
     "execution_count": 12,
     "metadata": {},
     "output_type": "execute_result"
    }
   ],
   "source": [
    "a = np.zeros((2,2))\n",
    "a"
   ]
  },
  {
   "cell_type": "code",
   "execution_count": 13,
   "id": "0702dd51",
   "metadata": {},
   "outputs": [
    {
     "name": "stdout",
     "output_type": "stream",
     "text": [
      "[[0. 0.]\n",
      " [0. 0.]]\n"
     ]
    }
   ],
   "source": [
    "print(a)"
   ]
  },
  {
   "cell_type": "code",
   "execution_count": 14,
   "id": "9a6c2e8e",
   "metadata": {},
   "outputs": [
    {
     "data": {
      "text/plain": [
       "array([[1., 1.],\n",
       "       [1., 1.]])"
      ]
     },
     "execution_count": 14,
     "metadata": {},
     "output_type": "execute_result"
    }
   ],
   "source": [
    "b = np.ones((2,2))\n",
    "b"
   ]
  },
  {
   "cell_type": "code",
   "execution_count": 15,
   "id": "95281bba",
   "metadata": {},
   "outputs": [
    {
     "data": {
      "text/plain": [
       "array([[7, 7],\n",
       "       [7, 7]])"
      ]
     },
     "execution_count": 15,
     "metadata": {},
     "output_type": "execute_result"
    }
   ],
   "source": [
    "c = np.full((2,2),7)\n",
    "c"
   ]
  },
  {
   "cell_type": "code",
   "execution_count": 16,
   "id": "a9557a65",
   "metadata": {},
   "outputs": [
    {
     "data": {
      "text/plain": [
       "array([[1., 0., 0.],\n",
       "       [0., 1., 0.],\n",
       "       [0., 0., 1.]])"
      ]
     },
     "execution_count": 16,
     "metadata": {},
     "output_type": "execute_result"
    }
   ],
   "source": [
    "d = np.eye(3)\n",
    "d"
   ]
  },
  {
   "cell_type": "code",
   "execution_count": 17,
   "id": "66d2a3dd",
   "metadata": {},
   "outputs": [
    {
     "data": {
      "text/plain": [
       "array([[0.01314703, 0.13865767, 0.55721309],\n",
       "       [0.61154237, 0.76192425, 0.68936367],\n",
       "       [0.1936451 , 0.58761079, 0.92772936]])"
      ]
     },
     "execution_count": 17,
     "metadata": {},
     "output_type": "execute_result"
    }
   ],
   "source": [
    "e = np.random.random((3,3))\n",
    "e"
   ]
  },
  {
   "cell_type": "code",
   "execution_count": 18,
   "id": "054511ac",
   "metadata": {},
   "outputs": [
    {
     "name": "stdout",
     "output_type": "stream",
     "text": [
      "[[1 2 3]\n",
      " [4 5 6]\n",
      " [7 8 9]]\n"
     ]
    }
   ],
   "source": [
    "v1 = np.array([1, 2, 3])\n",
    "v2 = np.array([4, 5, 6])\n",
    "v3 = np.array([7, 8, 9])\n",
    "M = np.vstack([v1, v2, v3])\n",
    "print(M)\n",
    "# También se puede sacar con hstack"
   ]
  },
  {
   "cell_type": "code",
   "execution_count": 19,
   "id": "a66dac83",
   "metadata": {},
   "outputs": [
    {
     "data": {
      "text/plain": [
       "array([[2, 3],\n",
       "       [5, 6]])"
      ]
     },
     "execution_count": 19,
     "metadata": {},
     "output_type": "execute_result"
    }
   ],
   "source": [
    "M[:2, 1:3]"
   ]
  },
  {
   "cell_type": "code",
   "execution_count": null,
   "id": "c70fec67",
   "metadata": {},
   "outputs": [],
   "source": [
    "# Ojo que la clase matrix quedó removida\n",
    "\n",
    "#https://numpy.org/doc/stable/reference/generated/numpy.matrix.html"
   ]
  },
  {
   "cell_type": "code",
   "execution_count": 128,
   "id": "6e715d97",
   "metadata": {},
   "outputs": [
    {
     "data": {
      "text/plain": [
       "array([[ 9],\n",
       "       [-4],\n",
       "       [ 5]])"
      ]
     },
     "execution_count": 128,
     "metadata": {},
     "output_type": "execute_result"
    }
   ],
   "source": [
    "# Producto punto\n",
    "v1 = np.array([3, 0, 2])\n",
    "v2 = np.array([2, 0, -2])\n",
    "v3 = np.array([0, 1, 1])\n",
    "M = np.vstack([v1, v2, v3])\n",
    "#print(M)\n",
    "\n",
    "v = np.array([[1],\n",
    " [2],\n",
    " [3]])\n",
    "\n",
    "M.dot(v)"
   ]
  },
  {
   "cell_type": "code",
   "execution_count": null,
   "id": "dd855d69",
   "metadata": {},
   "outputs": [],
   "source": [
    "M @ v"
   ]
  },
  {
   "cell_type": "code",
   "execution_count": 133,
   "id": "63a1d48f",
   "metadata": {},
   "outputs": [
    {
     "data": {
      "text/plain": [
       "array([[ 6,  0,  4],\n",
       "       [ 4,  0, -4],\n",
       "       [ 0,  2,  2]])"
      ]
     },
     "execution_count": 133,
     "metadata": {},
     "output_type": "execute_result"
    }
   ],
   "source": [
    "# Ojo con esto que NO se debe usar para multiplicar matrices\n",
    "np.multiply(M, 2)"
   ]
  },
  {
   "cell_type": "code",
   "execution_count": 130,
   "id": "1dc9f494",
   "metadata": {},
   "outputs": [
    {
     "data": {
      "text/plain": [
       "array([[1],\n",
       "       [4],\n",
       "       [9]])"
      ]
     },
     "execution_count": 130,
     "metadata": {},
     "output_type": "execute_result"
    }
   ],
   "source": [
    "np.multiply(v, v)"
   ]
  },
  {
   "cell_type": "code",
   "execution_count": 120,
   "id": "2e2776c4",
   "metadata": {},
   "outputs": [
    {
     "data": {
      "text/plain": [
       "array([[ 1,  2,  3,  4],\n",
       "       [ 5,  6,  7,  8],\n",
       "       [ 9, 10, 11, 12]])"
      ]
     },
     "execution_count": 120,
     "metadata": {},
     "output_type": "execute_result"
    }
   ],
   "source": [
    "# Ejemplo multiplicación de matrices\n",
    "A = np.arange(1, 13).reshape(3, 4) #matriz de dimension 3x4\n",
    "A"
   ]
  },
  {
   "cell_type": "code",
   "execution_count": 121,
   "id": "d43e62f0",
   "metadata": {},
   "outputs": [
    {
     "data": {
      "text/plain": [
       "array([[0, 1],\n",
       "       [2, 3],\n",
       "       [4, 5],\n",
       "       [6, 7]])"
      ]
     },
     "execution_count": 121,
     "metadata": {},
     "output_type": "execute_result"
    }
   ],
   "source": [
    "B = np.arange(8).reshape(4,2) #matriz de dimension 4x2\n",
    "B"
   ]
  },
  {
   "cell_type": "code",
   "execution_count": 122,
   "id": "5a347396",
   "metadata": {},
   "outputs": [
    {
     "data": {
      "text/plain": [
       "array([[ 40,  50],\n",
       "       [ 88, 114],\n",
       "       [136, 178]])"
      ]
     },
     "execution_count": 122,
     "metadata": {},
     "output_type": "execute_result"
    }
   ],
   "source": [
    "# Multiplicando A x B\n",
    "A @ B #resulta en una matriz de dimension 3x2"
   ]
  },
  {
   "cell_type": "code",
   "execution_count": 123,
   "id": "f43d436c",
   "metadata": {},
   "outputs": [
    {
     "ename": "ValueError",
     "evalue": "matmul: Input operand 1 has a mismatch in its core dimension 0, with gufunc signature (n?,k),(k,m?)->(n?,m?) (size 3 is different from 2)",
     "output_type": "error",
     "traceback": [
      "\u001b[1;31m---------------------------------------------------------------------------\u001b[0m",
      "\u001b[1;31mValueError\u001b[0m                                Traceback (most recent call last)",
      "\u001b[1;32m<ipython-input-123-b55e34ad9c31>\u001b[0m in \u001b[0;36m<module>\u001b[1;34m\u001b[0m\n\u001b[0;32m      1\u001b[0m \u001b[1;31m# Multiplicando B x A\u001b[0m\u001b[1;33m\u001b[0m\u001b[1;33m\u001b[0m\u001b[1;33m\u001b[0m\u001b[0m\n\u001b[1;32m----> 2\u001b[1;33m \u001b[0mB\u001b[0m \u001b[1;33m@\u001b[0m \u001b[0mA\u001b[0m\u001b[1;33m\u001b[0m\u001b[1;33m\u001b[0m\u001b[0m\n\u001b[0m",
      "\u001b[1;31mValueError\u001b[0m: matmul: Input operand 1 has a mismatch in its core dimension 0, with gufunc signature (n?,k),(k,m?)->(n?,m?) (size 3 is different from 2)"
     ]
    }
   ],
   "source": [
    "# Multiplicando B x A\n",
    "B @ A # El error valida la revisión de la condición dim"
   ]
  },
  {
   "cell_type": "code",
   "execution_count": null,
   "id": "ff97ca88",
   "metadata": {},
   "outputs": [],
   "source": []
  },
  {
   "cell_type": "code",
   "execution_count": 136,
   "id": "0f861bf3",
   "metadata": {},
   "outputs": [
    {
     "data": {
      "text/plain": [
       "array([[1, 4, 7],\n",
       "       [2, 5, 8],\n",
       "       [3, 6, 9]])"
      ]
     },
     "execution_count": 136,
     "metadata": {},
     "output_type": "execute_result"
    }
   ],
   "source": [
    "# Transponer\n",
    "v1 = np.array([1, 2, 3])\n",
    "v2 = np.array([4, 5, 6])\n",
    "v3 = np.array([7, 8, 9])\n",
    "M = np.vstack([v1, v2, v3])\n",
    "\n",
    "v = np.array([[1],\n",
    " [2],\n",
    " [3]])\n",
    "\n",
    "M.T"
   ]
  },
  {
   "cell_type": "code",
   "execution_count": 137,
   "id": "6190293d",
   "metadata": {},
   "outputs": [
    {
     "data": {
      "text/plain": [
       "array([[1, 2, 3]])"
      ]
     },
     "execution_count": 137,
     "metadata": {},
     "output_type": "execute_result"
    }
   ],
   "source": [
    "v.T"
   ]
  },
  {
   "cell_type": "code",
   "execution_count": 138,
   "id": "a74b65aa",
   "metadata": {},
   "outputs": [
    {
     "data": {
      "text/plain": [
       "array([[1, 4, 7],\n",
       "       [2, 5, 8],\n",
       "       [3, 6, 9]])"
      ]
     },
     "execution_count": 138,
     "metadata": {},
     "output_type": "execute_result"
    }
   ],
   "source": [
    "M.transpose()"
   ]
  },
  {
   "cell_type": "code",
   "execution_count": 142,
   "id": "e73ff3d6",
   "metadata": {},
   "outputs": [
    {
     "data": {
      "text/plain": [
       "array([[1, 4, 7],\n",
       "       [2, 5, 8],\n",
       "       [3, 6, 9]])"
      ]
     },
     "execution_count": 142,
     "metadata": {},
     "output_type": "execute_result"
    }
   ],
   "source": [
    "np.transpose(M)"
   ]
  },
  {
   "cell_type": "code",
   "execution_count": 25,
   "id": "1734e1af",
   "metadata": {},
   "outputs": [
    {
     "data": {
      "text/plain": [
       "((3, 3), (1, 3))"
      ]
     },
     "execution_count": 25,
     "metadata": {},
     "output_type": "execute_result"
    }
   ],
   "source": [
    "M.T.shape, v.T.shape\n"
   ]
  },
  {
   "cell_type": "code",
   "execution_count": 134,
   "id": "690642b0",
   "metadata": {},
   "outputs": [
    {
     "data": {
      "text/plain": [
       "10.000000000000002"
      ]
     },
     "execution_count": 134,
     "metadata": {},
     "output_type": "execute_result"
    }
   ],
   "source": [
    "# Determinante\n",
    "v1 = np.array([3, 0, 2])\n",
    "v2 = np.array([2, 0, -2])\n",
    "v3 = np.array([0, 1, 1])\n",
    "M = np.vstack([v1, v2, v3])\n",
    "\n",
    "v = np.array([[1],\n",
    " [2],\n",
    " [3]])\n",
    "\n",
    "np.linalg.det(M)"
   ]
  },
  {
   "cell_type": "code",
   "execution_count": 135,
   "id": "675f5cb8",
   "metadata": {},
   "outputs": [
    {
     "data": {
      "text/plain": [
       "array([[ 0.2,  0.2,  0. ],\n",
       "       [-0.2,  0.3,  1. ],\n",
       "       [ 0.2, -0.3, -0. ]])"
      ]
     },
     "execution_count": 135,
     "metadata": {},
     "output_type": "execute_result"
    }
   ],
   "source": [
    "np.linalg.inv(M)"
   ]
  },
  {
   "cell_type": "code",
   "execution_count": 99,
   "id": "92b8c172",
   "metadata": {},
   "outputs": [
    {
     "name": "stdout",
     "output_type": "stream",
     "text": [
      "[[ 0.2  0.2  0. ]\n",
      " [-0.2  0.3  1. ]\n",
      " [ 0.2 -0.3 -0. ]]\n"
     ]
    }
   ],
   "source": [
    "from numpy import matrix, zeros, size\n",
    "from numpy.linalg import det, inv\n",
    "\n",
    "#matriz = matrix([[-2, -6, 2], [0, 1, 3], [0, 0, 6]])\n",
    "matrizInv = inv(M)\n",
    "print(matrizInv)"
   ]
  },
  {
   "cell_type": "code",
   "execution_count": 100,
   "id": "35ee1df2",
   "metadata": {},
   "outputs": [
    {
     "name": "stdout",
     "output_type": "stream",
     "text": [
      "10.000000000000002\n"
     ]
    }
   ],
   "source": [
    "c = det(M)\n",
    "print(c)"
   ]
  },
  {
   "cell_type": "code",
   "execution_count": 139,
   "id": "540646f3",
   "metadata": {},
   "outputs": [
    {
     "data": {
      "text/plain": [
       "array([[4., 7.],\n",
       "       [2., 6.]])"
      ]
     },
     "execution_count": 139,
     "metadata": {},
     "output_type": "execute_result"
    }
   ],
   "source": [
    "# Creando una matriz identidad de 2x2\n",
    "I = np.eye(2)\n",
    "I\n",
    "\n",
    "# Multiplicar una matriz por la identidad nos da la misma matriz\n",
    "A = np.array([[4, 7],\n",
    "              [2, 6]])\n",
    "A\n",
    "A @ I # AxI = A"
   ]
  },
  {
   "cell_type": "code",
   "execution_count": 140,
   "id": "2d5f81fd",
   "metadata": {},
   "outputs": [
    {
     "data": {
      "text/plain": [
       "array([[ 0.6, -0.7],\n",
       "       [-0.2,  0.4]])"
      ]
     },
     "execution_count": 140,
     "metadata": {},
     "output_type": "execute_result"
    }
   ],
   "source": [
    "# Calculando la inversa de A.\n",
    "A_inv = np.linalg.inv(A)\n",
    "A_inv"
   ]
  },
  {
   "cell_type": "code",
   "execution_count": 141,
   "id": "cb8edf09",
   "metadata": {},
   "outputs": [
    {
     "data": {
      "text/plain": [
       "array([[ 1.00000000e+00,  0.00000000e+00],\n",
       "       [-2.22044605e-16,  1.00000000e+00]])"
      ]
     },
     "execution_count": 141,
     "metadata": {},
     "output_type": "execute_result"
    }
   ],
   "source": [
    "# A x A_inv nos da como resultado I.\n",
    "A @ A_inv"
   ]
  },
  {
   "cell_type": "code",
   "execution_count": 44,
   "id": "d884d1a0",
   "metadata": {},
   "outputs": [
    {
     "data": {
      "text/plain": [
       "array([3, 2, 0])"
      ]
     },
     "execution_count": 44,
     "metadata": {},
     "output_type": "execute_result"
    }
   ],
   "source": [
    "# Slicing\n",
    "#M[0][-1] # elemento\n",
    "#M[0] # fila\n",
    "M[:,0] # columna"
   ]
  },
  {
   "cell_type": "code",
   "execution_count": 75,
   "id": "f9436578",
   "metadata": {},
   "outputs": [
    {
     "name": "stdout",
     "output_type": "stream",
     "text": [
      "-6\n",
      "4\n",
      "21\n"
     ]
    }
   ],
   "source": [
    "M1 = [[8, 14, -6],\n",
    "           [12,7,4], \n",
    "           [-11,3,21]]\n",
    "\n",
    "matrix_length = len(M1)\n",
    "\n",
    "# Leer el último elemento de cada fila\n",
    "for i in range(matrix_length):\n",
    "    print(M1[i][-1])"
   ]
  },
  {
   "cell_type": "code",
   "execution_count": 45,
   "id": "86ed7067",
   "metadata": {},
   "outputs": [],
   "source": [
    "# Suma de matrices\n",
    "v1 = np.array([3, 0, 2])\n",
    "v2 = np.array([2, 0, -2])\n",
    "v3 = np.array([0, 1, 1])\n",
    "M = np.vstack([v1, v2, v3])"
   ]
  },
  {
   "cell_type": "code",
   "execution_count": 46,
   "id": "a5066251",
   "metadata": {},
   "outputs": [],
   "source": [
    "v1 = np.array([5, 8, 1])\n",
    "v2 = np.array([6, 7, 3])\n",
    "v3 = np.array([4, 5, 9])\n",
    "N = np.vstack([v1, v2, v3])"
   ]
  },
  {
   "cell_type": "code",
   "execution_count": 55,
   "id": "62f9cb2a",
   "metadata": {},
   "outputs": [
    {
     "data": {
      "text/plain": [
       "array([[0., 0., 0.],\n",
       "       [0., 0., 0.],\n",
       "       [0., 0., 0.]])"
      ]
     },
     "execution_count": 55,
     "metadata": {},
     "output_type": "execute_result"
    }
   ],
   "source": [
    "result = np.zeros((3,3))\n",
    "result"
   ]
  },
  {
   "cell_type": "code",
   "execution_count": 49,
   "id": "3cab823a",
   "metadata": {},
   "outputs": [
    {
     "data": {
      "text/plain": [
       "array([[ 8,  8,  3],\n",
       "       [ 8,  7,  1],\n",
       "       [ 4,  6, 10]])"
      ]
     },
     "execution_count": 49,
     "metadata": {},
     "output_type": "execute_result"
    }
   ],
   "source": [
    "M + N"
   ]
  },
  {
   "cell_type": "code",
   "execution_count": 56,
   "id": "2ba744ed",
   "metadata": {},
   "outputs": [
    {
     "name": "stdout",
     "output_type": "stream",
     "text": [
      "[8. 8. 3.]\n",
      "[8. 7. 1.]\n",
      "[ 4.  6. 10.]\n"
     ]
    }
   ],
   "source": [
    "for i in range(len(M)):\n",
    "    for j in range(len(N[0])):\n",
    "        result[i][j] = M[i][j] + N[i][j]\n",
    "        \n",
    "for r in result:\n",
    "    print(r)"
   ]
  },
  {
   "cell_type": "code",
   "execution_count": 51,
   "id": "5a88c2c4",
   "metadata": {},
   "outputs": [
    {
     "data": {
      "text/plain": [
       "3"
      ]
     },
     "execution_count": 51,
     "metadata": {},
     "output_type": "execute_result"
    }
   ],
   "source": [
    "len(M)"
   ]
  },
  {
   "cell_type": "code",
   "execution_count": 151,
   "id": "5422fceb",
   "metadata": {},
   "outputs": [
    {
     "data": {
      "text/plain": [
       "array([[ 3,  2,  1],\n",
       "       [ 5,  3,  4],\n",
       "       [ 1,  1, -1]])"
      ]
     },
     "execution_count": 151,
     "metadata": {},
     "output_type": "execute_result"
    }
   ],
   "source": [
    "# Sistemas de ecuaciones\n",
    "# Creando matriz de coeficientes\n",
    "A = np.array([[1, 2, 3],\n",
    "              [2, 5, 2],\n",
    "              [6, -3, 1]])\n",
    "A\n",
    "A2 = np.array([[3, 2, 1],\n",
    "              [5, 3, 4],\n",
    "              [1, 1, -1]])\n",
    "A2"
   ]
  },
  {
   "cell_type": "code",
   "execution_count": 152,
   "id": "d5f8f828",
   "metadata": {},
   "outputs": [
    {
     "data": {
      "text/plain": [
       "array([1, 2, 1])"
      ]
     },
     "execution_count": 152,
     "metadata": {},
     "output_type": "execute_result"
    }
   ],
   "source": [
    "# Creando matriz de resultados\n",
    "b = np.array([6, 4, 2])\n",
    "b\n",
    "b2 = np.array([1, 2, 1])\n",
    "b2"
   ]
  },
  {
   "cell_type": "code",
   "execution_count": 158,
   "id": "de3e522e",
   "metadata": {},
   "outputs": [
    {
     "data": {
      "text/plain": [
       "array([-4.,  6.,  1.])"
      ]
     },
     "execution_count": 158,
     "metadata": {},
     "output_type": "execute_result"
    }
   ],
   "source": [
    "# Resolviendo sistema de ecuaciones\n",
    "x = np.linalg.solve(A, b)\n",
    "x\n",
    "# Resolviendo sistema de ecuaciones\n",
    "x2 = np.linalg.solve(A2, b2)\n",
    "x2"
   ]
  },
  {
   "cell_type": "code",
   "execution_count": 155,
   "id": "19b42eb0",
   "metadata": {},
   "outputs": [
    {
     "data": {
      "text/plain": [
       "array([ True,  True,  True])"
      ]
     },
     "execution_count": 155,
     "metadata": {},
     "output_type": "execute_result"
    }
   ],
   "source": [
    "# Comprobando la solucion\n",
    "A2 @ x2 == b2\n",
    "A @ x == b # Solo probar la primera"
   ]
  },
  {
   "cell_type": "code",
   "execution_count": 28,
   "id": "ceabddcc",
   "metadata": {},
   "outputs": [
    {
     "name": "stdout",
     "output_type": "stream",
     "text": [
      "A = [[1, 4, 5, 12], [-5, 8, 9, 0], [-6, 7, 11, 19]]\n",
      "A[1] = [-5, 8, 9, 0]\n",
      "A[1][2] = 9\n",
      "A[0][-1] = 12\n",
      "3rd column = [5, 9, 11]\n"
     ]
    }
   ],
   "source": [
    "# Ejemplo 1 de como NO se hace\n",
    "A = [[1, 4, 5, 12], \n",
    "    [-5, 8, 9, 0],\n",
    "    [-6, 7, 11, 19]]\n",
    "\n",
    "print(\"A =\", A) \n",
    "print(\"A[1] =\", A[1])      # 2nd row\n",
    "print(\"A[1][2] =\", A[1][2])   # 3rd element of 2nd row\n",
    "print(\"A[0][-1] =\", A[0][-1])   # Last element of 1st Row\n",
    "\n",
    "column = [];        # empty list\n",
    "for row in A:\n",
    "  column.append(row[2])   \n",
    "\n",
    "print(\"3rd column =\", column)"
   ]
  },
  {
   "cell_type": "code",
   "execution_count": null,
   "id": "86c89e7f",
   "metadata": {},
   "outputs": [],
   "source": [
    "# Ejemplo 2 de cómo NO se hace\n",
    "\n",
    "# Lectura con estructura \"propia\"\n",
    "m = [[1,2],[3,4]]\n",
    "m\n",
    "\n",
    "def dibujaMatriz(M):\n",
    "    for i in range(len(M)):\n",
    "        print('['),\n",
    "        for j in range(len(M[i])):\n",
    "            print('{:>3s}'.format(str(M[i][j]))),\n",
    "    print(']')\n",
    "\n",
    "dibujaMatriz(m)"
   ]
  },
  {
   "cell_type": "code",
   "execution_count": null,
   "id": "3674f626",
   "metadata": {},
   "outputs": [],
   "source": [
    "# Ejemplo 3 de cómo NO se hace\n",
    "\n",
    "M1 = [[8, 14, -6],\n",
    "           [12,7,4], \n",
    "           [-11,3,21]]\n",
    "\n",
    "matrix_length = len(M1)\n",
    "\n",
    "for i in range(matrix_length):\n",
    "    print(M1[i])"
   ]
  },
  {
   "cell_type": "code",
   "execution_count": 7,
   "id": "21d10e6a",
   "metadata": {},
   "outputs": [
    {
     "name": "stdout",
     "output_type": "stream",
     "text": [
      "El producto de las matrices M1 y M2  es:  [[24, 224, 36], [108, 49, -16], [11, 9, 273]]\n"
     ]
    }
   ],
   "source": [
    "# Ejemplos correctos de multiplicación de matrices\n",
    "\n",
    "M1 = [[8, 14, -6], \n",
    "      [12,7,4], \n",
    "      [-11,3,21]]\n",
    "\n",
    "M2 = [[3, 16, -6],\n",
    "           [9,7,-4], \n",
    "           [-1,3,13]]\n",
    "\n",
    "M3  = [[0,0,0],\n",
    "       [0,0,0],\n",
    "       [0,0,0]]\n",
    "\n",
    "matrix_length = len(M1)\n",
    "\n",
    "for i in range(len(M1)):\n",
    "    for k in range(len(M2)):\n",
    "        M3[i][k] = M1[i][k] * M2[i][k]\n",
    "\n",
    "print(\"El producto de las matrices M1 y M2  es: \", M3)"
   ]
  },
  {
   "cell_type": "code",
   "execution_count": 8,
   "id": "8988f46f",
   "metadata": {},
   "outputs": [],
   "source": [
    "# Ejemplo 2\n",
    "mA = [[2,  3, 2, 1], [1, 3, 2, 4], [1, 6, 5, 4]]\n",
    "mB = [[0,  5, 2], [1, 4, 2], [3, 1, 3], [2, 0, 1]]"
   ]
  },
  {
   "cell_type": "code",
   "execution_count": 9,
   "id": "e5d4a5b0",
   "metadata": {},
   "outputs": [],
   "source": [
    "# len(mA) # Len de la matriz me entrega la cantidad elementos fila\n",
    "# len(mA[0]) # Len de un \"elemento\" de la matriz me entrega la cant de elementos columna"
   ]
  },
  {
   "cell_type": "code",
   "execution_count": 10,
   "id": "a4a18d1d",
   "metadata": {},
   "outputs": [],
   "source": [
    "filas, columnas = len(mA), len(mA[0])"
   ]
  },
  {
   "cell_type": "code",
   "execution_count": 11,
   "id": "505d1880",
   "metadata": {},
   "outputs": [
    {
     "data": {
      "text/plain": [
       "(3, 4)"
      ]
     },
     "execution_count": 11,
     "metadata": {},
     "output_type": "execute_result"
    }
   ],
   "source": [
    "filas, columnas"
   ]
  },
  {
   "cell_type": "code",
   "execution_count": 12,
   "id": "a3dd579b",
   "metadata": {},
   "outputs": [
    {
     "name": "stdout",
     "output_type": "stream",
     "text": [
      "Las matrices se pueden multiplicar. La dim de la resultante será 3,3\n",
      "[[11, 24, 17], [17, 19, 18], [29, 34, 33]]\n"
     ]
    }
   ],
   "source": [
    "# Para poder multiplicar las matrices, se debe cumplir que:\n",
    "check = len(mA[0]) == len(mB)\n",
    "if check == True:\n",
    "    print('Las matrices se pueden multiplicar. La dim de la resultante será ' + str(len(mA)) + \",\" + str(len(mB[0])))\n",
    "    \n",
    "    def mmult(mA, mB):\n",
    "        mmult = []\n",
    "        for i in range(len(mA)): # Acá empieza a recorrer por cada elemento en las filas de A\n",
    "            mmult.append([])\n",
    "            for j in range(len(mB[0])): # Acá recorre por cada elemento columna de B\n",
    "                mmult[i].append(0)\n",
    "        \n",
    "        for i in range(len(mA)):\n",
    "            for j in range(len(mB[0])):\n",
    "                for k in range(len(mA[0])): # Vamos a tener un nuevo índice que recorre las columnas de A\n",
    "                    mmult[i][j] += mA[i][k] * mB[k][j]\n",
    "\n",
    "        return mmult\n",
    "\n",
    "    print(mmult(mA,mB))\n",
    "    \n",
    "else:\n",
    "    print('Las matrices no se pueden multiplicar.')"
   ]
  },
  {
   "cell_type": "code",
   "execution_count": 13,
   "id": "4f953158",
   "metadata": {},
   "outputs": [],
   "source": [
    "# Forma de sofisticar (o complicar) el código\n",
    "\n",
    "from collections import namedtuple\n",
    "\n",
    "Dimensions = namedtuple(\"Dimensions\", \"columns rows\") # Subclase de tupla con campos con nombre. Indices numéricos para acceder a sus miembros.\n",
    "\n",
    "def compute_product(matrixA, matrixB):\n",
    "    matrixA_dim = Dimensions(len(matrixA[0]), len(matrixA)) # La dimensión está declarada al revés: columnas por filas.\n",
    "    matrixB_dim = Dimensions(len(matrixB[0]), len(matrixB)) # La dimensión está declarada al revés: columnas por filas.\n",
    "    product = []\n",
    "    for col in range(matrixA_dim.rows): # Te da la cantidad de elementos fila de la matriz resultante\n",
    "        product.append([])\n",
    "        for j in range(matrixB_dim.columns): # Te da la cantidad de elementos columna de la matriz resultante\n",
    "            product[col].append(0)\n",
    "   \n",
    "    for i in range(matrixA_dim.rows):\n",
    "        for j in range(matrixB_dim.columns):\n",
    "            for k in range(matrixA_dim.columns):\n",
    "                product[i][j] += matrixA[i][k] * matrixB[k][j]\n",
    "                \n",
    "    return product"
   ]
  },
  {
   "cell_type": "code",
   "execution_count": 14,
   "id": "996ede30",
   "metadata": {},
   "outputs": [],
   "source": [
    "# Matrices originales\n",
    "matrixA = [[11,  3, 10, 3], [20, 1, 0, 1]]\n",
    "matrixB = [[12,  1, 10], [7, 4, 0], [4, 5, 2], [5, 2, 10]]"
   ]
  },
  {
   "cell_type": "code",
   "execution_count": 15,
   "id": "d67e2f3b",
   "metadata": {},
   "outputs": [
    {
     "name": "stdout",
     "output_type": "stream",
     "text": [
      "Producto: [[208, 79, 160], [252, 26, 210]]\n"
     ]
    }
   ],
   "source": [
    "print(\"Producto:\", compute_product(matrixA, matrixB))"
   ]
  },
  {
   "cell_type": "code",
   "execution_count": 18,
   "id": "add5b085",
   "metadata": {},
   "outputs": [
    {
     "name": "stdin",
     "output_type": "stream",
     "text": [
      "Ingrese el número de filas: 2\n",
      "Ingrese el número de columnas: 3\n"
     ]
    },
    {
     "name": "stdout",
     "output_type": "stream",
     "text": [
      "Ingrese los datos digitando Enter:\n"
     ]
    },
    {
     "name": "stdin",
     "output_type": "stream",
     "text": [
      " 1\n",
      " 2\n",
      " 3\n",
      " 4\n",
      " 5\n",
      " 6\n"
     ]
    },
    {
     "name": "stdout",
     "output_type": "stream",
     "text": [
      "1 2 3 \n",
      "4 5 6 \n"
     ]
    }
   ],
   "source": [
    "# Formas de ingresar datos y ordenar como matrices\n",
    "  \n",
    "R = int(input(\"Ingrese el número de filas:\"))\n",
    "C = int(input(\"Ingrese el número de columnas:\"))\n",
    "  \n",
    "\n",
    "matrix = []\n",
    "print(\"Ingrese los datos digitando Enter:\")\n",
    "  \n",
    "\n",
    "for i in range(R):          # for loop para entradas de fila\n",
    "    a =[]\n",
    "    for j in range(C):      # for loop para entradas de columnas\n",
    "         a.append(int(input()))\n",
    "    matrix.append(a)\n",
    "  \n",
    "# Imprimir la matriz\n",
    "for i in range(R):\n",
    "    for j in range(C):\n",
    "        print(matrix[i][j], end = \" \")\n",
    "    print()"
   ]
  },
  {
   "cell_type": "code",
   "execution_count": 19,
   "id": "7c0e774d",
   "metadata": {},
   "outputs": [
    {
     "name": "stdin",
     "output_type": "stream",
     "text": [
      " 2\n",
      " 2\n",
      " 1\n",
      " 2\n",
      " 3\n",
      " 4\n"
     ]
    }
   ],
   "source": [
    "# Otra forma de entrada tomando los imputs (filas y columnas) de la celda anterior. \n",
    "# Acá únicamente se digitan los elementos de la matriz\n",
    "mat = [[int(input()) for x in range (C)] for y in range(R)]"
   ]
  },
  {
   "cell_type": "code",
   "execution_count": 20,
   "id": "d70ac4d1",
   "metadata": {},
   "outputs": [
    {
     "data": {
      "text/plain": [
       "[[2, 2, 1], [2, 3, 4]]"
      ]
     },
     "execution_count": 20,
     "metadata": {},
     "output_type": "execute_result"
    }
   ],
   "source": [
    "mat"
   ]
  },
  {
   "cell_type": "code",
   "execution_count": 21,
   "id": "e03d8789",
   "metadata": {},
   "outputs": [
    {
     "name": "stdin",
     "output_type": "stream",
     "text": [
      "Ingrese el número de filas: 2\n",
      "Ingrese el número de columnas: 2\n"
     ]
    },
    {
     "name": "stdout",
     "output_type": "stream",
     "text": [
      "Digitar los datos de la matriz en una sola línea (separados por espacios): \n"
     ]
    },
    {
     "name": "stdin",
     "output_type": "stream",
     "text": [
      " 1 2 3 4\n"
     ]
    },
    {
     "name": "stdout",
     "output_type": "stream",
     "text": [
      "[[1 2]\n",
      " [3 4]]\n"
     ]
    }
   ],
   "source": [
    "import numpy as np\n",
    "  \n",
    "R = int(input(\"Ingrese el número de filas:\"))\n",
    "C = int(input(\"Ingrese el número de columnas:\"))\n",
    "  \n",
    "print(\"Digitar los datos de la matriz en una sola línea (separados por espacios): \")\n",
    "  \n",
    "entries = list(map(int, input().split()))\n",
    "\n",
    "matrix = np.array(entries).reshape(R, C)\n",
    "print(matrix)"
   ]
  },
  {
   "cell_type": "code",
   "execution_count": 85,
   "id": "2181e173",
   "metadata": {},
   "outputs": [
    {
     "data": {
      "text/plain": [
       "array([[1, 2, 3],\n",
       "       [4, 5, 6]])"
      ]
     },
     "execution_count": 85,
     "metadata": {},
     "output_type": "execute_result"
    }
   ],
   "source": [
    "matrix"
   ]
  },
  {
   "cell_type": "code",
   "execution_count": 86,
   "id": "3bbf8eee",
   "metadata": {},
   "outputs": [
    {
     "data": {
      "text/plain": [
       "array([[ 2,  4,  6],\n",
       "       [ 8, 10, 12]])"
      ]
     },
     "execution_count": 86,
     "metadata": {},
     "output_type": "execute_result"
    }
   ],
   "source": [
    "matrix*2"
   ]
  },
  {
   "cell_type": "markdown",
   "id": "d67c0a51",
   "metadata": {},
   "source": [
    "### Librerías\n",
    "\n",
    "Numpy: El popular paquete matemático de Python, nos va a permitir crear vectores, matrices y tensores con suma facilidad.\n",
    "\n",
    "numpy.linalg: Este es un submodulo dentro de Numpy con un gran número de funciones para resolver ecuaciones de Álgebra lineal.\n",
    "\n",
    "scipy.linalg: Este submodulo del paquete científico Scipy es muy similar al anterior, pero con algunas más funciones y optimaciones.\n",
    "\n",
    "Sympy: Esta librería nos permite trabajar con matemática simbólica, convierte a Python en un sistema algebraico computacional. Nos va a permitir trabajar con ecuaciones y fórmulas simbólicamente, en lugar de numéricamente.\n",
    "\n",
    "CVXOPT: Este módulo nos permite resolver problemas de optimizaciones de programación lineal.\n",
    "\n",
    "PuLP: Esta librería nos permite crear modelos de programación lineal en forma muy sencilla con Python."
   ]
  },
  {
   "cell_type": "markdown",
   "id": "18d7be5c",
   "metadata": {},
   "source": [
    "## Tema que se sugiere profundizar: Programación lineal"
   ]
  }
 ],
 "metadata": {
  "kernelspec": {
   "display_name": "Python 3",
   "language": "python",
   "name": "python3"
  },
  "language_info": {
   "codemirror_mode": {
    "name": "ipython",
    "version": 3
   },
   "file_extension": ".py",
   "mimetype": "text/x-python",
   "name": "python",
   "nbconvert_exporter": "python",
   "pygments_lexer": "ipython3",
   "version": "3.8.5"
  }
 },
 "nbformat": 4,
 "nbformat_minor": 5
}
