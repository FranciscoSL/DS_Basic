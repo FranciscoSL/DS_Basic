{
 "cells": [
  {
   "cell_type": "markdown",
   "id": "5f7aeab4",
   "metadata": {},
   "source": [
    "## Traducción usando Transformers\n",
    "\n",
    "Ejemplo tomado de: [Gabriel Pierobon - NLP Tips](https://github.com/gabrielpierobon/NLP_tips)"
   ]
  },
  {
   "cell_type": "code",
   "execution_count": 1,
   "id": "21d26b49",
   "metadata": {},
   "outputs": [],
   "source": [
    "from transformers import AutoModelWithLMHead, AutoTokenizer"
   ]
  },
  {
   "cell_type": "code",
   "execution_count": 2,
   "id": "9f671692",
   "metadata": {},
   "outputs": [
    {
     "name": "stderr",
     "output_type": "stream",
     "text": [
      "C:\\Users\\usuario\\anaconda3\\envs\\tk\\lib\\site-packages\\transformers\\models\\auto\\modeling_auto.py:902: FutureWarning: The class `AutoModelWithLMHead` is deprecated and will be removed in a future version. Please use `AutoModelForCausalLM` for causal language models, `AutoModelForMaskedLM` for masked language models and `AutoModelForSeq2SeqLM` for encoder-decoder models.\n",
      "  FutureWarning,\n"
     ]
    }
   ],
   "source": [
    "model = AutoModelWithLMHead.from_pretrained(\"Helsinki-NLP/opus-mt-en-es\")\n",
    "tokenizer = AutoTokenizer.from_pretrained(\"Helsinki-NLP/opus-mt-en-es\")"
   ]
  },
  {
   "cell_type": "code",
   "execution_count": 3,
   "id": "b19840b8",
   "metadata": {},
   "outputs": [],
   "source": [
    "text = \"\"\"\n",
    "Few fighters in history have navigated their MMA careers as deftly as Georges St-Pierre.\n",
    "So when the former two-division UFC champion looks at how Conor McGregor has handled the latest \n",
    "chapter of his own career, and the decisions McGregor has made, St-Pierre can’t help but hope McGregor \n",
    "changes course from his desire to face Dustin Poirier for a fourth time whenever the Irishman is cleared \n",
    "to return from the leg injury he suffered at UFC 264.\n",
    "\"\"\""
   ]
  },
  {
   "cell_type": "code",
   "execution_count": 4,
   "id": "57570675",
   "metadata": {},
   "outputs": [],
   "source": [
    "inputs = tokenizer.encode(text, return_tensors=\"pt\")\n",
    "outputs = model.generate(inputs)"
   ]
  },
  {
   "cell_type": "code",
   "execution_count": 5,
   "id": "9edfcaad",
   "metadata": {},
   "outputs": [
    {
     "name": "stdout",
     "output_type": "stream",
     "text": [
      "Pocos luchadores en la historia han navegado sus carreras MMA tan hábilmente como Georges St-Pierre. Así que cuando el ex campeón de la UFC de dos divisiones mira cómo Conor McGregor ha manejado el último capítulo de su propia carrera, y las decisiones que McGregor ha tomado, St-Pierre no puede evitar esperar que McGregor cambie de rumbo de su deseo de enfrentarse a Dustin Poirier por cuarta vez cuando el irlandés está autorizado a regresar de la lesión en la pierna que sufrió en la UFC 264.\n"
     ]
    }
   ],
   "source": [
    "print(tokenizer.decode(outputs[0]).replace(\"<pad> \",\"\"))"
   ]
  }
 ],
 "metadata": {
  "kernelspec": {
   "display_name": "Python 3",
   "language": "python",
   "name": "python3"
  },
  "language_info": {
   "codemirror_mode": {
    "name": "ipython",
    "version": 3
   },
   "file_extension": ".py",
   "mimetype": "text/x-python",
   "name": "python",
   "nbconvert_exporter": "python",
   "pygments_lexer": "ipython3",
   "version": "3.8.5"
  }
 },
 "nbformat": 4,
 "nbformat_minor": 5
}
