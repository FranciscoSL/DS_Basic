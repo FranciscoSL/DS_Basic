{
 "cells": [
  {
   "cell_type": "markdown",
   "metadata": {
    "colab_type": "text",
    "id": "aDaMLDnAPBMf"
   },
   "source": [
    "# Introducción a Python\n",
    "\n",
    "En este notebook se recorren algunos conceptos básicos de programación en general y su aplicación en Python.\n",
    "\n",
    "Adicional se recomienda ir practicando en simultáneo y repasando con algún recurso adicional. Se recomienda:\n",
    "\n",
    "- https://learnxinyminutes.com/docs/python3/\n",
    "\n",
    "- https://www.tutorialsteacher.com/python\n",
    "\n",
    "Sin embargo, hay muchos otros cursos de libre acceso que pueden servir de apoyo.\n",
    "\n",
    "Además de realizar los ejercicios, se sugiere ir **probando y modificando el código** del notebook. La mejor manera de aprender es haciendo modificaciones ('tocando') el código.\n",
    "\n",
    "## 1. Variables, Tipos de Datos y Operaciones\n",
    "\n",
    "### 1.1 Variables\n",
    "\n",
    "Al crear una variable se le da nombre a un objeto. Cada variable debe llevar un nombre a través del cual nos referimos a ella, los nombres deben ser únicos y, en lo posible, ser lo mas explícitos posibles para evitar confusiones. Usando el `=` se asigna un valor a una variable. Ejemplos:"
   ]
  },
  {
   "cell_type": "code",
   "execution_count": null,
   "metadata": {
    "colab": {},
    "colab_type": "code",
    "id": "Ejj7jqb9PBMk"
   },
   "outputs": [],
   "source": [
    "# Asignamos el valor 3 a una variable que creamos, de nombre x\n",
    "x = 3\n",
    "\n",
    "# Evaluamos e imprimimos en pantalla el resultado de la variable\n",
    "print(x)"
   ]
  },
  {
   "cell_type": "code",
   "execution_count": null,
   "metadata": {
    "colab": {},
    "colab_type": "code",
    "id": "G0_JnDgrPBMu"
   },
   "outputs": [],
   "source": [
    "# Asignamos el valor 15.7 a una nueva variable, de nombre y\n",
    "y = 15.7\n",
    "\n",
    "print(y)"
   ]
  },
  {
   "cell_type": "code",
   "execution_count": null,
   "metadata": {
    "colab": {},
    "colab_type": "code",
    "id": "1sVjKnS8PBM0"
   },
   "outputs": [],
   "source": [
    "# Podemos definir una nueva variable como la suma de dos anteriores\n",
    "z = x + y\n",
    "\n",
    "print(z)"
   ]
  },
  {
   "cell_type": "markdown",
   "metadata": {
    "colab_type": "text",
    "id": "rRLxeWdMJvcP"
   },
   "source": [
    "Pero en las variables no necesariamente ponemos números, también podemos poner texto (*strings*)"
   ]
  },
  {
   "cell_type": "code",
   "execution_count": null,
   "metadata": {
    "colab": {},
    "colab_type": "code",
    "id": "n-OyQw00PBM6"
   },
   "outputs": [],
   "source": [
    "# Se puede tambier asignar un valor de texto otra variable\n",
    "un_texto = 'HOLA!'\n",
    "\n",
    "print(un_texto)"
   ]
  },
  {
   "cell_type": "markdown",
   "metadata": {
    "colab_type": "text",
    "id": "Y0t7En_OJvcb"
   },
   "source": [
    "**Probar:** ejecutar la siguiente celda. ¿Cuál es la diferencia?"
   ]
  },
  {
   "cell_type": "code",
   "execution_count": null,
   "metadata": {
    "colab": {},
    "colab_type": "code",
    "id": "RlzXb8nYJvcd"
   },
   "outputs": [],
   "source": [
    "print(un_texto)\n",
    "print('un_texto')"
   ]
  },
  {
   "cell_type": "markdown",
   "metadata": {
    "colab_type": "text",
    "id": "ScGT3xT4Jvcl"
   },
   "source": [
    "Si queremos, podemos borrar alguna variable que ya no utilizaremos más"
   ]
  },
  {
   "cell_type": "code",
   "execution_count": null,
   "metadata": {
    "colab": {},
    "colab_type": "code",
    "id": "Dj_DJGDOPBNB"
   },
   "outputs": [],
   "source": [
    "del(un_texto)\n",
    "print(un_texto)"
   ]
  },
  {
   "cell_type": "markdown",
   "metadata": {
    "colab_type": "text",
    "id": "x3UOib9UPBNG"
   },
   "source": [
    "**Nota importante**: al correr esta ultima linea, deben ver un mensaje de error. Los mensajes de error son MUY IMPORTANTES. Entregan información valiosa cuando el código no funciona. En este caso, está avisando que no puede imprimir la variable `un_texto`, ya se ha eliminado y no está definida.\n",
    "\n",
    "En ocasiones, para resolver el error, un buen recurso es escribirlo es Google.¡Notar que Colab da la opción de Googlear el error en Stack Overflow!"
   ]
  },
  {
   "cell_type": "markdown",
   "metadata": {
    "colab_type": "text",
    "id": "520n2L18PBNH"
   },
   "source": [
    "### 1.2 Tipos de Datos\n",
    "Al definir una variable, dependiendo el contenido que le asignamos, la misma será de un determinado tipo. Los tipos de datos más comunes de variables son:\n",
    "* `int` --> enteros\n",
    "* `float` --> se una para números con decimales\n",
    "* `string` --> variables de texto o alfanuméricas\n",
    "* `boolean` --> variables true/false\n",
    "\n",
    "Veamos algunos ejemplos de cada tipo."
   ]
  },
  {
   "cell_type": "code",
   "execution_count": null,
   "metadata": {
    "colab": {},
    "colab_type": "code",
    "id": "5MQYEBApPBNK"
   },
   "outputs": [],
   "source": [
    "a = 42\n",
    "print(type(a))"
   ]
  },
  {
   "cell_type": "code",
   "execution_count": null,
   "metadata": {
    "colab": {},
    "colab_type": "code",
    "id": "E0g87gVfPBNP"
   },
   "outputs": [],
   "source": [
    "b = 7.8\n",
    "print(type(b))"
   ]
  },
  {
   "cell_type": "code",
   "execution_count": null,
   "metadata": {
    "colab": {},
    "colab_type": "code",
    "id": "6SFdLEFIPBNW"
   },
   "outputs": [],
   "source": [
    "c = True\n",
    "print(type(c))"
   ]
  },
  {
   "cell_type": "code",
   "execution_count": null,
   "metadata": {
    "colab": {},
    "colab_type": "code",
    "id": "i_cCG-iYPBNb"
   },
   "outputs": [],
   "source": [
    "t1 = 'hola'\n",
    "print(type(\"hola\"))\n",
    "\n",
    "t2 = '523'\n",
    "print(type('t2'))"
   ]
  },
  {
   "cell_type": "markdown",
   "metadata": {
    "colab_type": "text",
    "id": "fAiC3ranPBNh"
   },
   "source": [
    "**Nota**: a pesar de ser un número, la variable `t2` es de tipo `string`. Esto se debe a que el valo9r se puso entre comillas."
   ]
  },
  {
   "cell_type": "code",
   "execution_count": null,
   "metadata": {
    "colab": {},
    "colab_type": "code",
    "id": "erSdYVqhPBNj"
   },
   "outputs": [],
   "source": [
    "# Este es un tipo especial de variable, que se utiliza para simbolizar algo 'vacio'\n",
    "d = None\n",
    "print(type(d))"
   ]
  },
  {
   "cell_type": "markdown",
   "metadata": {
    "colab_type": "text",
    "id": "WhJ_nLaCPBNo"
   },
   "source": [
    "Si por algun motivo (ya veremos que esto es algo que suele suceder) se desea definir el tipo de variable y no dejar que python lo asuma por sí solo, esto también es posible."
   ]
  },
  {
   "cell_type": "code",
   "execution_count": null,
   "metadata": {
    "colab": {},
    "colab_type": "code",
    "id": "AvUDAvtpPBNp"
   },
   "outputs": [],
   "source": [
    "numero = 45\n",
    "print(type(numero))\n",
    "\n",
    "# Quiero que sea un 'float' y no un int\n",
    "numero = float(45)\n",
    "print(type(numero))\n",
    "\n",
    "# Quiero que sea un 'string' y no un int\n",
    "numero = str(45)\n",
    "print(type(numero))"
   ]
  },
  {
   "cell_type": "code",
   "execution_count": null,
   "metadata": {
    "colab": {
     "base_uri": "https://localhost:8080/",
     "height": 50
    },
    "colab_type": "code",
    "executionInfo": {
     "elapsed": 1311,
     "status": "ok",
     "timestamp": 1597877052040,
     "user": {
      "displayName": "Juan Serna",
      "photoUrl": "https://lh3.googleusercontent.com/a-/AOh14GjcHoh1C7CB4nXU3oV4EL8YAQ6vTTppasq2hVPWxg=s64",
      "userId": "04213219753280407363"
     },
     "user_tz": 300
    },
    "id": "r6B6f_oOPBNv",
    "outputId": "5b1dde26-6fc2-4495-d4b9-1b4b5970ac92"
   },
   "outputs": [
    {
     "name": "stdout",
     "output_type": "stream",
     "text": [
      "<class 'float'>\n",
      "<class 'int'>\n"
     ]
    }
   ],
   "source": [
    "otro_numero = 45.0\n",
    "print(type(otro_numero))\n",
    "\n",
    "# Quiero que sea un 'int' y no un 'float'\n",
    "otro_numero = int(45.0)\n",
    "print(type(otro_numero))"
   ]
  },
  {
   "cell_type": "markdown",
   "metadata": {
    "colab_type": "text",
    "id": "4EMswXwbPjLD"
   },
   "source": [
    "<font color='red'>**Ejercicio:**</font> Cambiar el tipo de la variable 'numero' a float."
   ]
  },
  {
   "cell_type": "code",
   "execution_count": null,
   "metadata": {
    "colab": {},
    "colab_type": "code",
    "id": "g6o0UHSbPuZu"
   },
   "outputs": [],
   "source": [
    "numero = '5'\n",
    "numero = COMPLETAR\n",
    "\n",
    "# La siguientes lineas de codigo chequean si hiciste correctamente el ejercicio\n",
    "# No importa si no entiendes qué hace.\n",
    "if type(numero) is float:\n",
    "    print('Correcto!')\n",
    "else:\n",
    "    print('Convierte la variable a tipo float')"
   ]
  },
  {
   "cell_type": "markdown",
   "metadata": {
    "colab_type": "text",
    "id": "Zip2yREWPBN0"
   },
   "source": [
    "### 1.3 Operaciones\n",
    "Con las variables que definidas esposible realizar distintas operaciones. Dependiendo del tipo de variable, hay diferentes operaciones diponibles. En este notebook hay operaciones con números - `int` y `float`; más adelante se verán operaciones con texto.\n",
    "\n",
    "#### 1.3.1 Operaciones con números\n",
    "\n",
    "Se pueden realizar las operaciones básicas entre números\n"
   ]
  },
  {
   "cell_type": "code",
   "execution_count": null,
   "metadata": {
    "colab": {},
    "colab_type": "code",
    "id": "QbeN4rjGPBN2"
   },
   "outputs": [],
   "source": [
    "a = 20\n",
    "b = 4\n",
    "print(a+b)\n",
    "print(a-b)"
   ]
  },
  {
   "cell_type": "markdown",
   "metadata": {
    "colab_type": "text",
    "id": "t4JcimwwJvd2"
   },
   "source": [
    "Se pueden realizar las operaciones incluso entre distintos tipos de variables"
   ]
  },
  {
   "cell_type": "code",
   "execution_count": null,
   "metadata": {
    "colab": {},
    "colab_type": "code",
    "id": "x7NDD_tJPBN6"
   },
   "outputs": [],
   "source": [
    "a = 20 #int\n",
    "b = 4.5 #float\n",
    "\n",
    "c = a+b\n",
    "d = a-b\n",
    "\n",
    "print(c)\n",
    "print(d)"
   ]
  },
  {
   "cell_type": "markdown",
   "metadata": {
    "colab_type": "text",
    "id": "oNsWzLiBJvd-"
   },
   "source": [
    "¿De qué tipo es la variable resultante? Trata de adivinarlo antes de correr la celda siguiente."
   ]
  },
  {
   "cell_type": "code",
   "execution_count": null,
   "metadata": {
    "colab": {},
    "colab_type": "code",
    "id": "yZLqW2ZYPBN_"
   },
   "outputs": [],
   "source": [
    "print(type(c))\n",
    "print(type(d))"
   ]
  },
  {
   "cell_type": "markdown",
   "metadata": {
    "colab_type": "text",
    "id": "bLtMd2Z_JveF"
   },
   "source": [
    "También podemos dividir números."
   ]
  },
  {
   "cell_type": "code",
   "execution_count": null,
   "metadata": {
    "colab": {},
    "colab_type": "code",
    "id": "z9kq2lEVPBOF"
   },
   "outputs": [],
   "source": [
    "x = 10\n",
    "y = 3\n",
    "z = x/y\n",
    "print(z)"
   ]
  },
  {
   "cell_type": "markdown",
   "metadata": {
    "colab_type": "text",
    "id": "V-RQ8mBIJveM"
   },
   "source": [
    "¿De qué tipo es la variable resultante de hacer la división? A pesar de dividir dos números enteros, el resultado es de tipo `float`. ¡Ésta es una de las diferencias entre Python 2 y Python 3."
   ]
  },
  {
   "cell_type": "code",
   "execution_count": null,
   "metadata": {
    "colab": {},
    "colab_type": "code",
    "id": "IgJQDZ7MPBOI"
   },
   "outputs": [],
   "source": [
    "print(type(z))"
   ]
  },
  {
   "cell_type": "markdown",
   "metadata": {
    "colab_type": "text",
    "id": "uxfV-jOYJved"
   },
   "source": [
    "La siguiente operación es muy usada en computación, nos devuelve el residuo (o resto) de la división. ¿No recuerdas qué es el residuo? Puedes investigarlo [aquí](https://www.disfrutalasmatematicas.com/numeros/division-resto.html)."
   ]
  },
  {
   "cell_type": "code",
   "execution_count": 1,
   "metadata": {
    "colab": {},
    "colab_type": "code",
    "id": "tZWn26P9PBON"
   },
   "outputs": [
    {
     "name": "stdout",
     "output_type": "stream",
     "text": [
      "1\n",
      "<class 'int'>\n"
     ]
    }
   ],
   "source": [
    "x = 10\n",
    "y = 3\n",
    "print(x%y)\n",
    "print(type(x%y))"
   ]
  },
  {
   "cell_type": "markdown",
   "metadata": {
    "colab_type": "text",
    "id": "-5X5DceISQ-O"
   },
   "source": [
    "<font color='red'>**Ejercicio:**</font> Calcular el porcentaje que representa el valor 17 sobre un total de 54. Guardar el resultado en una variable llamada `porcentaje`."
   ]
  },
  {
   "cell_type": "code",
   "execution_count": null,
   "metadata": {
    "colab": {
     "base_uri": "https://localhost:8080/",
     "height": 34
    },
    "colab_type": "code",
    "executionInfo": {
     "elapsed": 1513,
     "status": "ok",
     "timestamp": 1597888352592,
     "user": {
      "displayName": "Juan Serna",
      "photoUrl": "https://lh3.googleusercontent.com/a-/AOh14GjcHoh1C7CB4nXU3oV4EL8YAQ6vTTppasq2hVPWxg=s64",
      "userId": "04213219753280407363"
     },
     "user_tz": 300
    },
    "id": "RztYLbRnYG37",
    "outputId": "f2fce9e0-26ec-4b94-fdde-76533fb7dc04"
   },
   "outputs": [
    {
     "name": "stdout",
     "output_type": "stream",
     "text": [
      "31.48148148148148\n"
     ]
    }
   ],
   "source": [
    "# COMPLETAR\n",
    "porcentaje = (17/54)*100\n",
    "print (porcentaje)"
   ]
  },
  {
   "cell_type": "code",
   "execution_count": null,
   "metadata": {
    "colab": {
     "base_uri": "https://localhost:8080/",
     "height": 34
    },
    "colab_type": "code",
    "executionInfo": {
     "elapsed": 737,
     "status": "ok",
     "timestamp": 1597888904968,
     "user": {
      "displayName": "Juan Serna",
      "photoUrl": "https://lh3.googleusercontent.com/a-/AOh14GjcHoh1C7CB4nXU3oV4EL8YAQ6vTTppasq2hVPWxg=s64",
      "userId": "04213219753280407363"
     },
     "user_tz": 300
    },
    "id": "AehXRvvWkUr0",
    "outputId": "346eca08-a63f-4ed5-a1e7-2efb82c38249"
   },
   "outputs": [
    {
     "data": {
      "text/plain": [
       "[31.48148148148148]"
      ]
     },
     "execution_count": 12,
     "metadata": {
      "tags": []
     },
     "output_type": "execute_result"
    }
   ],
   "source": [
    "porcentaje = []\n",
    "def porcen(x,y): \n",
    "    res = (x/y)*100\n",
    "    porcentaje.append(res)\n",
    "\n",
    "porcen(17, 54)\n",
    "porcentaje"
   ]
  },
  {
   "cell_type": "markdown",
   "metadata": {
    "colab_type": "text",
    "id": "sOTLmVfbvVj5"
   },
   "source": [
    "#### **<font color='red'>Ejercicio:**</font>  calcula la suma y multiplicación de las variables `a`, `b` y `c`. ¡Prestar atención al tipo de dato!"
   ]
  },
  {
   "cell_type": "code",
   "execution_count": 2,
   "metadata": {
    "colab": {},
    "colab_type": "code",
    "id": "JUyyfS0lvnWR"
   },
   "outputs": [
    {
     "name": "stdout",
     "output_type": "stream",
     "text": [
      "4.3\n",
      "-85.8\n"
     ]
    }
   ],
   "source": [
    "a = '2'\n",
    "b = '-5.5'\n",
    "c = '7.8'\n",
    "\n",
    "suma = float(a) + float(b) + float(c)\n",
    "mult = float(a) * float(b) * float(c)\n",
    "\n",
    "print(suma)\n",
    "print(mult)"
   ]
  },
  {
   "cell_type": "markdown",
   "metadata": {
    "colab_type": "text",
    "id": "Rdo5rRsdPBO7"
   },
   "source": [
    "## 2. Listas y Loops\n",
    "\n",
    "Ya vimos los tipos de datos básicos de Python. Es hora de empezar a combinarlos.\n",
    "\n",
    "### 2.1 Listas\n",
    "\n",
    "Las listas un objeto central en el lenguaje Python. Están compuestas por una sucesión de objetos en un orden determinado. Se definen mediante corchetes `[]`, y los objetos dentro de ellas se separan por comas `,`. Ejemplo:"
   ]
  },
  {
   "cell_type": "code",
   "execution_count": 7,
   "metadata": {
    "colab": {
     "base_uri": "https://localhost:8080/",
     "height": 34
    },
    "colab_type": "code",
    "executionInfo": {
     "elapsed": 2095,
     "status": "ok",
     "timestamp": 1597889926424,
     "user": {
      "displayName": "Juan Serna",
      "photoUrl": "https://lh3.googleusercontent.com/a-/AOh14GjcHoh1C7CB4nXU3oV4EL8YAQ6vTTppasq2hVPWxg=s64",
      "userId": "04213219753280407363"
     },
     "user_tz": 300
    },
    "id": "vA9XBz5mPBO8",
    "outputId": "bc92e8bc-75aa-414b-e01d-8e173b3004ae"
   },
   "outputs": [
    {
     "name": "stdout",
     "output_type": "stream",
     "text": [
      "[42, 10.7, True, 'Texto']\n"
     ]
    }
   ],
   "source": [
    "lista_1 = [42, 10.7, True, 'Texto']\n",
    "print(lista_1)"
   ]
  },
  {
   "cell_type": "markdown",
   "metadata": {
    "colab_type": "text",
    "id": "286PH7uXJves"
   },
   "source": [
    "**Notar** que la lista puede contener varios tipos de datos diferentes sin ningún problema.\n",
    "\n",
    "Una pregunta frecuente al trabajar con listas es: ¿cuántos elementos tiene la lista? Esto se puede responder con el comando `len()`"
   ]
  },
  {
   "cell_type": "code",
   "execution_count": 8,
   "metadata": {
    "colab": {
     "base_uri": "https://localhost:8080/",
     "height": 34
    },
    "colab_type": "code",
    "executionInfo": {
     "elapsed": 1349,
     "status": "ok",
     "timestamp": 1597888992327,
     "user": {
      "displayName": "Juan Serna",
      "photoUrl": "https://lh3.googleusercontent.com/a-/AOh14GjcHoh1C7CB4nXU3oV4EL8YAQ6vTTppasq2hVPWxg=s64",
      "userId": "04213219753280407363"
     },
     "user_tz": 300
    },
    "id": "D4nWSXKSPBO_",
    "outputId": "3d497792-d73a-416f-d816-e5219ec70e53"
   },
   "outputs": [
    {
     "data": {
      "text/plain": [
       "4"
      ]
     },
     "execution_count": 8,
     "metadata": {},
     "output_type": "execute_result"
    }
   ],
   "source": [
    "len(lista_1)"
   ]
  },
  {
   "cell_type": "markdown",
   "metadata": {
    "colab_type": "text",
    "id": "b0wCmLL2PBPC"
   },
   "source": [
    "#### Indexado\n",
    "\n",
    "Cada elemento de una lista tiene asignada una posición (*índice*). Esa posición se puede usar para inspeccionar ese elemento y operar con él. Los índices **empiezan en 0**, y se especifican poniendo el índice entre corchetes luego del nombre de la lista:"
   ]
  },
  {
   "cell_type": "code",
   "execution_count": 9,
   "metadata": {
    "colab": {
     "base_uri": "https://localhost:8080/",
     "height": 67
    },
    "colab_type": "code",
    "executionInfo": {
     "elapsed": 2087,
     "status": "ok",
     "timestamp": 1597889926426,
     "user": {
      "displayName": "Juan Serna",
      "photoUrl": "https://lh3.googleusercontent.com/a-/AOh14GjcHoh1C7CB4nXU3oV4EL8YAQ6vTTppasq2hVPWxg=s64",
      "userId": "04213219753280407363"
     },
     "user_tz": 300
    },
    "id": "Jepw64oFPBPC",
    "outputId": "e3cdc719-f4df-4fdf-b157-0f9c0e918b39"
   },
   "outputs": [
    {
     "name": "stdout",
     "output_type": "stream",
     "text": [
      "5\n",
      "6.0\n",
      "Un poco de texto\n"
     ]
    }
   ],
   "source": [
    "lista_2 = [5, 6.0,'Un poco de texto',-5, False, 'Más texto', True, 100]\n",
    "\n",
    "print(lista_2[0])\n",
    "print(lista_2[1])\n",
    "print(lista_2[2])"
   ]
  },
  {
   "cell_type": "markdown",
   "metadata": {
    "colab_type": "text",
    "id": "WOz0qLeiJve4"
   },
   "source": [
    "**<font color='red'>Ejercicio:</font>** imprimir el séptimo elemento de `lista_2`. Asegurarte que lo hiciste bien contando los elementos de la lista."
   ]
  },
  {
   "cell_type": "code",
   "execution_count": 10,
   "metadata": {
    "colab": {},
    "colab_type": "code",
    "id": "7ow4VjxZJve8"
   },
   "outputs": [
    {
     "name": "stdout",
     "output_type": "stream",
     "text": [
      "True\n"
     ]
    }
   ],
   "source": [
    "print(lista_2[6])"
   ]
  },
  {
   "cell_type": "markdown",
   "metadata": {
    "colab_type": "text",
    "id": "qS6wo6wUJvfA"
   },
   "source": [
    "También podemos seleccionar porciones de la lista, no solamente un elemento por vez."
   ]
  },
  {
   "cell_type": "code",
   "execution_count": 11,
   "metadata": {
    "colab": {},
    "colab_type": "code",
    "id": "mVfn1mYHPBPK"
   },
   "outputs": [
    {
     "name": "stdout",
     "output_type": "stream",
     "text": [
      "[42, 10.7, True]\n",
      "[False, 'Más texto', True, 100]\n",
      "[6.0, -5]\n"
     ]
    }
   ],
   "source": [
    "print(lista_1[0:3])\n",
    "print(lista_2[4:])\n",
    "print(lista_2[1:5:2])"
   ]
  },
  {
   "cell_type": "markdown",
   "metadata": {
    "colab_type": "text",
    "id": "3RrvsnVRJvfF"
   },
   "source": [
    "¿Cuál es la lógica que gobierna esta sintaxis? Juega un poco con ella y fíjate si logras descubrir la regla. Sugerencia: buscar qué es *slicing*.\n",
    "\n",
    "Algo más sobre indexado: se puede indexar *desde el final* de la lista usando números negativos."
   ]
  },
  {
   "cell_type": "code",
   "execution_count": 12,
   "metadata": {
    "colab": {},
    "colab_type": "code",
    "id": "zZORvWBvJvfG"
   },
   "outputs": [
    {
     "name": "stdout",
     "output_type": "stream",
     "text": [
      "100\n",
      "True\n",
      "5\n"
     ]
    }
   ],
   "source": [
    "print(lista_2[-1])\n",
    "print(lista_2[-2])\n",
    "print(lista_2[-8])"
   ]
  },
  {
   "cell_type": "markdown",
   "metadata": {
    "colab_type": "text",
    "id": "qyaVS4DtJvfJ"
   },
   "source": [
    "Una cosa más: creemos una tercera lista:"
   ]
  },
  {
   "cell_type": "code",
   "execution_count": 13,
   "metadata": {
    "colab": {
     "base_uri": "https://localhost:8080/",
     "height": 70
    },
    "colab_type": "code",
    "executionInfo": {
     "elapsed": 18747,
     "status": "ok",
     "timestamp": 1597889957448,
     "user": {
      "displayName": "Juan Serna",
      "photoUrl": "https://lh3.googleusercontent.com/a-/AOh14GjcHoh1C7CB4nXU3oV4EL8YAQ6vTTppasq2hVPWxg=s64",
      "userId": "04213219753280407363"
     },
     "user_tz": 300
    },
    "id": "-nQ_FGfNPBPM",
    "outputId": "524447aa-82b4-4668-c57c-b3dc45a19e7e"
   },
   "outputs": [
    {
     "name": "stdout",
     "output_type": "stream",
     "text": [
      "[0, [42, 10.7, True, 'Texto'], 'Mas texto', [5, 6.0, 'Un poco de texto', -5, False, 'Más texto', True, 100]]\n",
      "4\n"
     ]
    }
   ],
   "source": [
    "# Definimos una segunda lista\n",
    "lista_3 = [0, lista_1, 'Mas texto', lista_2]\n",
    "print(lista_3)\n",
    "print(len(lista_3))"
   ]
  },
  {
   "cell_type": "markdown",
   "metadata": {
    "colab_type": "text",
    "id": "5YSBWt8tPBPP"
   },
   "source": [
    "Notar que en esta tercera lista, agregamos la primera y la segunda lista. Ambas listas ahora son elementos de la tercera lista. Prestar particular atención a cuántos elementos tiene `lista_3`. ¡No importa cuántos elementos tienen `lista_1` o `lista_2`, dentro de `lista_3` solamente cuentan como uno!"
   ]
  },
  {
   "cell_type": "code",
   "execution_count": 14,
   "metadata": {
    "colab": {
     "base_uri": "https://localhost:8080/",
     "height": 34
    },
    "colab_type": "code",
    "executionInfo": {
     "elapsed": 3329,
     "status": "ok",
     "timestamp": 1597889994898,
     "user": {
      "displayName": "Juan Serna",
      "photoUrl": "https://lh3.googleusercontent.com/a-/AOh14GjcHoh1C7CB4nXU3oV4EL8YAQ6vTTppasq2hVPWxg=s64",
      "userId": "04213219753280407363"
     },
     "user_tz": 300
    },
    "id": "3WYr5rJQPBPQ",
    "outputId": "3e17919e-13a9-4f87-bd97-6ac2f2ab35d2"
   },
   "outputs": [
    {
     "name": "stdout",
     "output_type": "stream",
     "text": [
      "True\n"
     ]
    }
   ],
   "source": [
    "print(lista_3[1][2])"
   ]
  },
  {
   "cell_type": "markdown",
   "metadata": {
    "colab_type": "text",
    "id": "RsTtGltdJvfT"
   },
   "source": [
    "**<font color='red'>Ejercicio:</font>** tomando `lista_1` desde `lista_3` (lo que acabamos de hacer en la celda anterior), indexar el tercer elemento de `lista_1`. Debería darte como resultado `True`."
   ]
  },
  {
   "cell_type": "code",
   "execution_count": 15,
   "metadata": {
    "colab": {},
    "colab_type": "code",
    "id": "on1ihAbHJvfU"
   },
   "outputs": [
    {
     "name": "stdout",
     "output_type": "stream",
     "text": [
      "True\n"
     ]
    }
   ],
   "source": [
    "print(lista_3[1][2])"
   ]
  },
  {
   "cell_type": "markdown",
   "metadata": {
    "colab_type": "text",
    "id": "ZbA1JYFxPBPR"
   },
   "source": [
    "**Lista Vacía y `append()`**\n",
    "\n",
    "Es posible crear listas vacias e ir agregándo elementos con el método `append()`"
   ]
  },
  {
   "cell_type": "code",
   "execution_count": null,
   "metadata": {
    "colab": {},
    "colab_type": "code",
    "id": "7VWvo-GwPBPT"
   },
   "outputs": [],
   "source": [
    "lista_vacia = []\n",
    "len(lista_vacia)"
   ]
  },
  {
   "cell_type": "code",
   "execution_count": null,
   "metadata": {
    "colab": {},
    "colab_type": "code",
    "id": "pmlQp8PEPBPV"
   },
   "outputs": [],
   "source": [
    "lista_vacia.append(42)\n",
    "lista_vacia.append('un segundo item')\n",
    "print(lista_vacia)\n",
    "print(len(lista_vacia))"
   ]
  },
  {
   "cell_type": "markdown",
   "metadata": {
    "colab_type": "text",
    "id": "sU-6LA63PBPX"
   },
   "source": [
    "Prueba qué pasa si corren nuevamente la celda anterior (justo arriba de ésta). Notar que el método `append()` no solamente trabaja en listas vacías.\n",
    "\n",
    "**<font color='red'>Ejercicio:</font>** Definir una lista vacía llamada `lista_nueva` y agrégarle, usando `append()`, los elementos `a`, `b` y `c`."
   ]
  },
  {
   "cell_type": "code",
   "execution_count": 17,
   "metadata": {
    "colab": {},
    "colab_type": "code",
    "id": "jXs-Rkh6VF8K"
   },
   "outputs": [
    {
     "name": "stdout",
     "output_type": "stream",
     "text": [
      "[8, 'world', [12, 24.5, 66]]\n"
     ]
    }
   ],
   "source": [
    "a = 8\n",
    "b = 'world'\n",
    "c = [12,24.5,66]\n",
    "\n",
    "lista_nueva = []\n",
    "lista_nueva.append(a)\n",
    "lista_nueva.append(b)\n",
    "lista_nueva.append(c)\n",
    "print(lista_nueva)"
   ]
  },
  {
   "cell_type": "markdown",
   "metadata": {
    "colab_type": "text",
    "id": "fOCxehC_Jvfm"
   },
   "source": [
    "**<font color='BLUE'>CUIDADO:</font>** a veces queremos copiar una lista, operar sobre ella y comparar los resultados con la lista original. Sin embargo, hay que tener cuidado cuando queremos copiar listas."
   ]
  },
  {
   "cell_type": "code",
   "execution_count": null,
   "metadata": {
    "colab": {},
    "colab_type": "code",
    "id": "t9WclLNMJvfn"
   },
   "outputs": [],
   "source": [
    "lista_1 = [1,2,3,4]\n",
    "lista_2 = lista_1  # lista_2 ahora es igual a lista_1\n",
    "lista_2[-1] = 100 # el ultimo elemento de la lista_2 ahora es 100\n",
    "print(lista_1, lista_2)"
   ]
  },
  {
   "cell_type": "markdown",
   "metadata": {
    "colab_type": "text",
    "id": "SDNdtX3uJvfr"
   },
   "source": [
    "¡Notar que se modificaron ambas listas! Esto, en general, no es lo deseado. Pero se puede hacer correctamente:"
   ]
  },
  {
   "cell_type": "code",
   "execution_count": null,
   "metadata": {
    "colab": {},
    "colab_type": "code",
    "id": "tGukUgixJvfs"
   },
   "outputs": [],
   "source": [
    "lista_1 = [1,2,3,4]\n",
    "lista_2 = lista_1.copy() # Prestar atención aquí\n",
    "lista_2[-1] = 100\n",
    "print(lista_1, lista_2)"
   ]
  },
  {
   "cell_type": "markdown",
   "metadata": {
    "colab_type": "text",
    "id": "1gP68SzLJvfy"
   },
   "source": [
    "¡Ahora no! Es decir, si queremos copiar listas, debemos poner `.copy()`. Esto no solo vale para listas, sino para objetos que veremos más adelante, como arreglos de Numpy y dataframes de Pandas."
   ]
  },
  {
   "cell_type": "markdown",
   "metadata": {
    "colab_type": "text",
    "id": "oGW0jo5hPBPZ"
   },
   "source": [
    "### 2.2 Loops\n",
    "\n",
    "En general, cuando estamos programando, queremos repetir una operación varias veces. Por ejemplo, aplicarle una operación a los elementos de una lista. Si la lista tiene muchos elementos, puede ser engorroso escribir la aplicación de esa operacíon a cada elemento uno por uno, por lo que necesitamos alguna estructura de código que facilite esa sintaxis. \n",
    "\n",
    "Los **Loops** (bucles) son estructuras de codigo fundamentales en cualquier lenguaje de programación. Consisten en bloques de código que se repiten una cierta cantidad de veces dada una condición. Existen dos formas básicas de crear loops, las instrucciones tipo `for` y las instrucciones tipo `while`. Te vamos a contar de qué se tratan los `for`, si te interesa pueden googlear cómo funcionan los `while`.\n",
    "\n",
    "El `for` es un loop en el que un bloque de código se repite tantas veces como elementos haya en una determinada lista. En cada iteración (repetición) hay una variable que va tomando el valor de uno de los elementos en esta lista. Veamos un ejemplo:"
   ]
  },
  {
   "cell_type": "code",
   "execution_count": 4,
   "metadata": {
    "colab": {
     "base_uri": "https://localhost:8080/",
     "height": 101
    },
    "colab_type": "code",
    "executionInfo": {
     "elapsed": 1284,
     "status": "ok",
     "timestamp": 1597890159064,
     "user": {
      "displayName": "Juan Serna",
      "photoUrl": "https://lh3.googleusercontent.com/a-/AOh14GjcHoh1C7CB4nXU3oV4EL8YAQ6vTTppasq2hVPWxg=s64",
      "userId": "04213219753280407363"
     },
     "user_tz": 300
    },
    "id": "hZw979QmPBPa",
    "outputId": "a2073ebe-c0d8-4bab-8592-576a7f18be6e"
   },
   "outputs": [
    {
     "name": "stdout",
     "output_type": "stream",
     "text": [
      "3\n",
      "55\n",
      "1\n",
      "876\n",
      "12\n"
     ]
    }
   ],
   "source": [
    "lista_numeros = [3,55,1,876,12]\n",
    "for elemento in lista_numeros:\n",
    "    # Definimos el codigo dentro del for mediante la indentación\n",
    "    # (Todo lo que este corrido un 'tab' a la derecha)\n",
    "    print(elemento)"
   ]
  },
  {
   "cell_type": "markdown",
   "metadata": {
    "colab_type": "text",
    "id": "yie0RDfK3z0x"
   },
   "source": [
    "Prestar particular atención a que el código que está \"dentro\" del `for` está **indentado**. En algunos lenguajes de programación la indentación se utiliza para ordenar el código, hacerlo más legible. En Python, en cambio, es **obligatorio**. Se logra con cuatro espacios o un tab.\n",
    "\n",
    "Repitamos los mismo que la celda anterior. pero ahora agregamos una variable `i` que cuenta la cantidad de veces que recorrimos el bucle `for` ."
   ]
  },
  {
   "cell_type": "code",
   "execution_count": 6,
   "metadata": {
    "colab": {
     "base_uri": "https://localhost:8080/",
     "height": 101
    },
    "colab_type": "code",
    "executionInfo": {
     "elapsed": 1221,
     "status": "ok",
     "timestamp": 1597890169822,
     "user": {
      "displayName": "Juan Serna",
      "photoUrl": "https://lh3.googleusercontent.com/a-/AOh14GjcHoh1C7CB4nXU3oV4EL8YAQ6vTTppasq2hVPWxg=s64",
      "userId": "04213219753280407363"
     },
     "user_tz": 300
    },
    "id": "kpqiAZb-PBPd",
    "outputId": "aaf571e2-286e-4fbc-d9a2-821cf5e5e1b5"
   },
   "outputs": [
    {
     "name": "stdout",
     "output_type": "stream",
     "text": [
      "3 1\n",
      "55 2\n",
      "1 3\n",
      "876 4\n",
      "12 5\n"
     ]
    }
   ],
   "source": [
    "lista_numeros = [3,55,1,876,12]\n",
    "i = 0 # La iniciamos en cero\n",
    "\n",
    "for elemento in lista_numeros:    \n",
    "    i = i+1 # Le sumamos 1 cada vez que entra\n",
    "    print(elemento, i)"
   ]
  },
  {
   "cell_type": "markdown",
   "metadata": {
    "colab_type": "text",
    "id": "8C8nZYZT5QME"
   },
   "source": [
    "Tomarte unos minutos para entender qué hace la línea `i = i + 1`."
   ]
  },
  {
   "cell_type": "markdown",
   "metadata": {
    "colab_type": "text",
    "id": "Qbz2a3orPBPl"
   },
   "source": [
    "También podemos recorrer listas de texto. Presten atencion al siguiente codigo, e intenten precedir el resultado antes de correr la celda."
   ]
  },
  {
   "cell_type": "code",
   "execution_count": 7,
   "metadata": {
    "colab": {
     "base_uri": "https://localhost:8080/",
     "height": 34
    },
    "colab_type": "code",
    "executionInfo": {
     "elapsed": 1091,
     "status": "ok",
     "timestamp": 1597890233643,
     "user": {
      "displayName": "Juan Serna",
      "photoUrl": "https://lh3.googleusercontent.com/a-/AOh14GjcHoh1C7CB4nXU3oV4EL8YAQ6vTTppasq2hVPWxg=s64",
      "userId": "04213219753280407363"
     },
     "user_tz": 300
    },
    "id": "z1jQ13uzPBPm",
    "outputId": "ede803db-4e76-42f4-c0f3-bb3a140c31b3"
   },
   "outputs": [
    {
     "name": "stdout",
     "output_type": "stream",
     "text": [
      "['Mi nombre es Ernesto', 'Mi nombre es Camilo', 'Mi nombre es Violeta']\n"
     ]
    }
   ],
   "source": [
    "lista_nombres = ['Ernesto', 'Camilo', 'Violeta']\n",
    "nueva_lista = []\n",
    "\n",
    "for item in lista_nombres:\n",
    "    oracion = 'Mi nombre es ' + item\n",
    "    nueva_lista.append(oracion)\n",
    "\n",
    "# Este print esta fuera del bucle, no está indentado\n",
    "print(nueva_lista)"
   ]
  },
  {
   "cell_type": "markdown",
   "metadata": {
    "colab_type": "text",
    "id": "YrQ5I9FZ53sq"
   },
   "source": [
    "Terminamos las explicaciones por el momento. Sabemos que fue bastante y que probablemente estés cansado/a. Recomendamos tomarte un tiempo para descansar y, luego, intentar los siguientes ejercicios. Es MUY importante intentarlo, no importa si sientes que no terminan de resolverlos.\n",
    "\n",
    "## <font color='red'>Ejercicios</font>\n",
    "\n",
    "En general, no hay una única forma de resolver los ejercicios que vamos a dejar. Lo que sí ocurre, a veces, es que hay formas más *eficientes* o *prolijas*. No debes preocuparte por eso ahora, lo importante es intentar resolverlos.\n",
    "\n",
    "<font color='red'>**Ejercicios 1 y 2:**</font> Si tenemos una lista de números, por ejemplo los primeros diez numeros naturales, e intentamos sumarle un número fijo a la lista, por ejemplo 3, tal vez intentemos algo parecido a lo siguiente: \n",
    "\n"
   ]
  },
  {
   "cell_type": "code",
   "execution_count": 18,
   "metadata": {
    "colab": {},
    "colab_type": "code",
    "id": "DNaZ9yIy7wXr"
   },
   "outputs": [
    {
     "ename": "TypeError",
     "evalue": "can only concatenate list (not \"int\") to list",
     "output_type": "error",
     "traceback": [
      "\u001b[1;31m---------------------------------------------------------------------------\u001b[0m",
      "\u001b[1;31mTypeError\u001b[0m                                 Traceback (most recent call last)",
      "\u001b[1;32m<ipython-input-18-8b044cee7884>\u001b[0m in \u001b[0;36m<module>\u001b[1;34m\u001b[0m\n\u001b[0;32m      1\u001b[0m \u001b[0mnumeros\u001b[0m \u001b[1;33m=\u001b[0m \u001b[1;33m[\u001b[0m\u001b[1;36m0\u001b[0m\u001b[1;33m,\u001b[0m\u001b[1;36m1\u001b[0m\u001b[1;33m,\u001b[0m\u001b[1;36m2\u001b[0m\u001b[1;33m,\u001b[0m\u001b[1;36m3\u001b[0m\u001b[1;33m,\u001b[0m\u001b[1;36m4\u001b[0m\u001b[1;33m,\u001b[0m\u001b[1;36m5\u001b[0m\u001b[1;33m,\u001b[0m\u001b[1;36m6\u001b[0m\u001b[1;33m,\u001b[0m\u001b[1;36m7\u001b[0m\u001b[1;33m,\u001b[0m\u001b[1;36m8\u001b[0m\u001b[1;33m,\u001b[0m\u001b[1;36m9\u001b[0m\u001b[1;33m]\u001b[0m\u001b[1;33m\u001b[0m\u001b[1;33m\u001b[0m\u001b[0m\n\u001b[1;32m----> 2\u001b[1;33m \u001b[0mprint\u001b[0m\u001b[1;33m(\u001b[0m\u001b[0mnumeros\u001b[0m \u001b[1;33m+\u001b[0m \u001b[1;36m3\u001b[0m\u001b[1;33m)\u001b[0m\u001b[1;33m\u001b[0m\u001b[1;33m\u001b[0m\u001b[0m\n\u001b[0m",
      "\u001b[1;31mTypeError\u001b[0m: can only concatenate list (not \"int\") to list"
     ]
    }
   ],
   "source": [
    "numeros = [0,1,2,3,4,5,6,7,8,9]\n",
    "print(numeros + 3)"
   ]
  },
  {
   "cell_type": "markdown",
   "metadata": {
    "colab_type": "text",
    "id": "z5l3spVJ775e"
   },
   "source": [
    "¡Nos salta un error! (Notar que la opción de Googlear el error en Stack Overflow esta vez es más informativa.). Entonces, te proponemos que resuelvas los siguientes ejercicios:\n",
    "\n",
    "\n",
    "1. Crear una rutina que le sume tres a los diez primeros números naturales y vaya imprimiendo en pantalla a medida que lo hace.\n",
    "2. Crear una rutina que le sume tres a los diez primeros números naturales y guarde los resultados en una nueva lista. Al final, imprimir esa lista en pantalla.\n",
    "\n",
    "Si necesitas unas pistas, puedes clickear [aquí](https://colab.research.google.com/drive/1gfqynizt4gSsitlZELigCL1jIdlYkpmS), ¡pero te recomendamos que antes lo intentes!"
   ]
  },
  {
   "cell_type": "code",
   "execution_count": 20,
   "metadata": {
    "colab": {
     "base_uri": "https://localhost:8080/",
     "height": 34
    },
    "colab_type": "code",
    "executionInfo": {
     "elapsed": 3771,
     "status": "ok",
     "timestamp": 1597890357467,
     "user": {
      "displayName": "Juan Serna",
      "photoUrl": "https://lh3.googleusercontent.com/a-/AOh14GjcHoh1C7CB4nXU3oV4EL8YAQ6vTTppasq2hVPWxg=s64",
      "userId": "04213219753280407363"
     },
     "user_tz": 300
    },
    "id": "Cf4kcg6fCcL8",
    "outputId": "f602f5c4-396b-4e18-dc21-e56dfbf8c26e"
   },
   "outputs": [
    {
     "name": "stdout",
     "output_type": "stream",
     "text": [
      "3\n",
      "4\n",
      "5\n",
      "6\n",
      "7\n",
      "8\n",
      "9\n",
      "10\n",
      "11\n",
      "12\n"
     ]
    }
   ],
   "source": [
    "numeros = [0,1,2,3,4,5,6,7,8,9]\n",
    "nueva_lista = []\n",
    "\n",
    "for item in numeros:\n",
    "    print(3 + item)"
   ]
  },
  {
   "cell_type": "code",
   "execution_count": 21,
   "metadata": {
    "colab": {},
    "colab_type": "code",
    "id": "SLQUER3i9LFq"
   },
   "outputs": [
    {
     "name": "stdout",
     "output_type": "stream",
     "text": [
      "[3, 4, 5, 6, 7, 8, 9, 10, 11, 12]\n"
     ]
    }
   ],
   "source": [
    "# Ejercicio 2\n",
    "\n",
    "numeros = [0,1,2,3,4,5,6,7,8,9]\n",
    "nueva_lista = []\n",
    "\n",
    "for item in numeros:\n",
    "    Sumarle = 3 + item\n",
    "    nueva_lista.append(Sumarle)\n",
    "print(nueva_lista)"
   ]
  },
  {
   "cell_type": "markdown",
   "metadata": {
    "colab_type": "text",
    "id": "rqAE7lt-DPuV"
   },
   "source": [
    "<font color='blue'>**Para investigar y pensar:**</font> ¿qué ocurriría si, en lugar de querer sumarle un número a los diez primeros números naturales, quisiéramos hacerlo sobre los primeros cien?¿Y si fuera el primer millón de números naturales?¿La rutina que creaste es fácilmente adaptable? Investiga cómo podrías adaptarla. Pista: `range()`"
   ]
  },
  {
   "cell_type": "code",
   "execution_count": 25,
   "metadata": {},
   "outputs": [
    {
     "name": "stdout",
     "output_type": "stream",
     "text": [
      "[3, 4, 5, 6, 7, 8, 9, 10, 11, 12, 13, 14, 15, 16, 17, 18, 19, 20, 21, 22, 23, 24, 25, 26, 27, 28, 29, 30, 31, 32, 33, 34, 35, 36, 37, 38, 39, 40, 41, 42, 43, 44, 45, 46, 47, 48, 49, 50, 51, 52, 53, 54, 55, 56, 57, 58, 59, 60, 61, 62, 63, 64, 65, 66, 67, 68, 69, 70, 71, 72, 73, 74, 75, 76, 77, 78, 79, 80, 81, 82, 83, 84, 85, 86, 87, 88, 89, 90, 91, 92, 93, 94, 95, 96, 97, 98, 99, 100, 101, 102]\n"
     ]
    }
   ],
   "source": [
    "N = 100\n",
    "resultados = []\n",
    "for numero in range(N):\n",
    "    resultados.append(numero + 3)\n",
    "print(resultados)"
   ]
  },
  {
   "cell_type": "markdown",
   "metadata": {
    "colab_type": "text",
    "id": "565EnFNTVU3V"
   },
   "source": [
    "<font color='red'>**Ejercicio 3:**</font> Genere una lista llamada `numerotes` que contenga el cuadrado de cada elemento en la lista `numeritos`."
   ]
  },
  {
   "cell_type": "code",
   "execution_count": 26,
   "metadata": {
    "colab": {},
    "colab_type": "code",
    "id": "YB0EcpVqV3hY"
   },
   "outputs": [
    {
     "name": "stdout",
     "output_type": "stream",
     "text": [
      "[9, 1, 25, 49, 144, 100, 289, 16, 484]\n"
     ]
    }
   ],
   "source": [
    "numeritos = [3,1,5,7,12,10,17,4,22]\n",
    "\n",
    "numerotes = []\n",
    "for item in numeritos:\n",
    "    cuadrado = item ** 2\n",
    "    numerotes.append(cuadrado)\n",
    "print(numerotes)"
   ]
  },
  {
   "cell_type": "markdown",
   "metadata": {
    "colab_type": "text",
    "id": "pn21djUX2ms6"
   },
   "source": [
    "<font color='red'>**Ejercicio 4:**</font> estudiar qué ocurre si sumas,`+`, dos listas. ¿Cómo se llama esa operación?"
   ]
  },
  {
   "cell_type": "code",
   "execution_count": 28,
   "metadata": {
    "colab": {
     "base_uri": "https://localhost:8080/",
     "height": 34
    },
    "colab_type": "code",
    "executionInfo": {
     "elapsed": 744,
     "status": "ok",
     "timestamp": 1597888576115,
     "user": {
      "displayName": "Juan Serna",
      "photoUrl": "https://lh3.googleusercontent.com/a-/AOh14GjcHoh1C7CB4nXU3oV4EL8YAQ6vTTppasq2hVPWxg=s64",
      "userId": "04213219753280407363"
     },
     "user_tz": 300
    },
    "id": "VznWurp02l5K",
    "outputId": "453db12d-595f-4bef-ef9c-5d266e92ba88"
   },
   "outputs": [
    {
     "name": "stdout",
     "output_type": "stream",
     "text": [
      "[1, 5, -8, 3, True, 'Cocodrilo que se duerme es cartera', 9, -17, 98, False]\n"
     ]
    }
   ],
   "source": [
    "lista_1 = [1,5,-8,3]\n",
    "lista_2 = [True, 'Cocodrilo que se duerme es cartera', 9, -17, 98, False]\n",
    "\n",
    "#Se concatenan. Se llama concatenar.\n",
    "print(lista_1 + lista_2)"
   ]
  },
  {
   "cell_type": "markdown",
   "metadata": {
    "colab_type": "text",
    "id": "mwZKZSXBEA9A"
   },
   "source": [
    "La operación se llama concatenación. En este caso, de listas."
   ]
  },
  {
   "cell_type": "markdown",
   "metadata": {
    "colab_type": "text",
    "id": "IR4u7CJok7is"
   },
   "source": [
    "<font color='red'>**Ejercicio 5:**</font> sumar todos los elementos de la siguiente lista. **Pistas:**\n",
    "* En un ejemplo anterior definimos una variable `i`, inicializada en cero, que fuimos modificando en cada paso de un `for`. Considerar la opción de definir una variable `suma` y utilizarla de forma parecida."
   ]
  },
  {
   "cell_type": "code",
   "execution_count": 31,
   "metadata": {
    "colab": {
     "base_uri": "https://localhost:8080/",
     "height": 34
    },
    "colab_type": "code",
    "executionInfo": {
     "elapsed": 1234,
     "status": "ok",
     "timestamp": 1597888525742,
     "user": {
      "displayName": "Juan Serna",
      "photoUrl": "https://lh3.googleusercontent.com/a-/AOh14GjcHoh1C7CB4nXU3oV4EL8YAQ6vTTppasq2hVPWxg=s64",
      "userId": "04213219753280407363"
     },
     "user_tz": 300
    },
    "id": "OKSDg3W4k7K-",
    "outputId": "ed918243-1dae-43b3-e814-5520d4737546"
   },
   "outputs": [
    {
     "name": "stdout",
     "output_type": "stream",
     "text": [
      "6\n"
     ]
    }
   ],
   "source": [
    "numeros = [4,8,3,1,-3,3,-5,1,2,-8]\n",
    "suma = 0\n",
    "for numero in numeros:\n",
    "    #suma = suma + numero\n",
    "    suma+= numero #esta línea hace exactamente lo mismo que la inmediatamente anterior\n",
    "print(suma)"
   ]
  }
 ],
 "metadata": {
  "colab": {
   "collapsed_sections": [],
   "name": "Copy of DS_Bitácora_02_Python.ipynb",
   "provenance": [
    {
     "file_id": "1NTKLAaqWH2Vso5TUMH1_sOHO-tNMU_3g",
     "timestamp": 1597889319804
    }
   ]
  },
  "kernelspec": {
   "display_name": "Python 3",
   "language": "python",
   "name": "python3"
  },
  "language_info": {
   "codemirror_mode": {
    "name": "ipython",
    "version": 3
   },
   "file_extension": ".py",
   "mimetype": "text/x-python",
   "name": "python",
   "nbconvert_exporter": "python",
   "pygments_lexer": "ipython3",
   "version": "3.8.5"
  }
 },
 "nbformat": 4,
 "nbformat_minor": 4
}
