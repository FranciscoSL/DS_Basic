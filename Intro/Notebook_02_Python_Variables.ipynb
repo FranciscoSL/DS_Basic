{
 "cells": [
  {
   "cell_type": "markdown",
   "metadata": {
    "colab_type": "text",
    "id": "aDaMLDnAPBMf"
   },
   "source": [
    "# Introducción a Python\n",
    "\n",
    "En este notebook se recorren algunos conceptos básicos de programación en general y su aplicación en Python.\n",
    "\n",
    "Adicional se recomienda ir practicando en simultáneo y repasando con algún recurso adicional. Se recomienda:\n",
    "\n",
    "- https://learnxinyminutes.com/docs/python3/\n",
    "\n",
    "- https://www.tutorialsteacher.com/python\n",
    "\n",
    "Sin embargo, hay muchos otros cursos de libre acceso que pueden servir de apoyo.\n",
    "\n",
    "Además de realizar los ejercicios, se sugiere ir **probando y modificando el código** del notebook. La mejor manera de aprender es haciendo modificaciones ('tocando') el código.\n",
    "\n",
    "## 1. Variables, Tipos de Datos y Operaciones\n",
    "\n",
    "### 1.1 Variables\n",
    "\n",
    "Al crear una variable se le da nombre a un objeto. Cada variable debe llevar un nombre a través del cual nos referimos a ella, los nombres deben ser únicos y, en lo posible, ser lo mas explícitos posibles para evitar confusiones. Usando el `=` se asigna un valor a una variable. Ejemplos:"
   ]
  },
  {
   "cell_type": "code",
   "execution_count": 34,
   "metadata": {
    "colab": {},
    "colab_type": "code",
    "id": "Ejj7jqb9PBMk"
   },
   "outputs": [],
   "source": [
    "# Asignamos el valor 3 a una variable que creamos, de nombre x\n",
    "x = 3\n",
    "\n",
    "# Evaluamos e imprimimos en pantalla el resultado de la variable\n",
    "print(x)"
   ]
  },
  {
   "cell_type": "code",
   "execution_count": 35,
   "metadata": {
    "colab": {},
    "colab_type": "code",
    "id": "G0_JnDgrPBMu"
   },
   "outputs": [],
   "source": [
    "# Asignamos el valor 15.7 a una nueva variable, de nombre y\n",
    "y = 15.7\n",
    "\n",
    "print(y)"
   ]
  },
  {
   "cell_type": "code",
   "execution_count": 36,
   "metadata": {
    "colab": {},
    "colab_type": "code",
    "id": "1sVjKnS8PBM0"
   },
   "outputs": [],
   "source": [
    "# Podemos definir una nueva variable como la suma de dos anteriores\n",
    "z = x + y\n",
    "\n",
    "print(z)"
   ]
  },
  {
   "cell_type": "markdown",
   "metadata": {
    "colab_type": "text",
    "id": "rRLxeWdMJvcP"
   },
   "source": [
    "Pero en las variables no necesariamente ponemos números, también podemos poner texto (*strings*)"
   ]
  },
  {
   "cell_type": "code",
   "execution_count": 37,
   "metadata": {
    "colab": {},
    "colab_type": "code",
    "id": "n-OyQw00PBM6"
   },
   "outputs": [],
   "source": [
    "# Se puede tambier asignar un valor de texto otra variable\n",
    "un_texto = 'HOLA!'\n",
    "\n",
    "print(un_texto)"
   ]
  },
  {
   "cell_type": "markdown",
   "metadata": {
    "colab_type": "text",
    "id": "Y0t7En_OJvcb"
   },
   "source": [
    "**Probar:** ejecutar la siguiente celda. ¿Cuál es la diferencia?"
   ]
  },
  {
   "cell_type": "code",
   "execution_count": 38,
   "metadata": {
    "colab": {},
    "colab_type": "code",
    "id": "RlzXb8nYJvcd"
   },
   "outputs": [],
   "source": [
    "print(un_texto)\n",
    "print('un_texto')"
   ]
  },
  {
   "cell_type": "markdown",
   "metadata": {
    "colab_type": "text",
    "id": "ScGT3xT4Jvcl"
   },
   "source": [
    "Si queremos, podemos borrar alguna variable que ya no utilizaremos más"
   ]
  },
  {
   "cell_type": "code",
   "execution_count": 39,
   "metadata": {
    "colab": {},
    "colab_type": "code",
    "id": "Dj_DJGDOPBNB"
   },
   "outputs": [],
   "source": [
    "del(un_texto)\n",
    "print(un_texto)"
   ]
  },
  {
   "cell_type": "markdown",
   "metadata": {
    "colab_type": "text",
    "id": "x3UOib9UPBNG"
   },
   "source": [
    "**Nota importante:** al correr esta ultima linea, deben ver un mensaje de error. Los mensajes de error son IMPORTANTES. Entregan información valiosa cuando el código no funciona. En este caso, está avisando que no puede imprimir la variable `un_texto`, ya que se ha eliminado y no está definida.\n",
    "\n",
    "En ocasiones, para resolver el error un buen recurso es escribirlo es Google. Si se está trabajando en Colab, está la opción de buscar el error en Stack Overflow."
   ]
  },
  {
   "cell_type": "markdown",
   "metadata": {
    "colab_type": "text",
    "id": "520n2L18PBNH"
   },
   "source": [
    "### 1.2 Tipos de Datos\n",
    "Al definir una variable, dependiendo del contenido que se le asigna, la variable será de un determinado tipo. Los tipos de datos más comunes de variables son:\n",
    "* `int` --> enteros\n",
    "* `float` --> se una para números con decimales\n",
    "* `string` --> variables de texto o alfanuméricas\n",
    "* `boolean` --> variables true/false\n",
    "\n",
    "Veamos algunos ejemplos de cada tipo:"
   ]
  },
  {
   "cell_type": "code",
   "execution_count": 40,
   "metadata": {
    "colab": {},
    "colab_type": "code",
    "id": "5MQYEBApPBNK"
   },
   "outputs": [],
   "source": [
    "a = 42\n",
    "print(type(a))"
   ]
  },
  {
   "cell_type": "code",
   "execution_count": 41,
   "metadata": {
    "colab": {},
    "colab_type": "code",
    "id": "E0g87gVfPBNP"
   },
   "outputs": [],
   "source": [
    "b = 7.8\n",
    "print(type(b))"
   ]
  },
  {
   "cell_type": "code",
   "execution_count": 42,
   "metadata": {
    "colab": {},
    "colab_type": "code",
    "id": "6SFdLEFIPBNW"
   },
   "outputs": [],
   "source": [
    "c = True\n",
    "print(type(c))"
   ]
  },
  {
   "cell_type": "code",
   "execution_count": 43,
   "metadata": {
    "colab": {},
    "colab_type": "code",
    "id": "i_cCG-iYPBNb"
   },
   "outputs": [],
   "source": [
    "t1 = 'hola'\n",
    "print(type(\"hola\"))\n",
    "\n",
    "t2 = '523'\n",
    "print(type('t2'))"
   ]
  },
  {
   "cell_type": "markdown",
   "metadata": {
    "colab_type": "text",
    "id": "fAiC3ranPBNh"
   },
   "source": [
    "**Nota:** a pesar de ser un número, la variable `t2` es de tipo `string`. Esto se debe a que el valor se puso entre comillas."
   ]
  },
  {
   "cell_type": "code",
   "execution_count": 44,
   "metadata": {
    "colab": {},
    "colab_type": "code",
    "id": "erSdYVqhPBNj"
   },
   "outputs": [],
   "source": [
    "# Este es un tipo especial de variable, que se utiliza para simbolizar algo 'vacío'\n",
    "d = None\n",
    "print(type(d))"
   ]
  },
  {
   "cell_type": "markdown",
   "metadata": {
    "colab_type": "text",
    "id": "WhJ_nLaCPBNo"
   },
   "source": [
    "Si por algun motivo (ya veremos que esto es algo que suele suceder) se desea definir el tipo de variable y no dejar que Python lo asuma por sí solo, esto también es posible."
   ]
  },
  {
   "cell_type": "code",
   "execution_count": 45,
   "metadata": {
    "colab": {},
    "colab_type": "code",
    "id": "AvUDAvtpPBNp"
   },
   "outputs": [],
   "source": [
    "numero = 45\n",
    "print(type(numero))\n",
    "\n",
    "# Quiero que sea un 'float' y no un int\n",
    "numero = float(45)\n",
    "print(type(numero))\n",
    "\n",
    "# Quiero que sea un 'string' y no un int\n",
    "numero = str(45)\n",
    "print(type(numero))"
   ]
  },
  {
   "cell_type": "code",
   "execution_count": 46,
   "metadata": {
    "colab": {
     "base_uri": "https://localhost:8080/",
     "height": 50
    },
    "colab_type": "code",
    "executionInfo": {
     "elapsed": 1311,
     "status": "ok",
     "timestamp": 1597877052040,
     "user": {
      "displayName": "Juan Serna",
      "photoUrl": "https://lh3.googleusercontent.com/a-/AOh14GjcHoh1C7CB4nXU3oV4EL8YAQ6vTTppasq2hVPWxg=s64",
      "userId": "04213219753280407363"
     },
     "user_tz": 300
    },
    "id": "r6B6f_oOPBNv",
    "outputId": "5b1dde26-6fc2-4495-d4b9-1b4b5970ac92"
   },
   "outputs": [],
   "source": [
    "otro_numero = 45.0\n",
    "print(type(otro_numero))\n",
    "\n",
    "# Quiero que sea un 'int' y no un 'float'\n",
    "otro_numero = int(45.0)\n",
    "print(type(otro_numero))"
   ]
  },
  {
   "cell_type": "markdown",
   "metadata": {
    "colab_type": "text",
    "id": "4EMswXwbPjLD"
   },
   "source": [
    "<font color='red'>**Ejercicio 1:**</font> Cambiar el tipo de la variable 'numero' a float."
   ]
  },
  {
   "cell_type": "code",
   "execution_count": 49,
   "metadata": {
    "colab": {},
    "colab_type": "code",
    "id": "g6o0UHSbPuZu"
   },
   "outputs": [],
   "source": [
    "numero = '5'\n",
    "numero = COMPLETAR\n",
    "\n",
    "# La siguientes lineas de codigo verifican si hiciste correctamente el ejercicio\n",
    "\n",
    "if type(numero) is float:\n",
    "    print('Correcto!')\n",
    "else:\n",
    "    print('Convierte la variable a tipo float')"
   ]
  },
  {
   "cell_type": "markdown",
   "metadata": {
    "colab_type": "text",
    "id": "Zip2yREWPBN0"
   },
   "source": [
    "### 1.3 Operaciones\n",
    "Con las variables que definidas esposible realizar distintas operaciones. Dependiendo del tipo de variable, hay diferentes operaciones diponibles. En este notebook hay operaciones con números - `int` y `float`; más adelante se verán operaciones con texto.\n",
    "\n",
    "#### 1.3.1 Operaciones con números\n",
    "\n",
    "Se pueden realizar las operaciones básicas entre números."
   ]
  },
  {
   "cell_type": "code",
   "execution_count": 50,
   "metadata": {
    "colab": {},
    "colab_type": "code",
    "id": "QbeN4rjGPBN2"
   },
   "outputs": [],
   "source": [
    "a = 20\n",
    "b = 4\n",
    "print(a+b)\n",
    "print(a-b)"
   ]
  },
  {
   "cell_type": "markdown",
   "metadata": {
    "colab_type": "text",
    "id": "t4JcimwwJvd2"
   },
   "source": [
    "Se pueden realizar las operaciones incluso entre distintos tipos de variables"
   ]
  },
  {
   "cell_type": "code",
   "execution_count": 51,
   "metadata": {
    "colab": {},
    "colab_type": "code",
    "id": "x7NDD_tJPBN6"
   },
   "outputs": [],
   "source": [
    "a = 20 # es de tipo int\n",
    "b = 4.5 # es de tipo float\n",
    "\n",
    "c = a+b\n",
    "d = a-b\n",
    "\n",
    "print(c)\n",
    "print(d)"
   ]
  },
  {
   "cell_type": "markdown",
   "metadata": {
    "colab_type": "text",
    "id": "oNsWzLiBJvd-"
   },
   "source": [
    "¿De qué tipo es la variable resultante? **Type()** devuelve el tipo de variable. "
   ]
  },
  {
   "cell_type": "code",
   "execution_count": 52,
   "metadata": {
    "colab": {},
    "colab_type": "code",
    "id": "yZLqW2ZYPBN_"
   },
   "outputs": [],
   "source": [
    "print(type(c))\n",
    "print(type(d))"
   ]
  },
  {
   "cell_type": "markdown",
   "metadata": {
    "colab_type": "text",
    "id": "bLtMd2Z_JveF"
   },
   "source": [
    "También podemos dividir números."
   ]
  },
  {
   "cell_type": "code",
   "execution_count": 53,
   "metadata": {
    "colab": {},
    "colab_type": "code",
    "id": "z9kq2lEVPBOF"
   },
   "outputs": [],
   "source": [
    "x = 10\n",
    "y = 3\n",
    "z = x/y\n",
    "print(z)"
   ]
  },
  {
   "cell_type": "markdown",
   "metadata": {
    "colab_type": "text",
    "id": "V-RQ8mBIJveM"
   },
   "source": [
    "¿De qué tipo es la variable resultante de hacer la división? A pesar de dividir dos números enteros, el resultado es de tipo `float`. Esta es una diferencia entre Python 2 y Python 3."
   ]
  },
  {
   "cell_type": "code",
   "execution_count": 54,
   "metadata": {
    "colab": {},
    "colab_type": "code",
    "id": "IgJQDZ7MPBOI"
   },
   "outputs": [],
   "source": [
    "print(type(z))"
   ]
  },
  {
   "cell_type": "markdown",
   "metadata": {
    "colab_type": "text",
    "id": "uxfV-jOYJved"
   },
   "source": [
    "La siguiente operación es muy usada en computación, devuelve el residuo (o resto) de la división. Si no recuerdas qué es el residuo, puedes repasarlo [aquí](https://www.disfrutalasmatematicas.com/numeros/division-resto.html)."
   ]
  },
  {
   "cell_type": "code",
   "execution_count": 55,
   "metadata": {
    "colab": {},
    "colab_type": "code",
    "id": "tZWn26P9PBON"
   },
   "outputs": [],
   "source": [
    "x = 10\n",
    "y = 3\n",
    "print(x%y)\n",
    "print(type(x%y))"
   ]
  },
  {
   "cell_type": "markdown",
   "metadata": {
    "colab_type": "text",
    "id": "-5X5DceISQ-O"
   },
   "source": [
    "<font color='red'>**Ejercicio 2:**</font> Calcular el porcentaje que representa el valor 17 sobre un total de 54, y guardar el resultado en una variable llamada `porcentaje`. Luego imprimir el resultado de la variable `porcentaje`."
   ]
  },
  {
   "cell_type": "code",
   "execution_count": 2,
   "metadata": {
    "colab": {
     "base_uri": "https://localhost:8080/",
     "height": 34
    },
    "colab_type": "code",
    "executionInfo": {
     "elapsed": 1513,
     "status": "ok",
     "timestamp": 1597888352592,
     "user": {
      "displayName": "Juan Serna",
      "photoUrl": "https://lh3.googleusercontent.com/a-/AOh14GjcHoh1C7CB4nXU3oV4EL8YAQ6vTTppasq2hVPWxg=s64",
      "userId": "04213219753280407363"
     },
     "user_tz": 300
    },
    "id": "RztYLbRnYG37",
    "outputId": "f2fce9e0-26ec-4b94-fdde-76533fb7dc04"
   },
   "outputs": [],
   "source": [
    "# COMPLETAR"
   ]
  },
  {
   "cell_type": "code",
   "execution_count": 57,
   "metadata": {
    "colab": {
     "base_uri": "https://localhost:8080/",
     "height": 34
    },
    "colab_type": "code",
    "executionInfo": {
     "elapsed": 737,
     "status": "ok",
     "timestamp": 1597888904968,
     "user": {
      "displayName": "Juan Serna",
      "photoUrl": "https://lh3.googleusercontent.com/a-/AOh14GjcHoh1C7CB4nXU3oV4EL8YAQ6vTTppasq2hVPWxg=s64",
      "userId": "04213219753280407363"
     },
     "user_tz": 300
    },
    "id": "AehXRvvWkUr0",
    "outputId": "346eca08-a63f-4ed5-a1e7-2efb82c38249"
   },
   "outputs": [],
   "source": [
    "# Acá otra forma de llegar al mismo resultado:\n",
    "\n",
    "porcentaje = []\n",
    "def porcen(x,y): \n",
    "    res = (x/y)*100\n",
    "    porcentaje.append(res)\n",
    "\n",
    "porcen(17, 54)\n",
    "porcentaje"
   ]
  },
  {
   "cell_type": "markdown",
   "metadata": {
    "colab_type": "text",
    "id": "sOTLmVfbvVj5"
   },
   "source": [
    "#### **<font color='red'>Ejercicio 3:**</font>  calcular la suma y multiplicación de las variables `a`, `b` y `c`. Ojo con el tipo de dato. Luego imprimir el resultado de la suma y de la multiplicación."
   ]
  },
  {
   "cell_type": "code",
   "execution_count": 5,
   "metadata": {
    "colab": {},
    "colab_type": "code",
    "id": "JUyyfS0lvnWR"
   },
   "outputs": [],
   "source": [
    "a = '2'\n",
    "b = '-5.5'\n",
    "c = '7.8'\n",
    "\n",
    "suma = # COMPLETAR\n",
    "mult = # COMPLETAR\n",
    "\n",
    "print(# COMPLETAR)\n",
    "print(# COMPLETAR)"
   ]
  },
  {
   "cell_type": "markdown",
   "metadata": {
    "colab_type": "text",
    "id": "Rdo5rRsdPBO7"
   },
   "source": [
    "## 2. Listas y Loops\n",
    "\n",
    "Luego de ver diferentes tipos de datos básicos de Python, se puede empezar a combinarlos.\n",
    "\n",
    "### 2.1 Listas\n",
    "\n",
    "Son una sucesión de objetos en un orden determinado. Se definen por corchetes `[]`, y los objetos dentro de ellas se separan por comas `,`. Ejemplo:"
   ]
  },
  {
   "cell_type": "code",
   "execution_count": 56,
   "metadata": {
    "colab": {
     "base_uri": "https://localhost:8080/",
     "height": 34
    },
    "colab_type": "code",
    "executionInfo": {
     "elapsed": 2095,
     "status": "ok",
     "timestamp": 1597889926424,
     "user": {
      "displayName": "Juan Serna",
      "photoUrl": "https://lh3.googleusercontent.com/a-/AOh14GjcHoh1C7CB4nXU3oV4EL8YAQ6vTTppasq2hVPWxg=s64",
      "userId": "04213219753280407363"
     },
     "user_tz": 300
    },
    "id": "vA9XBz5mPBO8",
    "outputId": "bc92e8bc-75aa-414b-e01d-8e173b3004ae"
   },
   "outputs": [],
   "source": [
    "lista_1 = [42, 10.7, True, 'Texto']\n",
    "print(lista_1)"
   ]
  },
  {
   "cell_type": "markdown",
   "metadata": {
    "colab_type": "text",
    "id": "286PH7uXJves"
   },
   "source": [
    "**Notar** que una lista puede tener variables de diferente tipo sin ningún problema.\n",
    "\n",
    "Una pregunta frecuente al trabajar con listas es: ¿cuántos elementos tiene la lista? Esto se puede responder con el comando `len()`"
   ]
  },
  {
   "cell_type": "code",
   "execution_count": 58,
   "metadata": {
    "colab": {
     "base_uri": "https://localhost:8080/",
     "height": 34
    },
    "colab_type": "code",
    "executionInfo": {
     "elapsed": 1349,
     "status": "ok",
     "timestamp": 1597888992327,
     "user": {
      "displayName": "Juan Serna",
      "photoUrl": "https://lh3.googleusercontent.com/a-/AOh14GjcHoh1C7CB4nXU3oV4EL8YAQ6vTTppasq2hVPWxg=s64",
      "userId": "04213219753280407363"
     },
     "user_tz": 300
    },
    "id": "D4nWSXKSPBO_",
    "outputId": "3d497792-d73a-416f-d816-e5219ec70e53"
   },
   "outputs": [],
   "source": [
    "len(lista_1)"
   ]
  },
  {
   "cell_type": "markdown",
   "metadata": {
    "colab_type": "text",
    "id": "b0wCmLL2PBPC"
   },
   "source": [
    "#### Indexado\n",
    "\n",
    "Cada elemento de una lista tiene asignada una posición (*índice*). Esa posición se puede usar para inspeccionar ese elemento y operar con él. Los índices **empiezan en 0**, y se especifican poniendo el índice entre corchetes luego del nombre de la lista:"
   ]
  },
  {
   "cell_type": "code",
   "execution_count": 59,
   "metadata": {
    "colab": {
     "base_uri": "https://localhost:8080/",
     "height": 67
    },
    "colab_type": "code",
    "executionInfo": {
     "elapsed": 2087,
     "status": "ok",
     "timestamp": 1597889926426,
     "user": {
      "displayName": "Juan Serna",
      "photoUrl": "https://lh3.googleusercontent.com/a-/AOh14GjcHoh1C7CB4nXU3oV4EL8YAQ6vTTppasq2hVPWxg=s64",
      "userId": "04213219753280407363"
     },
     "user_tz": 300
    },
    "id": "Jepw64oFPBPC",
    "outputId": "e3cdc719-f4df-4fdf-b157-0f9c0e918b39"
   },
   "outputs": [],
   "source": [
    "lista_2 = [5, 6.0,'Un poco de texto',-5, False, 'Más texto', True, 100]\n",
    "\n",
    "print(lista_2[0]) # Imprime el elemento de la posición 0 de lista_2\n",
    "print(lista_2[1])\n",
    "print(lista_2[2])"
   ]
  },
  {
   "cell_type": "markdown",
   "metadata": {
    "colab_type": "text",
    "id": "WOz0qLeiJve4"
   },
   "source": [
    "**<font color='red'>Ejercicio 4:</font>** imprimir el séptimo elemento de `lista_2`. Asegurarte que lo hiciste bien contando los elementos de la lista."
   ]
  },
  {
   "cell_type": "code",
   "execution_count": 6,
   "metadata": {
    "colab": {},
    "colab_type": "code",
    "id": "7ow4VjxZJve8"
   },
   "outputs": [],
   "source": [
    "# COMPLETAR"
   ]
  },
  {
   "cell_type": "markdown",
   "metadata": {
    "colab_type": "text",
    "id": "qS6wo6wUJvfA"
   },
   "source": [
    "También es posible seleccionar partes de la lista, no solo elementos individuales."
   ]
  },
  {
   "cell_type": "code",
   "execution_count": 60,
   "metadata": {
    "colab": {},
    "colab_type": "code",
    "id": "mVfn1mYHPBPK"
   },
   "outputs": [],
   "source": [
    "print(lista_1[0:3])\n",
    "print(lista_2[4:])\n",
    "print(lista_2[1:5:2])"
   ]
  },
  {
   "cell_type": "markdown",
   "metadata": {
    "colab_type": "text",
    "id": "3RrvsnVRJvfF"
   },
   "source": [
    "¿Cuál es la lógica de esta sintaxis? Tratar de descubrir la regla. Se recomienda buscar el concepto de *slicing*.\n",
    "\n",
    "Algo más sobre indexado: se puede indexar *desde el final* de la lista usando números negativos."
   ]
  },
  {
   "cell_type": "code",
   "execution_count": 61,
   "metadata": {
    "colab": {},
    "colab_type": "code",
    "id": "zZORvWBvJvfG"
   },
   "outputs": [],
   "source": [
    "print(lista_2[-1])\n",
    "print(lista_2[-2])\n",
    "print(lista_2[-8])"
   ]
  },
  {
   "cell_type": "markdown",
   "metadata": {
    "colab_type": "text",
    "id": "qyaVS4DtJvfJ"
   },
   "source": [
    "Algo adicional: creemos una tercera lista:"
   ]
  },
  {
   "cell_type": "code",
   "execution_count": 62,
   "metadata": {
    "colab": {
     "base_uri": "https://localhost:8080/",
     "height": 70
    },
    "colab_type": "code",
    "executionInfo": {
     "elapsed": 18747,
     "status": "ok",
     "timestamp": 1597889957448,
     "user": {
      "displayName": "Juan Serna",
      "photoUrl": "https://lh3.googleusercontent.com/a-/AOh14GjcHoh1C7CB4nXU3oV4EL8YAQ6vTTppasq2hVPWxg=s64",
      "userId": "04213219753280407363"
     },
     "user_tz": 300
    },
    "id": "-nQ_FGfNPBPM",
    "outputId": "524447aa-82b4-4668-c57c-b3dc45a19e7e"
   },
   "outputs": [],
   "source": [
    "# Listas dentro de lista\n",
    "lista_3 = [0, lista_1, 'Mas texto', lista_2]\n",
    "print(lista_3)\n",
    "print(len(lista_3))"
   ]
  },
  {
   "cell_type": "markdown",
   "metadata": {
    "colab_type": "text",
    "id": "5YSBWt8tPBPP"
   },
   "source": [
    "Notar que en la tercera lista, están contenidas la primera y la segunda lista. Ambas listas ahora son elementos de la tercera lista. **Ojo con esto:** cuántos elementos tiene `lista_3`? ¡No importa cuántos elementos tienen `lista_1` o `lista_2`. dentro de `lista_3` solamente cuentan como un elemento!"
   ]
  },
  {
   "cell_type": "code",
   "execution_count": 63,
   "metadata": {
    "colab": {
     "base_uri": "https://localhost:8080/",
     "height": 34
    },
    "colab_type": "code",
    "executionInfo": {
     "elapsed": 3329,
     "status": "ok",
     "timestamp": 1597889994898,
     "user": {
      "displayName": "Juan Serna",
      "photoUrl": "https://lh3.googleusercontent.com/a-/AOh14GjcHoh1C7CB4nXU3oV4EL8YAQ6vTTppasq2hVPWxg=s64",
      "userId": "04213219753280407363"
     },
     "user_tz": 300
    },
    "id": "3WYr5rJQPBPQ",
    "outputId": "3e17919e-13a9-4f87-bd97-6ac2f2ab35d2"
   },
   "outputs": [],
   "source": [
    "len(lista_3)"
   ]
  },
  {
   "cell_type": "markdown",
   "metadata": {
    "colab_type": "text",
    "id": "RsTtGltdJvfT"
   },
   "source": [
    "**<font color='red'>Ejercicio 5:</font>** tomando `lista_1` desde `lista_3` (lo que acabamos de hacer en la celda anterior), indexar (encontrar/imprimir) el tercer elemento de `lista_1`. Debería dar como resultado `True`."
   ]
  },
  {
   "cell_type": "code",
   "execution_count": 15,
   "metadata": {
    "colab": {},
    "colab_type": "code",
    "id": "on1ihAbHJvfU"
   },
   "outputs": [],
   "source": [
    "# COMPLETAR"
   ]
  },
  {
   "cell_type": "markdown",
   "metadata": {
    "colab_type": "text",
    "id": "ZbA1JYFxPBPR"
   },
   "source": [
    "**Lista Vacía y método `append()`**\n",
    "\n",
    "Es posible crear listas vacias e ir agregando elementos con el método `append()`"
   ]
  },
  {
   "cell_type": "code",
   "execution_count": 64,
   "metadata": {
    "colab": {},
    "colab_type": "code",
    "id": "7VWvo-GwPBPT"
   },
   "outputs": [],
   "source": [
    "lista_vacia = []\n",
    "len(lista_vacia)"
   ]
  },
  {
   "cell_type": "code",
   "execution_count": 65,
   "metadata": {
    "colab": {},
    "colab_type": "code",
    "id": "pmlQp8PEPBPV"
   },
   "outputs": [],
   "source": [
    "lista_vacia.append(42)\n",
    "lista_vacia.append('un segundo item')\n",
    "print(lista_vacia)\n",
    "print(len(lista_vacia))"
   ]
  },
  {
   "cell_type": "markdown",
   "metadata": {
    "colab_type": "text",
    "id": "sU-6LA63PBPX"
   },
   "source": [
    "Probar qué pasa si corre nuevamente la celda anterior (justo arriba de ésta). Notar que el método `append()` no solamente trabaja en listas vacías.\n",
    "\n",
    "**<font color='red'>Ejercicio 6:</font>** Definir una lista vacía llamada `lista_nueva`. Agregarle, usando `append()`, los elementos `a`, `b` y `c`. Luego imprimir `lista_nueva`."
   ]
  },
  {
   "cell_type": "code",
   "execution_count": 16,
   "metadata": {
    "colab": {},
    "colab_type": "code",
    "id": "jXs-Rkh6VF8K"
   },
   "outputs": [],
   "source": [
    "a = 8\n",
    "b = 'world'\n",
    "c = [12,24.5,66]\n",
    "\n",
    "# COMPLETAR"
   ]
  },
  {
   "cell_type": "markdown",
   "metadata": {
    "colab_type": "text",
    "id": "fOCxehC_Jvfm"
   },
   "source": [
    "**<font color='BLUE'>CUIDADO:</font>** a veces queremos copiar una lista, operar sobre ella y comparar los resultados con la lista original. Sin embargo, hay que tener cuidado cuando queremos copiar listas."
   ]
  },
  {
   "cell_type": "code",
   "execution_count": 66,
   "metadata": {
    "colab": {},
    "colab_type": "code",
    "id": "t9WclLNMJvfn"
   },
   "outputs": [],
   "source": [
    "lista_1 = [1,2,3,4]\n",
    "lista_2 = lista_1  # lista_2 ahora es igual a lista_1\n",
    "lista_2[-1] = 100 # el ultimo elemento de la lista_2 ahora es 100\n",
    "print(lista_1, lista_2)"
   ]
  },
  {
   "cell_type": "markdown",
   "metadata": {
    "colab_type": "text",
    "id": "SDNdtX3uJvfr"
   },
   "source": [
    "¡Notar que se modificaron ambas listas! Esto, en general, no es lo deseado. Pero se puede hacer correctamente:"
   ]
  },
  {
   "cell_type": "code",
   "execution_count": 67,
   "metadata": {
    "colab": {},
    "colab_type": "code",
    "id": "tGukUgixJvfs"
   },
   "outputs": [],
   "source": [
    "lista_1 = [1,2,3,4]\n",
    "lista_2 = lista_1.copy() # Prestar atención aquí\n",
    "lista_2[-1] = 100\n",
    "print(lista_1, lista_2)"
   ]
  },
  {
   "cell_type": "markdown",
   "metadata": {
    "colab_type": "text",
    "id": "1gP68SzLJvfy"
   },
   "source": [
    "Si queremos copiar listas, debemos poner `.copy()`. Esto vale para listas, y también para objetos que estudian más adelante, como arreglos de Numpy y dataframes de Pandas."
   ]
  },
  {
   "cell_type": "markdown",
   "metadata": {
    "colab_type": "text",
    "id": "oGW0jo5hPBPZ"
   },
   "source": [
    "### 2.2 Loops\n",
    "\n",
    "En general, cuando estamos programando, queremos repetir una operación varias veces. Por ejemplo, aplicarle una operación a los elementos de una lista. Si la lista tiene muchos elementos, puede ser engorroso escribir la aplicación de esa operacíon a cada elemento uno por uno, por lo que necesitamos alguna estructura de código que facilite ese procedimiento. \n",
    "\n",
    "Los **Loops** (bucles) son estructuras de codigo fundamentales en cualquier lenguaje de programación. Consisten en bloques de código que se repiten una cierta cantidad de veces dada una condición. Existen dos formas básicas de crear loops: con las instrucciones tipo `for` y las instrucciones tipo `while`. Vamos a ver los `for`. <u>Se sugiere investigar cómo funcionan los</u> `while`.\n",
    "\n",
    "El `for` es un loop en el que un bloque de código se repite tantas veces como elementos haya en una determinada lista. En cada iteración (repetición) hay una variable que va tomando el valor de uno de los elementos en esta lista. Ejemplo:"
   ]
  },
  {
   "cell_type": "code",
   "execution_count": 69,
   "metadata": {
    "colab": {
     "base_uri": "https://localhost:8080/",
     "height": 101
    },
    "colab_type": "code",
    "executionInfo": {
     "elapsed": 1284,
     "status": "ok",
     "timestamp": 1597890159064,
     "user": {
      "displayName": "Juan Serna",
      "photoUrl": "https://lh3.googleusercontent.com/a-/AOh14GjcHoh1C7CB4nXU3oV4EL8YAQ6vTTppasq2hVPWxg=s64",
      "userId": "04213219753280407363"
     },
     "user_tz": 300
    },
    "id": "hZw979QmPBPa",
    "outputId": "a2073ebe-c0d8-4bab-8592-576a7f18be6e"
   },
   "outputs": [],
   "source": [
    "lista_numeros = [3,55,1,876,12]\n",
    "for elemento in lista_numeros:\n",
    "    # Definimos el codigo dentro del for mediante la indentación (indentation: Todo lo que este corrido un 'tab' a la derecha)\n",
    "    print(elemento)"
   ]
  },
  {
   "cell_type": "markdown",
   "metadata": {
    "colab_type": "text",
    "id": "yie0RDfK3z0x"
   },
   "source": [
    "Ver que el código que está \"dentro\" del `for` está **indentado**. En algunos lenguajes de programación la indentación se utiliza para ordenar el código, hacerlo más legible. En Python, en cambio, es **obligatorio**. Se logra con cuatro espacios o un tab.\n",
    "\n",
    "Repitamos los mismo que la celda anterior. pero ahora agregamos una variable `i` que cuenta la cantidad de veces que recorrimos el bucle `for` ."
   ]
  },
  {
   "cell_type": "code",
   "execution_count": 70,
   "metadata": {
    "colab": {
     "base_uri": "https://localhost:8080/",
     "height": 101
    },
    "colab_type": "code",
    "executionInfo": {
     "elapsed": 1221,
     "status": "ok",
     "timestamp": 1597890169822,
     "user": {
      "displayName": "Juan Serna",
      "photoUrl": "https://lh3.googleusercontent.com/a-/AOh14GjcHoh1C7CB4nXU3oV4EL8YAQ6vTTppasq2hVPWxg=s64",
      "userId": "04213219753280407363"
     },
     "user_tz": 300
    },
    "id": "kpqiAZb-PBPd",
    "outputId": "aaf571e2-286e-4fbc-d9a2-821cf5e5e1b5"
   },
   "outputs": [],
   "source": [
    "lista_numeros = [3,55,1,876,12]\n",
    "i = 0 # La iniciamos en cero\n",
    "\n",
    "for elemento in lista_numeros:    \n",
    "    i = i+1 # Le sumamos 1 cada vez que entra\n",
    "    print(elemento, i)"
   ]
  },
  {
   "cell_type": "markdown",
   "metadata": {
    "colab_type": "text",
    "id": "8C8nZYZT5QME"
   },
   "source": [
    "Acá es importante tratar de entender qué hace la línea `i = i + 1`."
   ]
  },
  {
   "cell_type": "markdown",
   "metadata": {
    "colab_type": "text",
    "id": "Qbz2a3orPBPl"
   },
   "source": [
    "También es posible recorrer listas de texto. Ver el siguiente codigo, e intentar precedir el resultado antes de correr la celda."
   ]
  },
  {
   "cell_type": "code",
   "execution_count": 71,
   "metadata": {
    "colab": {
     "base_uri": "https://localhost:8080/",
     "height": 34
    },
    "colab_type": "code",
    "executionInfo": {
     "elapsed": 1091,
     "status": "ok",
     "timestamp": 1597890233643,
     "user": {
      "displayName": "Juan Serna",
      "photoUrl": "https://lh3.googleusercontent.com/a-/AOh14GjcHoh1C7CB4nXU3oV4EL8YAQ6vTTppasq2hVPWxg=s64",
      "userId": "04213219753280407363"
     },
     "user_tz": 300
    },
    "id": "z1jQ13uzPBPm",
    "outputId": "ede803db-4e76-42f4-c0f3-bb3a140c31b3"
   },
   "outputs": [],
   "source": [
    "lista_nombres = ['Ernesto', 'Camilo', 'Violeta']\n",
    "nueva_lista = []\n",
    "\n",
    "for item in lista_nombres:\n",
    "    oracion = 'Mi nombre es ' + item\n",
    "    nueva_lista.append(oracion)\n",
    "\n",
    "# Este print esta fuera del bucle, no está indentado.\n",
    "print(nueva_lista)"
   ]
  },
  {
   "cell_type": "markdown",
   "metadata": {
    "colab_type": "text",
    "id": "YrQ5I9FZ53sq"
   },
   "source": [
    "## <font color='red'>Ejercicios</font>\n",
    "\n",
    "En general, es probable que no haya una única forma de resolver los ejercicios. Lo que sí ocurre, a veces, es que hay formas más *eficientes* o *prácticas*.\n",
    "\n",
    "<font color='red'>**Ejercicios 1 y 2:**</font> Se tienes una lista de números, por ejemplo los primeros diez numeros naturales, y se intenta sumarle un número fijo a la lista, por ejemplo 3. Es probable que se escriba algo como: "
   ]
  },
  {
   "cell_type": "code",
   "execution_count": 33,
   "metadata": {
    "colab": {},
    "colab_type": "code",
    "id": "DNaZ9yIy7wXr"
   },
   "outputs": [],
   "source": [
    "numeros = [0,1,2,3,4,5,6,7,8,9]\n",
    "print(numeros + 3)"
   ]
  },
  {
   "cell_type": "markdown",
   "metadata": {
    "colab_type": "text",
    "id": "z5l3spVJ775e"
   },
   "source": [
    "Sale un error. Buscar el error en Stack Overflow puede ser de utilidad. Se propone resolver los siguientes ejercicios:\n",
    "\n",
    "\n",
    "1. Crear una rutina que le sume 3 a los diez primeros números naturales y vaya imprimiendo en pantalla el resultado de cada suma.\n",
    "2. Crear una rutina que le sume 3 a los diez primeros números naturales y guarde los resultados en una nueva lista. Luego imprimir esa nueva lista.\n",
    "\n",
    "Pistas para el ejercicio:\n",
    "1. Usar un bucle `for` es útil tanto para el primero como para el segundo ejercicio.\n",
    "1. En el segundo ejercicio, te puede servir recordar cómo crear una lista vacía, y cómo agregarle elementos con `append()`"
   ]
  },
  {
   "cell_type": "code",
   "execution_count": 19,
   "metadata": {
    "colab": {
     "base_uri": "https://localhost:8080/",
     "height": 34
    },
    "colab_type": "code",
    "executionInfo": {
     "elapsed": 3771,
     "status": "ok",
     "timestamp": 1597890357467,
     "user": {
      "displayName": "Juan Serna",
      "photoUrl": "https://lh3.googleusercontent.com/a-/AOh14GjcHoh1C7CB4nXU3oV4EL8YAQ6vTTppasq2hVPWxg=s64",
      "userId": "04213219753280407363"
     },
     "user_tz": 300
    },
    "id": "Cf4kcg6fCcL8",
    "outputId": "f602f5c4-396b-4e18-dc21-e56dfbf8c26e"
   },
   "outputs": [],
   "source": [
    "# Ejercicio 1\n",
    "# COMPLETAR"
   ]
  },
  {
   "cell_type": "code",
   "execution_count": 20,
   "metadata": {
    "colab": {},
    "colab_type": "code",
    "id": "SLQUER3i9LFq"
   },
   "outputs": [],
   "source": [
    "# Ejercicio 2\n",
    "# COMPLETAR"
   ]
  },
  {
   "cell_type": "markdown",
   "metadata": {
    "colab_type": "text",
    "id": "rqAE7lt-DPuV"
   },
   "source": [
    "<font color='blue'>**Ejercicio para investigar y pensar:**</font> ¿qué ocurriría si en lugar de querer sumarle un número a los diez primeros números naturales, quisiéramos hacerlo sobre los primeros cien?¿Y si fuera el primer millón de números naturales?¿La rutina que creaste es fácilmente adaptable? Investiga cómo podrías adaptarla. Pista: `range()`"
   ]
  },
  {
   "cell_type": "code",
   "execution_count": 27,
   "metadata": {},
   "outputs": [],
   "source": [
    "# COMPLETAR"
   ]
  },
  {
   "cell_type": "markdown",
   "metadata": {
    "colab_type": "text",
    "id": "565EnFNTVU3V"
   },
   "source": [
    "<font color='red'>**Ejercicio 3:**</font> Genere una lista llamada `grandes_numeros` que contenga el cuadrado de cada elemento en la lista `mini_numeros`."
   ]
  },
  {
   "cell_type": "code",
   "execution_count": 29,
   "metadata": {
    "colab": {},
    "colab_type": "code",
    "id": "YB0EcpVqV3hY"
   },
   "outputs": [],
   "source": [
    "# COMPLETAR"
   ]
  },
  {
   "cell_type": "markdown",
   "metadata": {
    "colab_type": "text",
    "id": "pn21djUX2ms6"
   },
   "source": [
    "<font color='red'>**Ejercicio 4:**</font> Qué ocurre si se suman`(+)` dos listas? ¿Cómo se llama esa operación? Ejecutar la siguente celda y entender lo que se hace."
   ]
  },
  {
   "cell_type": "code",
   "execution_count": 30,
   "metadata": {
    "colab": {
     "base_uri": "https://localhost:8080/",
     "height": 34
    },
    "colab_type": "code",
    "executionInfo": {
     "elapsed": 744,
     "status": "ok",
     "timestamp": 1597888576115,
     "user": {
      "displayName": "Juan Serna",
      "photoUrl": "https://lh3.googleusercontent.com/a-/AOh14GjcHoh1C7CB4nXU3oV4EL8YAQ6vTTppasq2hVPWxg=s64",
      "userId": "04213219753280407363"
     },
     "user_tz": 300
    },
    "id": "VznWurp02l5K",
    "outputId": "453db12d-595f-4bef-ef9c-5d266e92ba88"
   },
   "outputs": [],
   "source": [
    "lista_1 = [1,5,-8,3]\n",
    "lista_2 = [True, 'Cocodrilo que se duerme es cartera', 9, -17, 98, False]\n",
    "\n",
    "#Se concatenan. Se llama concatenar.\n",
    "print(lista_1 + lista_2)"
   ]
  },
  {
   "cell_type": "markdown",
   "metadata": {
    "colab_type": "text",
    "id": "mwZKZSXBEA9A"
   },
   "source": [
    "La operación se llama concatenación. En este caso, concatenado de listas."
   ]
  },
  {
   "cell_type": "markdown",
   "metadata": {
    "colab_type": "text",
    "id": "IR4u7CJok7is"
   },
   "source": [
    "<font color='red'>**Ejercicio 5:**</font> Entender las dos formas de sumar todos los elementos de la siguiente lista.\n",
    "* En un ejemplo anterior definimos una variable `i`, inicializada en cero, que fuimos modificando en cada paso de un `for`. Acá se define una variable `suma` y se utiliza de forma parecida."
   ]
  },
  {
   "cell_type": "code",
   "execution_count": 32,
   "metadata": {
    "colab": {
     "base_uri": "https://localhost:8080/",
     "height": 34
    },
    "colab_type": "code",
    "executionInfo": {
     "elapsed": 1234,
     "status": "ok",
     "timestamp": 1597888525742,
     "user": {
      "displayName": "Juan Serna",
      "photoUrl": "https://lh3.googleusercontent.com/a-/AOh14GjcHoh1C7CB4nXU3oV4EL8YAQ6vTTppasq2hVPWxg=s64",
      "userId": "04213219753280407363"
     },
     "user_tz": 300
    },
    "id": "OKSDg3W4k7K-",
    "outputId": "ed918243-1dae-43b3-e814-5520d4737546"
   },
   "outputs": [],
   "source": [
    "numeros = [4,8,3,1,-3,3,-5,1,2,-8]\n",
    "suma = 0\n",
    "for numero in numeros:\n",
    "    #suma = suma + numero\n",
    "    suma+= numero #esta línea hace exactamente lo mismo que la inmediatamente anterior\n",
    "print(suma)"
   ]
  }
 ],
 "metadata": {
  "colab": {
   "collapsed_sections": [],
   "name": "Copy of DS_Bitácora_02_Python.ipynb",
   "provenance": [
    {
     "file_id": "1NTKLAaqWH2Vso5TUMH1_sOHO-tNMU_3g",
     "timestamp": 1597889319804
    }
   ]
  },
  "kernelspec": {
   "display_name": "Python 3",
   "language": "python",
   "name": "python3"
  },
  "language_info": {
   "codemirror_mode": {
    "name": "ipython",
    "version": 3
   },
   "file_extension": ".py",
   "mimetype": "text/x-python",
   "name": "python",
   "nbconvert_exporter": "python",
   "pygments_lexer": "ipython3",
   "version": "3.8.5"
  }
 },
 "nbformat": 4,
 "nbformat_minor": 4
}
